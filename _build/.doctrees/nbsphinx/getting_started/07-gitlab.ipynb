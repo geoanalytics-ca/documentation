{
 "cells": [
  {
   "cell_type": "markdown",
   "metadata": {},
   "source": [
    "# GitLab"
   ]
  },
  {
   "cell_type": "markdown",
   "metadata": {},
   "source": [
    "The GEOAnalytics Canada Platform hosts a Gitlab server to allow users to share code, projects, and docker images. In GitLab, users can create shared code repositories to encourage collaborative work or private code repositories to keep their own version-controlled code up to date. With each code repository, an image repository is available to push and pull docker container images.\n",
    "\n",
    "In this notebook, we will create a project in GitLab, explore some basic git commands, set up with the container registry, and push/pull docker images to the GEOAnalytics registry.\n",
    "\n",
    "## 1. Setting up a Project on Gitlab\n",
    "Let's start by creating a new project on the GEOAnalytics Gitlab server. \n",
    "\n",
    "1. First, launch Gitlab from the GEOAnalytics Canada dashboard.\n",
    "2. From https://git.geoanalytics.ca/ click on the \"Create a project\" option.\n",
    "3. Give the project a name, such as \"test-docker\" and choose whether you would like the project to be *private* , *public*, or *internal*.\n",
    "4. Finally, click the \"Create project\".\n",
    "\n",
    "Below is a visualization of these steps. \n"
   ]
  },
  {
   "cell_type": "markdown",
   "metadata": {},
   "source": [
    "<img src='../images/getting_started_images/07_create-project.gif'>"
   ]
  },
  {
   "cell_type": "markdown",
   "metadata": {},
   "source": [
    "## 2. Set up the Project using Git Commands"
   ]
  },
  {
   "cell_type": "markdown",
   "metadata": {},
   "source": [
    "Now we will use Git commands to initialize and set up the project. Git commands can be run in any terminal or command line tool. We will be using HTTPS to clone our repository which requires the user to enter there username and password for access to the project, so it is best to perform all the commands below in a terminal. \n",
    "To start, run the command below called `git config` to configure the user's user.name and user's user.email to set what email address and name commits will be from on your local machine. Replace the `\"enter name\"` with your name, and the `\"<username>@geoanalytics.ca\"` with your GEOAnalytics email address.\n",
    "\n",
    "1. `git config --global user.name \"enter name\"`\n",
    "2. `git config --global user.email \"<username>@geoanalytics.ca\"`"
   ]
  },
  {
   "cell_type": "markdown",
   "metadata": {},
   "source": [
    "Now we must clone the project we just created so the connection between the repository and your computer is created. To do so, go to your project's overview page and click on the **\"Clone\"** button and copy the URL from the \"Clone with HTTPS.\" The command below will automatically create a folder with the repository name and download the files there. Replace `project-url` with your project's URL that you copied.\n",
    "\n",
    "3.  `git clone <project url>`\n",
    "\n",
    "Our next steps will create a README Markdown file within the \"test-docker\" project and push our changes to the GitLab repository. \n",
    "\n",
    "4. `cd test-docker` : Changes into the test-docker directory.\n",
    "5. `touch README.md` : Creates the README document.\n",
    "6. `git add README.md` : Adds the README.md file as it looks now to the commit (staging).\n",
    "7. `git commit -m \"add README\"` : Commits the staged file as a new commit snapshot with a message.\n",
    "8. `git push -u origin master` : Send changes to the master branch of your remote repository."
   ]
  },
  {
   "cell_type": "markdown",
   "metadata": {},
   "source": [
    "Here is a screenshot showing all the steps done within the Jupyterhub terminal.\n",
    "\n",
    "<img src='../images/getting_started_images/07_git-cmd.png'>\n",
    "\n",
    "Head back to your Repository on GitLab and refresh the page. You should see the README.md added within your project repository!\n",
    "\n",
    "<img src='../images/getting_started_images/07_readme-added.png'>\n"
   ]
  },
  {
   "cell_type": "markdown",
   "metadata": {},
   "source": [
    "This was only to set up a new project, if you have an existing folder you would like to link to your GitLab repository, then it can be done by:\n",
    "\n",
    "* Changing into the existing folder: `cd <existing_folder>`\n",
    "* Initializing the existing folder as a Git repository: `git init`\n",
    "* Adding the git URL of the project as an alias: `git remote add origin <project-url>`\n",
    "* Then using git add, git commit, and git push as you wish to update your project. "
   ]
  },
  {
   "cell_type": "markdown",
   "metadata": {},
   "source": [
    "## 3. Adding Docker Images to the Container Registry"
   ]
  },
  {
   "cell_type": "markdown",
   "metadata": {},
   "source": [
    "In this section we will be exploring more on Docker and how to add images to the container registry. Remember, we explored how to log in to the GEOAnalytics Container Registry in the Authentication tutorial notebook. \n",
    "\n",
    "Currently, accessing your Docker registry is not possible through GEOAnalytics' Jupyter environment. To access the container registry, login to the through your desktop's Command Prompt (Terminal) with the command:\n",
    "\n",
    "1. `docker login registry.geoanalytics.ca`\n",
    "\n",
    "If this command returns a login error, revisit the Authentication tutorial notebook to login by the alternative method."
   ]
  },
  {
   "cell_type": "markdown",
   "metadata": {},
   "source": [
    "Now, let's run a few commands to show how Docker works.\n",
    "\n",
    "The command below will **pull** the hello-world Docker image from the Dockerhub, if not present already, and **run** it.  As a result, you should see the same output from the image.\n",
    "\n",
    "2. `docker run hello-world`\n",
    "\n",
    "<img src='../images/getting_started_images/07_docker-gitlab1.png'>"
   ]
  },
  {
   "cell_type": "markdown",
   "metadata": {
    "jupyter": {
     "outputs_hidden": true
    }
   },
   "source": [
    "Now, we want to add the \"hello-world\" image to the container registry. To achieve that, we must rename the image from \"hello-world\" to the location of our container registry, using the `docker tag <source-img-name> <target-img-name>` command. The target image name is the registry location because we want to push the image to a private registry and not the central Docker registry. \n",
    "\n",
    "3. `docker tag hello-world registry.geoanalytics.ca/<username>/test-docker` : Replace `<username>` with your GEOAnalytics GitLab username. \n",
    "\n",
    "Now that we have renamed the image to our container registry location, let's run the image.\n",
    "\n",
    "4. `docker run registry.geoanalytics.ca/<username>/test-docker`\n",
    "\n",
    "Here is a snapshot of the two commands being executed in terminal:\n",
    "<img src='../images/getting_started_images/07_docker-gitlab2.png'>\n"
   ]
  },
  {
   "cell_type": "markdown",
   "metadata": {},
   "source": [
    "The final step is to **push** the local Docker image to our test-docker repository. This is done by executing the `docker push <img-name>` below:\n",
    "\n",
    "5. **`docker push registry.geoanalytics.ca/<username>/test-docker`** (Remember to use *your* username.)\n",
    "\n",
    "Now head over to your Gitlab page and click on `Packages > Container Registry` from the left sidebar. You will see the Docker image you just pushed added to the repository's container registry!\n",
    "\n"
   ]
  },
  {
   "cell_type": "markdown",
   "metadata": {},
   "source": [
    "<img src='../images/getting_started_images/07_container-registry.gif'>\n",
    "\n",
    "These were a just a few Docker commands we explored, to learn all the docker commands available, take a look at the Docker documentation and a sample Docker workflow:\n",
    "\n",
    "- https://docs.docker.com/engine/reference/run/\n",
    "- https://docker-curriculum.com\n",
    " \n",
    "***Important Note: NEVER run a Docker image you don't know about. Only run a dockerfile from a trusted page and make sure to examine its source code!***"
   ]
  }
 ],
 "metadata": {
  "kernelspec": {
   "display_name": "geoanalytics",
   "language": "python",
   "name": "geoanalytics"
  },
  "language_info": {
   "codemirror_mode": {
    "name": "ipython",
    "version": 3
   },
   "file_extension": ".py",
   "mimetype": "text/x-python",
   "name": "python",
   "nbconvert_exporter": "python",
   "pygments_lexer": "ipython3",
   "version": "3.8.10"
  }
 },
 "nbformat": 4,
 "nbformat_minor": 4
}
