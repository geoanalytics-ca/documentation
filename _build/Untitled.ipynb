{
 "cells": [
  {
   "cell_type": "markdown",
   "id": "652d8dd6-536c-4d46-b2bd-73ee6efdaebb",
   "metadata": {},
   "source": [
    "# Table of Contents"
   ]
  },
  {
   "cell_type": "markdown",
   "id": "28518732-e241-45e5-b599-0bfc6e237b17",
   "metadata": {},
   "source": [
    "## 1. Getting Started\n",
    "The “Getting Started” section will encompass the basic functionalities of the GEOAnalytics Canada platform."
   ]
  },
  {
   "cell_type": "markdown",
   "id": "dc2f7668-0f37-4955-bfec-5cf891094157",
   "metadata": {},
   "source": [
    "**1.1 Python Introduction** - Will go through the basics of Python as well as common geospatial libraries that are used throughout this tutorials: Geopandas, Rasterio, and Xarray. \n",
    "\n",
    "\n",
    "**1.2 Jupyter Notebooks** - The user will be shown how to interact with GEOAnalytics Canada JupyterHub environment and how to launch Jupyter notebooks, terminals, and other tools. the benefits/caveats that are associated with it.  \n",
    "\n",
    "**1.3 Authentication** - A quick guide on the levels of Authentication and the Systems that can be accessed with these credentials.\n",
    "\n",
    "**1.4 Desktop VM’s** - Tutorial touring the Desktop Virtual Machines available for users and informations for setting up the environment. \n",
    " \n",
    "**1.5 File Browser** - Navigating and interacting with the File Browser on GEOAnalytics Canada. \n",
    "\n",
    "**1.6 STAC** - A quick introduction to the Spatio-Temporal Asset Catalog and how it interacts with the GEOAnalytics Canada STAC environment.  \n",
    "\n",
    "**1.7 GitLab** - Basics of setting up a project in the GEOAnalytics Canada Gitlab and pushing/pulling images to the GEOAnalytics container registry.\n",
    "  \n",
    "\n",
    "**1.8 Pipelines** - Guide of the basics of KubeFlow Pipelines on GEOAnalytics Canada and how to create, compile, and run a pipeline within GEOAnalytics JupyterHub. "
   ]
  },
  {
   "cell_type": "markdown",
   "id": "f9fa227e-e371-4aae-b3d0-4cfd0201f135",
   "metadata": {},
   "source": [
    "### 1.1 Python Introduction\n",
    "Will go through the basics of Python as well as common geospatial libraries that are used throughout this tutorials: Geopandas, Rasterio, and Xarray. \n",
    "\n",
    "\n",
    "### 1.2 Jupyter_Notebooks\n",
    "The user will be shown how to interact with GEOAnalytics Canada JupyterHub environment and how to launch Jupyter notebooks, terminals, and other tools. the benefits/caveats that are associated with it.  \n",
    "\n",
    "### 1.3 Authentication\n",
    "A quick guide on the levels of Authentication and the Systems that can be accessed with these credentials.\n",
    "\n",
    "### 1.4 Desktop VM’s \n",
    "Tutorial touring the Desktop Virtual Machines available for users and informations for setting up the environment. \n",
    " \n",
    "### 1.5 File Browser \n",
    "Navigating and interacting with the File Browser on GEOAnalytics Canada. \n",
    "\n",
    "### 1.6 STAC \n",
    "A quick introduction to the Spatio-Temporal Asset Catalog and how it interacts with the GEOAnalytics Canada STAC environment.  \n",
    "\n",
    "### 1.7 GIT \n",
    "Basics of setting up a project in the GEOAnalytics Canada Gitlab and pushing/pulling images to the GEOAnalytics container registry.\n",
    "  \n",
    "\n",
    "### 1.8 Pipelines \n",
    "Guide of the basics of KubeFlow Pipelines on GEOAnalytics Canada and how to create, compile, and run a pipeline within GEOAnalytics JupyterHub. "
   ]
  },
  {
   "cell_type": "code",
   "execution_count": null,
   "id": "725d4905-71e5-4814-907d-7e7239ea2b4a",
   "metadata": {},
   "outputs": [],
   "source": []
  }
 ],
 "metadata": {
  "kernelspec": {
   "display_name": "geoanalytics",
   "language": "python",
   "name": "geoanalytics"
  },
  "language_info": {
   "codemirror_mode": {
    "name": "ipython",
    "version": 3
   },
   "file_extension": ".py",
   "mimetype": "text/x-python",
   "name": "python",
   "nbconvert_exporter": "python",
   "pygments_lexer": "ipython3",
   "version": "3.8.10"
  }
 },
 "nbformat": 4,
 "nbformat_minor": 5
}
