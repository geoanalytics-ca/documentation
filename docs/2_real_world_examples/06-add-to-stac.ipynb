{
 "cells": [
  {
   "cell_type": "markdown",
   "id": "40adff49-67e0-4831-9543-2dd50ae9ec88",
   "metadata": {},
   "source": [
    "# **Adding data to the Geoanalytics STAC server**"
   ]
  },
  {
   "cell_type": "code",
   "execution_count": 1,
   "id": "31b35e75-0d60-4e17-954e-936b4939f6e9",
   "metadata": {},
   "outputs": [
    {
     "name": "stdout",
     "output_type": "stream",
     "text": [
      "Requirement already satisfied: planetary_computer in /srv/conda/envs/notebook/lib/python3.9/site-packages (0.4.6)\n",
      "Requirement already satisfied: pystac-client>=0.2.0 in /srv/conda/envs/notebook/lib/python3.9/site-packages (from planetary_computer) (0.3.2)\n",
      "Requirement already satisfied: click>=7.1 in /srv/conda/envs/notebook/lib/python3.9/site-packages (from planetary_computer) (8.1.2)\n",
      "Requirement already satisfied: pytz>=2020.5 in /srv/conda/envs/notebook/lib/python3.9/site-packages (from planetary_computer) (2022.1)\n",
      "Requirement already satisfied: pydantic[dotenv]>=1.7.3 in /srv/conda/envs/notebook/lib/python3.9/site-packages (from planetary_computer) (1.9.0)\n",
      "Requirement already satisfied: requests>=2.25.1 in /srv/conda/envs/notebook/lib/python3.9/site-packages (from planetary_computer) (2.27.1)\n",
      "Requirement already satisfied: pystac>=1.0.0 in /srv/conda/envs/notebook/lib/python3.9/site-packages (from planetary_computer) (1.2.0)\n",
      "Requirement already satisfied: typing-extensions>=3.7.4.3 in /srv/conda/envs/notebook/lib/python3.9/site-packages (from pydantic[dotenv]>=1.7.3->planetary_computer) (4.1.1)\n",
      "Requirement already satisfied: python-dotenv>=0.10.4 in /srv/conda/envs/notebook/lib/python3.9/site-packages (from pydantic[dotenv]>=1.7.3->planetary_computer) (0.20.0)\n",
      "Requirement already satisfied: python-dateutil>=2.7.0 in /srv/conda/envs/notebook/lib/python3.9/site-packages (from pystac>=1.0.0->planetary_computer) (2.7.5)\n",
      "Requirement already satisfied: six>=1.5 in /srv/conda/envs/notebook/lib/python3.9/site-packages (from python-dateutil>=2.7.0->pystac>=1.0.0->planetary_computer) (1.16.0)\n",
      "Requirement already satisfied: idna<4,>=2.5 in /srv/conda/envs/notebook/lib/python3.9/site-packages (from requests>=2.25.1->planetary_computer) (3.3)\n",
      "Requirement already satisfied: charset-normalizer~=2.0.0 in /srv/conda/envs/notebook/lib/python3.9/site-packages (from requests>=2.25.1->planetary_computer) (2.0.12)\n",
      "Requirement already satisfied: certifi>=2017.4.17 in /srv/conda/envs/notebook/lib/python3.9/site-packages (from requests>=2.25.1->planetary_computer) (2021.10.8)\n",
      "Requirement already satisfied: urllib3<1.27,>=1.21.1 in /srv/conda/envs/notebook/lib/python3.9/site-packages (from requests>=2.25.1->planetary_computer) (1.26.9)\n",
      "Requirement already satisfied: boto3 in /srv/conda/envs/notebook/lib/python3.9/site-packages (1.21.21)\n",
      "Requirement already satisfied: jmespath<2.0.0,>=0.7.1 in /srv/conda/envs/notebook/lib/python3.9/site-packages (from boto3) (1.0.0)\n",
      "Requirement already satisfied: botocore<1.25.0,>=1.24.21 in /srv/conda/envs/notebook/lib/python3.9/site-packages (from boto3) (1.24.21)\n",
      "Requirement already satisfied: s3transfer<0.6.0,>=0.5.0 in /srv/conda/envs/notebook/lib/python3.9/site-packages (from boto3) (0.5.2)\n",
      "Requirement already satisfied: urllib3<1.27,>=1.25.4 in /srv/conda/envs/notebook/lib/python3.9/site-packages (from botocore<1.25.0,>=1.24.21->boto3) (1.26.9)\n",
      "Requirement already satisfied: python-dateutil<3.0.0,>=2.1 in /srv/conda/envs/notebook/lib/python3.9/site-packages (from botocore<1.25.0,>=1.24.21->boto3) (2.7.5)\n",
      "Requirement already satisfied: six>=1.5 in /srv/conda/envs/notebook/lib/python3.9/site-packages (from python-dateutil<3.0.0,>=2.1->botocore<1.25.0,>=1.24.21->boto3) (1.16.0)\n",
      "Requirement already satisfied: rasterio in /srv/conda/envs/notebook/lib/python3.9/site-packages (1.2.10)\n",
      "Requirement already satisfied: attrs in /srv/conda/envs/notebook/lib/python3.9/site-packages (from rasterio) (21.4.0)\n",
      "Requirement already satisfied: click-plugins in /srv/conda/envs/notebook/lib/python3.9/site-packages (from rasterio) (1.1.1)\n",
      "Requirement already satisfied: setuptools in /srv/conda/envs/notebook/lib/python3.9/site-packages (from rasterio) (60.10.0)\n",
      "Requirement already satisfied: affine in /srv/conda/envs/notebook/lib/python3.9/site-packages (from rasterio) (2.3.1)\n",
      "Requirement already satisfied: snuggs>=1.4.1 in /srv/conda/envs/notebook/lib/python3.9/site-packages (from rasterio) (1.4.7)\n",
      "Requirement already satisfied: cligj>=0.5 in /srv/conda/envs/notebook/lib/python3.9/site-packages (from rasterio) (0.7.2)\n",
      "Requirement already satisfied: certifi in /srv/conda/envs/notebook/lib/python3.9/site-packages (from rasterio) (2021.10.8)\n",
      "Requirement already satisfied: numpy in /srv/conda/envs/notebook/lib/python3.9/site-packages (from rasterio) (1.22.3)\n",
      "Requirement already satisfied: click>=4.0 in /srv/conda/envs/notebook/lib/python3.9/site-packages (from rasterio) (8.1.2)\n",
      "Requirement already satisfied: pyparsing>=2.1.6 in /srv/conda/envs/notebook/lib/python3.9/site-packages (from snuggs>=1.4.1->rasterio) (3.0.8)\n",
      "Requirement already satisfied: shapely in /srv/conda/envs/notebook/lib/python3.9/site-packages (1.8.0)\n"
     ]
    }
   ],
   "source": [
    "# We will be using Sentinel-2 L2A imagery from Microsoft Planetary Computer's STAC server:\n",
    "!pip install planetary_computer\n",
    "!pip install boto3\n",
    "!pip install rasterio\n",
    "!pip install shapely"
   ]
  },
  {
   "cell_type": "code",
   "execution_count": 2,
   "id": "db688730-0e85-45c7-918b-50576d73f9b0",
   "metadata": {},
   "outputs": [
    {
     "name": "stderr",
     "output_type": "stream",
     "text": [
      "/srv/conda/envs/notebook/lib/python3.9/site-packages/dask_gateway/client.py:21: FutureWarning: format_bytes is deprecated and will be removed in a future release. Please use dask.utils.format_bytes instead.\n",
      "  from distributed.utils import LoopRunner, format_bytes\n"
     ]
    }
   ],
   "source": [
    "import io\n",
    "import os\n",
    "import sys\n",
    "import time\n",
    "import boto3\n",
    "import shapely\n",
    "import getpass\n",
    "import requests\n",
    "import datetime\n",
    "import json\n",
    "import glob\n",
    "import dask\n",
    "import rasterio\n",
    "import gcsfs\n",
    "import pystac\n",
    "import stackstac\n",
    "import planetary_computer\n",
    "\n",
    "import pandas as pd\n",
    "import numpy as np\n",
    "import xarray as xr\n",
    "import geopandas as gpd\n",
    "import rioxarray as rxr\n",
    "import matplotlib.pyplot as plt \n",
    "\n",
    "from rasterio.warp import calculate_default_transform\n",
    "from pathlib import Path\n",
    "from dask.distributed import performance_report\n",
    "from shapely.geometry import Polygon, mapping, shape\n",
    "from shapely.ops import unary_union\n",
    "from datetime import datetime\n",
    "from itertools import islice\n",
    "from pystac.extensions.projection import ProjectionExtension\n",
    "from pystac.extensions.eo import Band\n",
    "from pystac_client import Client\n",
    "from dask_gateway import Gateway\n",
    "from IPython.display import clear_output\n",
    "from shapely import wkt\n",
    "from dateutil.parser import parse as dateparse\n",
    "from urllib.request import urlopen, Request, build_opener, HTTPCookieProcessor\n",
    "from rio_cogeo.cogeo import cog_translate\n",
    "from rio_cogeo.profiles import cog_profiles\n",
    "from IPython.display import clear_output"
   ]
  },
  {
   "cell_type": "code",
   "execution_count": 3,
   "id": "5767c564-ab08-4356-b599-892be9833b3e",
   "metadata": {},
   "outputs": [],
   "source": [
    "gateway = Gateway()\n",
    "\n",
    "# Cluster configuration \n",
    "options = gateway.cluster_options()\n",
    "options.image = 'pangeo/pangeo-notebook:2022.04.15' ## need to update this to be automated"
   ]
  },
  {
   "cell_type": "code",
   "execution_count": 4,
   "id": "a5bbe9dd-c215-4a67-85bc-e8a7d4223b4d",
   "metadata": {
    "tags": []
   },
   "outputs": [
    {
     "data": {
      "application/vnd.jupyter.widget-view+json": {
       "model_id": "8ee576618b6f483a9faf525f6529e888",
       "version_major": 2,
       "version_minor": 0
      },
      "text/plain": [
       "VBox(children=(HTML(value='<h2>GatewayCluster</h2>'), HBox(children=(HTML(value='\\n<div>\\n<style scoped>\\n    …"
      ]
     },
     "metadata": {},
     "output_type": "display_data"
    }
   ],
   "source": [
    "# cluster = gateway.new_cluster(options)\n",
    "cluster = gateway.connect('pangeo.024e7f0c7b2c46d7956c4123473ae621')\n",
    "cluster"
   ]
  },
  {
   "cell_type": "code",
   "execution_count": 57,
   "id": "15f3e3fd-426a-4be4-a664-111f250732a7",
   "metadata": {},
   "outputs": [],
   "source": [
    "# Scale the cluster\n",
    "workers = 10\n",
    "cluster.scale(workers) "
   ]
  },
  {
   "cell_type": "code",
   "execution_count": 58,
   "id": "9fb9f58d-0a68-40f7-a29c-2a53a20e0c98",
   "metadata": {
    "tags": []
   },
   "outputs": [],
   "source": [
    "# Assign client to this cluster so Dask knows to use it for computations\n",
    "client = cluster.get_client() "
   ]
  },
  {
   "cell_type": "code",
   "execution_count": 59,
   "id": "f5b3bc00-b1ed-4367-b06a-4a5d25be79a2",
   "metadata": {},
   "outputs": [
    {
     "data": {
      "application/vnd.jupyter.widget-view+json": {
       "model_id": "62504b1db240426b9650f0f44240437c",
       "version_major": 2,
       "version_minor": 0
      },
      "text/plain": [
       "VBox(children=(HTML(value='<h2>GatewayCluster</h2>'), HBox(children=(HTML(value='\\n<div>\\n<style scoped>\\n    …"
      ]
     },
     "metadata": {},
     "output_type": "display_data"
    }
   ],
   "source": [
    "client.wait_for_workers(workers-1)\n",
    "cluster"
   ]
  },
  {
   "cell_type": "code",
   "execution_count": 4,
   "id": "4b59b13f-5aff-4c6e-a729-ab2de58cb047",
   "metadata": {},
   "outputs": [
    {
     "data": {
      "text/plain": [
       "[ClusterReport<name=pangeo.024e7f0c7b2c46d7956c4123473ae621, status=RUNNING>]"
      ]
     },
     "execution_count": 4,
     "metadata": {},
     "output_type": "execute_result"
    }
   ],
   "source": [
    "gateway.list_clusters()"
   ]
  },
  {
   "cell_type": "markdown",
   "id": "b0615fc5-ebe8-4543-a02d-79836563dd7d",
   "metadata": {},
   "source": [
    "## 1. Query the Sentinel 2 Data from PlanetaryComputer"
   ]
  },
  {
   "cell_type": "code",
   "execution_count": 5,
   "id": "8276219d-af49-4944-844b-f331a5480285",
   "metadata": {},
   "outputs": [],
   "source": [
    "# Create a polygon for defining our Area of Interest (AOI) in this case we are using a rough outline of Quebec City,Quebec created using: https://www.keene.edu/campus/maps/tool/\n",
    "polygon ={\n",
    "  \"coordinates\": [\n",
    "    [\n",
    "      [\n",
    "        -71.5577316,\n",
    "        46.9574391\n",
    "      ],\n",
    "      [\n",
    "        -71.5588903,\n",
    "        46.9381912\n",
    "      ],\n",
    "      [\n",
    "        -71.5264034,\n",
    "        46.9373414\n",
    "      ],\n",
    "      [\n",
    "        -71.5258884,\n",
    "        46.9588158\n",
    "      ],\n",
    "      [\n",
    "        -71.5577316,\n",
    "        46.9574391\n",
    "      ]\n",
    "    ]\n",
    "  ],\n",
    "  \"type\": \"Polygon\"\n",
    "}"
   ]
  },
  {
   "cell_type": "code",
   "execution_count": 6,
   "id": "eeaadddb-680a-47f7-8e4c-cf9d4c24ac14",
   "metadata": {},
   "outputs": [
    {
     "data": {
      "text/html": [
       "<div>\n",
       "<style scoped>\n",
       "    .dataframe tbody tr th:only-of-type {\n",
       "        vertical-align: middle;\n",
       "    }\n",
       "\n",
       "    .dataframe tbody tr th {\n",
       "        vertical-align: top;\n",
       "    }\n",
       "\n",
       "    .dataframe thead th {\n",
       "        text-align: right;\n",
       "    }\n",
       "</style>\n",
       "<table border=\"1\" class=\"dataframe\">\n",
       "  <thead>\n",
       "    <tr style=\"text-align: right;\">\n",
       "      <th></th>\n",
       "      <th>geometry</th>\n",
       "    </tr>\n",
       "  </thead>\n",
       "  <tbody>\n",
       "    <tr>\n",
       "      <th>0</th>\n",
       "      <td>POLYGON ((-71.55773 46.95744, -71.55889 46.938...</td>\n",
       "    </tr>\n",
       "  </tbody>\n",
       "</table>\n",
       "</div>"
      ],
      "text/plain": [
       "                                            geometry\n",
       "0  POLYGON ((-71.55773 46.95744, -71.55889 46.938..."
      ]
     },
     "execution_count": 6,
     "metadata": {},
     "output_type": "execute_result"
    }
   ],
   "source": [
    "lon_list = []\n",
    "lat_list = []\n",
    "\n",
    "for lon,lat in polygon['coordinates'][0]:\n",
    "    lon_list.append(lon)\n",
    "    lat_list.append(lat)\n",
    "polygon_geom = Polygon(zip(lon_list, lat_list))\n",
    "crs = 'EPSG:4326'\n",
    "polygon = gpd.GeoDataFrame(index=[0], crs=crs, geometry=[polygon_geom])\n",
    "polygon"
   ]
  },
  {
   "cell_type": "code",
   "execution_count": 7,
   "id": "70e07c3a-09d8-46e3-b2de-8099b15bff74",
   "metadata": {},
   "outputs": [
    {
     "data": {
      "image/svg+xml": [
       "<svg xmlns=\"http://www.w3.org/2000/svg\" xmlns:xlink=\"http://www.w3.org/1999/xlink\" width=\"100.0\" height=\"100.0\" viewBox=\"-71.560210376 46.936021324 0.035642052000000035 0.024114552000000344\" preserveAspectRatio=\"xMinYMin meet\"><g transform=\"matrix(1,0,0,-1,0,93.8961572)\"><path fill-rule=\"evenodd\" fill=\"#66cc99\" stroke=\"#555555\" stroke-width=\"0.0007128410400000007\" opacity=\"0.6\" d=\"M -71.5588903,46.9373414 L -71.5258884,46.9373414 L -71.5258884,46.9588158 L -71.5588903,46.9588158 L -71.5588903,46.9373414 z\" /></g></svg>"
      ],
      "text/plain": [
       "<shapely.geometry.polygon.Polygon at 0x7f75b44d2970>"
      ]
     },
     "execution_count": 7,
     "metadata": {},
     "output_type": "execute_result"
    }
   ],
   "source": [
    "FOOTPRINT = polygon.to_crs('epsg:4326').geometry[0].envelope\n",
    "FOOTPRINT"
   ]
  },
  {
   "cell_type": "code",
   "execution_count": 8,
   "id": "8fcf6e68-68db-4ea4-b983-680c941857d2",
   "metadata": {},
   "outputs": [
    {
     "data": {
      "text/plain": [
       "(-71.5588903, 46.9373414, -71.5258884, 46.9588158)"
      ]
     },
     "execution_count": 8,
     "metadata": {},
     "output_type": "execute_result"
    }
   ],
   "source": [
    "FOOTPRINT.bounds"
   ]
  },
  {
   "cell_type": "code",
   "execution_count": 9,
   "id": "5037fd12-2604-42b3-a448-d9e681f3d528",
   "metadata": {},
   "outputs": [],
   "source": [
    "def register_gcsfs_client(username:str):\n",
    "    # set up the gcsfs system with credentials\n",
    "    print('registering gcsfs')\n",
    "    tok = os.path.join(os.environ['HOME'], f'geoanalytics_{username}', 'geo.json') # Change this to your own cred file\n",
    "    tok_dict = json.load(open(tok)) # cloudpickle will just send the path to tok, which the processing nodes can't see. Send json instead\n",
    "    gcs = gcsfs.GCSFileSystem(token=tok_dict, access='read_write')\n",
    "    return gcs"
   ]
  },
  {
   "cell_type": "code",
   "execution_count": 11,
   "id": "76e07f0f-0cd5-40c9-9e13-67451e2b86d7",
   "metadata": {},
   "outputs": [
    {
     "name": "stdin",
     "output_type": "stream",
     "text": [
      "Username:  mkavlin\n"
     ]
    },
    {
     "name": "stdout",
     "output_type": "stream",
     "text": [
      "registering gcsfs\n"
     ]
    }
   ],
   "source": [
    "username = input('Username: ')\n",
    "gcs = register_gcsfs_client(username=username)"
   ]
  },
  {
   "cell_type": "code",
   "execution_count": 12,
   "id": "d0c42840-a65f-4f6e-af1a-274247218199",
   "metadata": {},
   "outputs": [],
   "source": [
    "# Function to write from the dask cluster to the remote bucket\n",
    "@dask.delayed\n",
    "def write_ras(gcs, epsg, ras, b, pth):\n",
    "    import rioxarray\n",
    "    try:\n",
    "        ds = xr.Dataset()\n",
    "        ras = ras.rio.write_crs(epsg)\n",
    "        ras.rio.to_raster('ras.tif')\n",
    "        # Turn the raster into a COG\n",
    "        dst_profile = cog_profiles.get(\"deflate\")\n",
    "        cog_translate(\n",
    "            'ras.tif',\n",
    "            'ras_cog.tif',\n",
    "            dst_profile,\n",
    "            in_memory=True,\n",
    "            quiet=False,\n",
    "        )\n",
    "        # Use GCSFS Client to put COG into remote bucket\n",
    "        gcs.put('ras_cog.tif', pth)\n",
    "        # Clean up rasters on Dask Worker\n",
    "        os.remove('ras.tif')\n",
    "        os.remove('ras_cog.tif')\n",
    "        return 'success'\n",
    "    except Exception as e:\n",
    "        # Return error and associated band\n",
    "        return f'{b}: {e}'"
   ]
  },
  {
   "cell_type": "code",
   "execution_count": 13,
   "id": "b5ae52fc-848b-4ebd-869b-d1b6dd19ce35",
   "metadata": {},
   "outputs": [
    {
     "data": {
      "text/plain": [
       "<Client id=microsoft-pc>"
      ]
     },
     "execution_count": 13,
     "metadata": {},
     "output_type": "execute_result"
    }
   ],
   "source": [
    "# Set up Stac Client\n",
    "api = Client.open('https://planetarycomputer.microsoft.com/api/stac/v1')\n",
    "api"
   ]
  },
  {
   "cell_type": "code",
   "execution_count": 14,
   "id": "14963226-326b-4d0c-85e8-3987ea85a9a9",
   "metadata": {},
   "outputs": [],
   "source": [
    "save_path = \"gs://geoanalytics-user-shared-data/PHAC9442/example_data_stac_adding/\"\n",
    "local_path = f'/home/jovyan/geoanalytics_user_shared_data/PHAC9442/example_data_stac_added/'\n",
    "Type = \"COG\"\n",
    "epsg = 32618"
   ]
  },
  {
   "cell_type": "code",
   "execution_count": 15,
   "id": "22bb813f-3341-46ef-b16e-15681b72681e",
   "metadata": {},
   "outputs": [],
   "source": [
    "# CONFIG \n",
    "# -------------\n",
    "BASE_PTH = 'gs://geoanalytics-user-shared-data'\n",
    "OUTPUT_DIR = 'Tutorial_stac_test'\n",
    "TGT_BANDS =  ['B01', 'B02', 'B03', 'B04', 'B05', 'B06', 'B07', 'B08', 'B09', 'B11', 'B12', 'B8A']\n",
    "YEARS = ['2019','2020']\n",
    "BEGIN_MONTH = '06'\n",
    "END_MONTH = '09'\n",
    "MAX_CLOUD = 100\n",
    "READ_IN_CHUNK = 4096\n",
    "RESOLUTION = 10\n",
    "TEMPORAL_CHUNK = {'time': -1, 'band': 1, 'x': 128, 'y': 128}\n",
    "SYNCHRONOUS = True # Write bands out one at a time - use if resources can't handle all bands at once for AOI\n",
    "# -------------"
   ]
  },
  {
   "cell_type": "code",
   "execution_count": 16,
   "id": "82b651c0-bdbd-46e0-b8f6-623e10745fdc",
   "metadata": {
    "collapsed": true,
    "jupyter": {
     "outputs_hidden": true
    },
    "tags": []
   },
   "outputs": [
    {
     "name": "stdout",
     "output_type": "stream",
     "text": [
      "[Querying] 2019\n",
      "\tFound 88 items\n",
      "\t[Signing data links]\n",
      "[Processing B01]\n",
      "\t[Converting STAC query to DataArray]\n"
     ]
    },
    {
     "name": "stderr",
     "output_type": "stream",
     "text": [
      "/srv/conda/envs/notebook/lib/python3.9/site-packages/stackstac/prepare.py:413: FutureWarning: pandas.Float64Index is deprecated and will be removed from pandas in a future version. Use pandas.Index with the appropriate dtype instead.\n",
      "  xs = pd.Float64Index(np.linspace(minx, maxx, width, endpoint=False))\n",
      "/srv/conda/envs/notebook/lib/python3.9/site-packages/stackstac/prepare.py:414: FutureWarning: pandas.Float64Index is deprecated and will be removed from pandas in a future version. Use pandas.Index with the appropriate dtype instead.\n",
      "  ys = pd.Float64Index(np.linspace(maxy, miny, height, endpoint=False))\n"
     ]
    },
    {
     "name": "stdout",
     "output_type": "stream",
     "text": [
      "Saving S2A_MSIL2A_20190602T153911_R011_T19TCN_20201005T210749 to gs://geoanalytics-user-shared-data/Tutorial_stac_test/2019\n",
      "Saving S2A_MSIL2A_20190602T153911_R011_T18TYT_20201005T210750 to gs://geoanalytics-user-shared-data/Tutorial_stac_test/2019\n",
      "Saving S2A_MSIL2A_20190605T154911_R054_T19TCN_20201005T222215 to gs://geoanalytics-user-shared-data/Tutorial_stac_test/2019\n",
      "Saving S2A_MSIL2A_20190605T154911_R054_T18TYT_20201005T222219 to gs://geoanalytics-user-shared-data/Tutorial_stac_test/2019\n",
      "Saving S2B_MSIL2A_20190607T153819_R011_T19TCN_20201005T232406 to gs://geoanalytics-user-shared-data/Tutorial_stac_test/2019\n",
      "Saving S2B_MSIL2A_20190607T153819_R011_T18TYT_20201005T232404 to gs://geoanalytics-user-shared-data/Tutorial_stac_test/2019\n",
      "Saving S2B_MSIL2A_20190610T154819_R054_T19TCN_20201006T003809 to gs://geoanalytics-user-shared-data/Tutorial_stac_test/2019\n",
      "Saving S2B_MSIL2A_20190610T154819_R054_T18TYT_20201006T003813 to gs://geoanalytics-user-shared-data/Tutorial_stac_test/2019\n",
      "Saving S2A_MSIL2A_20190612T153911_R011_T19TCN_20201006T011451 to gs://geoanalytics-user-shared-data/Tutorial_stac_test/2019\n",
      "Saving S2A_MSIL2A_20190612T153911_R011_T18TYT_20201006T011451 to gs://geoanalytics-user-shared-data/Tutorial_stac_test/2019\n",
      "Saving S2A_MSIL2A_20190615T154911_R054_T19TCN_20201006T022848 to gs://geoanalytics-user-shared-data/Tutorial_stac_test/2019\n",
      "Saving S2A_MSIL2A_20190615T154911_R054_T18TYT_20201006T022852 to gs://geoanalytics-user-shared-data/Tutorial_stac_test/2019\n",
      "Saving S2B_MSIL2A_20190617T153819_R011_T19TCN_20201006T032945 to gs://geoanalytics-user-shared-data/Tutorial_stac_test/2019\n",
      "Saving S2B_MSIL2A_20190617T153819_R011_T18TYT_20201006T032941 to gs://geoanalytics-user-shared-data/Tutorial_stac_test/2019\n",
      "Saving S2B_MSIL2A_20190620T154819_R054_T19TCN_20201006T044346 to gs://geoanalytics-user-shared-data/Tutorial_stac_test/2019\n",
      "Saving S2B_MSIL2A_20190620T154819_R054_T18TYT_20201006T044349 to gs://geoanalytics-user-shared-data/Tutorial_stac_test/2019\n",
      "Saving S2A_MSIL2A_20190625T154911_R054_T19TCN_20201006T061000 to gs://geoanalytics-user-shared-data/Tutorial_stac_test/2019\n",
      "Saving S2B_MSIL2A_20190627T153819_R011_T19TCN_20201006T071157 to gs://geoanalytics-user-shared-data/Tutorial_stac_test/2019\n",
      "Saving S2B_MSIL2A_20190627T153819_R011_T18TYT_20201006T071156 to gs://geoanalytics-user-shared-data/Tutorial_stac_test/2019\n",
      "Saving S2B_MSIL2A_20190630T154819_R054_T19TCN_20201006T082638 to gs://geoanalytics-user-shared-data/Tutorial_stac_test/2019\n",
      "Saving S2B_MSIL2A_20190630T154819_R054_T18TYT_20201006T082641 to gs://geoanalytics-user-shared-data/Tutorial_stac_test/2019\n",
      "Saving S2A_MSIL2A_20190702T153911_R011_T19TCN_20201005T081140 to gs://geoanalytics-user-shared-data/Tutorial_stac_test/2019\n",
      "Saving S2A_MSIL2A_20190702T153911_R011_T18TYT_20201005T081140 to gs://geoanalytics-user-shared-data/Tutorial_stac_test/2019\n",
      "Saving S2A_MSIL2A_20190705T154911_R054_T19TCN_20201005T093631 to gs://geoanalytics-user-shared-data/Tutorial_stac_test/2019\n",
      "Saving S2A_MSIL2A_20190705T154911_R054_T18TYT_20201005T093635 to gs://geoanalytics-user-shared-data/Tutorial_stac_test/2019\n",
      "Saving S2B_MSIL2A_20190707T153819_R011_T19TCN_20201005T104755 to gs://geoanalytics-user-shared-data/Tutorial_stac_test/2019\n",
      "Saving S2B_MSIL2A_20190707T153819_R011_T18TYT_20201005T104752 to gs://geoanalytics-user-shared-data/Tutorial_stac_test/2019\n",
      "Saving S2B_MSIL2A_20190710T154819_R054_T19TCN_20201005T121226 to gs://geoanalytics-user-shared-data/Tutorial_stac_test/2019\n",
      "Saving S2B_MSIL2A_20190710T154819_R054_T18TYT_20201005T121229 to gs://geoanalytics-user-shared-data/Tutorial_stac_test/2019\n",
      "Saving S2A_MSIL2A_20190712T153911_R011_T19TCN_20201005T125535 to gs://geoanalytics-user-shared-data/Tutorial_stac_test/2019\n",
      "Saving S2A_MSIL2A_20190712T153911_R011_T18TYT_20201005T125533 to gs://geoanalytics-user-shared-data/Tutorial_stac_test/2019\n",
      "Saving S2A_MSIL2A_20190715T154911_R054_T19TCN_20201005T142310 to gs://geoanalytics-user-shared-data/Tutorial_stac_test/2019\n",
      "Saving S2A_MSIL2A_20190715T154911_R054_T18TYT_20201005T142315 to gs://geoanalytics-user-shared-data/Tutorial_stac_test/2019\n",
      "Saving S2B_MSIL2A_20190717T153819_R011_T19TCN_20201005T153817 to gs://geoanalytics-user-shared-data/Tutorial_stac_test/2019\n",
      "Saving S2B_MSIL2A_20190717T153819_R011_T18TYT_20201005T153817 to gs://geoanalytics-user-shared-data/Tutorial_stac_test/2019\n",
      "Saving S2B_MSIL2A_20190720T154819_R054_T19TCN_20201005T171015 to gs://geoanalytics-user-shared-data/Tutorial_stac_test/2019\n",
      "Saving S2B_MSIL2A_20190720T154819_R054_T18TYT_20201005T171016 to gs://geoanalytics-user-shared-data/Tutorial_stac_test/2019\n",
      "Saving S2A_MSIL2A_20190722T153911_R011_T18TYT_20201005T175826 to gs://geoanalytics-user-shared-data/Tutorial_stac_test/2019\n",
      "Saving S2A_MSIL2A_20190725T154911_R054_T19TCN_20201005T192321 to gs://geoanalytics-user-shared-data/Tutorial_stac_test/2019\n",
      "Saving S2A_MSIL2A_20190725T154911_R054_T18TYT_20201005T192329 to gs://geoanalytics-user-shared-data/Tutorial_stac_test/2019\n",
      "Saving S2B_MSIL2A_20190727T153819_R011_T19TCN_20201106T033605 to gs://geoanalytics-user-shared-data/Tutorial_stac_test/2019\n",
      "Saving S2B_MSIL2A_20190727T153819_R011_T18TYT_20201106T033550 to gs://geoanalytics-user-shared-data/Tutorial_stac_test/2019\n",
      "Saving S2B_MSIL2A_20190730T154819_R054_T19TCN_20201005T200624 to gs://geoanalytics-user-shared-data/Tutorial_stac_test/2019\n",
      "Saving S2B_MSIL2A_20190730T154819_R054_T18TYT_20201005T200625 to gs://geoanalytics-user-shared-data/Tutorial_stac_test/2019\n",
      "Saving S2A_MSIL2A_20190801T153911_R011_T19TCN_20201004T190755 to gs://geoanalytics-user-shared-data/Tutorial_stac_test/2019\n",
      "Saving S2A_MSIL2A_20190801T153911_R011_T18TYT_20201004T190749 to gs://geoanalytics-user-shared-data/Tutorial_stac_test/2019\n",
      "Saving S2A_MSIL2A_20190804T154911_R054_T19TCN_20201004T201837 to gs://geoanalytics-user-shared-data/Tutorial_stac_test/2019\n",
      "Saving S2A_MSIL2A_20190804T154911_R054_T18TYT_20201004T201840 to gs://geoanalytics-user-shared-data/Tutorial_stac_test/2019\n",
      "Saving S2B_MSIL2A_20190806T153819_R011_T19TCN_20201004T211746 to gs://geoanalytics-user-shared-data/Tutorial_stac_test/2019\n",
      "Saving S2B_MSIL2A_20190806T153819_R011_T18TYT_20201004T211741 to gs://geoanalytics-user-shared-data/Tutorial_stac_test/2019\n",
      "Saving S2B_MSIL2A_20190809T154819_R054_T19TCN_20201004T222827 to gs://geoanalytics-user-shared-data/Tutorial_stac_test/2019\n",
      "Saving S2B_MSIL2A_20190809T154819_R054_T18TYT_20201004T222831 to gs://geoanalytics-user-shared-data/Tutorial_stac_test/2019\n",
      "Saving S2A_MSIL2A_20190811T153911_R011_T19TCN_20201004T230322 to gs://geoanalytics-user-shared-data/Tutorial_stac_test/2019\n",
      "Saving S2A_MSIL2A_20190811T153911_R011_T18TYT_20201004T230320 to gs://geoanalytics-user-shared-data/Tutorial_stac_test/2019\n",
      "Saving S2A_MSIL2A_20190814T154911_R054_T19TCN_20201005T001500 to gs://geoanalytics-user-shared-data/Tutorial_stac_test/2019\n",
      "Saving S2A_MSIL2A_20190814T154911_R054_T18TYT_20201005T001505 to gs://geoanalytics-user-shared-data/Tutorial_stac_test/2019\n",
      "Saving S2B_MSIL2A_20190816T153819_R011_T19TCN_20201005T011435 to gs://geoanalytics-user-shared-data/Tutorial_stac_test/2019\n",
      "Saving S2B_MSIL2A_20190816T153819_R011_T18TYT_20201005T011437 to gs://geoanalytics-user-shared-data/Tutorial_stac_test/2019\n",
      "Saving S2B_MSIL2A_20190819T154819_R054_T19TCN_20201005T022714 to gs://geoanalytics-user-shared-data/Tutorial_stac_test/2019\n",
      "Saving S2B_MSIL2A_20190819T154819_R054_T18TYT_20201005T022721 to gs://geoanalytics-user-shared-data/Tutorial_stac_test/2019\n",
      "Saving S2A_MSIL2A_20190821T153911_R011_T19TCN_20201005T030256 to gs://geoanalytics-user-shared-data/Tutorial_stac_test/2019\n",
      "Saving S2A_MSIL2A_20190821T153911_R011_T18TYT_20201005T030254 to gs://geoanalytics-user-shared-data/Tutorial_stac_test/2019\n",
      "Saving S2A_MSIL2A_20190824T154911_R054_T19TCN_20201005T041508 to gs://geoanalytics-user-shared-data/Tutorial_stac_test/2019\n",
      "Saving S2A_MSIL2A_20190824T154911_R054_T18TYT_20201005T041513 to gs://geoanalytics-user-shared-data/Tutorial_stac_test/2019\n",
      "Saving S2B_MSIL2A_20190826T153819_R011_T19TCN_20201005T051652 to gs://geoanalytics-user-shared-data/Tutorial_stac_test/2019\n",
      "Saving S2B_MSIL2A_20190826T153819_R011_T18TYT_20201005T051650 to gs://geoanalytics-user-shared-data/Tutorial_stac_test/2019\n",
      "Saving S2B_MSIL2A_20190829T154819_R054_T19TCN_20201106T053948 to gs://geoanalytics-user-shared-data/Tutorial_stac_test/2019\n",
      "Saving S2B_MSIL2A_20190829T154819_R054_T18TYT_20201005T063559 to gs://geoanalytics-user-shared-data/Tutorial_stac_test/2019\n",
      "Saving S2A_MSIL2A_20190831T153911_R011_T19TCN_20201005T071602 to gs://geoanalytics-user-shared-data/Tutorial_stac_test/2019\n",
      "Saving S2A_MSIL2A_20190831T153911_R011_T18TYT_20201005T071603 to gs://geoanalytics-user-shared-data/Tutorial_stac_test/2019\n",
      "Saving S2A_MSIL2A_20190903T154911_R054_T19TCN_20201004T084559 to gs://geoanalytics-user-shared-data/Tutorial_stac_test/2019\n",
      "Saving S2A_MSIL2A_20190903T154911_R054_T18TYT_20201004T084603 to gs://geoanalytics-user-shared-data/Tutorial_stac_test/2019\n",
      "Saving S2B_MSIL2A_20190905T153809_R011_T19TCN_20201004T094505 to gs://geoanalytics-user-shared-data/Tutorial_stac_test/2019\n",
      "Saving S2B_MSIL2A_20190905T153809_R011_T18TYT_20201004T094505 to gs://geoanalytics-user-shared-data/Tutorial_stac_test/2019\n",
      "Saving S2B_MSIL2A_20190908T154809_R054_T19TCN_20201004T105349 to gs://geoanalytics-user-shared-data/Tutorial_stac_test/2019\n",
      "Saving S2B_MSIL2A_20190908T154809_R054_T18TYT_20201004T110951 to gs://geoanalytics-user-shared-data/Tutorial_stac_test/2019\n",
      "Saving S2A_MSIL2A_20190910T153901_R011_T19TCN_20201004T112755 to gs://geoanalytics-user-shared-data/Tutorial_stac_test/2019\n",
      "Saving S2A_MSIL2A_20190910T153901_R011_T18TYT_20201004T112753 to gs://geoanalytics-user-shared-data/Tutorial_stac_test/2019\n",
      "Saving S2A_MSIL2A_20190913T154901_R054_T19TCN_20201004T123824 to gs://geoanalytics-user-shared-data/Tutorial_stac_test/2019\n",
      "Saving S2A_MSIL2A_20190913T154901_R054_T18TYT_20201004T123830 to gs://geoanalytics-user-shared-data/Tutorial_stac_test/2019\n",
      "Saving S2B_MSIL2A_20190918T154919_R054_T19TCN_20201004T144355 to gs://geoanalytics-user-shared-data/Tutorial_stac_test/2019\n",
      "Saving S2B_MSIL2A_20190918T154919_R054_T18TYT_20201004T144354 to gs://geoanalytics-user-shared-data/Tutorial_stac_test/2019\n",
      "Saving S2A_MSIL2A_20190920T153931_R011_T19TCN_20201004T151706 to gs://geoanalytics-user-shared-data/Tutorial_stac_test/2019\n",
      "Saving S2A_MSIL2A_20190920T153931_R011_T18TYT_20201004T151704 to gs://geoanalytics-user-shared-data/Tutorial_stac_test/2019\n",
      "Saving S2B_MSIL2A_20190925T153959_R011_T19TCN_20201004T170715 to gs://geoanalytics-user-shared-data/Tutorial_stac_test/2019\n",
      "Saving S2B_MSIL2A_20190925T153959_R011_T18TYT_20201004T170713 to gs://geoanalytics-user-shared-data/Tutorial_stac_test/2019\n",
      "Saving S2A_MSIL2A_20190930T154041_R011_T19TCN_20201004T184543 to gs://geoanalytics-user-shared-data/Tutorial_stac_test/2019\n",
      "Saving S2A_MSIL2A_20190930T154041_R011_T18TYT_20201004T184542 to gs://geoanalytics-user-shared-data/Tutorial_stac_test/2019\n",
      "[Processing B02]\n",
      "\t[Converting STAC query to DataArray]\n"
     ]
    },
    {
     "name": "stderr",
     "output_type": "stream",
     "text": [
      "/srv/conda/envs/notebook/lib/python3.9/site-packages/stackstac/prepare.py:413: FutureWarning: pandas.Float64Index is deprecated and will be removed from pandas in a future version. Use pandas.Index with the appropriate dtype instead.\n",
      "  xs = pd.Float64Index(np.linspace(minx, maxx, width, endpoint=False))\n",
      "/srv/conda/envs/notebook/lib/python3.9/site-packages/stackstac/prepare.py:414: FutureWarning: pandas.Float64Index is deprecated and will be removed from pandas in a future version. Use pandas.Index with the appropriate dtype instead.\n",
      "  ys = pd.Float64Index(np.linspace(maxy, miny, height, endpoint=False))\n"
     ]
    },
    {
     "name": "stdout",
     "output_type": "stream",
     "text": [
      "Saving S2A_MSIL2A_20190602T153911_R011_T19TCN_20201005T210749 to gs://geoanalytics-user-shared-data/Tutorial_stac_test/2019\n",
      "Saving S2A_MSIL2A_20190602T153911_R011_T18TYT_20201005T210750 to gs://geoanalytics-user-shared-data/Tutorial_stac_test/2019\n",
      "Saving S2A_MSIL2A_20190605T154911_R054_T19TCN_20201005T222215 to gs://geoanalytics-user-shared-data/Tutorial_stac_test/2019\n",
      "Saving S2A_MSIL2A_20190605T154911_R054_T18TYT_20201005T222219 to gs://geoanalytics-user-shared-data/Tutorial_stac_test/2019\n",
      "Saving S2B_MSIL2A_20190607T153819_R011_T19TCN_20201005T232406 to gs://geoanalytics-user-shared-data/Tutorial_stac_test/2019\n",
      "Saving S2B_MSIL2A_20190607T153819_R011_T18TYT_20201005T232404 to gs://geoanalytics-user-shared-data/Tutorial_stac_test/2019\n",
      "Saving S2B_MSIL2A_20190610T154819_R054_T19TCN_20201006T003809 to gs://geoanalytics-user-shared-data/Tutorial_stac_test/2019\n",
      "Saving S2B_MSIL2A_20190610T154819_R054_T18TYT_20201006T003813 to gs://geoanalytics-user-shared-data/Tutorial_stac_test/2019\n",
      "Saving S2A_MSIL2A_20190612T153911_R011_T19TCN_20201006T011451 to gs://geoanalytics-user-shared-data/Tutorial_stac_test/2019\n",
      "Saving S2A_MSIL2A_20190612T153911_R011_T18TYT_20201006T011451 to gs://geoanalytics-user-shared-data/Tutorial_stac_test/2019\n",
      "Saving S2A_MSIL2A_20190615T154911_R054_T19TCN_20201006T022848 to gs://geoanalytics-user-shared-data/Tutorial_stac_test/2019\n",
      "Saving S2A_MSIL2A_20190615T154911_R054_T18TYT_20201006T022852 to gs://geoanalytics-user-shared-data/Tutorial_stac_test/2019\n",
      "Saving S2B_MSIL2A_20190617T153819_R011_T19TCN_20201006T032945 to gs://geoanalytics-user-shared-data/Tutorial_stac_test/2019\n",
      "Saving S2B_MSIL2A_20190617T153819_R011_T18TYT_20201006T032941 to gs://geoanalytics-user-shared-data/Tutorial_stac_test/2019\n",
      "Saving S2B_MSIL2A_20190620T154819_R054_T19TCN_20201006T044346 to gs://geoanalytics-user-shared-data/Tutorial_stac_test/2019\n",
      "Saving S2B_MSIL2A_20190620T154819_R054_T18TYT_20201006T044349 to gs://geoanalytics-user-shared-data/Tutorial_stac_test/2019\n",
      "Saving S2A_MSIL2A_20190625T154911_R054_T19TCN_20201006T061000 to gs://geoanalytics-user-shared-data/Tutorial_stac_test/2019\n",
      "Saving S2B_MSIL2A_20190627T153819_R011_T19TCN_20201006T071157 to gs://geoanalytics-user-shared-data/Tutorial_stac_test/2019\n",
      "Saving S2B_MSIL2A_20190627T153819_R011_T18TYT_20201006T071156 to gs://geoanalytics-user-shared-data/Tutorial_stac_test/2019\n",
      "Saving S2B_MSIL2A_20190630T154819_R054_T19TCN_20201006T082638 to gs://geoanalytics-user-shared-data/Tutorial_stac_test/2019\n",
      "Saving S2B_MSIL2A_20190630T154819_R054_T18TYT_20201006T082641 to gs://geoanalytics-user-shared-data/Tutorial_stac_test/2019\n",
      "Saving S2A_MSIL2A_20190702T153911_R011_T19TCN_20201005T081140 to gs://geoanalytics-user-shared-data/Tutorial_stac_test/2019\n",
      "Saving S2A_MSIL2A_20190702T153911_R011_T18TYT_20201005T081140 to gs://geoanalytics-user-shared-data/Tutorial_stac_test/2019\n",
      "Saving S2A_MSIL2A_20190705T154911_R054_T19TCN_20201005T093631 to gs://geoanalytics-user-shared-data/Tutorial_stac_test/2019\n",
      "Saving S2A_MSIL2A_20190705T154911_R054_T18TYT_20201005T093635 to gs://geoanalytics-user-shared-data/Tutorial_stac_test/2019\n",
      "Saving S2B_MSIL2A_20190707T153819_R011_T19TCN_20201005T104755 to gs://geoanalytics-user-shared-data/Tutorial_stac_test/2019\n",
      "Saving S2B_MSIL2A_20190707T153819_R011_T18TYT_20201005T104752 to gs://geoanalytics-user-shared-data/Tutorial_stac_test/2019\n",
      "Saving S2B_MSIL2A_20190710T154819_R054_T19TCN_20201005T121226 to gs://geoanalytics-user-shared-data/Tutorial_stac_test/2019\n",
      "Saving S2B_MSIL2A_20190710T154819_R054_T18TYT_20201005T121229 to gs://geoanalytics-user-shared-data/Tutorial_stac_test/2019\n",
      "Saving S2A_MSIL2A_20190712T153911_R011_T19TCN_20201005T125535 to gs://geoanalytics-user-shared-data/Tutorial_stac_test/2019\n",
      "Saving S2A_MSIL2A_20190712T153911_R011_T18TYT_20201005T125533 to gs://geoanalytics-user-shared-data/Tutorial_stac_test/2019\n",
      "Saving S2A_MSIL2A_20190715T154911_R054_T19TCN_20201005T142310 to gs://geoanalytics-user-shared-data/Tutorial_stac_test/2019\n",
      "Saving S2A_MSIL2A_20190715T154911_R054_T18TYT_20201005T142315 to gs://geoanalytics-user-shared-data/Tutorial_stac_test/2019\n",
      "Saving S2B_MSIL2A_20190717T153819_R011_T19TCN_20201005T153817 to gs://geoanalytics-user-shared-data/Tutorial_stac_test/2019\n",
      "Saving S2B_MSIL2A_20190717T153819_R011_T18TYT_20201005T153817 to gs://geoanalytics-user-shared-data/Tutorial_stac_test/2019\n",
      "Saving S2B_MSIL2A_20190720T154819_R054_T19TCN_20201005T171015 to gs://geoanalytics-user-shared-data/Tutorial_stac_test/2019\n",
      "Saving S2B_MSIL2A_20190720T154819_R054_T18TYT_20201005T171016 to gs://geoanalytics-user-shared-data/Tutorial_stac_test/2019\n",
      "Saving S2A_MSIL2A_20190722T153911_R011_T18TYT_20201005T175826 to gs://geoanalytics-user-shared-data/Tutorial_stac_test/2019\n",
      "Saving S2A_MSIL2A_20190725T154911_R054_T19TCN_20201005T192321 to gs://geoanalytics-user-shared-data/Tutorial_stac_test/2019\n",
      "Saving S2A_MSIL2A_20190725T154911_R054_T18TYT_20201005T192329 to gs://geoanalytics-user-shared-data/Tutorial_stac_test/2019\n",
      "Saving S2B_MSIL2A_20190727T153819_R011_T19TCN_20201106T033605 to gs://geoanalytics-user-shared-data/Tutorial_stac_test/2019\n",
      "Saving S2B_MSIL2A_20190727T153819_R011_T18TYT_20201106T033550 to gs://geoanalytics-user-shared-data/Tutorial_stac_test/2019\n",
      "Saving S2B_MSIL2A_20190730T154819_R054_T19TCN_20201005T200624 to gs://geoanalytics-user-shared-data/Tutorial_stac_test/2019\n",
      "Saving S2B_MSIL2A_20190730T154819_R054_T18TYT_20201005T200625 to gs://geoanalytics-user-shared-data/Tutorial_stac_test/2019\n",
      "Saving S2A_MSIL2A_20190801T153911_R011_T19TCN_20201004T190755 to gs://geoanalytics-user-shared-data/Tutorial_stac_test/2019\n",
      "Saving S2A_MSIL2A_20190801T153911_R011_T18TYT_20201004T190749 to gs://geoanalytics-user-shared-data/Tutorial_stac_test/2019\n",
      "Saving S2A_MSIL2A_20190804T154911_R054_T19TCN_20201004T201837 to gs://geoanalytics-user-shared-data/Tutorial_stac_test/2019\n",
      "Saving S2A_MSIL2A_20190804T154911_R054_T18TYT_20201004T201840 to gs://geoanalytics-user-shared-data/Tutorial_stac_test/2019\n",
      "Saving S2B_MSIL2A_20190806T153819_R011_T19TCN_20201004T211746 to gs://geoanalytics-user-shared-data/Tutorial_stac_test/2019\n",
      "Saving S2B_MSIL2A_20190806T153819_R011_T18TYT_20201004T211741 to gs://geoanalytics-user-shared-data/Tutorial_stac_test/2019\n",
      "Saving S2B_MSIL2A_20190809T154819_R054_T19TCN_20201004T222827 to gs://geoanalytics-user-shared-data/Tutorial_stac_test/2019\n",
      "Saving S2B_MSIL2A_20190809T154819_R054_T18TYT_20201004T222831 to gs://geoanalytics-user-shared-data/Tutorial_stac_test/2019\n",
      "Saving S2A_MSIL2A_20190811T153911_R011_T19TCN_20201004T230322 to gs://geoanalytics-user-shared-data/Tutorial_stac_test/2019\n",
      "Saving S2A_MSIL2A_20190811T153911_R011_T18TYT_20201004T230320 to gs://geoanalytics-user-shared-data/Tutorial_stac_test/2019\n",
      "Saving S2A_MSIL2A_20190814T154911_R054_T19TCN_20201005T001500 to gs://geoanalytics-user-shared-data/Tutorial_stac_test/2019\n",
      "Saving S2A_MSIL2A_20190814T154911_R054_T18TYT_20201005T001505 to gs://geoanalytics-user-shared-data/Tutorial_stac_test/2019\n",
      "Saving S2B_MSIL2A_20190816T153819_R011_T19TCN_20201005T011435 to gs://geoanalytics-user-shared-data/Tutorial_stac_test/2019\n",
      "Saving S2B_MSIL2A_20190816T153819_R011_T18TYT_20201005T011437 to gs://geoanalytics-user-shared-data/Tutorial_stac_test/2019\n",
      "Saving S2B_MSIL2A_20190819T154819_R054_T19TCN_20201005T022714 to gs://geoanalytics-user-shared-data/Tutorial_stac_test/2019\n",
      "Saving S2B_MSIL2A_20190819T154819_R054_T18TYT_20201005T022721 to gs://geoanalytics-user-shared-data/Tutorial_stac_test/2019\n",
      "Saving S2A_MSIL2A_20190821T153911_R011_T19TCN_20201005T030256 to gs://geoanalytics-user-shared-data/Tutorial_stac_test/2019\n",
      "Saving S2A_MSIL2A_20190821T153911_R011_T18TYT_20201005T030254 to gs://geoanalytics-user-shared-data/Tutorial_stac_test/2019\n",
      "Saving S2A_MSIL2A_20190824T154911_R054_T19TCN_20201005T041508 to gs://geoanalytics-user-shared-data/Tutorial_stac_test/2019\n",
      "Saving S2A_MSIL2A_20190824T154911_R054_T18TYT_20201005T041513 to gs://geoanalytics-user-shared-data/Tutorial_stac_test/2019\n",
      "Saving S2B_MSIL2A_20190826T153819_R011_T19TCN_20201005T051652 to gs://geoanalytics-user-shared-data/Tutorial_stac_test/2019\n",
      "Saving S2B_MSIL2A_20190826T153819_R011_T18TYT_20201005T051650 to gs://geoanalytics-user-shared-data/Tutorial_stac_test/2019\n",
      "Saving S2B_MSIL2A_20190829T154819_R054_T19TCN_20201106T053948 to gs://geoanalytics-user-shared-data/Tutorial_stac_test/2019\n",
      "Saving S2B_MSIL2A_20190829T154819_R054_T18TYT_20201005T063559 to gs://geoanalytics-user-shared-data/Tutorial_stac_test/2019\n",
      "Saving S2A_MSIL2A_20190831T153911_R011_T19TCN_20201005T071602 to gs://geoanalytics-user-shared-data/Tutorial_stac_test/2019\n",
      "Saving S2A_MSIL2A_20190831T153911_R011_T18TYT_20201005T071603 to gs://geoanalytics-user-shared-data/Tutorial_stac_test/2019\n",
      "Saving S2A_MSIL2A_20190903T154911_R054_T19TCN_20201004T084559 to gs://geoanalytics-user-shared-data/Tutorial_stac_test/2019\n",
      "Saving S2A_MSIL2A_20190903T154911_R054_T18TYT_20201004T084603 to gs://geoanalytics-user-shared-data/Tutorial_stac_test/2019\n",
      "Saving S2B_MSIL2A_20190905T153809_R011_T19TCN_20201004T094505 to gs://geoanalytics-user-shared-data/Tutorial_stac_test/2019\n",
      "Saving S2B_MSIL2A_20190905T153809_R011_T18TYT_20201004T094505 to gs://geoanalytics-user-shared-data/Tutorial_stac_test/2019\n",
      "Saving S2B_MSIL2A_20190908T154809_R054_T19TCN_20201004T105349 to gs://geoanalytics-user-shared-data/Tutorial_stac_test/2019\n",
      "Saving S2B_MSIL2A_20190908T154809_R054_T18TYT_20201004T110951 to gs://geoanalytics-user-shared-data/Tutorial_stac_test/2019\n",
      "Saving S2A_MSIL2A_20190910T153901_R011_T19TCN_20201004T112755 to gs://geoanalytics-user-shared-data/Tutorial_stac_test/2019\n",
      "Saving S2A_MSIL2A_20190910T153901_R011_T18TYT_20201004T112753 to gs://geoanalytics-user-shared-data/Tutorial_stac_test/2019\n",
      "Saving S2A_MSIL2A_20190913T154901_R054_T19TCN_20201004T123824 to gs://geoanalytics-user-shared-data/Tutorial_stac_test/2019\n",
      "Saving S2A_MSIL2A_20190913T154901_R054_T18TYT_20201004T123830 to gs://geoanalytics-user-shared-data/Tutorial_stac_test/2019\n",
      "Saving S2B_MSIL2A_20190918T154919_R054_T19TCN_20201004T144355 to gs://geoanalytics-user-shared-data/Tutorial_stac_test/2019\n",
      "Saving S2B_MSIL2A_20190918T154919_R054_T18TYT_20201004T144354 to gs://geoanalytics-user-shared-data/Tutorial_stac_test/2019\n",
      "Saving S2A_MSIL2A_20190920T153931_R011_T19TCN_20201004T151706 to gs://geoanalytics-user-shared-data/Tutorial_stac_test/2019\n",
      "Saving S2A_MSIL2A_20190920T153931_R011_T18TYT_20201004T151704 to gs://geoanalytics-user-shared-data/Tutorial_stac_test/2019\n",
      "Saving S2B_MSIL2A_20190925T153959_R011_T19TCN_20201004T170715 to gs://geoanalytics-user-shared-data/Tutorial_stac_test/2019\n",
      "Saving S2B_MSIL2A_20190925T153959_R011_T18TYT_20201004T170713 to gs://geoanalytics-user-shared-data/Tutorial_stac_test/2019\n",
      "Saving S2A_MSIL2A_20190930T154041_R011_T19TCN_20201004T184543 to gs://geoanalytics-user-shared-data/Tutorial_stac_test/2019\n",
      "Saving S2A_MSIL2A_20190930T154041_R011_T18TYT_20201004T184542 to gs://geoanalytics-user-shared-data/Tutorial_stac_test/2019\n",
      "[Processing B03]\n",
      "\t[Converting STAC query to DataArray]\n",
      "Saving S2A_MSIL2A_20190602T153911_R011_T19TCN_20201005T210749 to gs://geoanalytics-user-shared-data/Tutorial_stac_test/2019\n",
      "Saving S2A_MSIL2A_20190602T153911_R011_T18TYT_20201005T210750 to gs://geoanalytics-user-shared-data/Tutorial_stac_test/2019\n",
      "Saving S2A_MSIL2A_20190605T154911_R054_T19TCN_20201005T222215 to gs://geoanalytics-user-shared-data/Tutorial_stac_test/2019\n",
      "Saving S2A_MSIL2A_20190605T154911_R054_T18TYT_20201005T222219 to gs://geoanalytics-user-shared-data/Tutorial_stac_test/2019\n",
      "Saving S2B_MSIL2A_20190607T153819_R011_T19TCN_20201005T232406 to gs://geoanalytics-user-shared-data/Tutorial_stac_test/2019\n",
      "Saving S2B_MSIL2A_20190607T153819_R011_T18TYT_20201005T232404 to gs://geoanalytics-user-shared-data/Tutorial_stac_test/2019\n",
      "Saving S2B_MSIL2A_20190610T154819_R054_T19TCN_20201006T003809 to gs://geoanalytics-user-shared-data/Tutorial_stac_test/2019\n",
      "Saving S2B_MSIL2A_20190610T154819_R054_T18TYT_20201006T003813 to gs://geoanalytics-user-shared-data/Tutorial_stac_test/2019\n",
      "Saving S2A_MSIL2A_20190612T153911_R011_T19TCN_20201006T011451 to gs://geoanalytics-user-shared-data/Tutorial_stac_test/2019\n",
      "Saving S2A_MSIL2A_20190612T153911_R011_T18TYT_20201006T011451 to gs://geoanalytics-user-shared-data/Tutorial_stac_test/2019\n",
      "Saving S2A_MSIL2A_20190615T154911_R054_T19TCN_20201006T022848 to gs://geoanalytics-user-shared-data/Tutorial_stac_test/2019\n",
      "Saving S2A_MSIL2A_20190615T154911_R054_T18TYT_20201006T022852 to gs://geoanalytics-user-shared-data/Tutorial_stac_test/2019\n",
      "Saving S2B_MSIL2A_20190617T153819_R011_T19TCN_20201006T032945 to gs://geoanalytics-user-shared-data/Tutorial_stac_test/2019\n",
      "Saving S2B_MSIL2A_20190617T153819_R011_T18TYT_20201006T032941 to gs://geoanalytics-user-shared-data/Tutorial_stac_test/2019\n",
      "Saving S2B_MSIL2A_20190620T154819_R054_T19TCN_20201006T044346 to gs://geoanalytics-user-shared-data/Tutorial_stac_test/2019\n",
      "Saving S2B_MSIL2A_20190620T154819_R054_T18TYT_20201006T044349 to gs://geoanalytics-user-shared-data/Tutorial_stac_test/2019\n",
      "Saving S2A_MSIL2A_20190625T154911_R054_T19TCN_20201006T061000 to gs://geoanalytics-user-shared-data/Tutorial_stac_test/2019\n",
      "Saving S2B_MSIL2A_20190627T153819_R011_T19TCN_20201006T071157 to gs://geoanalytics-user-shared-data/Tutorial_stac_test/2019\n",
      "Saving S2B_MSIL2A_20190627T153819_R011_T18TYT_20201006T071156 to gs://geoanalytics-user-shared-data/Tutorial_stac_test/2019\n",
      "Saving S2B_MSIL2A_20190630T154819_R054_T19TCN_20201006T082638 to gs://geoanalytics-user-shared-data/Tutorial_stac_test/2019\n",
      "Saving S2B_MSIL2A_20190630T154819_R054_T18TYT_20201006T082641 to gs://geoanalytics-user-shared-data/Tutorial_stac_test/2019\n",
      "Saving S2A_MSIL2A_20190702T153911_R011_T19TCN_20201005T081140 to gs://geoanalytics-user-shared-data/Tutorial_stac_test/2019\n",
      "Saving S2A_MSIL2A_20190702T153911_R011_T18TYT_20201005T081140 to gs://geoanalytics-user-shared-data/Tutorial_stac_test/2019\n",
      "Saving S2A_MSIL2A_20190705T154911_R054_T19TCN_20201005T093631 to gs://geoanalytics-user-shared-data/Tutorial_stac_test/2019\n",
      "Saving S2A_MSIL2A_20190705T154911_R054_T18TYT_20201005T093635 to gs://geoanalytics-user-shared-data/Tutorial_stac_test/2019\n",
      "Saving S2B_MSIL2A_20190707T153819_R011_T19TCN_20201005T104755 to gs://geoanalytics-user-shared-data/Tutorial_stac_test/2019\n",
      "Saving S2B_MSIL2A_20190707T153819_R011_T18TYT_20201005T104752 to gs://geoanalytics-user-shared-data/Tutorial_stac_test/2019\n",
      "Saving S2B_MSIL2A_20190710T154819_R054_T19TCN_20201005T121226 to gs://geoanalytics-user-shared-data/Tutorial_stac_test/2019\n",
      "Saving S2B_MSIL2A_20190710T154819_R054_T18TYT_20201005T121229 to gs://geoanalytics-user-shared-data/Tutorial_stac_test/2019\n",
      "Saving S2A_MSIL2A_20190712T153911_R011_T19TCN_20201005T125535 to gs://geoanalytics-user-shared-data/Tutorial_stac_test/2019\n",
      "Saving S2A_MSIL2A_20190712T153911_R011_T18TYT_20201005T125533 to gs://geoanalytics-user-shared-data/Tutorial_stac_test/2019\n",
      "Saving S2A_MSIL2A_20190715T154911_R054_T19TCN_20201005T142310 to gs://geoanalytics-user-shared-data/Tutorial_stac_test/2019\n",
      "Saving S2A_MSIL2A_20190715T154911_R054_T18TYT_20201005T142315 to gs://geoanalytics-user-shared-data/Tutorial_stac_test/2019\n",
      "Saving S2B_MSIL2A_20190717T153819_R011_T19TCN_20201005T153817 to gs://geoanalytics-user-shared-data/Tutorial_stac_test/2019\n",
      "Saving S2B_MSIL2A_20190717T153819_R011_T18TYT_20201005T153817 to gs://geoanalytics-user-shared-data/Tutorial_stac_test/2019\n",
      "Saving S2B_MSIL2A_20190720T154819_R054_T19TCN_20201005T171015 to gs://geoanalytics-user-shared-data/Tutorial_stac_test/2019\n",
      "Saving S2B_MSIL2A_20190720T154819_R054_T18TYT_20201005T171016 to gs://geoanalytics-user-shared-data/Tutorial_stac_test/2019\n",
      "Saving S2A_MSIL2A_20190722T153911_R011_T18TYT_20201005T175826 to gs://geoanalytics-user-shared-data/Tutorial_stac_test/2019\n",
      "Saving S2A_MSIL2A_20190725T154911_R054_T19TCN_20201005T192321 to gs://geoanalytics-user-shared-data/Tutorial_stac_test/2019\n",
      "Saving S2A_MSIL2A_20190725T154911_R054_T18TYT_20201005T192329 to gs://geoanalytics-user-shared-data/Tutorial_stac_test/2019\n",
      "Saving S2B_MSIL2A_20190727T153819_R011_T19TCN_20201106T033605 to gs://geoanalytics-user-shared-data/Tutorial_stac_test/2019\n",
      "Saving S2B_MSIL2A_20190727T153819_R011_T18TYT_20201106T033550 to gs://geoanalytics-user-shared-data/Tutorial_stac_test/2019\n",
      "Saving S2B_MSIL2A_20190730T154819_R054_T19TCN_20201005T200624 to gs://geoanalytics-user-shared-data/Tutorial_stac_test/2019\n",
      "Saving S2B_MSIL2A_20190730T154819_R054_T18TYT_20201005T200625 to gs://geoanalytics-user-shared-data/Tutorial_stac_test/2019\n",
      "Saving S2A_MSIL2A_20190801T153911_R011_T19TCN_20201004T190755 to gs://geoanalytics-user-shared-data/Tutorial_stac_test/2019\n",
      "Saving S2A_MSIL2A_20190801T153911_R011_T18TYT_20201004T190749 to gs://geoanalytics-user-shared-data/Tutorial_stac_test/2019\n",
      "Saving S2A_MSIL2A_20190804T154911_R054_T19TCN_20201004T201837 to gs://geoanalytics-user-shared-data/Tutorial_stac_test/2019\n",
      "Saving S2A_MSIL2A_20190804T154911_R054_T18TYT_20201004T201840 to gs://geoanalytics-user-shared-data/Tutorial_stac_test/2019\n",
      "Saving S2B_MSIL2A_20190806T153819_R011_T19TCN_20201004T211746 to gs://geoanalytics-user-shared-data/Tutorial_stac_test/2019\n",
      "Saving S2B_MSIL2A_20190806T153819_R011_T18TYT_20201004T211741 to gs://geoanalytics-user-shared-data/Tutorial_stac_test/2019\n",
      "Saving S2B_MSIL2A_20190809T154819_R054_T19TCN_20201004T222827 to gs://geoanalytics-user-shared-data/Tutorial_stac_test/2019\n",
      "Saving S2B_MSIL2A_20190809T154819_R054_T18TYT_20201004T222831 to gs://geoanalytics-user-shared-data/Tutorial_stac_test/2019\n",
      "Saving S2A_MSIL2A_20190811T153911_R011_T19TCN_20201004T230322 to gs://geoanalytics-user-shared-data/Tutorial_stac_test/2019\n",
      "Saving S2A_MSIL2A_20190811T153911_R011_T18TYT_20201004T230320 to gs://geoanalytics-user-shared-data/Tutorial_stac_test/2019\n",
      "Saving S2A_MSIL2A_20190814T154911_R054_T19TCN_20201005T001500 to gs://geoanalytics-user-shared-data/Tutorial_stac_test/2019\n",
      "Saving S2A_MSIL2A_20190814T154911_R054_T18TYT_20201005T001505 to gs://geoanalytics-user-shared-data/Tutorial_stac_test/2019\n",
      "Saving S2B_MSIL2A_20190816T153819_R011_T19TCN_20201005T011435 to gs://geoanalytics-user-shared-data/Tutorial_stac_test/2019\n",
      "Saving S2B_MSIL2A_20190816T153819_R011_T18TYT_20201005T011437 to gs://geoanalytics-user-shared-data/Tutorial_stac_test/2019\n",
      "Saving S2B_MSIL2A_20190819T154819_R054_T19TCN_20201005T022714 to gs://geoanalytics-user-shared-data/Tutorial_stac_test/2019\n",
      "Saving S2B_MSIL2A_20190819T154819_R054_T18TYT_20201005T022721 to gs://geoanalytics-user-shared-data/Tutorial_stac_test/2019\n",
      "Saving S2A_MSIL2A_20190821T153911_R011_T19TCN_20201005T030256 to gs://geoanalytics-user-shared-data/Tutorial_stac_test/2019\n",
      "Saving S2A_MSIL2A_20190821T153911_R011_T18TYT_20201005T030254 to gs://geoanalytics-user-shared-data/Tutorial_stac_test/2019\n",
      "Saving S2A_MSIL2A_20190824T154911_R054_T19TCN_20201005T041508 to gs://geoanalytics-user-shared-data/Tutorial_stac_test/2019\n",
      "Saving S2A_MSIL2A_20190824T154911_R054_T18TYT_20201005T041513 to gs://geoanalytics-user-shared-data/Tutorial_stac_test/2019\n",
      "Saving S2B_MSIL2A_20190826T153819_R011_T19TCN_20201005T051652 to gs://geoanalytics-user-shared-data/Tutorial_stac_test/2019\n",
      "Saving S2B_MSIL2A_20190826T153819_R011_T18TYT_20201005T051650 to gs://geoanalytics-user-shared-data/Tutorial_stac_test/2019\n",
      "Saving S2B_MSIL2A_20190829T154819_R054_T19TCN_20201106T053948 to gs://geoanalytics-user-shared-data/Tutorial_stac_test/2019\n",
      "Saving S2B_MSIL2A_20190829T154819_R054_T18TYT_20201005T063559 to gs://geoanalytics-user-shared-data/Tutorial_stac_test/2019\n",
      "Saving S2A_MSIL2A_20190831T153911_R011_T19TCN_20201005T071602 to gs://geoanalytics-user-shared-data/Tutorial_stac_test/2019\n",
      "Saving S2A_MSIL2A_20190831T153911_R011_T18TYT_20201005T071603 to gs://geoanalytics-user-shared-data/Tutorial_stac_test/2019\n",
      "Saving S2A_MSIL2A_20190903T154911_R054_T19TCN_20201004T084559 to gs://geoanalytics-user-shared-data/Tutorial_stac_test/2019\n",
      "Saving S2A_MSIL2A_20190903T154911_R054_T18TYT_20201004T084603 to gs://geoanalytics-user-shared-data/Tutorial_stac_test/2019\n",
      "Saving S2B_MSIL2A_20190905T153809_R011_T19TCN_20201004T094505 to gs://geoanalytics-user-shared-data/Tutorial_stac_test/2019\n",
      "Saving S2B_MSIL2A_20190905T153809_R011_T18TYT_20201004T094505 to gs://geoanalytics-user-shared-data/Tutorial_stac_test/2019\n",
      "Saving S2B_MSIL2A_20190908T154809_R054_T19TCN_20201004T105349 to gs://geoanalytics-user-shared-data/Tutorial_stac_test/2019\n",
      "Saving S2B_MSIL2A_20190908T154809_R054_T18TYT_20201004T110951 to gs://geoanalytics-user-shared-data/Tutorial_stac_test/2019\n",
      "Saving S2A_MSIL2A_20190910T153901_R011_T19TCN_20201004T112755 to gs://geoanalytics-user-shared-data/Tutorial_stac_test/2019\n",
      "Saving S2A_MSIL2A_20190910T153901_R011_T18TYT_20201004T112753 to gs://geoanalytics-user-shared-data/Tutorial_stac_test/2019\n",
      "Saving S2A_MSIL2A_20190913T154901_R054_T19TCN_20201004T123824 to gs://geoanalytics-user-shared-data/Tutorial_stac_test/2019\n",
      "Saving S2A_MSIL2A_20190913T154901_R054_T18TYT_20201004T123830 to gs://geoanalytics-user-shared-data/Tutorial_stac_test/2019\n",
      "Saving S2B_MSIL2A_20190918T154919_R054_T19TCN_20201004T144355 to gs://geoanalytics-user-shared-data/Tutorial_stac_test/2019\n",
      "Saving S2B_MSIL2A_20190918T154919_R054_T18TYT_20201004T144354 to gs://geoanalytics-user-shared-data/Tutorial_stac_test/2019\n",
      "Saving S2A_MSIL2A_20190920T153931_R011_T19TCN_20201004T151706 to gs://geoanalytics-user-shared-data/Tutorial_stac_test/2019\n",
      "Saving S2A_MSIL2A_20190920T153931_R011_T18TYT_20201004T151704 to gs://geoanalytics-user-shared-data/Tutorial_stac_test/2019\n",
      "Saving S2B_MSIL2A_20190925T153959_R011_T19TCN_20201004T170715 to gs://geoanalytics-user-shared-data/Tutorial_stac_test/2019\n",
      "Saving S2B_MSIL2A_20190925T153959_R011_T18TYT_20201004T170713 to gs://geoanalytics-user-shared-data/Tutorial_stac_test/2019\n",
      "Saving S2A_MSIL2A_20190930T154041_R011_T19TCN_20201004T184543 to gs://geoanalytics-user-shared-data/Tutorial_stac_test/2019\n",
      "Saving S2A_MSIL2A_20190930T154041_R011_T18TYT_20201004T184542 to gs://geoanalytics-user-shared-data/Tutorial_stac_test/2019\n",
      "[Processing B04]\n",
      "\t[Converting STAC query to DataArray]\n"
     ]
    },
    {
     "name": "stderr",
     "output_type": "stream",
     "text": [
      "/srv/conda/envs/notebook/lib/python3.9/site-packages/stackstac/prepare.py:413: FutureWarning: pandas.Float64Index is deprecated and will be removed from pandas in a future version. Use pandas.Index with the appropriate dtype instead.\n",
      "  xs = pd.Float64Index(np.linspace(minx, maxx, width, endpoint=False))\n",
      "/srv/conda/envs/notebook/lib/python3.9/site-packages/stackstac/prepare.py:414: FutureWarning: pandas.Float64Index is deprecated and will be removed from pandas in a future version. Use pandas.Index with the appropriate dtype instead.\n",
      "  ys = pd.Float64Index(np.linspace(maxy, miny, height, endpoint=False))\n",
      "/srv/conda/envs/notebook/lib/python3.9/site-packages/stackstac/prepare.py:413: FutureWarning: pandas.Float64Index is deprecated and will be removed from pandas in a future version. Use pandas.Index with the appropriate dtype instead.\n",
      "  xs = pd.Float64Index(np.linspace(minx, maxx, width, endpoint=False))\n",
      "/srv/conda/envs/notebook/lib/python3.9/site-packages/stackstac/prepare.py:414: FutureWarning: pandas.Float64Index is deprecated and will be removed from pandas in a future version. Use pandas.Index with the appropriate dtype instead.\n",
      "  ys = pd.Float64Index(np.linspace(maxy, miny, height, endpoint=False))\n"
     ]
    },
    {
     "name": "stdout",
     "output_type": "stream",
     "text": [
      "Saving S2A_MSIL2A_20190602T153911_R011_T19TCN_20201005T210749 to gs://geoanalytics-user-shared-data/Tutorial_stac_test/2019\n",
      "Saving S2A_MSIL2A_20190602T153911_R011_T18TYT_20201005T210750 to gs://geoanalytics-user-shared-data/Tutorial_stac_test/2019\n",
      "Saving S2A_MSIL2A_20190605T154911_R054_T19TCN_20201005T222215 to gs://geoanalytics-user-shared-data/Tutorial_stac_test/2019\n",
      "Saving S2A_MSIL2A_20190605T154911_R054_T18TYT_20201005T222219 to gs://geoanalytics-user-shared-data/Tutorial_stac_test/2019\n",
      "Saving S2B_MSIL2A_20190607T153819_R011_T19TCN_20201005T232406 to gs://geoanalytics-user-shared-data/Tutorial_stac_test/2019\n",
      "Saving S2B_MSIL2A_20190607T153819_R011_T18TYT_20201005T232404 to gs://geoanalytics-user-shared-data/Tutorial_stac_test/2019\n",
      "Saving S2B_MSIL2A_20190610T154819_R054_T19TCN_20201006T003809 to gs://geoanalytics-user-shared-data/Tutorial_stac_test/2019\n",
      "Saving S2B_MSIL2A_20190610T154819_R054_T18TYT_20201006T003813 to gs://geoanalytics-user-shared-data/Tutorial_stac_test/2019\n",
      "Saving S2A_MSIL2A_20190612T153911_R011_T19TCN_20201006T011451 to gs://geoanalytics-user-shared-data/Tutorial_stac_test/2019\n",
      "Saving S2A_MSIL2A_20190612T153911_R011_T18TYT_20201006T011451 to gs://geoanalytics-user-shared-data/Tutorial_stac_test/2019\n",
      "Saving S2A_MSIL2A_20190615T154911_R054_T19TCN_20201006T022848 to gs://geoanalytics-user-shared-data/Tutorial_stac_test/2019\n",
      "Saving S2A_MSIL2A_20190615T154911_R054_T18TYT_20201006T022852 to gs://geoanalytics-user-shared-data/Tutorial_stac_test/2019\n",
      "Saving S2B_MSIL2A_20190617T153819_R011_T19TCN_20201006T032945 to gs://geoanalytics-user-shared-data/Tutorial_stac_test/2019\n",
      "Saving S2B_MSIL2A_20190617T153819_R011_T18TYT_20201006T032941 to gs://geoanalytics-user-shared-data/Tutorial_stac_test/2019\n",
      "Saving S2B_MSIL2A_20190620T154819_R054_T19TCN_20201006T044346 to gs://geoanalytics-user-shared-data/Tutorial_stac_test/2019\n",
      "Saving S2B_MSIL2A_20190620T154819_R054_T18TYT_20201006T044349 to gs://geoanalytics-user-shared-data/Tutorial_stac_test/2019\n",
      "Saving S2A_MSIL2A_20190625T154911_R054_T19TCN_20201006T061000 to gs://geoanalytics-user-shared-data/Tutorial_stac_test/2019\n",
      "Saving S2B_MSIL2A_20190627T153819_R011_T19TCN_20201006T071157 to gs://geoanalytics-user-shared-data/Tutorial_stac_test/2019\n",
      "Saving S2B_MSIL2A_20190627T153819_R011_T18TYT_20201006T071156 to gs://geoanalytics-user-shared-data/Tutorial_stac_test/2019\n",
      "Saving S2B_MSIL2A_20190630T154819_R054_T19TCN_20201006T082638 to gs://geoanalytics-user-shared-data/Tutorial_stac_test/2019\n",
      "Saving S2B_MSIL2A_20190630T154819_R054_T18TYT_20201006T082641 to gs://geoanalytics-user-shared-data/Tutorial_stac_test/2019\n",
      "Saving S2A_MSIL2A_20190702T153911_R011_T19TCN_20201005T081140 to gs://geoanalytics-user-shared-data/Tutorial_stac_test/2019\n",
      "Saving S2A_MSIL2A_20190702T153911_R011_T18TYT_20201005T081140 to gs://geoanalytics-user-shared-data/Tutorial_stac_test/2019\n",
      "Saving S2A_MSIL2A_20190705T154911_R054_T19TCN_20201005T093631 to gs://geoanalytics-user-shared-data/Tutorial_stac_test/2019\n",
      "Saving S2A_MSIL2A_20190705T154911_R054_T18TYT_20201005T093635 to gs://geoanalytics-user-shared-data/Tutorial_stac_test/2019\n",
      "Saving S2B_MSIL2A_20190707T153819_R011_T19TCN_20201005T104755 to gs://geoanalytics-user-shared-data/Tutorial_stac_test/2019\n",
      "Saving S2B_MSIL2A_20190707T153819_R011_T18TYT_20201005T104752 to gs://geoanalytics-user-shared-data/Tutorial_stac_test/2019\n",
      "Saving S2B_MSIL2A_20190710T154819_R054_T19TCN_20201005T121226 to gs://geoanalytics-user-shared-data/Tutorial_stac_test/2019\n",
      "Saving S2B_MSIL2A_20190710T154819_R054_T18TYT_20201005T121229 to gs://geoanalytics-user-shared-data/Tutorial_stac_test/2019\n",
      "Saving S2A_MSIL2A_20190712T153911_R011_T19TCN_20201005T125535 to gs://geoanalytics-user-shared-data/Tutorial_stac_test/2019\n",
      "Saving S2A_MSIL2A_20190712T153911_R011_T18TYT_20201005T125533 to gs://geoanalytics-user-shared-data/Tutorial_stac_test/2019\n",
      "Saving S2A_MSIL2A_20190715T154911_R054_T19TCN_20201005T142310 to gs://geoanalytics-user-shared-data/Tutorial_stac_test/2019\n",
      "Saving S2A_MSIL2A_20190715T154911_R054_T18TYT_20201005T142315 to gs://geoanalytics-user-shared-data/Tutorial_stac_test/2019\n",
      "Saving S2B_MSIL2A_20190717T153819_R011_T19TCN_20201005T153817 to gs://geoanalytics-user-shared-data/Tutorial_stac_test/2019\n",
      "Saving S2B_MSIL2A_20190717T153819_R011_T18TYT_20201005T153817 to gs://geoanalytics-user-shared-data/Tutorial_stac_test/2019\n",
      "Saving S2B_MSIL2A_20190720T154819_R054_T19TCN_20201005T171015 to gs://geoanalytics-user-shared-data/Tutorial_stac_test/2019\n",
      "Saving S2B_MSIL2A_20190720T154819_R054_T18TYT_20201005T171016 to gs://geoanalytics-user-shared-data/Tutorial_stac_test/2019\n",
      "Saving S2A_MSIL2A_20190722T153911_R011_T18TYT_20201005T175826 to gs://geoanalytics-user-shared-data/Tutorial_stac_test/2019\n",
      "Saving S2A_MSIL2A_20190725T154911_R054_T19TCN_20201005T192321 to gs://geoanalytics-user-shared-data/Tutorial_stac_test/2019\n",
      "Saving S2A_MSIL2A_20190725T154911_R054_T18TYT_20201005T192329 to gs://geoanalytics-user-shared-data/Tutorial_stac_test/2019\n",
      "Saving S2B_MSIL2A_20190727T153819_R011_T19TCN_20201106T033605 to gs://geoanalytics-user-shared-data/Tutorial_stac_test/2019\n",
      "Saving S2B_MSIL2A_20190727T153819_R011_T18TYT_20201106T033550 to gs://geoanalytics-user-shared-data/Tutorial_stac_test/2019\n",
      "Saving S2B_MSIL2A_20190730T154819_R054_T19TCN_20201005T200624 to gs://geoanalytics-user-shared-data/Tutorial_stac_test/2019\n",
      "Saving S2B_MSIL2A_20190730T154819_R054_T18TYT_20201005T200625 to gs://geoanalytics-user-shared-data/Tutorial_stac_test/2019\n",
      "Saving S2A_MSIL2A_20190801T153911_R011_T19TCN_20201004T190755 to gs://geoanalytics-user-shared-data/Tutorial_stac_test/2019\n",
      "Saving S2A_MSIL2A_20190801T153911_R011_T18TYT_20201004T190749 to gs://geoanalytics-user-shared-data/Tutorial_stac_test/2019\n",
      "Saving S2A_MSIL2A_20190804T154911_R054_T19TCN_20201004T201837 to gs://geoanalytics-user-shared-data/Tutorial_stac_test/2019\n",
      "Saving S2A_MSIL2A_20190804T154911_R054_T18TYT_20201004T201840 to gs://geoanalytics-user-shared-data/Tutorial_stac_test/2019\n",
      "Saving S2B_MSIL2A_20190806T153819_R011_T19TCN_20201004T211746 to gs://geoanalytics-user-shared-data/Tutorial_stac_test/2019\n",
      "Saving S2B_MSIL2A_20190806T153819_R011_T18TYT_20201004T211741 to gs://geoanalytics-user-shared-data/Tutorial_stac_test/2019\n",
      "Saving S2B_MSIL2A_20190809T154819_R054_T19TCN_20201004T222827 to gs://geoanalytics-user-shared-data/Tutorial_stac_test/2019\n",
      "Saving S2B_MSIL2A_20190809T154819_R054_T18TYT_20201004T222831 to gs://geoanalytics-user-shared-data/Tutorial_stac_test/2019\n",
      "Saving S2A_MSIL2A_20190811T153911_R011_T19TCN_20201004T230322 to gs://geoanalytics-user-shared-data/Tutorial_stac_test/2019\n",
      "Saving S2A_MSIL2A_20190811T153911_R011_T18TYT_20201004T230320 to gs://geoanalytics-user-shared-data/Tutorial_stac_test/2019\n",
      "Saving S2A_MSIL2A_20190814T154911_R054_T19TCN_20201005T001500 to gs://geoanalytics-user-shared-data/Tutorial_stac_test/2019\n",
      "Saving S2A_MSIL2A_20190814T154911_R054_T18TYT_20201005T001505 to gs://geoanalytics-user-shared-data/Tutorial_stac_test/2019\n",
      "Saving S2B_MSIL2A_20190816T153819_R011_T19TCN_20201005T011435 to gs://geoanalytics-user-shared-data/Tutorial_stac_test/2019\n",
      "Saving S2B_MSIL2A_20190816T153819_R011_T18TYT_20201005T011437 to gs://geoanalytics-user-shared-data/Tutorial_stac_test/2019\n",
      "Saving S2B_MSIL2A_20190819T154819_R054_T19TCN_20201005T022714 to gs://geoanalytics-user-shared-data/Tutorial_stac_test/2019\n",
      "Saving S2B_MSIL2A_20190819T154819_R054_T18TYT_20201005T022721 to gs://geoanalytics-user-shared-data/Tutorial_stac_test/2019\n",
      "Saving S2A_MSIL2A_20190821T153911_R011_T19TCN_20201005T030256 to gs://geoanalytics-user-shared-data/Tutorial_stac_test/2019\n",
      "Saving S2A_MSIL2A_20190821T153911_R011_T18TYT_20201005T030254 to gs://geoanalytics-user-shared-data/Tutorial_stac_test/2019\n",
      "Saving S2A_MSIL2A_20190824T154911_R054_T19TCN_20201005T041508 to gs://geoanalytics-user-shared-data/Tutorial_stac_test/2019\n",
      "Saving S2A_MSIL2A_20190824T154911_R054_T18TYT_20201005T041513 to gs://geoanalytics-user-shared-data/Tutorial_stac_test/2019\n",
      "Saving S2B_MSIL2A_20190826T153819_R011_T19TCN_20201005T051652 to gs://geoanalytics-user-shared-data/Tutorial_stac_test/2019\n",
      "Saving S2B_MSIL2A_20190826T153819_R011_T18TYT_20201005T051650 to gs://geoanalytics-user-shared-data/Tutorial_stac_test/2019\n",
      "Saving S2B_MSIL2A_20190829T154819_R054_T19TCN_20201106T053948 to gs://geoanalytics-user-shared-data/Tutorial_stac_test/2019\n",
      "Saving S2B_MSIL2A_20190829T154819_R054_T18TYT_20201005T063559 to gs://geoanalytics-user-shared-data/Tutorial_stac_test/2019\n",
      "Saving S2A_MSIL2A_20190831T153911_R011_T19TCN_20201005T071602 to gs://geoanalytics-user-shared-data/Tutorial_stac_test/2019\n",
      "Saving S2A_MSIL2A_20190831T153911_R011_T18TYT_20201005T071603 to gs://geoanalytics-user-shared-data/Tutorial_stac_test/2019\n",
      "Saving S2A_MSIL2A_20190903T154911_R054_T19TCN_20201004T084559 to gs://geoanalytics-user-shared-data/Tutorial_stac_test/2019\n",
      "Saving S2A_MSIL2A_20190903T154911_R054_T18TYT_20201004T084603 to gs://geoanalytics-user-shared-data/Tutorial_stac_test/2019\n",
      "Saving S2B_MSIL2A_20190905T153809_R011_T19TCN_20201004T094505 to gs://geoanalytics-user-shared-data/Tutorial_stac_test/2019\n",
      "Saving S2B_MSIL2A_20190905T153809_R011_T18TYT_20201004T094505 to gs://geoanalytics-user-shared-data/Tutorial_stac_test/2019\n",
      "Saving S2B_MSIL2A_20190908T154809_R054_T19TCN_20201004T105349 to gs://geoanalytics-user-shared-data/Tutorial_stac_test/2019\n",
      "Saving S2B_MSIL2A_20190908T154809_R054_T18TYT_20201004T110951 to gs://geoanalytics-user-shared-data/Tutorial_stac_test/2019\n",
      "Saving S2A_MSIL2A_20190910T153901_R011_T19TCN_20201004T112755 to gs://geoanalytics-user-shared-data/Tutorial_stac_test/2019\n",
      "Saving S2A_MSIL2A_20190910T153901_R011_T18TYT_20201004T112753 to gs://geoanalytics-user-shared-data/Tutorial_stac_test/2019\n",
      "Saving S2A_MSIL2A_20190913T154901_R054_T19TCN_20201004T123824 to gs://geoanalytics-user-shared-data/Tutorial_stac_test/2019\n",
      "Saving S2A_MSIL2A_20190913T154901_R054_T18TYT_20201004T123830 to gs://geoanalytics-user-shared-data/Tutorial_stac_test/2019\n",
      "Saving S2B_MSIL2A_20190918T154919_R054_T19TCN_20201004T144355 to gs://geoanalytics-user-shared-data/Tutorial_stac_test/2019\n",
      "Saving S2B_MSIL2A_20190918T154919_R054_T18TYT_20201004T144354 to gs://geoanalytics-user-shared-data/Tutorial_stac_test/2019\n",
      "Saving S2A_MSIL2A_20190920T153931_R011_T19TCN_20201004T151706 to gs://geoanalytics-user-shared-data/Tutorial_stac_test/2019\n",
      "Saving S2A_MSIL2A_20190920T153931_R011_T18TYT_20201004T151704 to gs://geoanalytics-user-shared-data/Tutorial_stac_test/2019\n",
      "Saving S2B_MSIL2A_20190925T153959_R011_T19TCN_20201004T170715 to gs://geoanalytics-user-shared-data/Tutorial_stac_test/2019\n",
      "Saving S2B_MSIL2A_20190925T153959_R011_T18TYT_20201004T170713 to gs://geoanalytics-user-shared-data/Tutorial_stac_test/2019\n",
      "Saving S2A_MSIL2A_20190930T154041_R011_T19TCN_20201004T184543 to gs://geoanalytics-user-shared-data/Tutorial_stac_test/2019\n",
      "Saving S2A_MSIL2A_20190930T154041_R011_T18TYT_20201004T184542 to gs://geoanalytics-user-shared-data/Tutorial_stac_test/2019\n",
      "[Processing B05]\n",
      "\t[Converting STAC query to DataArray]\n"
     ]
    },
    {
     "name": "stderr",
     "output_type": "stream",
     "text": [
      "/srv/conda/envs/notebook/lib/python3.9/site-packages/stackstac/prepare.py:413: FutureWarning: pandas.Float64Index is deprecated and will be removed from pandas in a future version. Use pandas.Index with the appropriate dtype instead.\n",
      "  xs = pd.Float64Index(np.linspace(minx, maxx, width, endpoint=False))\n",
      "/srv/conda/envs/notebook/lib/python3.9/site-packages/stackstac/prepare.py:414: FutureWarning: pandas.Float64Index is deprecated and will be removed from pandas in a future version. Use pandas.Index with the appropriate dtype instead.\n",
      "  ys = pd.Float64Index(np.linspace(maxy, miny, height, endpoint=False))\n"
     ]
    },
    {
     "name": "stdout",
     "output_type": "stream",
     "text": [
      "Saving S2A_MSIL2A_20190602T153911_R011_T19TCN_20201005T210749 to gs://geoanalytics-user-shared-data/Tutorial_stac_test/2019\n",
      "Saving S2A_MSIL2A_20190602T153911_R011_T18TYT_20201005T210750 to gs://geoanalytics-user-shared-data/Tutorial_stac_test/2019\n",
      "Saving S2A_MSIL2A_20190605T154911_R054_T19TCN_20201005T222215 to gs://geoanalytics-user-shared-data/Tutorial_stac_test/2019\n",
      "Saving S2A_MSIL2A_20190605T154911_R054_T18TYT_20201005T222219 to gs://geoanalytics-user-shared-data/Tutorial_stac_test/2019\n",
      "Saving S2B_MSIL2A_20190607T153819_R011_T19TCN_20201005T232406 to gs://geoanalytics-user-shared-data/Tutorial_stac_test/2019\n",
      "Saving S2B_MSIL2A_20190607T153819_R011_T18TYT_20201005T232404 to gs://geoanalytics-user-shared-data/Tutorial_stac_test/2019\n",
      "Saving S2B_MSIL2A_20190610T154819_R054_T19TCN_20201006T003809 to gs://geoanalytics-user-shared-data/Tutorial_stac_test/2019\n",
      "Saving S2B_MSIL2A_20190610T154819_R054_T18TYT_20201006T003813 to gs://geoanalytics-user-shared-data/Tutorial_stac_test/2019\n",
      "Saving S2A_MSIL2A_20190612T153911_R011_T19TCN_20201006T011451 to gs://geoanalytics-user-shared-data/Tutorial_stac_test/2019\n",
      "Saving S2A_MSIL2A_20190612T153911_R011_T18TYT_20201006T011451 to gs://geoanalytics-user-shared-data/Tutorial_stac_test/2019\n",
      "Saving S2A_MSIL2A_20190615T154911_R054_T19TCN_20201006T022848 to gs://geoanalytics-user-shared-data/Tutorial_stac_test/2019\n",
      "Saving S2A_MSIL2A_20190615T154911_R054_T18TYT_20201006T022852 to gs://geoanalytics-user-shared-data/Tutorial_stac_test/2019\n",
      "Saving S2B_MSIL2A_20190617T153819_R011_T19TCN_20201006T032945 to gs://geoanalytics-user-shared-data/Tutorial_stac_test/2019\n",
      "Saving S2B_MSIL2A_20190617T153819_R011_T18TYT_20201006T032941 to gs://geoanalytics-user-shared-data/Tutorial_stac_test/2019\n",
      "Saving S2B_MSIL2A_20190620T154819_R054_T19TCN_20201006T044346 to gs://geoanalytics-user-shared-data/Tutorial_stac_test/2019\n",
      "Saving S2B_MSIL2A_20190620T154819_R054_T18TYT_20201006T044349 to gs://geoanalytics-user-shared-data/Tutorial_stac_test/2019\n",
      "Saving S2A_MSIL2A_20190625T154911_R054_T19TCN_20201006T061000 to gs://geoanalytics-user-shared-data/Tutorial_stac_test/2019\n",
      "Saving S2B_MSIL2A_20190627T153819_R011_T19TCN_20201006T071157 to gs://geoanalytics-user-shared-data/Tutorial_stac_test/2019\n",
      "Saving S2B_MSIL2A_20190627T153819_R011_T18TYT_20201006T071156 to gs://geoanalytics-user-shared-data/Tutorial_stac_test/2019\n",
      "Saving S2B_MSIL2A_20190630T154819_R054_T19TCN_20201006T082638 to gs://geoanalytics-user-shared-data/Tutorial_stac_test/2019\n",
      "Saving S2B_MSIL2A_20190630T154819_R054_T18TYT_20201006T082641 to gs://geoanalytics-user-shared-data/Tutorial_stac_test/2019\n",
      "Saving S2A_MSIL2A_20190702T153911_R011_T19TCN_20201005T081140 to gs://geoanalytics-user-shared-data/Tutorial_stac_test/2019\n",
      "Saving S2A_MSIL2A_20190702T153911_R011_T18TYT_20201005T081140 to gs://geoanalytics-user-shared-data/Tutorial_stac_test/2019\n",
      "Saving S2A_MSIL2A_20190705T154911_R054_T19TCN_20201005T093631 to gs://geoanalytics-user-shared-data/Tutorial_stac_test/2019\n",
      "Saving S2A_MSIL2A_20190705T154911_R054_T18TYT_20201005T093635 to gs://geoanalytics-user-shared-data/Tutorial_stac_test/2019\n",
      "Saving S2B_MSIL2A_20190707T153819_R011_T19TCN_20201005T104755 to gs://geoanalytics-user-shared-data/Tutorial_stac_test/2019\n",
      "Saving S2B_MSIL2A_20190707T153819_R011_T18TYT_20201005T104752 to gs://geoanalytics-user-shared-data/Tutorial_stac_test/2019\n",
      "Saving S2B_MSIL2A_20190710T154819_R054_T19TCN_20201005T121226 to gs://geoanalytics-user-shared-data/Tutorial_stac_test/2019\n",
      "Saving S2B_MSIL2A_20190710T154819_R054_T18TYT_20201005T121229 to gs://geoanalytics-user-shared-data/Tutorial_stac_test/2019\n",
      "Saving S2A_MSIL2A_20190712T153911_R011_T19TCN_20201005T125535 to gs://geoanalytics-user-shared-data/Tutorial_stac_test/2019\n",
      "Saving S2A_MSIL2A_20190712T153911_R011_T18TYT_20201005T125533 to gs://geoanalytics-user-shared-data/Tutorial_stac_test/2019\n",
      "Saving S2A_MSIL2A_20190715T154911_R054_T19TCN_20201005T142310 to gs://geoanalytics-user-shared-data/Tutorial_stac_test/2019\n",
      "Saving S2A_MSIL2A_20190715T154911_R054_T18TYT_20201005T142315 to gs://geoanalytics-user-shared-data/Tutorial_stac_test/2019\n",
      "Saving S2B_MSIL2A_20190717T153819_R011_T19TCN_20201005T153817 to gs://geoanalytics-user-shared-data/Tutorial_stac_test/2019\n",
      "Saving S2B_MSIL2A_20190717T153819_R011_T18TYT_20201005T153817 to gs://geoanalytics-user-shared-data/Tutorial_stac_test/2019\n",
      "Saving S2B_MSIL2A_20190720T154819_R054_T19TCN_20201005T171015 to gs://geoanalytics-user-shared-data/Tutorial_stac_test/2019\n",
      "Saving S2B_MSIL2A_20190720T154819_R054_T18TYT_20201005T171016 to gs://geoanalytics-user-shared-data/Tutorial_stac_test/2019\n",
      "Saving S2A_MSIL2A_20190722T153911_R011_T18TYT_20201005T175826 to gs://geoanalytics-user-shared-data/Tutorial_stac_test/2019\n",
      "Saving S2A_MSIL2A_20190725T154911_R054_T19TCN_20201005T192321 to gs://geoanalytics-user-shared-data/Tutorial_stac_test/2019\n",
      "Saving S2A_MSIL2A_20190725T154911_R054_T18TYT_20201005T192329 to gs://geoanalytics-user-shared-data/Tutorial_stac_test/2019\n",
      "Saving S2B_MSIL2A_20190727T153819_R011_T19TCN_20201106T033605 to gs://geoanalytics-user-shared-data/Tutorial_stac_test/2019\n",
      "Saving S2B_MSIL2A_20190727T153819_R011_T18TYT_20201106T033550 to gs://geoanalytics-user-shared-data/Tutorial_stac_test/2019\n",
      "Saving S2B_MSIL2A_20190730T154819_R054_T19TCN_20201005T200624 to gs://geoanalytics-user-shared-data/Tutorial_stac_test/2019\n",
      "Saving S2B_MSIL2A_20190730T154819_R054_T18TYT_20201005T200625 to gs://geoanalytics-user-shared-data/Tutorial_stac_test/2019\n",
      "Saving S2A_MSIL2A_20190801T153911_R011_T19TCN_20201004T190755 to gs://geoanalytics-user-shared-data/Tutorial_stac_test/2019\n",
      "Saving S2A_MSIL2A_20190801T153911_R011_T18TYT_20201004T190749 to gs://geoanalytics-user-shared-data/Tutorial_stac_test/2019\n",
      "Saving S2A_MSIL2A_20190804T154911_R054_T19TCN_20201004T201837 to gs://geoanalytics-user-shared-data/Tutorial_stac_test/2019\n",
      "Saving S2A_MSIL2A_20190804T154911_R054_T18TYT_20201004T201840 to gs://geoanalytics-user-shared-data/Tutorial_stac_test/2019\n",
      "Saving S2B_MSIL2A_20190806T153819_R011_T19TCN_20201004T211746 to gs://geoanalytics-user-shared-data/Tutorial_stac_test/2019\n",
      "Saving S2B_MSIL2A_20190806T153819_R011_T18TYT_20201004T211741 to gs://geoanalytics-user-shared-data/Tutorial_stac_test/2019\n",
      "Saving S2B_MSIL2A_20190809T154819_R054_T19TCN_20201004T222827 to gs://geoanalytics-user-shared-data/Tutorial_stac_test/2019\n",
      "Saving S2B_MSIL2A_20190809T154819_R054_T18TYT_20201004T222831 to gs://geoanalytics-user-shared-data/Tutorial_stac_test/2019\n",
      "Saving S2A_MSIL2A_20190811T153911_R011_T19TCN_20201004T230322 to gs://geoanalytics-user-shared-data/Tutorial_stac_test/2019\n",
      "Saving S2A_MSIL2A_20190811T153911_R011_T18TYT_20201004T230320 to gs://geoanalytics-user-shared-data/Tutorial_stac_test/2019\n",
      "Saving S2A_MSIL2A_20190814T154911_R054_T19TCN_20201005T001500 to gs://geoanalytics-user-shared-data/Tutorial_stac_test/2019\n",
      "Saving S2A_MSIL2A_20190814T154911_R054_T18TYT_20201005T001505 to gs://geoanalytics-user-shared-data/Tutorial_stac_test/2019\n",
      "Saving S2B_MSIL2A_20190816T153819_R011_T19TCN_20201005T011435 to gs://geoanalytics-user-shared-data/Tutorial_stac_test/2019\n",
      "Saving S2B_MSIL2A_20190816T153819_R011_T18TYT_20201005T011437 to gs://geoanalytics-user-shared-data/Tutorial_stac_test/2019\n",
      "Saving S2B_MSIL2A_20190819T154819_R054_T19TCN_20201005T022714 to gs://geoanalytics-user-shared-data/Tutorial_stac_test/2019\n",
      "Saving S2B_MSIL2A_20190819T154819_R054_T18TYT_20201005T022721 to gs://geoanalytics-user-shared-data/Tutorial_stac_test/2019\n",
      "Saving S2A_MSIL2A_20190821T153911_R011_T19TCN_20201005T030256 to gs://geoanalytics-user-shared-data/Tutorial_stac_test/2019\n",
      "Saving S2A_MSIL2A_20190821T153911_R011_T18TYT_20201005T030254 to gs://geoanalytics-user-shared-data/Tutorial_stac_test/2019\n",
      "Saving S2A_MSIL2A_20190824T154911_R054_T19TCN_20201005T041508 to gs://geoanalytics-user-shared-data/Tutorial_stac_test/2019\n",
      "Saving S2A_MSIL2A_20190824T154911_R054_T18TYT_20201005T041513 to gs://geoanalytics-user-shared-data/Tutorial_stac_test/2019\n",
      "Saving S2B_MSIL2A_20190826T153819_R011_T19TCN_20201005T051652 to gs://geoanalytics-user-shared-data/Tutorial_stac_test/2019\n",
      "Saving S2B_MSIL2A_20190826T153819_R011_T18TYT_20201005T051650 to gs://geoanalytics-user-shared-data/Tutorial_stac_test/2019\n",
      "Saving S2B_MSIL2A_20190829T154819_R054_T19TCN_20201106T053948 to gs://geoanalytics-user-shared-data/Tutorial_stac_test/2019\n",
      "Saving S2B_MSIL2A_20190829T154819_R054_T18TYT_20201005T063559 to gs://geoanalytics-user-shared-data/Tutorial_stac_test/2019\n",
      "Saving S2A_MSIL2A_20190831T153911_R011_T19TCN_20201005T071602 to gs://geoanalytics-user-shared-data/Tutorial_stac_test/2019\n",
      "Saving S2A_MSIL2A_20190831T153911_R011_T18TYT_20201005T071603 to gs://geoanalytics-user-shared-data/Tutorial_stac_test/2019\n",
      "Saving S2A_MSIL2A_20190903T154911_R054_T19TCN_20201004T084559 to gs://geoanalytics-user-shared-data/Tutorial_stac_test/2019\n",
      "Saving S2A_MSIL2A_20190903T154911_R054_T18TYT_20201004T084603 to gs://geoanalytics-user-shared-data/Tutorial_stac_test/2019\n",
      "Saving S2B_MSIL2A_20190905T153809_R011_T19TCN_20201004T094505 to gs://geoanalytics-user-shared-data/Tutorial_stac_test/2019\n",
      "Saving S2B_MSIL2A_20190905T153809_R011_T18TYT_20201004T094505 to gs://geoanalytics-user-shared-data/Tutorial_stac_test/2019\n",
      "Saving S2B_MSIL2A_20190908T154809_R054_T19TCN_20201004T105349 to gs://geoanalytics-user-shared-data/Tutorial_stac_test/2019\n",
      "Saving S2B_MSIL2A_20190908T154809_R054_T18TYT_20201004T110951 to gs://geoanalytics-user-shared-data/Tutorial_stac_test/2019\n",
      "Saving S2A_MSIL2A_20190910T153901_R011_T19TCN_20201004T112755 to gs://geoanalytics-user-shared-data/Tutorial_stac_test/2019\n",
      "Saving S2A_MSIL2A_20190910T153901_R011_T18TYT_20201004T112753 to gs://geoanalytics-user-shared-data/Tutorial_stac_test/2019\n",
      "Saving S2A_MSIL2A_20190913T154901_R054_T19TCN_20201004T123824 to gs://geoanalytics-user-shared-data/Tutorial_stac_test/2019\n",
      "Saving S2A_MSIL2A_20190913T154901_R054_T18TYT_20201004T123830 to gs://geoanalytics-user-shared-data/Tutorial_stac_test/2019\n",
      "Saving S2B_MSIL2A_20190918T154919_R054_T19TCN_20201004T144355 to gs://geoanalytics-user-shared-data/Tutorial_stac_test/2019\n",
      "Saving S2B_MSIL2A_20190918T154919_R054_T18TYT_20201004T144354 to gs://geoanalytics-user-shared-data/Tutorial_stac_test/2019\n",
      "Saving S2A_MSIL2A_20190920T153931_R011_T19TCN_20201004T151706 to gs://geoanalytics-user-shared-data/Tutorial_stac_test/2019\n",
      "Saving S2A_MSIL2A_20190920T153931_R011_T18TYT_20201004T151704 to gs://geoanalytics-user-shared-data/Tutorial_stac_test/2019\n",
      "Saving S2B_MSIL2A_20190925T153959_R011_T19TCN_20201004T170715 to gs://geoanalytics-user-shared-data/Tutorial_stac_test/2019\n",
      "Saving S2B_MSIL2A_20190925T153959_R011_T18TYT_20201004T170713 to gs://geoanalytics-user-shared-data/Tutorial_stac_test/2019\n",
      "Saving S2A_MSIL2A_20190930T154041_R011_T19TCN_20201004T184543 to gs://geoanalytics-user-shared-data/Tutorial_stac_test/2019\n",
      "Saving S2A_MSIL2A_20190930T154041_R011_T18TYT_20201004T184542 to gs://geoanalytics-user-shared-data/Tutorial_stac_test/2019\n",
      "[Processing B06]\n",
      "\t[Converting STAC query to DataArray]\n",
      "Saving S2A_MSIL2A_20190602T153911_R011_T19TCN_20201005T210749 to gs://geoanalytics-user-shared-data/Tutorial_stac_test/2019\n",
      "Saving S2A_MSIL2A_20190602T153911_R011_T18TYT_20201005T210750 to gs://geoanalytics-user-shared-data/Tutorial_stac_test/2019\n",
      "Saving S2A_MSIL2A_20190605T154911_R054_T19TCN_20201005T222215 to gs://geoanalytics-user-shared-data/Tutorial_stac_test/2019\n",
      "Saving S2A_MSIL2A_20190605T154911_R054_T18TYT_20201005T222219 to gs://geoanalytics-user-shared-data/Tutorial_stac_test/2019\n",
      "Saving S2B_MSIL2A_20190607T153819_R011_T19TCN_20201005T232406 to gs://geoanalytics-user-shared-data/Tutorial_stac_test/2019\n",
      "Saving S2B_MSIL2A_20190607T153819_R011_T18TYT_20201005T232404 to gs://geoanalytics-user-shared-data/Tutorial_stac_test/2019\n",
      "Saving S2B_MSIL2A_20190610T154819_R054_T19TCN_20201006T003809 to gs://geoanalytics-user-shared-data/Tutorial_stac_test/2019\n",
      "Saving S2B_MSIL2A_20190610T154819_R054_T18TYT_20201006T003813 to gs://geoanalytics-user-shared-data/Tutorial_stac_test/2019\n",
      "Saving S2A_MSIL2A_20190612T153911_R011_T19TCN_20201006T011451 to gs://geoanalytics-user-shared-data/Tutorial_stac_test/2019\n",
      "Saving S2A_MSIL2A_20190612T153911_R011_T18TYT_20201006T011451 to gs://geoanalytics-user-shared-data/Tutorial_stac_test/2019\n",
      "Saving S2A_MSIL2A_20190615T154911_R054_T19TCN_20201006T022848 to gs://geoanalytics-user-shared-data/Tutorial_stac_test/2019\n",
      "Saving S2A_MSIL2A_20190615T154911_R054_T18TYT_20201006T022852 to gs://geoanalytics-user-shared-data/Tutorial_stac_test/2019\n",
      "Saving S2B_MSIL2A_20190617T153819_R011_T19TCN_20201006T032945 to gs://geoanalytics-user-shared-data/Tutorial_stac_test/2019\n",
      "Saving S2B_MSIL2A_20190617T153819_R011_T18TYT_20201006T032941 to gs://geoanalytics-user-shared-data/Tutorial_stac_test/2019\n",
      "Saving S2B_MSIL2A_20190620T154819_R054_T19TCN_20201006T044346 to gs://geoanalytics-user-shared-data/Tutorial_stac_test/2019\n",
      "Saving S2B_MSIL2A_20190620T154819_R054_T18TYT_20201006T044349 to gs://geoanalytics-user-shared-data/Tutorial_stac_test/2019\n",
      "Saving S2A_MSIL2A_20190625T154911_R054_T19TCN_20201006T061000 to gs://geoanalytics-user-shared-data/Tutorial_stac_test/2019\n",
      "Saving S2B_MSIL2A_20190627T153819_R011_T19TCN_20201006T071157 to gs://geoanalytics-user-shared-data/Tutorial_stac_test/2019\n",
      "Saving S2B_MSIL2A_20190627T153819_R011_T18TYT_20201006T071156 to gs://geoanalytics-user-shared-data/Tutorial_stac_test/2019\n",
      "Saving S2B_MSIL2A_20190630T154819_R054_T19TCN_20201006T082638 to gs://geoanalytics-user-shared-data/Tutorial_stac_test/2019\n",
      "Saving S2B_MSIL2A_20190630T154819_R054_T18TYT_20201006T082641 to gs://geoanalytics-user-shared-data/Tutorial_stac_test/2019\n",
      "Saving S2A_MSIL2A_20190702T153911_R011_T19TCN_20201005T081140 to gs://geoanalytics-user-shared-data/Tutorial_stac_test/2019\n",
      "Saving S2A_MSIL2A_20190702T153911_R011_T18TYT_20201005T081140 to gs://geoanalytics-user-shared-data/Tutorial_stac_test/2019\n",
      "Saving S2A_MSIL2A_20190705T154911_R054_T19TCN_20201005T093631 to gs://geoanalytics-user-shared-data/Tutorial_stac_test/2019\n",
      "Saving S2A_MSIL2A_20190705T154911_R054_T18TYT_20201005T093635 to gs://geoanalytics-user-shared-data/Tutorial_stac_test/2019\n",
      "Saving S2B_MSIL2A_20190707T153819_R011_T19TCN_20201005T104755 to gs://geoanalytics-user-shared-data/Tutorial_stac_test/2019\n",
      "Saving S2B_MSIL2A_20190707T153819_R011_T18TYT_20201005T104752 to gs://geoanalytics-user-shared-data/Tutorial_stac_test/2019\n",
      "Saving S2B_MSIL2A_20190710T154819_R054_T19TCN_20201005T121226 to gs://geoanalytics-user-shared-data/Tutorial_stac_test/2019\n",
      "Saving S2B_MSIL2A_20190710T154819_R054_T18TYT_20201005T121229 to gs://geoanalytics-user-shared-data/Tutorial_stac_test/2019\n",
      "Saving S2A_MSIL2A_20190712T153911_R011_T19TCN_20201005T125535 to gs://geoanalytics-user-shared-data/Tutorial_stac_test/2019\n",
      "Saving S2A_MSIL2A_20190712T153911_R011_T18TYT_20201005T125533 to gs://geoanalytics-user-shared-data/Tutorial_stac_test/2019\n",
      "Saving S2A_MSIL2A_20190715T154911_R054_T19TCN_20201005T142310 to gs://geoanalytics-user-shared-data/Tutorial_stac_test/2019\n",
      "Saving S2A_MSIL2A_20190715T154911_R054_T18TYT_20201005T142315 to gs://geoanalytics-user-shared-data/Tutorial_stac_test/2019\n",
      "Saving S2B_MSIL2A_20190717T153819_R011_T19TCN_20201005T153817 to gs://geoanalytics-user-shared-data/Tutorial_stac_test/2019\n",
      "Saving S2B_MSIL2A_20190717T153819_R011_T18TYT_20201005T153817 to gs://geoanalytics-user-shared-data/Tutorial_stac_test/2019\n",
      "Saving S2B_MSIL2A_20190720T154819_R054_T19TCN_20201005T171015 to gs://geoanalytics-user-shared-data/Tutorial_stac_test/2019\n",
      "Saving S2B_MSIL2A_20190720T154819_R054_T18TYT_20201005T171016 to gs://geoanalytics-user-shared-data/Tutorial_stac_test/2019\n",
      "Saving S2A_MSIL2A_20190722T153911_R011_T18TYT_20201005T175826 to gs://geoanalytics-user-shared-data/Tutorial_stac_test/2019\n",
      "Saving S2A_MSIL2A_20190725T154911_R054_T19TCN_20201005T192321 to gs://geoanalytics-user-shared-data/Tutorial_stac_test/2019\n",
      "Saving S2A_MSIL2A_20190725T154911_R054_T18TYT_20201005T192329 to gs://geoanalytics-user-shared-data/Tutorial_stac_test/2019\n",
      "Saving S2B_MSIL2A_20190727T153819_R011_T19TCN_20201106T033605 to gs://geoanalytics-user-shared-data/Tutorial_stac_test/2019\n",
      "Saving S2B_MSIL2A_20190727T153819_R011_T18TYT_20201106T033550 to gs://geoanalytics-user-shared-data/Tutorial_stac_test/2019\n",
      "Saving S2B_MSIL2A_20190730T154819_R054_T19TCN_20201005T200624 to gs://geoanalytics-user-shared-data/Tutorial_stac_test/2019\n",
      "Saving S2B_MSIL2A_20190730T154819_R054_T18TYT_20201005T200625 to gs://geoanalytics-user-shared-data/Tutorial_stac_test/2019\n",
      "Saving S2A_MSIL2A_20190801T153911_R011_T19TCN_20201004T190755 to gs://geoanalytics-user-shared-data/Tutorial_stac_test/2019\n",
      "Saving S2A_MSIL2A_20190801T153911_R011_T18TYT_20201004T190749 to gs://geoanalytics-user-shared-data/Tutorial_stac_test/2019\n",
      "Saving S2A_MSIL2A_20190804T154911_R054_T19TCN_20201004T201837 to gs://geoanalytics-user-shared-data/Tutorial_stac_test/2019\n",
      "Saving S2A_MSIL2A_20190804T154911_R054_T18TYT_20201004T201840 to gs://geoanalytics-user-shared-data/Tutorial_stac_test/2019\n",
      "Saving S2B_MSIL2A_20190806T153819_R011_T19TCN_20201004T211746 to gs://geoanalytics-user-shared-data/Tutorial_stac_test/2019\n",
      "Saving S2B_MSIL2A_20190806T153819_R011_T18TYT_20201004T211741 to gs://geoanalytics-user-shared-data/Tutorial_stac_test/2019\n",
      "Saving S2B_MSIL2A_20190809T154819_R054_T19TCN_20201004T222827 to gs://geoanalytics-user-shared-data/Tutorial_stac_test/2019\n",
      "Saving S2B_MSIL2A_20190809T154819_R054_T18TYT_20201004T222831 to gs://geoanalytics-user-shared-data/Tutorial_stac_test/2019\n",
      "Saving S2A_MSIL2A_20190811T153911_R011_T19TCN_20201004T230322 to gs://geoanalytics-user-shared-data/Tutorial_stac_test/2019\n",
      "Saving S2A_MSIL2A_20190811T153911_R011_T18TYT_20201004T230320 to gs://geoanalytics-user-shared-data/Tutorial_stac_test/2019\n",
      "Saving S2A_MSIL2A_20190814T154911_R054_T19TCN_20201005T001500 to gs://geoanalytics-user-shared-data/Tutorial_stac_test/2019\n",
      "Saving S2A_MSIL2A_20190814T154911_R054_T18TYT_20201005T001505 to gs://geoanalytics-user-shared-data/Tutorial_stac_test/2019\n",
      "Saving S2B_MSIL2A_20190816T153819_R011_T19TCN_20201005T011435 to gs://geoanalytics-user-shared-data/Tutorial_stac_test/2019\n",
      "Saving S2B_MSIL2A_20190816T153819_R011_T18TYT_20201005T011437 to gs://geoanalytics-user-shared-data/Tutorial_stac_test/2019\n",
      "Saving S2B_MSIL2A_20190819T154819_R054_T19TCN_20201005T022714 to gs://geoanalytics-user-shared-data/Tutorial_stac_test/2019\n",
      "Saving S2B_MSIL2A_20190819T154819_R054_T18TYT_20201005T022721 to gs://geoanalytics-user-shared-data/Tutorial_stac_test/2019\n",
      "Saving S2A_MSIL2A_20190821T153911_R011_T19TCN_20201005T030256 to gs://geoanalytics-user-shared-data/Tutorial_stac_test/2019\n",
      "Saving S2A_MSIL2A_20190821T153911_R011_T18TYT_20201005T030254 to gs://geoanalytics-user-shared-data/Tutorial_stac_test/2019\n",
      "Saving S2A_MSIL2A_20190824T154911_R054_T19TCN_20201005T041508 to gs://geoanalytics-user-shared-data/Tutorial_stac_test/2019\n",
      "Saving S2A_MSIL2A_20190824T154911_R054_T18TYT_20201005T041513 to gs://geoanalytics-user-shared-data/Tutorial_stac_test/2019\n",
      "Saving S2B_MSIL2A_20190826T153819_R011_T19TCN_20201005T051652 to gs://geoanalytics-user-shared-data/Tutorial_stac_test/2019\n",
      "Saving S2B_MSIL2A_20190826T153819_R011_T18TYT_20201005T051650 to gs://geoanalytics-user-shared-data/Tutorial_stac_test/2019\n",
      "Saving S2B_MSIL2A_20190829T154819_R054_T19TCN_20201106T053948 to gs://geoanalytics-user-shared-data/Tutorial_stac_test/2019\n",
      "Saving S2B_MSIL2A_20190829T154819_R054_T18TYT_20201005T063559 to gs://geoanalytics-user-shared-data/Tutorial_stac_test/2019\n",
      "Saving S2A_MSIL2A_20190831T153911_R011_T19TCN_20201005T071602 to gs://geoanalytics-user-shared-data/Tutorial_stac_test/2019\n",
      "Saving S2A_MSIL2A_20190831T153911_R011_T18TYT_20201005T071603 to gs://geoanalytics-user-shared-data/Tutorial_stac_test/2019\n",
      "Saving S2A_MSIL2A_20190903T154911_R054_T19TCN_20201004T084559 to gs://geoanalytics-user-shared-data/Tutorial_stac_test/2019\n",
      "Saving S2A_MSIL2A_20190903T154911_R054_T18TYT_20201004T084603 to gs://geoanalytics-user-shared-data/Tutorial_stac_test/2019\n",
      "Saving S2B_MSIL2A_20190905T153809_R011_T19TCN_20201004T094505 to gs://geoanalytics-user-shared-data/Tutorial_stac_test/2019\n",
      "Saving S2B_MSIL2A_20190905T153809_R011_T18TYT_20201004T094505 to gs://geoanalytics-user-shared-data/Tutorial_stac_test/2019\n",
      "Saving S2B_MSIL2A_20190908T154809_R054_T19TCN_20201004T105349 to gs://geoanalytics-user-shared-data/Tutorial_stac_test/2019\n",
      "Saving S2B_MSIL2A_20190908T154809_R054_T18TYT_20201004T110951 to gs://geoanalytics-user-shared-data/Tutorial_stac_test/2019\n",
      "Saving S2A_MSIL2A_20190910T153901_R011_T19TCN_20201004T112755 to gs://geoanalytics-user-shared-data/Tutorial_stac_test/2019\n",
      "Saving S2A_MSIL2A_20190910T153901_R011_T18TYT_20201004T112753 to gs://geoanalytics-user-shared-data/Tutorial_stac_test/2019\n",
      "Saving S2A_MSIL2A_20190913T154901_R054_T19TCN_20201004T123824 to gs://geoanalytics-user-shared-data/Tutorial_stac_test/2019\n",
      "Saving S2A_MSIL2A_20190913T154901_R054_T18TYT_20201004T123830 to gs://geoanalytics-user-shared-data/Tutorial_stac_test/2019\n",
      "Saving S2B_MSIL2A_20190918T154919_R054_T19TCN_20201004T144355 to gs://geoanalytics-user-shared-data/Tutorial_stac_test/2019\n",
      "Saving S2B_MSIL2A_20190918T154919_R054_T18TYT_20201004T144354 to gs://geoanalytics-user-shared-data/Tutorial_stac_test/2019\n",
      "Saving S2A_MSIL2A_20190920T153931_R011_T19TCN_20201004T151706 to gs://geoanalytics-user-shared-data/Tutorial_stac_test/2019\n",
      "Saving S2A_MSIL2A_20190920T153931_R011_T18TYT_20201004T151704 to gs://geoanalytics-user-shared-data/Tutorial_stac_test/2019\n",
      "Saving S2B_MSIL2A_20190925T153959_R011_T19TCN_20201004T170715 to gs://geoanalytics-user-shared-data/Tutorial_stac_test/2019\n",
      "Saving S2B_MSIL2A_20190925T153959_R011_T18TYT_20201004T170713 to gs://geoanalytics-user-shared-data/Tutorial_stac_test/2019\n",
      "Saving S2A_MSIL2A_20190930T154041_R011_T19TCN_20201004T184543 to gs://geoanalytics-user-shared-data/Tutorial_stac_test/2019\n",
      "Saving S2A_MSIL2A_20190930T154041_R011_T18TYT_20201004T184542 to gs://geoanalytics-user-shared-data/Tutorial_stac_test/2019\n",
      "[Processing B07]\n",
      "\t[Converting STAC query to DataArray]\n"
     ]
    },
    {
     "name": "stderr",
     "output_type": "stream",
     "text": [
      "/srv/conda/envs/notebook/lib/python3.9/site-packages/stackstac/prepare.py:413: FutureWarning: pandas.Float64Index is deprecated and will be removed from pandas in a future version. Use pandas.Index with the appropriate dtype instead.\n",
      "  xs = pd.Float64Index(np.linspace(minx, maxx, width, endpoint=False))\n",
      "/srv/conda/envs/notebook/lib/python3.9/site-packages/stackstac/prepare.py:414: FutureWarning: pandas.Float64Index is deprecated and will be removed from pandas in a future version. Use pandas.Index with the appropriate dtype instead.\n",
      "  ys = pd.Float64Index(np.linspace(maxy, miny, height, endpoint=False))\n",
      "/srv/conda/envs/notebook/lib/python3.9/site-packages/stackstac/prepare.py:413: FutureWarning: pandas.Float64Index is deprecated and will be removed from pandas in a future version. Use pandas.Index with the appropriate dtype instead.\n",
      "  xs = pd.Float64Index(np.linspace(minx, maxx, width, endpoint=False))\n",
      "/srv/conda/envs/notebook/lib/python3.9/site-packages/stackstac/prepare.py:414: FutureWarning: pandas.Float64Index is deprecated and will be removed from pandas in a future version. Use pandas.Index with the appropriate dtype instead.\n",
      "  ys = pd.Float64Index(np.linspace(maxy, miny, height, endpoint=False))\n"
     ]
    },
    {
     "name": "stdout",
     "output_type": "stream",
     "text": [
      "Saving S2A_MSIL2A_20190602T153911_R011_T19TCN_20201005T210749 to gs://geoanalytics-user-shared-data/Tutorial_stac_test/2019\n",
      "Saving S2A_MSIL2A_20190602T153911_R011_T18TYT_20201005T210750 to gs://geoanalytics-user-shared-data/Tutorial_stac_test/2019\n",
      "Saving S2A_MSIL2A_20190605T154911_R054_T19TCN_20201005T222215 to gs://geoanalytics-user-shared-data/Tutorial_stac_test/2019\n",
      "Saving S2A_MSIL2A_20190605T154911_R054_T18TYT_20201005T222219 to gs://geoanalytics-user-shared-data/Tutorial_stac_test/2019\n",
      "Saving S2B_MSIL2A_20190607T153819_R011_T19TCN_20201005T232406 to gs://geoanalytics-user-shared-data/Tutorial_stac_test/2019\n",
      "Saving S2B_MSIL2A_20190607T153819_R011_T18TYT_20201005T232404 to gs://geoanalytics-user-shared-data/Tutorial_stac_test/2019\n",
      "Saving S2B_MSIL2A_20190610T154819_R054_T19TCN_20201006T003809 to gs://geoanalytics-user-shared-data/Tutorial_stac_test/2019\n",
      "Saving S2B_MSIL2A_20190610T154819_R054_T18TYT_20201006T003813 to gs://geoanalytics-user-shared-data/Tutorial_stac_test/2019\n",
      "Saving S2A_MSIL2A_20190612T153911_R011_T19TCN_20201006T011451 to gs://geoanalytics-user-shared-data/Tutorial_stac_test/2019\n",
      "Saving S2A_MSIL2A_20190612T153911_R011_T18TYT_20201006T011451 to gs://geoanalytics-user-shared-data/Tutorial_stac_test/2019\n",
      "Saving S2A_MSIL2A_20190615T154911_R054_T19TCN_20201006T022848 to gs://geoanalytics-user-shared-data/Tutorial_stac_test/2019\n",
      "Saving S2A_MSIL2A_20190615T154911_R054_T18TYT_20201006T022852 to gs://geoanalytics-user-shared-data/Tutorial_stac_test/2019\n",
      "Saving S2B_MSIL2A_20190617T153819_R011_T19TCN_20201006T032945 to gs://geoanalytics-user-shared-data/Tutorial_stac_test/2019\n",
      "Saving S2B_MSIL2A_20190617T153819_R011_T18TYT_20201006T032941 to gs://geoanalytics-user-shared-data/Tutorial_stac_test/2019\n",
      "Saving S2B_MSIL2A_20190620T154819_R054_T19TCN_20201006T044346 to gs://geoanalytics-user-shared-data/Tutorial_stac_test/2019\n",
      "Saving S2B_MSIL2A_20190620T154819_R054_T18TYT_20201006T044349 to gs://geoanalytics-user-shared-data/Tutorial_stac_test/2019\n",
      "Saving S2A_MSIL2A_20190625T154911_R054_T19TCN_20201006T061000 to gs://geoanalytics-user-shared-data/Tutorial_stac_test/2019\n",
      "Saving S2B_MSIL2A_20190627T153819_R011_T19TCN_20201006T071157 to gs://geoanalytics-user-shared-data/Tutorial_stac_test/2019\n",
      "Saving S2B_MSIL2A_20190627T153819_R011_T18TYT_20201006T071156 to gs://geoanalytics-user-shared-data/Tutorial_stac_test/2019\n",
      "Saving S2B_MSIL2A_20190630T154819_R054_T19TCN_20201006T082638 to gs://geoanalytics-user-shared-data/Tutorial_stac_test/2019\n",
      "Saving S2B_MSIL2A_20190630T154819_R054_T18TYT_20201006T082641 to gs://geoanalytics-user-shared-data/Tutorial_stac_test/2019\n",
      "Saving S2A_MSIL2A_20190702T153911_R011_T19TCN_20201005T081140 to gs://geoanalytics-user-shared-data/Tutorial_stac_test/2019\n",
      "Saving S2A_MSIL2A_20190702T153911_R011_T18TYT_20201005T081140 to gs://geoanalytics-user-shared-data/Tutorial_stac_test/2019\n",
      "Saving S2A_MSIL2A_20190705T154911_R054_T19TCN_20201005T093631 to gs://geoanalytics-user-shared-data/Tutorial_stac_test/2019\n",
      "Saving S2A_MSIL2A_20190705T154911_R054_T18TYT_20201005T093635 to gs://geoanalytics-user-shared-data/Tutorial_stac_test/2019\n",
      "Saving S2B_MSIL2A_20190707T153819_R011_T19TCN_20201005T104755 to gs://geoanalytics-user-shared-data/Tutorial_stac_test/2019\n",
      "Saving S2B_MSIL2A_20190707T153819_R011_T18TYT_20201005T104752 to gs://geoanalytics-user-shared-data/Tutorial_stac_test/2019\n",
      "Saving S2B_MSIL2A_20190710T154819_R054_T19TCN_20201005T121226 to gs://geoanalytics-user-shared-data/Tutorial_stac_test/2019\n",
      "Saving S2B_MSIL2A_20190710T154819_R054_T18TYT_20201005T121229 to gs://geoanalytics-user-shared-data/Tutorial_stac_test/2019\n",
      "Saving S2A_MSIL2A_20190712T153911_R011_T19TCN_20201005T125535 to gs://geoanalytics-user-shared-data/Tutorial_stac_test/2019\n",
      "Saving S2A_MSIL2A_20190712T153911_R011_T18TYT_20201005T125533 to gs://geoanalytics-user-shared-data/Tutorial_stac_test/2019\n",
      "Saving S2A_MSIL2A_20190715T154911_R054_T19TCN_20201005T142310 to gs://geoanalytics-user-shared-data/Tutorial_stac_test/2019\n",
      "Saving S2A_MSIL2A_20190715T154911_R054_T18TYT_20201005T142315 to gs://geoanalytics-user-shared-data/Tutorial_stac_test/2019\n",
      "Saving S2B_MSIL2A_20190717T153819_R011_T19TCN_20201005T153817 to gs://geoanalytics-user-shared-data/Tutorial_stac_test/2019\n",
      "Saving S2B_MSIL2A_20190717T153819_R011_T18TYT_20201005T153817 to gs://geoanalytics-user-shared-data/Tutorial_stac_test/2019\n",
      "Saving S2B_MSIL2A_20190720T154819_R054_T19TCN_20201005T171015 to gs://geoanalytics-user-shared-data/Tutorial_stac_test/2019\n",
      "Saving S2B_MSIL2A_20190720T154819_R054_T18TYT_20201005T171016 to gs://geoanalytics-user-shared-data/Tutorial_stac_test/2019\n",
      "Saving S2A_MSIL2A_20190722T153911_R011_T18TYT_20201005T175826 to gs://geoanalytics-user-shared-data/Tutorial_stac_test/2019\n",
      "Saving S2A_MSIL2A_20190725T154911_R054_T19TCN_20201005T192321 to gs://geoanalytics-user-shared-data/Tutorial_stac_test/2019\n",
      "Saving S2A_MSIL2A_20190725T154911_R054_T18TYT_20201005T192329 to gs://geoanalytics-user-shared-data/Tutorial_stac_test/2019\n",
      "Saving S2B_MSIL2A_20190727T153819_R011_T19TCN_20201106T033605 to gs://geoanalytics-user-shared-data/Tutorial_stac_test/2019\n",
      "Saving S2B_MSIL2A_20190727T153819_R011_T18TYT_20201106T033550 to gs://geoanalytics-user-shared-data/Tutorial_stac_test/2019\n",
      "Saving S2B_MSIL2A_20190730T154819_R054_T19TCN_20201005T200624 to gs://geoanalytics-user-shared-data/Tutorial_stac_test/2019\n",
      "Saving S2B_MSIL2A_20190730T154819_R054_T18TYT_20201005T200625 to gs://geoanalytics-user-shared-data/Tutorial_stac_test/2019\n",
      "Saving S2A_MSIL2A_20190801T153911_R011_T19TCN_20201004T190755 to gs://geoanalytics-user-shared-data/Tutorial_stac_test/2019\n",
      "Saving S2A_MSIL2A_20190801T153911_R011_T18TYT_20201004T190749 to gs://geoanalytics-user-shared-data/Tutorial_stac_test/2019\n",
      "Saving S2A_MSIL2A_20190804T154911_R054_T19TCN_20201004T201837 to gs://geoanalytics-user-shared-data/Tutorial_stac_test/2019\n",
      "Saving S2A_MSIL2A_20190804T154911_R054_T18TYT_20201004T201840 to gs://geoanalytics-user-shared-data/Tutorial_stac_test/2019\n",
      "Saving S2B_MSIL2A_20190806T153819_R011_T19TCN_20201004T211746 to gs://geoanalytics-user-shared-data/Tutorial_stac_test/2019\n",
      "Saving S2B_MSIL2A_20190806T153819_R011_T18TYT_20201004T211741 to gs://geoanalytics-user-shared-data/Tutorial_stac_test/2019\n",
      "Saving S2B_MSIL2A_20190809T154819_R054_T19TCN_20201004T222827 to gs://geoanalytics-user-shared-data/Tutorial_stac_test/2019\n",
      "Saving S2B_MSIL2A_20190809T154819_R054_T18TYT_20201004T222831 to gs://geoanalytics-user-shared-data/Tutorial_stac_test/2019\n",
      "Saving S2A_MSIL2A_20190811T153911_R011_T19TCN_20201004T230322 to gs://geoanalytics-user-shared-data/Tutorial_stac_test/2019\n",
      "Saving S2A_MSIL2A_20190811T153911_R011_T18TYT_20201004T230320 to gs://geoanalytics-user-shared-data/Tutorial_stac_test/2019\n",
      "Saving S2A_MSIL2A_20190814T154911_R054_T19TCN_20201005T001500 to gs://geoanalytics-user-shared-data/Tutorial_stac_test/2019\n",
      "Saving S2A_MSIL2A_20190814T154911_R054_T18TYT_20201005T001505 to gs://geoanalytics-user-shared-data/Tutorial_stac_test/2019\n",
      "Saving S2B_MSIL2A_20190816T153819_R011_T19TCN_20201005T011435 to gs://geoanalytics-user-shared-data/Tutorial_stac_test/2019\n",
      "Saving S2B_MSIL2A_20190816T153819_R011_T18TYT_20201005T011437 to gs://geoanalytics-user-shared-data/Tutorial_stac_test/2019\n",
      "Saving S2B_MSIL2A_20190819T154819_R054_T19TCN_20201005T022714 to gs://geoanalytics-user-shared-data/Tutorial_stac_test/2019\n",
      "Saving S2B_MSIL2A_20190819T154819_R054_T18TYT_20201005T022721 to gs://geoanalytics-user-shared-data/Tutorial_stac_test/2019\n",
      "Saving S2A_MSIL2A_20190821T153911_R011_T19TCN_20201005T030256 to gs://geoanalytics-user-shared-data/Tutorial_stac_test/2019\n",
      "Saving S2A_MSIL2A_20190821T153911_R011_T18TYT_20201005T030254 to gs://geoanalytics-user-shared-data/Tutorial_stac_test/2019\n",
      "Saving S2A_MSIL2A_20190824T154911_R054_T19TCN_20201005T041508 to gs://geoanalytics-user-shared-data/Tutorial_stac_test/2019\n",
      "Saving S2A_MSIL2A_20190824T154911_R054_T18TYT_20201005T041513 to gs://geoanalytics-user-shared-data/Tutorial_stac_test/2019\n",
      "Saving S2B_MSIL2A_20190826T153819_R011_T19TCN_20201005T051652 to gs://geoanalytics-user-shared-data/Tutorial_stac_test/2019\n",
      "Saving S2B_MSIL2A_20190826T153819_R011_T18TYT_20201005T051650 to gs://geoanalytics-user-shared-data/Tutorial_stac_test/2019\n",
      "Saving S2B_MSIL2A_20190829T154819_R054_T19TCN_20201106T053948 to gs://geoanalytics-user-shared-data/Tutorial_stac_test/2019\n",
      "Saving S2B_MSIL2A_20190829T154819_R054_T18TYT_20201005T063559 to gs://geoanalytics-user-shared-data/Tutorial_stac_test/2019\n",
      "Saving S2A_MSIL2A_20190831T153911_R011_T19TCN_20201005T071602 to gs://geoanalytics-user-shared-data/Tutorial_stac_test/2019\n",
      "Saving S2A_MSIL2A_20190831T153911_R011_T18TYT_20201005T071603 to gs://geoanalytics-user-shared-data/Tutorial_stac_test/2019\n",
      "Saving S2A_MSIL2A_20190903T154911_R054_T19TCN_20201004T084559 to gs://geoanalytics-user-shared-data/Tutorial_stac_test/2019\n",
      "Saving S2A_MSIL2A_20190903T154911_R054_T18TYT_20201004T084603 to gs://geoanalytics-user-shared-data/Tutorial_stac_test/2019\n",
      "Saving S2B_MSIL2A_20190905T153809_R011_T19TCN_20201004T094505 to gs://geoanalytics-user-shared-data/Tutorial_stac_test/2019\n",
      "Saving S2B_MSIL2A_20190905T153809_R011_T18TYT_20201004T094505 to gs://geoanalytics-user-shared-data/Tutorial_stac_test/2019\n",
      "Saving S2B_MSIL2A_20190908T154809_R054_T19TCN_20201004T105349 to gs://geoanalytics-user-shared-data/Tutorial_stac_test/2019\n",
      "Saving S2B_MSIL2A_20190908T154809_R054_T18TYT_20201004T110951 to gs://geoanalytics-user-shared-data/Tutorial_stac_test/2019\n",
      "Saving S2A_MSIL2A_20190910T153901_R011_T19TCN_20201004T112755 to gs://geoanalytics-user-shared-data/Tutorial_stac_test/2019\n",
      "Saving S2A_MSIL2A_20190910T153901_R011_T18TYT_20201004T112753 to gs://geoanalytics-user-shared-data/Tutorial_stac_test/2019\n",
      "Saving S2A_MSIL2A_20190913T154901_R054_T19TCN_20201004T123824 to gs://geoanalytics-user-shared-data/Tutorial_stac_test/2019\n",
      "Saving S2A_MSIL2A_20190913T154901_R054_T18TYT_20201004T123830 to gs://geoanalytics-user-shared-data/Tutorial_stac_test/2019\n",
      "Saving S2B_MSIL2A_20190918T154919_R054_T19TCN_20201004T144355 to gs://geoanalytics-user-shared-data/Tutorial_stac_test/2019\n",
      "Saving S2B_MSIL2A_20190918T154919_R054_T18TYT_20201004T144354 to gs://geoanalytics-user-shared-data/Tutorial_stac_test/2019\n",
      "Saving S2A_MSIL2A_20190920T153931_R011_T19TCN_20201004T151706 to gs://geoanalytics-user-shared-data/Tutorial_stac_test/2019\n",
      "Saving S2A_MSIL2A_20190920T153931_R011_T18TYT_20201004T151704 to gs://geoanalytics-user-shared-data/Tutorial_stac_test/2019\n",
      "Saving S2B_MSIL2A_20190925T153959_R011_T19TCN_20201004T170715 to gs://geoanalytics-user-shared-data/Tutorial_stac_test/2019\n",
      "Saving S2B_MSIL2A_20190925T153959_R011_T18TYT_20201004T170713 to gs://geoanalytics-user-shared-data/Tutorial_stac_test/2019\n",
      "Saving S2A_MSIL2A_20190930T154041_R011_T19TCN_20201004T184543 to gs://geoanalytics-user-shared-data/Tutorial_stac_test/2019\n",
      "Saving S2A_MSIL2A_20190930T154041_R011_T18TYT_20201004T184542 to gs://geoanalytics-user-shared-data/Tutorial_stac_test/2019\n",
      "[Processing B08]\n",
      "\t[Converting STAC query to DataArray]\n",
      "Saving S2A_MSIL2A_20190602T153911_R011_T19TCN_20201005T210749 to gs://geoanalytics-user-shared-data/Tutorial_stac_test/2019\n",
      "Saving S2A_MSIL2A_20190602T153911_R011_T18TYT_20201005T210750 to gs://geoanalytics-user-shared-data/Tutorial_stac_test/2019\n",
      "Saving S2A_MSIL2A_20190605T154911_R054_T19TCN_20201005T222215 to gs://geoanalytics-user-shared-data/Tutorial_stac_test/2019\n",
      "Saving S2A_MSIL2A_20190605T154911_R054_T18TYT_20201005T222219 to gs://geoanalytics-user-shared-data/Tutorial_stac_test/2019\n",
      "Saving S2B_MSIL2A_20190607T153819_R011_T19TCN_20201005T232406 to gs://geoanalytics-user-shared-data/Tutorial_stac_test/2019\n",
      "Saving S2B_MSIL2A_20190607T153819_R011_T18TYT_20201005T232404 to gs://geoanalytics-user-shared-data/Tutorial_stac_test/2019\n",
      "Saving S2B_MSIL2A_20190610T154819_R054_T19TCN_20201006T003809 to gs://geoanalytics-user-shared-data/Tutorial_stac_test/2019\n",
      "Saving S2B_MSIL2A_20190610T154819_R054_T18TYT_20201006T003813 to gs://geoanalytics-user-shared-data/Tutorial_stac_test/2019\n",
      "Saving S2A_MSIL2A_20190612T153911_R011_T19TCN_20201006T011451 to gs://geoanalytics-user-shared-data/Tutorial_stac_test/2019\n",
      "Saving S2A_MSIL2A_20190612T153911_R011_T18TYT_20201006T011451 to gs://geoanalytics-user-shared-data/Tutorial_stac_test/2019\n",
      "Saving S2A_MSIL2A_20190615T154911_R054_T19TCN_20201006T022848 to gs://geoanalytics-user-shared-data/Tutorial_stac_test/2019\n",
      "Saving S2A_MSIL2A_20190615T154911_R054_T18TYT_20201006T022852 to gs://geoanalytics-user-shared-data/Tutorial_stac_test/2019\n",
      "Saving S2B_MSIL2A_20190617T153819_R011_T19TCN_20201006T032945 to gs://geoanalytics-user-shared-data/Tutorial_stac_test/2019\n",
      "Saving S2B_MSIL2A_20190617T153819_R011_T18TYT_20201006T032941 to gs://geoanalytics-user-shared-data/Tutorial_stac_test/2019\n",
      "Saving S2B_MSIL2A_20190620T154819_R054_T19TCN_20201006T044346 to gs://geoanalytics-user-shared-data/Tutorial_stac_test/2019\n",
      "Saving S2B_MSIL2A_20190620T154819_R054_T18TYT_20201006T044349 to gs://geoanalytics-user-shared-data/Tutorial_stac_test/2019\n",
      "Saving S2A_MSIL2A_20190625T154911_R054_T19TCN_20201006T061000 to gs://geoanalytics-user-shared-data/Tutorial_stac_test/2019\n",
      "Saving S2B_MSIL2A_20190627T153819_R011_T19TCN_20201006T071157 to gs://geoanalytics-user-shared-data/Tutorial_stac_test/2019\n",
      "Saving S2B_MSIL2A_20190627T153819_R011_T18TYT_20201006T071156 to gs://geoanalytics-user-shared-data/Tutorial_stac_test/2019\n",
      "Saving S2B_MSIL2A_20190630T154819_R054_T19TCN_20201006T082638 to gs://geoanalytics-user-shared-data/Tutorial_stac_test/2019\n",
      "Saving S2B_MSIL2A_20190630T154819_R054_T18TYT_20201006T082641 to gs://geoanalytics-user-shared-data/Tutorial_stac_test/2019\n",
      "Saving S2A_MSIL2A_20190702T153911_R011_T19TCN_20201005T081140 to gs://geoanalytics-user-shared-data/Tutorial_stac_test/2019\n",
      "Saving S2A_MSIL2A_20190702T153911_R011_T18TYT_20201005T081140 to gs://geoanalytics-user-shared-data/Tutorial_stac_test/2019\n",
      "Saving S2A_MSIL2A_20190705T154911_R054_T19TCN_20201005T093631 to gs://geoanalytics-user-shared-data/Tutorial_stac_test/2019\n",
      "Saving S2A_MSIL2A_20190705T154911_R054_T18TYT_20201005T093635 to gs://geoanalytics-user-shared-data/Tutorial_stac_test/2019\n",
      "Saving S2B_MSIL2A_20190707T153819_R011_T19TCN_20201005T104755 to gs://geoanalytics-user-shared-data/Tutorial_stac_test/2019\n",
      "Saving S2B_MSIL2A_20190707T153819_R011_T18TYT_20201005T104752 to gs://geoanalytics-user-shared-data/Tutorial_stac_test/2019\n",
      "Saving S2B_MSIL2A_20190710T154819_R054_T19TCN_20201005T121226 to gs://geoanalytics-user-shared-data/Tutorial_stac_test/2019\n",
      "Saving S2B_MSIL2A_20190710T154819_R054_T18TYT_20201005T121229 to gs://geoanalytics-user-shared-data/Tutorial_stac_test/2019\n",
      "Saving S2A_MSIL2A_20190712T153911_R011_T19TCN_20201005T125535 to gs://geoanalytics-user-shared-data/Tutorial_stac_test/2019\n",
      "Saving S2A_MSIL2A_20190712T153911_R011_T18TYT_20201005T125533 to gs://geoanalytics-user-shared-data/Tutorial_stac_test/2019\n",
      "Saving S2A_MSIL2A_20190715T154911_R054_T19TCN_20201005T142310 to gs://geoanalytics-user-shared-data/Tutorial_stac_test/2019\n",
      "Saving S2A_MSIL2A_20190715T154911_R054_T18TYT_20201005T142315 to gs://geoanalytics-user-shared-data/Tutorial_stac_test/2019\n",
      "Saving S2B_MSIL2A_20190717T153819_R011_T19TCN_20201005T153817 to gs://geoanalytics-user-shared-data/Tutorial_stac_test/2019\n",
      "Saving S2B_MSIL2A_20190717T153819_R011_T18TYT_20201005T153817 to gs://geoanalytics-user-shared-data/Tutorial_stac_test/2019\n",
      "Saving S2B_MSIL2A_20190720T154819_R054_T19TCN_20201005T171015 to gs://geoanalytics-user-shared-data/Tutorial_stac_test/2019\n",
      "Saving S2B_MSIL2A_20190720T154819_R054_T18TYT_20201005T171016 to gs://geoanalytics-user-shared-data/Tutorial_stac_test/2019\n",
      "Saving S2A_MSIL2A_20190722T153911_R011_T18TYT_20201005T175826 to gs://geoanalytics-user-shared-data/Tutorial_stac_test/2019\n",
      "Saving S2A_MSIL2A_20190725T154911_R054_T19TCN_20201005T192321 to gs://geoanalytics-user-shared-data/Tutorial_stac_test/2019\n",
      "Saving S2A_MSIL2A_20190725T154911_R054_T18TYT_20201005T192329 to gs://geoanalytics-user-shared-data/Tutorial_stac_test/2019\n",
      "Saving S2B_MSIL2A_20190727T153819_R011_T19TCN_20201106T033605 to gs://geoanalytics-user-shared-data/Tutorial_stac_test/2019\n",
      "Saving S2B_MSIL2A_20190727T153819_R011_T18TYT_20201106T033550 to gs://geoanalytics-user-shared-data/Tutorial_stac_test/2019\n",
      "Saving S2B_MSIL2A_20190730T154819_R054_T19TCN_20201005T200624 to gs://geoanalytics-user-shared-data/Tutorial_stac_test/2019\n",
      "Saving S2B_MSIL2A_20190730T154819_R054_T18TYT_20201005T200625 to gs://geoanalytics-user-shared-data/Tutorial_stac_test/2019\n",
      "Saving S2A_MSIL2A_20190801T153911_R011_T19TCN_20201004T190755 to gs://geoanalytics-user-shared-data/Tutorial_stac_test/2019\n",
      "Saving S2A_MSIL2A_20190801T153911_R011_T18TYT_20201004T190749 to gs://geoanalytics-user-shared-data/Tutorial_stac_test/2019\n",
      "Saving S2A_MSIL2A_20190804T154911_R054_T19TCN_20201004T201837 to gs://geoanalytics-user-shared-data/Tutorial_stac_test/2019\n",
      "Saving S2A_MSIL2A_20190804T154911_R054_T18TYT_20201004T201840 to gs://geoanalytics-user-shared-data/Tutorial_stac_test/2019\n",
      "Saving S2B_MSIL2A_20190806T153819_R011_T19TCN_20201004T211746 to gs://geoanalytics-user-shared-data/Tutorial_stac_test/2019\n",
      "Saving S2B_MSIL2A_20190806T153819_R011_T18TYT_20201004T211741 to gs://geoanalytics-user-shared-data/Tutorial_stac_test/2019\n",
      "Saving S2B_MSIL2A_20190809T154819_R054_T19TCN_20201004T222827 to gs://geoanalytics-user-shared-data/Tutorial_stac_test/2019\n",
      "Saving S2B_MSIL2A_20190809T154819_R054_T18TYT_20201004T222831 to gs://geoanalytics-user-shared-data/Tutorial_stac_test/2019\n",
      "Saving S2A_MSIL2A_20190811T153911_R011_T19TCN_20201004T230322 to gs://geoanalytics-user-shared-data/Tutorial_stac_test/2019\n",
      "Saving S2A_MSIL2A_20190811T153911_R011_T18TYT_20201004T230320 to gs://geoanalytics-user-shared-data/Tutorial_stac_test/2019\n",
      "Saving S2A_MSIL2A_20190814T154911_R054_T19TCN_20201005T001500 to gs://geoanalytics-user-shared-data/Tutorial_stac_test/2019\n",
      "Saving S2A_MSIL2A_20190814T154911_R054_T18TYT_20201005T001505 to gs://geoanalytics-user-shared-data/Tutorial_stac_test/2019\n",
      "Saving S2B_MSIL2A_20190816T153819_R011_T19TCN_20201005T011435 to gs://geoanalytics-user-shared-data/Tutorial_stac_test/2019\n",
      "Saving S2B_MSIL2A_20190816T153819_R011_T18TYT_20201005T011437 to gs://geoanalytics-user-shared-data/Tutorial_stac_test/2019\n",
      "Saving S2B_MSIL2A_20190819T154819_R054_T19TCN_20201005T022714 to gs://geoanalytics-user-shared-data/Tutorial_stac_test/2019\n",
      "Saving S2B_MSIL2A_20190819T154819_R054_T18TYT_20201005T022721 to gs://geoanalytics-user-shared-data/Tutorial_stac_test/2019\n",
      "Saving S2A_MSIL2A_20190821T153911_R011_T19TCN_20201005T030256 to gs://geoanalytics-user-shared-data/Tutorial_stac_test/2019\n",
      "Saving S2A_MSIL2A_20190821T153911_R011_T18TYT_20201005T030254 to gs://geoanalytics-user-shared-data/Tutorial_stac_test/2019\n",
      "Saving S2A_MSIL2A_20190824T154911_R054_T19TCN_20201005T041508 to gs://geoanalytics-user-shared-data/Tutorial_stac_test/2019\n",
      "Saving S2A_MSIL2A_20190824T154911_R054_T18TYT_20201005T041513 to gs://geoanalytics-user-shared-data/Tutorial_stac_test/2019\n",
      "Saving S2B_MSIL2A_20190826T153819_R011_T19TCN_20201005T051652 to gs://geoanalytics-user-shared-data/Tutorial_stac_test/2019\n",
      "Saving S2B_MSIL2A_20190826T153819_R011_T18TYT_20201005T051650 to gs://geoanalytics-user-shared-data/Tutorial_stac_test/2019\n",
      "Saving S2B_MSIL2A_20190829T154819_R054_T19TCN_20201106T053948 to gs://geoanalytics-user-shared-data/Tutorial_stac_test/2019\n",
      "Saving S2B_MSIL2A_20190829T154819_R054_T18TYT_20201005T063559 to gs://geoanalytics-user-shared-data/Tutorial_stac_test/2019\n",
      "Saving S2A_MSIL2A_20190831T153911_R011_T19TCN_20201005T071602 to gs://geoanalytics-user-shared-data/Tutorial_stac_test/2019\n",
      "Saving S2A_MSIL2A_20190831T153911_R011_T18TYT_20201005T071603 to gs://geoanalytics-user-shared-data/Tutorial_stac_test/2019\n",
      "Saving S2A_MSIL2A_20190903T154911_R054_T19TCN_20201004T084559 to gs://geoanalytics-user-shared-data/Tutorial_stac_test/2019\n",
      "Saving S2A_MSIL2A_20190903T154911_R054_T18TYT_20201004T084603 to gs://geoanalytics-user-shared-data/Tutorial_stac_test/2019\n",
      "Saving S2B_MSIL2A_20190905T153809_R011_T19TCN_20201004T094505 to gs://geoanalytics-user-shared-data/Tutorial_stac_test/2019\n",
      "Saving S2B_MSIL2A_20190905T153809_R011_T18TYT_20201004T094505 to gs://geoanalytics-user-shared-data/Tutorial_stac_test/2019\n",
      "Saving S2B_MSIL2A_20190908T154809_R054_T19TCN_20201004T105349 to gs://geoanalytics-user-shared-data/Tutorial_stac_test/2019\n",
      "Saving S2B_MSIL2A_20190908T154809_R054_T18TYT_20201004T110951 to gs://geoanalytics-user-shared-data/Tutorial_stac_test/2019\n",
      "Saving S2A_MSIL2A_20190910T153901_R011_T19TCN_20201004T112755 to gs://geoanalytics-user-shared-data/Tutorial_stac_test/2019\n",
      "Saving S2A_MSIL2A_20190910T153901_R011_T18TYT_20201004T112753 to gs://geoanalytics-user-shared-data/Tutorial_stac_test/2019\n",
      "Saving S2A_MSIL2A_20190913T154901_R054_T19TCN_20201004T123824 to gs://geoanalytics-user-shared-data/Tutorial_stac_test/2019\n",
      "Saving S2A_MSIL2A_20190913T154901_R054_T18TYT_20201004T123830 to gs://geoanalytics-user-shared-data/Tutorial_stac_test/2019\n",
      "Saving S2B_MSIL2A_20190918T154919_R054_T19TCN_20201004T144355 to gs://geoanalytics-user-shared-data/Tutorial_stac_test/2019\n",
      "Saving S2B_MSIL2A_20190918T154919_R054_T18TYT_20201004T144354 to gs://geoanalytics-user-shared-data/Tutorial_stac_test/2019\n"
     ]
    },
    {
     "name": "stderr",
     "output_type": "stream",
     "text": [
      "/srv/conda/envs/notebook/lib/python3.9/site-packages/stackstac/prepare.py:413: FutureWarning: pandas.Float64Index is deprecated and will be removed from pandas in a future version. Use pandas.Index with the appropriate dtype instead.\n",
      "  xs = pd.Float64Index(np.linspace(minx, maxx, width, endpoint=False))\n",
      "/srv/conda/envs/notebook/lib/python3.9/site-packages/stackstac/prepare.py:414: FutureWarning: pandas.Float64Index is deprecated and will be removed from pandas in a future version. Use pandas.Index with the appropriate dtype instead.\n",
      "  ys = pd.Float64Index(np.linspace(maxy, miny, height, endpoint=False))\n"
     ]
    },
    {
     "name": "stdout",
     "output_type": "stream",
     "text": [
      "Saving S2A_MSIL2A_20190920T153931_R011_T19TCN_20201004T151706 to gs://geoanalytics-user-shared-data/Tutorial_stac_test/2019"
     ]
    },
    {
     "ename": "KeyboardInterrupt",
     "evalue": "",
     "output_type": "error",
     "traceback": [
      "\u001b[0;31m---------------------------------------------------------------------------\u001b[0m",
      "\u001b[0;31mKeyboardInterrupt\u001b[0m                         Traceback (most recent call last)",
      "Input \u001b[0;32mIn [16]\u001b[0m, in \u001b[0;36m<cell line: 5>\u001b[0;34m()\u001b[0m\n\u001b[1;32m     49\u001b[0m \u001b[38;5;28;01mfor\u001b[39;00m image \u001b[38;5;129;01min\u001b[39;00m data: \n\u001b[1;32m     50\u001b[0m     image_name \u001b[38;5;241m=\u001b[39m image\u001b[38;5;241m.\u001b[39mcoords[\u001b[38;5;124m'\u001b[39m\u001b[38;5;124mid\u001b[39m\u001b[38;5;124m'\u001b[39m]\u001b[38;5;241m.\u001b[39mvalues\n\u001b[0;32m---> 51\u001b[0m     \u001b[38;5;28;43mprint\u001b[39;49m\u001b[43m(\u001b[49m\u001b[38;5;124;43mf\u001b[39;49m\u001b[38;5;124;43m'\u001b[39;49m\u001b[38;5;124;43mSaving \u001b[39;49m\u001b[38;5;132;43;01m{\u001b[39;49;00m\u001b[43mimage_name\u001b[49m\u001b[38;5;132;43;01m}\u001b[39;49;00m\u001b[38;5;124;43m to \u001b[39;49m\u001b[38;5;132;43;01m{\u001b[39;49;00m\u001b[43mOUT_PTH\u001b[49m\u001b[38;5;132;43;01m}\u001b[39;49;00m\u001b[38;5;124;43m'\u001b[39;49m\u001b[43m)\u001b[49m\n\u001b[1;32m     52\u001b[0m     \u001b[38;5;66;03m#print(image_name)\u001b[39;00m\n\u001b[1;32m     53\u001b[0m     final_Spath \u001b[38;5;241m=\u001b[39m \u001b[38;5;124mf\u001b[39m\u001b[38;5;124m'\u001b[39m\u001b[38;5;132;01m{\u001b[39;00msave_path\u001b[38;5;132;01m}\u001b[39;00m\u001b[38;5;132;01m{\u001b[39;00mimage_name\u001b[38;5;132;01m}\u001b[39;00m\u001b[38;5;124m'\u001b[39m\n",
      "File \u001b[0;32m/srv/conda/envs/notebook/lib/python3.9/site-packages/ipykernel/iostream.py:562\u001b[0m, in \u001b[0;36mOutStream.write\u001b[0;34m(self, string)\u001b[0m\n\u001b[1;32m    560\u001b[0m         \u001b[38;5;28mself\u001b[39m\u001b[38;5;241m.\u001b[39mpub_thread\u001b[38;5;241m.\u001b[39mschedule(\u001b[38;5;28mself\u001b[39m\u001b[38;5;241m.\u001b[39m_flush)\n\u001b[1;32m    561\u001b[0m     \u001b[38;5;28;01melse\u001b[39;00m:\n\u001b[0;32m--> 562\u001b[0m         \u001b[38;5;28;43mself\u001b[39;49m\u001b[38;5;241;43m.\u001b[39;49m\u001b[43m_schedule_flush\u001b[49m\u001b[43m(\u001b[49m\u001b[43m)\u001b[49m\n\u001b[1;32m    564\u001b[0m \u001b[38;5;28;01mreturn\u001b[39;00m \u001b[38;5;28mlen\u001b[39m(string)\n",
      "File \u001b[0;32m/srv/conda/envs/notebook/lib/python3.9/site-packages/ipykernel/iostream.py:468\u001b[0m, in \u001b[0;36mOutStream._schedule_flush\u001b[0;34m(self)\u001b[0m\n\u001b[1;32m    465\u001b[0m \u001b[38;5;28;01mdef\u001b[39;00m \u001b[38;5;21m_schedule_in_thread\u001b[39m():\n\u001b[1;32m    466\u001b[0m     \u001b[38;5;28mself\u001b[39m\u001b[38;5;241m.\u001b[39m_io_loop\u001b[38;5;241m.\u001b[39mcall_later(\u001b[38;5;28mself\u001b[39m\u001b[38;5;241m.\u001b[39mflush_interval, \u001b[38;5;28mself\u001b[39m\u001b[38;5;241m.\u001b[39m_flush)\n\u001b[0;32m--> 468\u001b[0m \u001b[38;5;28;43mself\u001b[39;49m\u001b[38;5;241;43m.\u001b[39;49m\u001b[43mpub_thread\u001b[49m\u001b[38;5;241;43m.\u001b[39;49m\u001b[43mschedule\u001b[49m\u001b[43m(\u001b[49m\u001b[43m_schedule_in_thread\u001b[49m\u001b[43m)\u001b[49m\n",
      "File \u001b[0;32m/srv/conda/envs/notebook/lib/python3.9/site-packages/ipykernel/iostream.py:217\u001b[0m, in \u001b[0;36mIOPubThread.schedule\u001b[0;34m(self, f)\u001b[0m\n\u001b[1;32m    215\u001b[0m     \u001b[38;5;28mself\u001b[39m\u001b[38;5;241m.\u001b[39m_events\u001b[38;5;241m.\u001b[39mappend(f)\n\u001b[1;32m    216\u001b[0m     \u001b[38;5;66;03m# wake event thread (message content is ignored)\u001b[39;00m\n\u001b[0;32m--> 217\u001b[0m     \u001b[38;5;28;43mself\u001b[39;49m\u001b[38;5;241;43m.\u001b[39;49m\u001b[43m_event_pipe\u001b[49m\u001b[38;5;241m.\u001b[39msend(\u001b[38;5;124mb\u001b[39m\u001b[38;5;124m\"\u001b[39m\u001b[38;5;124m\"\u001b[39m)\n\u001b[1;32m    218\u001b[0m \u001b[38;5;28;01melse\u001b[39;00m:\n\u001b[1;32m    219\u001b[0m     f()\n",
      "File \u001b[0;32m/srv/conda/envs/notebook/lib/python3.9/site-packages/ipykernel/iostream.py:100\u001b[0m, in \u001b[0;36mIOPubThread._event_pipe\u001b[0;34m(self)\u001b[0m\n\u001b[1;32m     97\u001b[0m \u001b[38;5;129m@property\u001b[39m\n\u001b[1;32m     98\u001b[0m \u001b[38;5;28;01mdef\u001b[39;00m \u001b[38;5;21m_event_pipe\u001b[39m(\u001b[38;5;28mself\u001b[39m):\n\u001b[1;32m     99\u001b[0m     \u001b[38;5;124;03m\"\"\"thread-local event pipe for signaling events that should be processed in the thread\"\"\"\u001b[39;00m\n\u001b[0;32m--> 100\u001b[0m     \u001b[38;5;28;01mtry\u001b[39;00m:\n\u001b[1;32m    101\u001b[0m         event_pipe \u001b[38;5;241m=\u001b[39m \u001b[38;5;28mself\u001b[39m\u001b[38;5;241m.\u001b[39m_local\u001b[38;5;241m.\u001b[39mevent_pipe\n\u001b[1;32m    102\u001b[0m     \u001b[38;5;28;01mexcept\u001b[39;00m \u001b[38;5;167;01mAttributeError\u001b[39;00m:\n\u001b[1;32m    103\u001b[0m         \u001b[38;5;66;03m# new thread, new event pipe\u001b[39;00m\n",
      "\u001b[0;31mKeyboardInterrupt\u001b[0m: "
     ]
    }
   ],
   "source": [
    "# Download the data\n",
    "item_dict = []\n",
    "raster_list = []\n",
    "json_list = []\n",
    "for year in YEARS:\n",
    "    OUT_PTH = f'{BASE_PTH}/{OUTPUT_DIR}/{year}'\n",
    "    date_range = f'{year}-{BEGIN_MONTH}-01/{year}-{END_MONTH}-30'\n",
    "    \n",
    "    # Query the Planetary Computer STAC server with pystac_client\n",
    "    print(f'[Querying] {year}')\n",
    "    items = api.search(\n",
    "        collections = ['sentinel-2-l2a'],\n",
    "        intersects = FOOTPRINT,\n",
    "        query={\"eo:cloud_cover\": {\"lt\": MAX_CLOUD}}, #\"s2:mgrs_tile\":{\"eq\":'10UFA'}},\n",
    "        datetime = date_range,\n",
    "    ).get_all_items()\n",
    "    \n",
    "    \n",
    "    print(f'\\tFound {len(items)} items')\n",
    "    # planetarycomputer requires signed URLs to access Asset HREFs. \n",
    "    print('\\t[Signing data links]')\n",
    "    signed_items = [planetary_computer.sign(item).to_dict() for item in items]\n",
    "    item_dict+=signed_items\n",
    "        # Iterate over bands and build composite DAG\n",
    "    for band in TGT_BANDS:\n",
    "        #clear_output(wait=True) # clear Jupyter Cell output\n",
    "        print(f'[Processing {band}]')\n",
    "        \n",
    "    # print(signed_items)\n",
    "\n",
    "    # Convert STAC query into a xarray.DataArray\n",
    "    # with stackstac\n",
    "        print('\\t[Converting STAC query to DataArray]')\n",
    "        data = (\n",
    "            stackstac.stack(\n",
    "                item_dict,\n",
    "                assets=[band], \n",
    "                chunksize=READ_IN_CHUNK, # Set chunksize\n",
    "                resolution=RESOLUTION, # Set all bands res to this\n",
    "                bounds_latlon=FOOTPRINT.bounds, # clip to AOI bounds\n",
    "                epsg = 32618\n",
    "            ).where(lambda x: x > 0, other=np.nan).assign_coords( # Convert nodata zero to np.nan\n",
    "                #band=lambda x: x.common_name.rename(\"band\"),  # use common names\n",
    "                time=lambda x: x.time.dt.round(\n",
    "                    \"D\"\n",
    "                ))  \n",
    "        )\n",
    "        \n",
    "        for image in data: \n",
    "            image_name = image.coords['id'].values\n",
    "            print(f'Saving {image_name} to {OUT_PTH}')\n",
    "            #print(image_name)\n",
    "            final_Spath = f'{save_path}{image_name}'\n",
    "\n",
    "            raster_list.append(write_ras(gcs, epsg, image, band, f'{OUT_PTH}{image_name}/{band}.tif'))\n",
    "            \n",
    "            \n",
    "clear_output(wait=True)\n",
    "# # raster_list.visualize()\n",
    "# with performance_report('dask_report.html'):\n",
    "#     print(dask.compute(raster_list)[0])        \n",
    "# dask.compute(raster_list)\n",
    "data"
   ]
  },
  {
   "cell_type": "code",
   "execution_count": 68,
   "id": "f01e526d-cfde-4ce8-8ecd-71cc5d96334a",
   "metadata": {},
   "outputs": [],
   "source": [
    "image_list = gcs.ls('gs://geoanalytics-user-shared-data/Tutorial_stac_test')"
   ]
  },
  {
   "cell_type": "code",
   "execution_count": 73,
   "id": "c8818bc8-2dd8-4687-9f80-80c70545c9cb",
   "metadata": {
    "collapsed": true,
    "jupyter": {
     "outputs_hidden": true
    },
    "tags": []
   },
   "outputs": [
    {
     "ename": "KeyboardInterrupt",
     "evalue": "",
     "output_type": "error",
     "traceback": [
      "\u001b[0;31m---------------------------------------------------------------------------\u001b[0m",
      "\u001b[0;31mKeyboardInterrupt\u001b[0m                         Traceback (most recent call last)",
      "Input \u001b[0;32mIn [73]\u001b[0m, in \u001b[0;36m<cell line: 1>\u001b[0;34m()\u001b[0m\n\u001b[1;32m      8\u001b[0m \u001b[38;5;66;03m# Saving to GCP\u001b[39;00m\n\u001b[1;32m      9\u001b[0m output_path \u001b[38;5;241m=\u001b[39m \u001b[38;5;124mf\u001b[39m\u001b[38;5;124m'\u001b[39m\u001b[38;5;132;01m{\u001b[39;00mBASE_PTH\u001b[38;5;132;01m}\u001b[39;00m\u001b[38;5;124m/\u001b[39m\u001b[38;5;132;01m{\u001b[39;00mOUTPUT_DIR\u001b[38;5;132;01m}\u001b[39;00m\u001b[38;5;124m/\u001b[39m\u001b[38;5;132;01m{\u001b[39;00mband\u001b[38;5;132;01m}\u001b[39;00m\u001b[38;5;124m.json\u001b[39m\u001b[38;5;124m'\u001b[39m\n\u001b[0;32m---> 10\u001b[0m \u001b[43mgcs\u001b[49m\u001b[38;5;241;43m.\u001b[39;49m\u001b[43mput\u001b[49m\u001b[43m(\u001b[49m\u001b[43mjson_file\u001b[49m\u001b[43m,\u001b[49m\u001b[43m \u001b[49m\u001b[43moutput_path\u001b[49m\u001b[43m)\u001b[49m\n",
      "File \u001b[0;32m/srv/conda/envs/notebook/lib/python3.9/site-packages/fsspec/asyn.py:85\u001b[0m, in \u001b[0;36msync_wrapper.<locals>.wrapper\u001b[0;34m(*args, **kwargs)\u001b[0m\n\u001b[1;32m     82\u001b[0m \u001b[38;5;129m@functools\u001b[39m\u001b[38;5;241m.\u001b[39mwraps(func)\n\u001b[1;32m     83\u001b[0m \u001b[38;5;28;01mdef\u001b[39;00m \u001b[38;5;21mwrapper\u001b[39m(\u001b[38;5;241m*\u001b[39margs, \u001b[38;5;241m*\u001b[39m\u001b[38;5;241m*\u001b[39mkwargs):\n\u001b[1;32m     84\u001b[0m     \u001b[38;5;28mself\u001b[39m \u001b[38;5;241m=\u001b[39m obj \u001b[38;5;129;01mor\u001b[39;00m args[\u001b[38;5;241m0\u001b[39m]\n\u001b[0;32m---> 85\u001b[0m     \u001b[38;5;28;01mreturn\u001b[39;00m \u001b[43msync\u001b[49m\u001b[43m(\u001b[49m\u001b[38;5;28;43mself\u001b[39;49m\u001b[38;5;241;43m.\u001b[39;49m\u001b[43mloop\u001b[49m\u001b[43m,\u001b[49m\u001b[43m \u001b[49m\u001b[43mfunc\u001b[49m\u001b[43m,\u001b[49m\u001b[43m \u001b[49m\u001b[38;5;241;43m*\u001b[39;49m\u001b[43margs\u001b[49m\u001b[43m,\u001b[49m\u001b[43m \u001b[49m\u001b[38;5;241;43m*\u001b[39;49m\u001b[38;5;241;43m*\u001b[39;49m\u001b[43mkwargs\u001b[49m\u001b[43m)\u001b[49m\n",
      "File \u001b[0;32m/srv/conda/envs/notebook/lib/python3.9/site-packages/fsspec/asyn.py:53\u001b[0m, in \u001b[0;36msync\u001b[0;34m(loop, func, timeout, *args, **kwargs)\u001b[0m\n\u001b[1;32m     50\u001b[0m asyncio\u001b[38;5;241m.\u001b[39mrun_coroutine_threadsafe(_runner(event, coro, result, timeout), loop)\n\u001b[1;32m     51\u001b[0m \u001b[38;5;28;01mwhile\u001b[39;00m \u001b[38;5;28;01mTrue\u001b[39;00m:\n\u001b[1;32m     52\u001b[0m     \u001b[38;5;66;03m# this loops allows thread to get interrupted\u001b[39;00m\n\u001b[0;32m---> 53\u001b[0m     \u001b[38;5;28;01mif\u001b[39;00m \u001b[43mevent\u001b[49m\u001b[38;5;241;43m.\u001b[39;49m\u001b[43mwait\u001b[49m\u001b[43m(\u001b[49m\u001b[38;5;241;43m1\u001b[39;49m\u001b[43m)\u001b[49m:\n\u001b[1;32m     54\u001b[0m         \u001b[38;5;28;01mbreak\u001b[39;00m\n\u001b[1;32m     55\u001b[0m     \u001b[38;5;28;01mif\u001b[39;00m timeout \u001b[38;5;129;01mis\u001b[39;00m \u001b[38;5;129;01mnot\u001b[39;00m \u001b[38;5;28;01mNone\u001b[39;00m:\n",
      "File \u001b[0;32m/srv/conda/envs/notebook/lib/python3.9/threading.py:574\u001b[0m, in \u001b[0;36mEvent.wait\u001b[0;34m(self, timeout)\u001b[0m\n\u001b[1;32m    572\u001b[0m signaled \u001b[38;5;241m=\u001b[39m \u001b[38;5;28mself\u001b[39m\u001b[38;5;241m.\u001b[39m_flag\n\u001b[1;32m    573\u001b[0m \u001b[38;5;28;01mif\u001b[39;00m \u001b[38;5;129;01mnot\u001b[39;00m signaled:\n\u001b[0;32m--> 574\u001b[0m     signaled \u001b[38;5;241m=\u001b[39m \u001b[38;5;28;43mself\u001b[39;49m\u001b[38;5;241;43m.\u001b[39;49m\u001b[43m_cond\u001b[49m\u001b[38;5;241;43m.\u001b[39;49m\u001b[43mwait\u001b[49m\u001b[43m(\u001b[49m\u001b[43mtimeout\u001b[49m\u001b[43m)\u001b[49m\n\u001b[1;32m    575\u001b[0m \u001b[38;5;28;01mreturn\u001b[39;00m signaled\n",
      "File \u001b[0;32m/srv/conda/envs/notebook/lib/python3.9/threading.py:316\u001b[0m, in \u001b[0;36mCondition.wait\u001b[0;34m(self, timeout)\u001b[0m\n\u001b[1;32m    314\u001b[0m \u001b[38;5;28;01melse\u001b[39;00m:\n\u001b[1;32m    315\u001b[0m     \u001b[38;5;28;01mif\u001b[39;00m timeout \u001b[38;5;241m>\u001b[39m \u001b[38;5;241m0\u001b[39m:\n\u001b[0;32m--> 316\u001b[0m         gotit \u001b[38;5;241m=\u001b[39m \u001b[43mwaiter\u001b[49m\u001b[38;5;241;43m.\u001b[39;49m\u001b[43macquire\u001b[49m\u001b[43m(\u001b[49m\u001b[38;5;28;43;01mTrue\u001b[39;49;00m\u001b[43m,\u001b[49m\u001b[43m \u001b[49m\u001b[43mtimeout\u001b[49m\u001b[43m)\u001b[49m\n\u001b[1;32m    317\u001b[0m     \u001b[38;5;28;01melse\u001b[39;00m:\n\u001b[1;32m    318\u001b[0m         gotit \u001b[38;5;241m=\u001b[39m waiter\u001b[38;5;241m.\u001b[39macquire(\u001b[38;5;28;01mFalse\u001b[39;00m)\n",
      "\u001b[0;31mKeyboardInterrupt\u001b[0m: "
     ]
    }
   ],
   "source": [
    "# for folder in image_list:\n",
    "#     for image in folder:\n",
    "#         for band in TGT_BANDS:\n",
    "        \n",
    "#             json_file = f'{band}.json'\n",
    "#             with open(json_file, 'w') as f:\n",
    "#                 json.dump(image, f)\n",
    "#             # Saving to GCP\n",
    "#             output_path = f'{BASE_PTH}/{OUTPUT_DIR}/{band}.json'\n",
    "#             gcs.put(json_file, output_path)"
   ]
  },
  {
   "cell_type": "code",
   "execution_count": 48,
   "id": "f4582230-1a70-4c51-8abb-4b53b9553cf9",
   "metadata": {},
   "outputs": [
    {
     "name": "stdout",
     "output_type": "stream",
     "text": [
      "A PySTAC Catalog represents a STAC catalog in memory.\n",
      "\n",
      "    A Catalog is a :class:`~pystac.STACObject` that may contain children,\n",
      "    which are instances of :class:`~pystac.Catalog` or :class:`~pystac.Collection`,\n",
      "    as well as :class:`~pystac.Item` s.\n",
      "\n",
      "    Args:\n",
      "        id : Identifier for the catalog. Must be unique within the STAC.\n",
      "        description : Detailed multi-line description to fully explain the catalog.\n",
      "            `CommonMark 0.28 syntax <https://commonmark.org/>`_ MAY be used for rich\n",
      "            text representation.\n",
      "        title : Optional short descriptive one-line title for the catalog.\n",
      "        stac_extensions : Optional list of extensions the Catalog implements.\n",
      "        href : Optional HREF for this catalog, which be set as the\n",
      "            catalog's self link's HREF.\n",
      "        catalog_type : Optional catalog type for this catalog. Must\n",
      "            be one of the values in :class`~pystac.CatalogType`.\n",
      "\n",
      "    Attributes:\n",
      "        id : Identifier for the catalog.\n",
      "        description : Detailed multi-line description to fully explain the catalog.\n",
      "        title : Optional short descriptive one-line title for the catalog.\n",
      "        stac_extensions : Optional list of extensions the Catalog\n",
      "            implements.\n",
      "        extra_fields : Extra fields that are part of the top-level JSON\n",
      "            properties of the Catalog.\n",
      "        links : A list of :class:`~pystac.Link` objects representing\n",
      "            all links associated with this Catalog.\n",
      "        catalog_type : The catalog type. Defaults to ABSOLUTE_PUBLISHED\n",
      "    \n"
     ]
    }
   ],
   "source": [
    "print(pystac.Catalog.__doc__)"
   ]
  },
  {
   "cell_type": "code",
   "execution_count": 49,
   "id": "21153b5d-ca25-4a32-857e-675ef99288b9",
   "metadata": {},
   "outputs": [],
   "source": [
    "catalog = pystac.Catalog(id='S2-test-catalog', description='Tutorial catalog of Sentinel 2 imagery around Quebec City')"
   ]
  },
  {
   "cell_type": "code",
   "execution_count": 50,
   "id": "d5d72f82-efc9-47ef-a2fa-4707bf053357",
   "metadata": {},
   "outputs": [
    {
     "name": "stdout",
     "output_type": "stream",
     "text": [
      "[]\n",
      "[]\n"
     ]
    }
   ],
   "source": [
    "print(list(catalog.get_children()))\n",
    "print(list(catalog.get_items()))"
   ]
  },
  {
   "cell_type": "code",
   "execution_count": 51,
   "id": "87a8c1f8-296f-4c7d-8a36-32e6271b50c6",
   "metadata": {},
   "outputs": [
    {
     "name": "stdout",
     "output_type": "stream",
     "text": [
      "An Item is the core granular entity in a STAC, containing the core metadata\n",
      "    that enables any client to search or crawl online catalogs of spatial 'assets' -\n",
      "    satellite imagery, derived data, DEM's, etc.\n",
      "\n",
      "    Args:\n",
      "        id : Provider identifier. Must be unique within the STAC.\n",
      "        geometry : Defines the full footprint of the asset represented by this\n",
      "            item, formatted according to\n",
      "            `RFC 7946, section 3.1 (GeoJSON) <https://tools.ietf.org/html/rfc7946>`_.\n",
      "        bbox :  Bounding Box of the asset represented by this item\n",
      "            using either 2D or 3D geometries. The length of the array must be 2*n\n",
      "            where n is the number of dimensions. Could also be None in the case of a\n",
      "            null geometry.\n",
      "        datetime : Datetime associated with this item. If None,\n",
      "            a start_datetime and end_datetime must be supplied in the properties.\n",
      "        properties : A dictionary of additional metadata for the item.\n",
      "        stac_extensions : Optional list of extensions the Item implements.\n",
      "        href : Optional HREF for this item, which be set as the item's\n",
      "            self link's HREF.\n",
      "        collection : The Collection or Collection ID that this item\n",
      "            belongs to.\n",
      "        extra_fields : Extra fields that are part of the top-level JSON\n",
      "            properties of the Item.\n",
      "\n",
      "    Attributes:\n",
      "        id : Provider identifier. Unique within the STAC.\n",
      "        geometry : Defines the full footprint of the asset represented by this\n",
      "            item, formatted according to\n",
      "            `RFC 7946, section 3.1 (GeoJSON) <https://tools.ietf.org/html/rfc7946>`_.\n",
      "        bbox :  Bounding Box of the asset represented by this item\n",
      "            using either 2D or 3D geometries. The length of the array is 2*n where n\n",
      "            is the number of dimensions. Could also be None in the case of a null\n",
      "            geometry.\n",
      "        datetime : Datetime associated with this item. If None,\n",
      "            the start_datetime and end_datetime in the common_metadata\n",
      "            will supply the datetime range of the Item.\n",
      "        properties : A dictionary of additional metadata for the item.\n",
      "        stac_extensions : Optional list of extensions the Item\n",
      "            implements.\n",
      "        collection : Collection that this item is a part of.\n",
      "        links : A list of :class:`~pystac.Link` objects representing\n",
      "            all links associated with this STACObject.\n",
      "        assets : Dictionary of asset objects that can be downloaded,\n",
      "            each with a unique key.\n",
      "        collection_id : The Collection ID that this item belongs to, if\n",
      "            any.\n",
      "        extra_fields : Extra fields that are part of the top-level JSON\n",
      "            properties of the Item.\n",
      "    \n"
     ]
    }
   ],
   "source": [
    "print(pystac.Item.__doc__)"
   ]
  },
  {
   "cell_type": "code",
   "execution_count": 17,
   "id": "bcb028e7-4089-4f0d-96e3-a88bedb91109",
   "metadata": {},
   "outputs": [],
   "source": [
    "import rioxarray\n",
    "from shapely.geometry import Polygon, mapping\n",
    "\n",
    "def get_bbox_and_footprint(raster_uri, chunk_size, token):\n",
    "    with rioxarray.open_rasterio(raster_uri, chunks = chunk_size) as ds:\n",
    "        bounds = ds.bounds\n",
    "        bbox = [bounds.left, bounds.bottom, bounds.right, bounds.top]\n",
    "        footprint = Polygon([\n",
    "            [bounds.left, bounds.bottom],\n",
    "            [bounds.left, bounds.top],\n",
    "            [bounds.right, bounds.top],\n",
    "            [bounds.right, bounds.bottom]\n",
    "        ])\n",
    "\n",
    "    return (bbox, mapping(footprint))"
   ]
  },
  {
   "cell_type": "code",
   "execution_count": 18,
   "id": "d270ae5e-94de-4ee8-98d4-40cf1a614b63",
   "metadata": {
    "collapsed": true,
    "jupyter": {
     "outputs_hidden": true
    },
    "tags": []
   },
   "outputs": [
    {
     "name": "stdout",
     "output_type": "stream",
     "text": [
      "['geoanalytics-user-shared-data/Tutorial_stac_test/2019S2A_MSIL2A_20190602T153911_R011_T18TYT_20201005T210750', 'geoanalytics-user-shared-data/Tutorial_stac_test/2019S2A_MSIL2A_20190602T153911_R011_T19TCN_20201005T210749', 'geoanalytics-user-shared-data/Tutorial_stac_test/2019S2A_MSIL2A_20190605T154911_R054_T18TYT_20201005T222219', 'geoanalytics-user-shared-data/Tutorial_stac_test/2019S2A_MSIL2A_20190605T154911_R054_T19TCN_20201005T222215', 'geoanalytics-user-shared-data/Tutorial_stac_test/2019S2A_MSIL2A_20190612T153911_R011_T18TYT_20201006T011451', 'geoanalytics-user-shared-data/Tutorial_stac_test/2019S2A_MSIL2A_20190612T153911_R011_T19TCN_20201006T011451', 'geoanalytics-user-shared-data/Tutorial_stac_test/2019S2A_MSIL2A_20190615T154911_R054_T18TYT_20201006T022852', 'geoanalytics-user-shared-data/Tutorial_stac_test/2019S2A_MSIL2A_20190615T154911_R054_T19TCN_20201006T022848', 'geoanalytics-user-shared-data/Tutorial_stac_test/2019S2A_MSIL2A_20190625T154911_R054_T19TCN_20201006T061000', 'geoanalytics-user-shared-data/Tutorial_stac_test/2019S2A_MSIL2A_20190702T153911_R011_T18TYT_20201005T081140', 'geoanalytics-user-shared-data/Tutorial_stac_test/2019S2A_MSIL2A_20190702T153911_R011_T19TCN_20201005T081140', 'geoanalytics-user-shared-data/Tutorial_stac_test/2019S2A_MSIL2A_20190705T154911_R054_T18TYT_20201005T093635', 'geoanalytics-user-shared-data/Tutorial_stac_test/2019S2A_MSIL2A_20190705T154911_R054_T19TCN_20201005T093631', 'geoanalytics-user-shared-data/Tutorial_stac_test/2019S2A_MSIL2A_20190712T153911_R011_T18TYT_20201005T125533', 'geoanalytics-user-shared-data/Tutorial_stac_test/2019S2A_MSIL2A_20190712T153911_R011_T19TCN_20201005T125535', 'geoanalytics-user-shared-data/Tutorial_stac_test/2019S2A_MSIL2A_20190715T154911_R054_T18TYT_20201005T142315', 'geoanalytics-user-shared-data/Tutorial_stac_test/2019S2A_MSIL2A_20190715T154911_R054_T19TCN_20201005T142310', 'geoanalytics-user-shared-data/Tutorial_stac_test/2019S2A_MSIL2A_20190722T153911_R011_T18TYT_20201005T175826', 'geoanalytics-user-shared-data/Tutorial_stac_test/2019S2A_MSIL2A_20190725T154911_R054_T18TYT_20201005T192329', 'geoanalytics-user-shared-data/Tutorial_stac_test/2019S2A_MSIL2A_20190725T154911_R054_T19TCN_20201005T192321', 'geoanalytics-user-shared-data/Tutorial_stac_test/2019S2A_MSIL2A_20190801T153911_R011_T18TYT_20201004T190749', 'geoanalytics-user-shared-data/Tutorial_stac_test/2019S2A_MSIL2A_20190801T153911_R011_T19TCN_20201004T190755', 'geoanalytics-user-shared-data/Tutorial_stac_test/2019S2A_MSIL2A_20190804T154911_R054_T18TYT_20201004T201840', 'geoanalytics-user-shared-data/Tutorial_stac_test/2019S2A_MSIL2A_20190804T154911_R054_T19TCN_20201004T201837', 'geoanalytics-user-shared-data/Tutorial_stac_test/2019S2A_MSIL2A_20190811T153911_R011_T18TYT_20201004T230320', 'geoanalytics-user-shared-data/Tutorial_stac_test/2019S2A_MSIL2A_20190811T153911_R011_T19TCN_20201004T230322', 'geoanalytics-user-shared-data/Tutorial_stac_test/2019S2A_MSIL2A_20190814T154911_R054_T18TYT_20201005T001505', 'geoanalytics-user-shared-data/Tutorial_stac_test/2019S2A_MSIL2A_20190814T154911_R054_T19TCN_20201005T001500', 'geoanalytics-user-shared-data/Tutorial_stac_test/2019S2A_MSIL2A_20190821T153911_R011_T18TYT_20201005T030254', 'geoanalytics-user-shared-data/Tutorial_stac_test/2019S2A_MSIL2A_20190821T153911_R011_T19TCN_20201005T030256', 'geoanalytics-user-shared-data/Tutorial_stac_test/2019S2A_MSIL2A_20190824T154911_R054_T18TYT_20201005T041513', 'geoanalytics-user-shared-data/Tutorial_stac_test/2019S2A_MSIL2A_20190824T154911_R054_T19TCN_20201005T041508', 'geoanalytics-user-shared-data/Tutorial_stac_test/2019S2A_MSIL2A_20190831T153911_R011_T18TYT_20201005T071603', 'geoanalytics-user-shared-data/Tutorial_stac_test/2019S2A_MSIL2A_20190831T153911_R011_T19TCN_20201005T071602', 'geoanalytics-user-shared-data/Tutorial_stac_test/2019S2A_MSIL2A_20190903T154911_R054_T18TYT_20201004T084603', 'geoanalytics-user-shared-data/Tutorial_stac_test/2019S2A_MSIL2A_20190903T154911_R054_T19TCN_20201004T084559', 'geoanalytics-user-shared-data/Tutorial_stac_test/2019S2A_MSIL2A_20190910T153901_R011_T18TYT_20201004T112753', 'geoanalytics-user-shared-data/Tutorial_stac_test/2019S2A_MSIL2A_20190910T153901_R011_T19TCN_20201004T112755', 'geoanalytics-user-shared-data/Tutorial_stac_test/2019S2A_MSIL2A_20190913T154901_R054_T18TYT_20201004T123830', 'geoanalytics-user-shared-data/Tutorial_stac_test/2019S2A_MSIL2A_20190913T154901_R054_T19TCN_20201004T123824', 'geoanalytics-user-shared-data/Tutorial_stac_test/2019S2A_MSIL2A_20190920T153931_R011_T18TYT_20201004T151704', 'geoanalytics-user-shared-data/Tutorial_stac_test/2019S2A_MSIL2A_20190920T153931_R011_T19TCN_20201004T151706', 'geoanalytics-user-shared-data/Tutorial_stac_test/2019S2A_MSIL2A_20190930T154041_R011_T18TYT_20201004T184542', 'geoanalytics-user-shared-data/Tutorial_stac_test/2019S2A_MSIL2A_20190930T154041_R011_T19TCN_20201004T184543', 'geoanalytics-user-shared-data/Tutorial_stac_test/2019S2B_MSIL2A_20190607T153819_R011_T18TYT_20201005T232404', 'geoanalytics-user-shared-data/Tutorial_stac_test/2019S2B_MSIL2A_20190607T153819_R011_T19TCN_20201005T232406', 'geoanalytics-user-shared-data/Tutorial_stac_test/2019S2B_MSIL2A_20190610T154819_R054_T18TYT_20201006T003813', 'geoanalytics-user-shared-data/Tutorial_stac_test/2019S2B_MSIL2A_20190610T154819_R054_T19TCN_20201006T003809', 'geoanalytics-user-shared-data/Tutorial_stac_test/2019S2B_MSIL2A_20190617T153819_R011_T18TYT_20201006T032941', 'geoanalytics-user-shared-data/Tutorial_stac_test/2019S2B_MSIL2A_20190617T153819_R011_T19TCN_20201006T032945', 'geoanalytics-user-shared-data/Tutorial_stac_test/2019S2B_MSIL2A_20190620T154819_R054_T18TYT_20201006T044349', 'geoanalytics-user-shared-data/Tutorial_stac_test/2019S2B_MSIL2A_20190620T154819_R054_T19TCN_20201006T044346', 'geoanalytics-user-shared-data/Tutorial_stac_test/2019S2B_MSIL2A_20190627T153819_R011_T18TYT_20201006T071156', 'geoanalytics-user-shared-data/Tutorial_stac_test/2019S2B_MSIL2A_20190627T153819_R011_T19TCN_20201006T071157', 'geoanalytics-user-shared-data/Tutorial_stac_test/2019S2B_MSIL2A_20190630T154819_R054_T18TYT_20201006T082641', 'geoanalytics-user-shared-data/Tutorial_stac_test/2019S2B_MSIL2A_20190630T154819_R054_T19TCN_20201006T082638', 'geoanalytics-user-shared-data/Tutorial_stac_test/2019S2B_MSIL2A_20190707T153819_R011_T18TYT_20201005T104752', 'geoanalytics-user-shared-data/Tutorial_stac_test/2019S2B_MSIL2A_20190707T153819_R011_T19TCN_20201005T104755', 'geoanalytics-user-shared-data/Tutorial_stac_test/2019S2B_MSIL2A_20190710T154819_R054_T18TYT_20201005T121229', 'geoanalytics-user-shared-data/Tutorial_stac_test/2019S2B_MSIL2A_20190710T154819_R054_T19TCN_20201005T121226', 'geoanalytics-user-shared-data/Tutorial_stac_test/2019S2B_MSIL2A_20190717T153819_R011_T18TYT_20201005T153817', 'geoanalytics-user-shared-data/Tutorial_stac_test/2019S2B_MSIL2A_20190717T153819_R011_T19TCN_20201005T153817', 'geoanalytics-user-shared-data/Tutorial_stac_test/2019S2B_MSIL2A_20190720T154819_R054_T18TYT_20201005T171016', 'geoanalytics-user-shared-data/Tutorial_stac_test/2019S2B_MSIL2A_20190720T154819_R054_T19TCN_20201005T171015', 'geoanalytics-user-shared-data/Tutorial_stac_test/2019S2B_MSIL2A_20190727T153819_R011_T18TYT_20201106T033550', 'geoanalytics-user-shared-data/Tutorial_stac_test/2019S2B_MSIL2A_20190727T153819_R011_T19TCN_20201106T033605', 'geoanalytics-user-shared-data/Tutorial_stac_test/2019S2B_MSIL2A_20190730T154819_R054_T18TYT_20201005T200625', 'geoanalytics-user-shared-data/Tutorial_stac_test/2019S2B_MSIL2A_20190730T154819_R054_T19TCN_20201005T200624', 'geoanalytics-user-shared-data/Tutorial_stac_test/2019S2B_MSIL2A_20190806T153819_R011_T18TYT_20201004T211741', 'geoanalytics-user-shared-data/Tutorial_stac_test/2019S2B_MSIL2A_20190806T153819_R011_T19TCN_20201004T211746', 'geoanalytics-user-shared-data/Tutorial_stac_test/2019S2B_MSIL2A_20190809T154819_R054_T18TYT_20201004T222831', 'geoanalytics-user-shared-data/Tutorial_stac_test/2019S2B_MSIL2A_20190809T154819_R054_T19TCN_20201004T222827', 'geoanalytics-user-shared-data/Tutorial_stac_test/2019S2B_MSIL2A_20190816T153819_R011_T18TYT_20201005T011437', 'geoanalytics-user-shared-data/Tutorial_stac_test/2019S2B_MSIL2A_20190816T153819_R011_T19TCN_20201005T011435', 'geoanalytics-user-shared-data/Tutorial_stac_test/2019S2B_MSIL2A_20190819T154819_R054_T18TYT_20201005T022721', 'geoanalytics-user-shared-data/Tutorial_stac_test/2019S2B_MSIL2A_20190819T154819_R054_T19TCN_20201005T022714', 'geoanalytics-user-shared-data/Tutorial_stac_test/2019S2B_MSIL2A_20190826T153819_R011_T18TYT_20201005T051650', 'geoanalytics-user-shared-data/Tutorial_stac_test/2019S2B_MSIL2A_20190826T153819_R011_T19TCN_20201005T051652', 'geoanalytics-user-shared-data/Tutorial_stac_test/2019S2B_MSIL2A_20190829T154819_R054_T18TYT_20201005T063559', 'geoanalytics-user-shared-data/Tutorial_stac_test/2019S2B_MSIL2A_20190829T154819_R054_T19TCN_20201106T053948', 'geoanalytics-user-shared-data/Tutorial_stac_test/2019S2B_MSIL2A_20190905T153809_R011_T18TYT_20201004T094505', 'geoanalytics-user-shared-data/Tutorial_stac_test/2019S2B_MSIL2A_20190905T153809_R011_T19TCN_20201004T094505', 'geoanalytics-user-shared-data/Tutorial_stac_test/2019S2B_MSIL2A_20190908T154809_R054_T18TYT_20201004T110951', 'geoanalytics-user-shared-data/Tutorial_stac_test/2019S2B_MSIL2A_20190908T154809_R054_T19TCN_20201004T105349', 'geoanalytics-user-shared-data/Tutorial_stac_test/2019S2B_MSIL2A_20190918T154919_R054_T18TYT_20201004T144354', 'geoanalytics-user-shared-data/Tutorial_stac_test/2019S2B_MSIL2A_20190918T154919_R054_T19TCN_20201004T144355', 'geoanalytics-user-shared-data/Tutorial_stac_test/2019S2B_MSIL2A_20190925T153959_R011_T18TYT_20201004T170713', 'geoanalytics-user-shared-data/Tutorial_stac_test/2019S2B_MSIL2A_20190925T153959_R011_T19TCN_20201004T170715', 'geoanalytics-user-shared-data/Tutorial_stac_test/2020S2A_MSIL2A_20190602T153911_R011_T18TYT_20201005T210750', 'geoanalytics-user-shared-data/Tutorial_stac_test/2020S2A_MSIL2A_20190602T153911_R011_T19TCN_20201005T210749', 'geoanalytics-user-shared-data/Tutorial_stac_test/2020S2A_MSIL2A_20190605T154911_R054_T18TYT_20201005T222219', 'geoanalytics-user-shared-data/Tutorial_stac_test/2020S2A_MSIL2A_20190605T154911_R054_T19TCN_20201005T222215', 'geoanalytics-user-shared-data/Tutorial_stac_test/2020S2A_MSIL2A_20190612T153911_R011_T18TYT_20201006T011451', 'geoanalytics-user-shared-data/Tutorial_stac_test/2020S2A_MSIL2A_20190612T153911_R011_T19TCN_20201006T011451', 'geoanalytics-user-shared-data/Tutorial_stac_test/2020S2A_MSIL2A_20190615T154911_R054_T18TYT_20201006T022852', 'geoanalytics-user-shared-data/Tutorial_stac_test/2020S2A_MSIL2A_20190615T154911_R054_T19TCN_20201006T022848', 'geoanalytics-user-shared-data/Tutorial_stac_test/2020S2A_MSIL2A_20190625T154911_R054_T19TCN_20201006T061000', 'geoanalytics-user-shared-data/Tutorial_stac_test/2020S2A_MSIL2A_20190702T153911_R011_T18TYT_20201005T081140', 'geoanalytics-user-shared-data/Tutorial_stac_test/2020S2A_MSIL2A_20190702T153911_R011_T19TCN_20201005T081140', 'geoanalytics-user-shared-data/Tutorial_stac_test/2020S2A_MSIL2A_20190705T154911_R054_T18TYT_20201005T093635', 'geoanalytics-user-shared-data/Tutorial_stac_test/2020S2A_MSIL2A_20190705T154911_R054_T19TCN_20201005T093631', 'geoanalytics-user-shared-data/Tutorial_stac_test/2020S2A_MSIL2A_20190712T153911_R011_T18TYT_20201005T125533', 'geoanalytics-user-shared-data/Tutorial_stac_test/2020S2A_MSIL2A_20190712T153911_R011_T19TCN_20201005T125535', 'geoanalytics-user-shared-data/Tutorial_stac_test/2020S2A_MSIL2A_20190715T154911_R054_T18TYT_20201005T142315', 'geoanalytics-user-shared-data/Tutorial_stac_test/2020S2A_MSIL2A_20190715T154911_R054_T19TCN_20201005T142310', 'geoanalytics-user-shared-data/Tutorial_stac_test/2020S2A_MSIL2A_20190722T153911_R011_T18TYT_20201005T175826', 'geoanalytics-user-shared-data/Tutorial_stac_test/2020S2A_MSIL2A_20190725T154911_R054_T18TYT_20201005T192329', 'geoanalytics-user-shared-data/Tutorial_stac_test/2020S2A_MSIL2A_20190725T154911_R054_T19TCN_20201005T192321', 'geoanalytics-user-shared-data/Tutorial_stac_test/2020S2A_MSIL2A_20190801T153911_R011_T18TYT_20201004T190749', 'geoanalytics-user-shared-data/Tutorial_stac_test/2020S2A_MSIL2A_20190801T153911_R011_T19TCN_20201004T190755', 'geoanalytics-user-shared-data/Tutorial_stac_test/2020S2A_MSIL2A_20190804T154911_R054_T18TYT_20201004T201840', 'geoanalytics-user-shared-data/Tutorial_stac_test/2020S2A_MSIL2A_20190804T154911_R054_T19TCN_20201004T201837', 'geoanalytics-user-shared-data/Tutorial_stac_test/2020S2A_MSIL2A_20190811T153911_R011_T18TYT_20201004T230320', 'geoanalytics-user-shared-data/Tutorial_stac_test/2020S2A_MSIL2A_20190811T153911_R011_T19TCN_20201004T230322', 'geoanalytics-user-shared-data/Tutorial_stac_test/2020S2A_MSIL2A_20190814T154911_R054_T18TYT_20201005T001505', 'geoanalytics-user-shared-data/Tutorial_stac_test/2020S2A_MSIL2A_20190814T154911_R054_T19TCN_20201005T001500', 'geoanalytics-user-shared-data/Tutorial_stac_test/2020S2A_MSIL2A_20190821T153911_R011_T18TYT_20201005T030254', 'geoanalytics-user-shared-data/Tutorial_stac_test/2020S2A_MSIL2A_20190821T153911_R011_T19TCN_20201005T030256', 'geoanalytics-user-shared-data/Tutorial_stac_test/2020S2A_MSIL2A_20190824T154911_R054_T18TYT_20201005T041513', 'geoanalytics-user-shared-data/Tutorial_stac_test/2020S2A_MSIL2A_20190824T154911_R054_T19TCN_20201005T041508', 'geoanalytics-user-shared-data/Tutorial_stac_test/2020S2A_MSIL2A_20190831T153911_R011_T18TYT_20201005T071603', 'geoanalytics-user-shared-data/Tutorial_stac_test/2020S2A_MSIL2A_20190831T153911_R011_T19TCN_20201005T071602', 'geoanalytics-user-shared-data/Tutorial_stac_test/2020S2A_MSIL2A_20190903T154911_R054_T18TYT_20201004T084603', 'geoanalytics-user-shared-data/Tutorial_stac_test/2020S2A_MSIL2A_20190903T154911_R054_T19TCN_20201004T084559', 'geoanalytics-user-shared-data/Tutorial_stac_test/2020S2A_MSIL2A_20190910T153901_R011_T18TYT_20201004T112753', 'geoanalytics-user-shared-data/Tutorial_stac_test/2020S2A_MSIL2A_20190910T153901_R011_T19TCN_20201004T112755', 'geoanalytics-user-shared-data/Tutorial_stac_test/2020S2A_MSIL2A_20190913T154901_R054_T18TYT_20201004T123830', 'geoanalytics-user-shared-data/Tutorial_stac_test/2020S2A_MSIL2A_20190913T154901_R054_T19TCN_20201004T123824', 'geoanalytics-user-shared-data/Tutorial_stac_test/2020S2A_MSIL2A_20190920T153931_R011_T18TYT_20201004T151704', 'geoanalytics-user-shared-data/Tutorial_stac_test/2020S2A_MSIL2A_20190920T153931_R011_T19TCN_20201004T151706', 'geoanalytics-user-shared-data/Tutorial_stac_test/2020S2A_MSIL2A_20190930T154041_R011_T18TYT_20201004T184542', 'geoanalytics-user-shared-data/Tutorial_stac_test/2020S2A_MSIL2A_20190930T154041_R011_T19TCN_20201004T184543', 'geoanalytics-user-shared-data/Tutorial_stac_test/2020S2A_MSIL2A_20200606T153911_R011_T18TYT_20200826T085205', 'geoanalytics-user-shared-data/Tutorial_stac_test/2020S2A_MSIL2A_20200606T153911_R011_T19TCN_20200826T085225', 'geoanalytics-user-shared-data/Tutorial_stac_test/2020S2A_MSIL2A_20200609T154911_R054_T18TYT_20200826T173901', 'geoanalytics-user-shared-data/Tutorial_stac_test/2020S2A_MSIL2A_20200609T154911_R054_T19TCN_20200826T173917', 'geoanalytics-user-shared-data/Tutorial_stac_test/2020S2A_MSIL2A_20200616T153911_R011_T18TYT_20200822T232336', 'geoanalytics-user-shared-data/Tutorial_stac_test/2020S2A_MSIL2A_20200616T153911_R011_T19TCN_20200822T232355', 'geoanalytics-user-shared-data/Tutorial_stac_test/2020S2A_MSIL2A_20200619T154911_R054_T18TYT_20200823T072905', 'geoanalytics-user-shared-data/Tutorial_stac_test/2020S2A_MSIL2A_20200619T154911_R054_T19TCN_20200823T072916', 'geoanalytics-user-shared-data/Tutorial_stac_test/2020S2A_MSIL2A_20200626T153911_R011_T18TYT_20200824T043011', 'geoanalytics-user-shared-data/Tutorial_stac_test/2020S2A_MSIL2A_20200626T153911_R011_T19TCN_20200824T043032', 'geoanalytics-user-shared-data/Tutorial_stac_test/2020S2A_MSIL2A_20200629T154911_R054_T18TYT_20200824T133742', 'geoanalytics-user-shared-data/Tutorial_stac_test/2020S2A_MSIL2A_20200629T154911_R054_T19TCN_20200824T133754', 'geoanalytics-user-shared-data/Tutorial_stac_test/2020S2A_MSIL2A_20200706T153911_R011_T18TYT_20200825T101859', 'geoanalytics-user-shared-data/Tutorial_stac_test/2020S2A_MSIL2A_20200706T153911_R011_T19TCN_20200825T101919', 'geoanalytics-user-shared-data/Tutorial_stac_test/2020S2A_MSIL2A_20200709T154911_R054_T18TYT_20200912T140734', 'geoanalytics-user-shared-data/Tutorial_stac_test/2020S2A_MSIL2A_20200709T154911_R054_T19TCN_20200912T140743', 'geoanalytics-user-shared-data/Tutorial_stac_test/2020S2A_MSIL2A_20200716T153911_R011_T18TYT_20200816T082633', 'geoanalytics-user-shared-data/Tutorial_stac_test/2020S2A_MSIL2A_20200716T153911_R011_T19TCN_20200816T082655', 'geoanalytics-user-shared-data/Tutorial_stac_test/2020S2A_MSIL2A_20200719T154911_R054_T18TYT_20200816T173842', 'geoanalytics-user-shared-data/Tutorial_stac_test/2020S2A_MSIL2A_20200719T154911_R054_T19TCN_20200816T173851', 'geoanalytics-user-shared-data/Tutorial_stac_test/2020S2A_MSIL2A_20200726T153911_R011_T18TYT_20200817T145522', 'geoanalytics-user-shared-data/Tutorial_stac_test/2020S2A_MSIL2A_20200726T153911_R011_T19TCN_20200817T145547', 'geoanalytics-user-shared-data/Tutorial_stac_test/2020S2A_MSIL2A_20200729T154911_R054_T18TYT_20200818T002218', 'geoanalytics-user-shared-data/Tutorial_stac_test/2020S2A_MSIL2A_20200729T154911_R054_T19TCN_20200818T002228', 'geoanalytics-user-shared-data/Tutorial_stac_test/2020S2A_MSIL2A_20200805T153911_R011_T18TYT_20200815T024654', 'geoanalytics-user-shared-data/Tutorial_stac_test/2020S2A_MSIL2A_20200805T153911_R011_T19TCN_20200815T024713', 'geoanalytics-user-shared-data/Tutorial_stac_test/2020S2A_MSIL2A_20200808T154911_R054_T18TYT_20200815T111705', 'geoanalytics-user-shared-data/Tutorial_stac_test/2020S2A_MSIL2A_20200808T154911_R054_T19TCN_20200815T111715', 'geoanalytics-user-shared-data/Tutorial_stac_test/2020S2A_MSIL2A_20200815T153911_R011_T18TYT_20200818T100505', 'geoanalytics-user-shared-data/Tutorial_stac_test/2020S2A_MSIL2A_20200815T153911_R011_T19TCN_20200818T100459', 'geoanalytics-user-shared-data/Tutorial_stac_test/2020S2A_MSIL2A_20200818T154911_R054_T18TYT_20200822T120535', 'geoanalytics-user-shared-data/Tutorial_stac_test/2020S2A_MSIL2A_20200818T154911_R054_T19TCN_20200822T120450', 'geoanalytics-user-shared-data/Tutorial_stac_test/2020S2A_MSIL2A_20200825T153911_R011_T18TYT_20200909T093245', 'geoanalytics-user-shared-data/Tutorial_stac_test/2020S2A_MSIL2A_20200825T153911_R011_T19TCN_20200827T181525', 'geoanalytics-user-shared-data/Tutorial_stac_test/2020S2A_MSIL2A_20200828T154911_R054_T18TYT_20200907T115316', 'geoanalytics-user-shared-data/Tutorial_stac_test/2020S2A_MSIL2A_20200828T154911_R054_T19TCN_20200907T115340', 'geoanalytics-user-shared-data/Tutorial_stac_test/2020S2A_MSIL2A_20200904T153911_R011_T18TYT_20210714T005643', 'geoanalytics-user-shared-data/Tutorial_stac_test/2020S2A_MSIL2A_20200907T154911_R054_T19TCN_20200911T174716', 'geoanalytics-user-shared-data/Tutorial_stac_test/2020S2A_MSIL2A_20200914T153911_R011_T18TYT_20200917T135025', 'geoanalytics-user-shared-data/Tutorial_stac_test/2020S2A_MSIL2A_20200914T153911_R011_T19TCN_20200917T135029', 'geoanalytics-user-shared-data/Tutorial_stac_test/2020S2A_MSIL2A_20200917T154921_R054_T18TYT_20200920T193243', 'geoanalytics-user-shared-data/Tutorial_stac_test/2020S2A_MSIL2A_20200917T154921_R054_T19TCN_20200920T200442', 'geoanalytics-user-shared-data/Tutorial_stac_test/2020S2A_MSIL2A_20200924T154001_R011_T18TYT_20201027T093949', 'geoanalytics-user-shared-data/Tutorial_stac_test/2020S2A_MSIL2A_20200924T154001_R011_T19TCN_20200926T124706', 'geoanalytics-user-shared-data/Tutorial_stac_test/2020S2A_MSIL2A_20200927T155031_R054_T18TYT_20200929T005621', 'geoanalytics-user-shared-data/Tutorial_stac_test/2020S2A_MSIL2A_20200927T155031_R054_T19TCN_20200929T005608', 'geoanalytics-user-shared-data/Tutorial_stac_test/2020S2B_MSIL2A_20190607T153819_R011_T18TYT_20201005T232404', 'geoanalytics-user-shared-data/Tutorial_stac_test/2020S2B_MSIL2A_20190607T153819_R011_T19TCN_20201005T232406', 'geoanalytics-user-shared-data/Tutorial_stac_test/2020S2B_MSIL2A_20190610T154819_R054_T18TYT_20201006T003813', 'geoanalytics-user-shared-data/Tutorial_stac_test/2020S2B_MSIL2A_20190610T154819_R054_T19TCN_20201006T003809', 'geoanalytics-user-shared-data/Tutorial_stac_test/2020S2B_MSIL2A_20190617T153819_R011_T18TYT_20201006T032941', 'geoanalytics-user-shared-data/Tutorial_stac_test/2020S2B_MSIL2A_20190617T153819_R011_T19TCN_20201006T032945', 'geoanalytics-user-shared-data/Tutorial_stac_test/2020S2B_MSIL2A_20190620T154819_R054_T18TYT_20201006T044349', 'geoanalytics-user-shared-data/Tutorial_stac_test/2020S2B_MSIL2A_20190620T154819_R054_T19TCN_20201006T044346', 'geoanalytics-user-shared-data/Tutorial_stac_test/2020S2B_MSIL2A_20190627T153819_R011_T18TYT_20201006T071156', 'geoanalytics-user-shared-data/Tutorial_stac_test/2020S2B_MSIL2A_20190627T153819_R011_T19TCN_20201006T071157', 'geoanalytics-user-shared-data/Tutorial_stac_test/2020S2B_MSIL2A_20190630T154819_R054_T18TYT_20201006T082641', 'geoanalytics-user-shared-data/Tutorial_stac_test/2020S2B_MSIL2A_20190630T154819_R054_T19TCN_20201006T082638', 'geoanalytics-user-shared-data/Tutorial_stac_test/2020S2B_MSIL2A_20190707T153819_R011_T18TYT_20201005T104752', 'geoanalytics-user-shared-data/Tutorial_stac_test/2020S2B_MSIL2A_20190707T153819_R011_T19TCN_20201005T104755', 'geoanalytics-user-shared-data/Tutorial_stac_test/2020S2B_MSIL2A_20190710T154819_R054_T18TYT_20201005T121229', 'geoanalytics-user-shared-data/Tutorial_stac_test/2020S2B_MSIL2A_20190710T154819_R054_T19TCN_20201005T121226', 'geoanalytics-user-shared-data/Tutorial_stac_test/2020S2B_MSIL2A_20190717T153819_R011_T18TYT_20201005T153817', 'geoanalytics-user-shared-data/Tutorial_stac_test/2020S2B_MSIL2A_20190717T153819_R011_T19TCN_20201005T153817', 'geoanalytics-user-shared-data/Tutorial_stac_test/2020S2B_MSIL2A_20190720T154819_R054_T18TYT_20201005T171016', 'geoanalytics-user-shared-data/Tutorial_stac_test/2020S2B_MSIL2A_20190720T154819_R054_T19TCN_20201005T171015', 'geoanalytics-user-shared-data/Tutorial_stac_test/2020S2B_MSIL2A_20190727T153819_R011_T18TYT_20201106T033550', 'geoanalytics-user-shared-data/Tutorial_stac_test/2020S2B_MSIL2A_20190727T153819_R011_T19TCN_20201106T033605', 'geoanalytics-user-shared-data/Tutorial_stac_test/2020S2B_MSIL2A_20190730T154819_R054_T18TYT_20201005T200625', 'geoanalytics-user-shared-data/Tutorial_stac_test/2020S2B_MSIL2A_20190730T154819_R054_T19TCN_20201005T200624', 'geoanalytics-user-shared-data/Tutorial_stac_test/2020S2B_MSIL2A_20190806T153819_R011_T18TYT_20201004T211741', 'geoanalytics-user-shared-data/Tutorial_stac_test/2020S2B_MSIL2A_20190806T153819_R011_T19TCN_20201004T211746', 'geoanalytics-user-shared-data/Tutorial_stac_test/2020S2B_MSIL2A_20190809T154819_R054_T18TYT_20201004T222831', 'geoanalytics-user-shared-data/Tutorial_stac_test/2020S2B_MSIL2A_20190809T154819_R054_T19TCN_20201004T222827', 'geoanalytics-user-shared-data/Tutorial_stac_test/2020S2B_MSIL2A_20190816T153819_R011_T18TYT_20201005T011437', 'geoanalytics-user-shared-data/Tutorial_stac_test/2020S2B_MSIL2A_20190816T153819_R011_T19TCN_20201005T011435', 'geoanalytics-user-shared-data/Tutorial_stac_test/2020S2B_MSIL2A_20190819T154819_R054_T18TYT_20201005T022721', 'geoanalytics-user-shared-data/Tutorial_stac_test/2020S2B_MSIL2A_20190819T154819_R054_T19TCN_20201005T022714', 'geoanalytics-user-shared-data/Tutorial_stac_test/2020S2B_MSIL2A_20190826T153819_R011_T18TYT_20201005T051650', 'geoanalytics-user-shared-data/Tutorial_stac_test/2020S2B_MSIL2A_20190826T153819_R011_T19TCN_20201005T051652', 'geoanalytics-user-shared-data/Tutorial_stac_test/2020S2B_MSIL2A_20190829T154819_R054_T18TYT_20201005T063559', 'geoanalytics-user-shared-data/Tutorial_stac_test/2020S2B_MSIL2A_20190829T154819_R054_T19TCN_20201106T053948', 'geoanalytics-user-shared-data/Tutorial_stac_test/2020S2B_MSIL2A_20190905T153809_R011_T18TYT_20201004T094505', 'geoanalytics-user-shared-data/Tutorial_stac_test/2020S2B_MSIL2A_20190905T153809_R011_T19TCN_20201004T094505', 'geoanalytics-user-shared-data/Tutorial_stac_test/2020S2B_MSIL2A_20190908T154809_R054_T18TYT_20201004T110951', 'geoanalytics-user-shared-data/Tutorial_stac_test/2020S2B_MSIL2A_20190908T154809_R054_T19TCN_20201004T105349', 'geoanalytics-user-shared-data/Tutorial_stac_test/2020S2B_MSIL2A_20190918T154919_R054_T18TYT_20201004T144354', 'geoanalytics-user-shared-data/Tutorial_stac_test/2020S2B_MSIL2A_20190918T154919_R054_T19TCN_20201004T144355', 'geoanalytics-user-shared-data/Tutorial_stac_test/2020S2B_MSIL2A_20190925T153959_R011_T18TYT_20201004T170713', 'geoanalytics-user-shared-data/Tutorial_stac_test/2020S2B_MSIL2A_20190925T153959_R011_T19TCN_20201004T170715', 'geoanalytics-user-shared-data/Tutorial_stac_test/2020S2B_MSIL2A_20200601T153809_R011_T18TYT_20200825T191530', 'geoanalytics-user-shared-data/Tutorial_stac_test/2020S2B_MSIL2A_20200601T153809_R011_T19TCN_20200825T191552', 'geoanalytics-user-shared-data/Tutorial_stac_test/2020S2B_MSIL2A_20200604T154819_R054_T18TYT_20200826T042155', 'geoanalytics-user-shared-data/Tutorial_stac_test/2020S2B_MSIL2A_20200604T154819_R054_T19TCN_20200826T042234', 'geoanalytics-user-shared-data/Tutorial_stac_test/2020S2B_MSIL2A_20200611T153809_R011_T18TYT_20200827T010521', 'geoanalytics-user-shared-data/Tutorial_stac_test/2020S2B_MSIL2A_20200611T153809_R011_T19TCN_20200827T010535', 'geoanalytics-user-shared-data/Tutorial_stac_test/2020S2B_MSIL2A_20200614T154819_R054_T18TYT_20200827T100343', 'geoanalytics-user-shared-data/Tutorial_stac_test/2020S2B_MSIL2A_20200614T154819_R054_T19TCN_20200827T100353', 'geoanalytics-user-shared-data/Tutorial_stac_test/2020S2B_MSIL2A_20200621T153819_R011_T18TYT_20200823T145505', 'geoanalytics-user-shared-data/Tutorial_stac_test/2020S2B_MSIL2A_20200621T153819_R011_T19TCN_20200823T145526', 'geoanalytics-user-shared-data/Tutorial_stac_test/2020S2B_MSIL2A_20200624T154819_R054_T18TYT_20200824T000219', 'geoanalytics-user-shared-data/Tutorial_stac_test/2020S2B_MSIL2A_20200624T154819_R054_T19TCN_20200824T000251', 'geoanalytics-user-shared-data/Tutorial_stac_test/2020S2B_MSIL2A_20200701T153809_R011_T18TYT_20200824T210929', 'geoanalytics-user-shared-data/Tutorial_stac_test/2020S2B_MSIL2A_20200701T153809_R011_T19TCN_20200824T210956', 'geoanalytics-user-shared-data/Tutorial_stac_test/2020S2B_MSIL2A_20200704T154819_R054_T18TYT_20200825T055142', 'geoanalytics-user-shared-data/Tutorial_stac_test/2020S2B_MSIL2A_20200704T154819_R054_T19TCN_20200825T055202', 'geoanalytics-user-shared-data/Tutorial_stac_test/2020S2B_MSIL2A_20200711T153809_R011_T18TYT_20200918T205128', 'geoanalytics-user-shared-data/Tutorial_stac_test/2020S2B_MSIL2A_20200711T153809_R011_T19TCN_20200912T211053', 'geoanalytics-user-shared-data/Tutorial_stac_test/2020S2B_MSIL2A_20200714T154809_R054_T18TYT_20200918T205136', 'geoanalytics-user-shared-data/Tutorial_stac_test/2020S2B_MSIL2A_20200714T154809_R054_T19TCN_20200913T051458', 'geoanalytics-user-shared-data/Tutorial_stac_test/2020S2B_MSIL2A_20200721T153809_R011_T18TYT_20200817T011441', 'geoanalytics-user-shared-data/Tutorial_stac_test/2020S2B_MSIL2A_20200721T153809_R011_T19TCN_20200817T011501', 'geoanalytics-user-shared-data/Tutorial_stac_test/2020S2B_MSIL2A_20200724T154819_R054_T18TYT_20200817T102734', 'geoanalytics-user-shared-data/Tutorial_stac_test/2020S2B_MSIL2A_20200724T154819_R054_T19TCN_20200817T102745', 'geoanalytics-user-shared-data/Tutorial_stac_test/2020S2B_MSIL2A_20200731T153819_R011_T18TYT_20200818T084234', 'geoanalytics-user-shared-data/Tutorial_stac_test/2020S2B_MSIL2A_20200731T153819_R011_T19TCN_20200818T084253', 'geoanalytics-user-shared-data/Tutorial_stac_test/2020S2B_MSIL2A_20200803T154819_R054_T18TYT_20200816T013345', 'geoanalytics-user-shared-data/Tutorial_stac_test/2020S2B_MSIL2A_20200803T154819_R054_T19TCN_20200816T013408', 'geoanalytics-user-shared-data/Tutorial_stac_test/2020S2B_MSIL2A_20200810T153819_R011_T18TYT_20200814T144536', 'geoanalytics-user-shared-data/Tutorial_stac_test/2020S2B_MSIL2A_20200810T153819_R011_T19TCN_20200814T144348', 'geoanalytics-user-shared-data/Tutorial_stac_test/2020S2B_MSIL2A_20200813T154819_R054_T18TYT_20200814T232003', 'geoanalytics-user-shared-data/Tutorial_stac_test/2020S2B_MSIL2A_20200813T154819_R054_T19TCN_20200814T231928', 'geoanalytics-user-shared-data/Tutorial_stac_test/2020S2B_MSIL2A_20200820T153819_R011_T18TYT_20200908T103408', 'geoanalytics-user-shared-data/Tutorial_stac_test/2020S2B_MSIL2A_20200820T153819_R011_T19TCN_20200822T185510', 'geoanalytics-user-shared-data/Tutorial_stac_test/2020S2B_MSIL2A_20200823T154819_R054_T18TYT_20200909T093244', 'geoanalytics-user-shared-data/Tutorial_stac_test/2020S2B_MSIL2A_20200823T154819_R054_T19TCN_20200825T160058', 'geoanalytics-user-shared-data/Tutorial_stac_test/2020S2B_MSIL2A_20200830T153819_R011_T18TYT_20200907T171302', 'geoanalytics-user-shared-data/Tutorial_stac_test/2020S2B_MSIL2A_20200830T153819_R011_T19TCN_20200907T171142', 'geoanalytics-user-shared-data/Tutorial_stac_test/2020S2B_MSIL2A_20200902T154819_R054_T18TYT_20200907T234244', 'geoanalytics-user-shared-data/Tutorial_stac_test/2020S2B_MSIL2A_20200902T154819_R054_T19TCN_20200907T234145', 'geoanalytics-user-shared-data/Tutorial_stac_test/2020S2B_MSIL2A_20200909T153819_R011_T18TYT_20200911T231317', 'geoanalytics-user-shared-data/Tutorial_stac_test/2020S2B_MSIL2A_20200909T153819_R011_T19TCN_20200911T231312', 'geoanalytics-user-shared-data/Tutorial_stac_test/2020S2B_MSIL2A_20200912T154819_R054_T18TYT_20200918T125547', 'geoanalytics-user-shared-data/Tutorial_stac_test/2020S2B_MSIL2A_20200912T154819_R054_T19TCN_20200918T125827', 'geoanalytics-user-shared-data/Tutorial_stac_test/2020S2B_MSIL2A_20200919T153819_R011_T18TYT_20200922T201552', 'geoanalytics-user-shared-data/Tutorial_stac_test/2020S2B_MSIL2A_20200919T153819_R011_T19TCN_20200922T201607', 'geoanalytics-user-shared-data/Tutorial_stac_test/2020S2B_MSIL2A_20200922T154859_R054_T18TYT_20200926T065051', 'geoanalytics-user-shared-data/Tutorial_stac_test/2020S2B_MSIL2A_20200922T154859_R054_T19TCN_20200926T065050', 'geoanalytics-user-shared-data/Tutorial_stac_test/2020S2B_MSIL2A_20200929T153949_R011_T18TYT_20201001T105922', 'geoanalytics-user-shared-data/Tutorial_stac_test/2020S2B_MSIL2A_20200929T153949_R011_T19TCN_20201001T105348']\n"
     ]
    }
   ],
   "source": [
    "image_list = gcs.glob('geoanalytics-user-shared-data/Tutorial_stac_test/[!2]*/')\n",
    "print(image_list)"
   ]
  },
  {
   "cell_type": "code",
   "execution_count": 20,
   "id": "34f5aae2-8f38-45d1-9246-7d95ea684b00",
   "metadata": {
    "tags": []
   },
   "outputs": [
    {
     "name": "stdout",
     "output_type": "stream",
     "text": [
      "2019S2A_MSIL2A_20190602T153911_R011_T18TYT_20201005T210750B01\n",
      "gs://geoanalytics-user-shared-data/Tutorial_stac_test/2019S2A_MSIL2A_20190602T153911_R011_T18TYT_20201005T210750/B01.tif\n"
     ]
    },
    {
     "ename": "KeyboardInterrupt",
     "evalue": "",
     "output_type": "error",
     "traceback": [
      "\u001b[0;31m---------------------------------------------------------------------------\u001b[0m",
      "\u001b[0;31mKeyError\u001b[0m                                  Traceback (most recent call last)",
      "File \u001b[0;32m/srv/conda/envs/notebook/lib/python3.9/site-packages/xarray/backends/file_manager.py:199\u001b[0m, in \u001b[0;36mCachingFileManager._acquire_with_cache_info\u001b[0;34m(self, needs_lock)\u001b[0m\n\u001b[1;32m    198\u001b[0m \u001b[38;5;28;01mtry\u001b[39;00m:\n\u001b[0;32m--> 199\u001b[0m     file \u001b[38;5;241m=\u001b[39m \u001b[38;5;28;43mself\u001b[39;49m\u001b[38;5;241;43m.\u001b[39;49m\u001b[43m_cache\u001b[49m\u001b[43m[\u001b[49m\u001b[38;5;28;43mself\u001b[39;49m\u001b[38;5;241;43m.\u001b[39;49m\u001b[43m_key\u001b[49m\u001b[43m]\u001b[49m\n\u001b[1;32m    200\u001b[0m \u001b[38;5;28;01mexcept\u001b[39;00m \u001b[38;5;167;01mKeyError\u001b[39;00m:\n",
      "File \u001b[0;32m/srv/conda/envs/notebook/lib/python3.9/site-packages/xarray/backends/lru_cache.py:53\u001b[0m, in \u001b[0;36mLRUCache.__getitem__\u001b[0;34m(self, key)\u001b[0m\n\u001b[1;32m     52\u001b[0m \u001b[38;5;28;01mwith\u001b[39;00m \u001b[38;5;28mself\u001b[39m\u001b[38;5;241m.\u001b[39m_lock:\n\u001b[0;32m---> 53\u001b[0m     value \u001b[38;5;241m=\u001b[39m \u001b[38;5;28;43mself\u001b[39;49m\u001b[38;5;241;43m.\u001b[39;49m\u001b[43m_cache\u001b[49m\u001b[43m[\u001b[49m\u001b[43mkey\u001b[49m\u001b[43m]\u001b[49m\n\u001b[1;32m     54\u001b[0m     \u001b[38;5;28mself\u001b[39m\u001b[38;5;241m.\u001b[39m_cache\u001b[38;5;241m.\u001b[39mmove_to_end(key)\n",
      "\u001b[0;31mKeyError\u001b[0m: [<function open at 0x7f75cb1f3940>, ('gs://geoanalytics-user-shared-data/Tutorial_stac_test/2019S2A_MSIL2A_20190602T153911_R011_T18TYT_20201005T210750/B01.tif',), 'r', (('sharing', False),)]",
      "\nDuring handling of the above exception, another exception occurred:\n",
      "\u001b[0;31mKeyboardInterrupt\u001b[0m                         Traceback (most recent call last)",
      "File \u001b[0;32m/srv/conda/envs/notebook/lib/python3.9/logging/__init__.py:2034\u001b[0m, in \u001b[0;36mgetLogger\u001b[0;34m(name)\u001b[0m\n\u001b[1;32m   2027\u001b[0m         _releaseLock()\n\u001b[1;32m   2029\u001b[0m \u001b[38;5;66;03m#---------------------------------------------------------------------------\u001b[39;00m\n\u001b[1;32m   2030\u001b[0m \u001b[38;5;66;03m# Utility functions at module level.\u001b[39;00m\n\u001b[1;32m   2031\u001b[0m \u001b[38;5;66;03m# Basically delegate everything to the root logger.\u001b[39;00m\n\u001b[1;32m   2032\u001b[0m \u001b[38;5;66;03m#---------------------------------------------------------------------------\u001b[39;00m\n\u001b[0;32m-> 2034\u001b[0m \u001b[38;5;28;01mdef\u001b[39;00m \u001b[38;5;21mgetLogger\u001b[39m(name\u001b[38;5;241m=\u001b[39m\u001b[38;5;28;01mNone\u001b[39;00m):\n\u001b[1;32m   2035\u001b[0m     \u001b[38;5;124;03m\"\"\"\u001b[39;00m\n\u001b[1;32m   2036\u001b[0m \u001b[38;5;124;03m    Return a logger with the specified name, creating it if necessary.\u001b[39;00m\n\u001b[1;32m   2037\u001b[0m \n\u001b[1;32m   2038\u001b[0m \u001b[38;5;124;03m    If no name is specified, return the root logger.\u001b[39;00m\n\u001b[1;32m   2039\u001b[0m \u001b[38;5;124;03m    \"\"\"\u001b[39;00m\n\u001b[1;32m   2040\u001b[0m     \u001b[38;5;28;01mif\u001b[39;00m \u001b[38;5;129;01mnot\u001b[39;00m name \u001b[38;5;129;01mor\u001b[39;00m \u001b[38;5;28misinstance\u001b[39m(name, \u001b[38;5;28mstr\u001b[39m) \u001b[38;5;129;01mand\u001b[39;00m name \u001b[38;5;241m==\u001b[39m root\u001b[38;5;241m.\u001b[39mname:\n",
      "\u001b[0;31mKeyboardInterrupt\u001b[0m: "
     ]
    },
    {
     "name": "stderr",
     "output_type": "stream",
     "text": [
      "Exception ignored in: 'rasterio._env.log_error'\n",
      "Traceback (most recent call last):\n",
      "  File \"/srv/conda/envs/notebook/lib/python3.9/logging/__init__.py\", line 2034, in getLogger\n",
      "    def getLogger(name=None):\n",
      "KeyboardInterrupt: \n"
     ]
    },
    {
     "ename": "RasterioIOError",
     "evalue": "Fetching OAuth2 access code from auth code failed.",
     "output_type": "error",
     "traceback": [
      "\u001b[0;31m---------------------------------------------------------------------------\u001b[0m",
      "\u001b[0;31mKeyError\u001b[0m                                  Traceback (most recent call last)",
      "File \u001b[0;32m/srv/conda/envs/notebook/lib/python3.9/site-packages/xarray/backends/file_manager.py:199\u001b[0m, in \u001b[0;36mCachingFileManager._acquire_with_cache_info\u001b[0;34m(self, needs_lock)\u001b[0m\n\u001b[1;32m    198\u001b[0m \u001b[38;5;28;01mtry\u001b[39;00m:\n\u001b[0;32m--> 199\u001b[0m     file \u001b[38;5;241m=\u001b[39m \u001b[38;5;28;43mself\u001b[39;49m\u001b[38;5;241;43m.\u001b[39;49m\u001b[43m_cache\u001b[49m\u001b[43m[\u001b[49m\u001b[38;5;28;43mself\u001b[39;49m\u001b[38;5;241;43m.\u001b[39;49m\u001b[43m_key\u001b[49m\u001b[43m]\u001b[49m\n\u001b[1;32m    200\u001b[0m \u001b[38;5;28;01mexcept\u001b[39;00m \u001b[38;5;167;01mKeyError\u001b[39;00m:\n",
      "File \u001b[0;32m/srv/conda/envs/notebook/lib/python3.9/site-packages/xarray/backends/lru_cache.py:53\u001b[0m, in \u001b[0;36mLRUCache.__getitem__\u001b[0;34m(self, key)\u001b[0m\n\u001b[1;32m     52\u001b[0m \u001b[38;5;28;01mwith\u001b[39;00m \u001b[38;5;28mself\u001b[39m\u001b[38;5;241m.\u001b[39m_lock:\n\u001b[0;32m---> 53\u001b[0m     value \u001b[38;5;241m=\u001b[39m \u001b[38;5;28;43mself\u001b[39;49m\u001b[38;5;241;43m.\u001b[39;49m\u001b[43m_cache\u001b[49m\u001b[43m[\u001b[49m\u001b[43mkey\u001b[49m\u001b[43m]\u001b[49m\n\u001b[1;32m     54\u001b[0m     \u001b[38;5;28mself\u001b[39m\u001b[38;5;241m.\u001b[39m_cache\u001b[38;5;241m.\u001b[39mmove_to_end(key)\n",
      "\u001b[0;31mKeyError\u001b[0m: [<function open at 0x7f75cb1f3940>, ('gs://geoanalytics-user-shared-data/Tutorial_stac_test/2019S2A_MSIL2A_20190602T153911_R011_T18TYT_20201005T210750/B01.tif',), 'r', (('sharing', False),)]",
      "\nDuring handling of the above exception, another exception occurred:\n",
      "\u001b[0;31mCPLE_AppDefinedError\u001b[0m                      Traceback (most recent call last)",
      "File \u001b[0;32mrasterio/_base.pyx:261\u001b[0m, in \u001b[0;36mrasterio._base.DatasetBase.__init__\u001b[0;34m()\u001b[0m\n",
      "File \u001b[0;32mrasterio/_shim.pyx:78\u001b[0m, in \u001b[0;36mrasterio._shim.open_dataset\u001b[0;34m()\u001b[0m\n",
      "File \u001b[0;32mrasterio/_err.pyx:216\u001b[0m, in \u001b[0;36mrasterio._err.exc_wrap_pointer\u001b[0;34m()\u001b[0m\n",
      "\u001b[0;31mCPLE_AppDefinedError\u001b[0m: Fetching OAuth2 access code from auth code failed.",
      "\nDuring handling of the above exception, another exception occurred:\n",
      "\u001b[0;31mRasterioIOError\u001b[0m                           Traceback (most recent call last)",
      "Input \u001b[0;32mIn [20]\u001b[0m, in \u001b[0;36m<cell line: 1>\u001b[0;34m()\u001b[0m\n\u001b[1;32m      9\u001b[0m \u001b[38;5;28mprint\u001b[39m(image_name)\n\u001b[1;32m     10\u001b[0m \u001b[38;5;28mprint\u001b[39m(band_path)\n\u001b[0;32m---> 11\u001b[0m bbox, footprint \u001b[38;5;241m=\u001b[39m \u001b[43mget_bbox_and_footprint\u001b[49m\u001b[43m(\u001b[49m\u001b[43mband_path\u001b[49m\u001b[43m,\u001b[49m\u001b[38;5;124;43m'\u001b[39;49m\u001b[38;5;124;43mauto\u001b[39;49m\u001b[38;5;124;43m'\u001b[39;49m\u001b[43m,\u001b[49m\u001b[43mgcs\u001b[49m\u001b[43m)\u001b[49m\n",
      "Input \u001b[0;32mIn [17]\u001b[0m, in \u001b[0;36mget_bbox_and_footprint\u001b[0;34m(raster_uri, chunk_size, token)\u001b[0m\n\u001b[1;32m      4\u001b[0m \u001b[38;5;28;01mdef\u001b[39;00m \u001b[38;5;21mget_bbox_and_footprint\u001b[39m(raster_uri, chunk_size, token):\n\u001b[0;32m----> 5\u001b[0m     \u001b[38;5;28;01mwith\u001b[39;00m \u001b[43mrioxarray\u001b[49m\u001b[38;5;241;43m.\u001b[39;49m\u001b[43mopen_rasterio\u001b[49m\u001b[43m(\u001b[49m\u001b[43mraster_uri\u001b[49m\u001b[43m,\u001b[49m\u001b[43m \u001b[49m\u001b[43mchunks\u001b[49m\u001b[43m \u001b[49m\u001b[38;5;241;43m=\u001b[39;49m\u001b[43m \u001b[49m\u001b[43mchunk_size\u001b[49m\u001b[43m)\u001b[49m \u001b[38;5;28;01mas\u001b[39;00m ds:\n\u001b[1;32m      6\u001b[0m         bounds \u001b[38;5;241m=\u001b[39m ds\u001b[38;5;241m.\u001b[39mbounds\n\u001b[1;32m      7\u001b[0m         bbox \u001b[38;5;241m=\u001b[39m [bounds\u001b[38;5;241m.\u001b[39mleft, bounds\u001b[38;5;241m.\u001b[39mbottom, bounds\u001b[38;5;241m.\u001b[39mright, bounds\u001b[38;5;241m.\u001b[39mtop]\n",
      "File \u001b[0;32m/srv/conda/envs/notebook/lib/python3.9/site-packages/rioxarray/_io.py:831\u001b[0m, in \u001b[0;36mopen_rasterio\u001b[0;34m(filename, parse_coordinates, chunks, cache, lock, masked, mask_and_scale, variable, group, default_name, decode_times, decode_timedelta, **open_kwargs)\u001b[0m\n\u001b[1;32m    829\u001b[0m     \u001b[38;5;28;01melse\u001b[39;00m:\n\u001b[1;32m    830\u001b[0m         manager \u001b[38;5;241m=\u001b[39m URIManager(rasterio\u001b[38;5;241m.\u001b[39mopen, filename, mode\u001b[38;5;241m=\u001b[39m\u001b[38;5;124m\"\u001b[39m\u001b[38;5;124mr\u001b[39m\u001b[38;5;124m\"\u001b[39m, kwargs\u001b[38;5;241m=\u001b[39mopen_kwargs)\n\u001b[0;32m--> 831\u001b[0m     riods \u001b[38;5;241m=\u001b[39m \u001b[43mmanager\u001b[49m\u001b[38;5;241;43m.\u001b[39;49m\u001b[43macquire\u001b[49m\u001b[43m(\u001b[49m\u001b[43m)\u001b[49m\n\u001b[1;32m    832\u001b[0m     captured_warnings \u001b[38;5;241m=\u001b[39m rio_warnings\u001b[38;5;241m.\u001b[39mcopy()\n\u001b[1;32m    834\u001b[0m \u001b[38;5;66;03m# raise the NotGeoreferencedWarning if applicable\u001b[39;00m\n",
      "File \u001b[0;32m/srv/conda/envs/notebook/lib/python3.9/site-packages/xarray/backends/file_manager.py:181\u001b[0m, in \u001b[0;36mCachingFileManager.acquire\u001b[0;34m(self, needs_lock)\u001b[0m\n\u001b[1;32m    166\u001b[0m \u001b[38;5;28;01mdef\u001b[39;00m \u001b[38;5;21macquire\u001b[39m(\u001b[38;5;28mself\u001b[39m, needs_lock\u001b[38;5;241m=\u001b[39m\u001b[38;5;28;01mTrue\u001b[39;00m):\n\u001b[1;32m    167\u001b[0m     \u001b[38;5;124;03m\"\"\"Acquire a file object from the manager.\u001b[39;00m\n\u001b[1;32m    168\u001b[0m \n\u001b[1;32m    169\u001b[0m \u001b[38;5;124;03m    A new file is only opened if it has expired from the\u001b[39;00m\n\u001b[0;32m   (...)\u001b[0m\n\u001b[1;32m    179\u001b[0m \u001b[38;5;124;03m        An open file object, as returned by ``opener(*args, **kwargs)``.\u001b[39;00m\n\u001b[1;32m    180\u001b[0m \u001b[38;5;124;03m    \"\"\"\u001b[39;00m\n\u001b[0;32m--> 181\u001b[0m     file, _ \u001b[38;5;241m=\u001b[39m \u001b[38;5;28;43mself\u001b[39;49m\u001b[38;5;241;43m.\u001b[39;49m\u001b[43m_acquire_with_cache_info\u001b[49m\u001b[43m(\u001b[49m\u001b[43mneeds_lock\u001b[49m\u001b[43m)\u001b[49m\n\u001b[1;32m    182\u001b[0m     \u001b[38;5;28;01mreturn\u001b[39;00m file\n",
      "File \u001b[0;32m/srv/conda/envs/notebook/lib/python3.9/site-packages/xarray/backends/file_manager.py:205\u001b[0m, in \u001b[0;36mCachingFileManager._acquire_with_cache_info\u001b[0;34m(self, needs_lock)\u001b[0m\n\u001b[1;32m    203\u001b[0m     kwargs \u001b[38;5;241m=\u001b[39m kwargs\u001b[38;5;241m.\u001b[39mcopy()\n\u001b[1;32m    204\u001b[0m     kwargs[\u001b[38;5;124m\"\u001b[39m\u001b[38;5;124mmode\u001b[39m\u001b[38;5;124m\"\u001b[39m] \u001b[38;5;241m=\u001b[39m \u001b[38;5;28mself\u001b[39m\u001b[38;5;241m.\u001b[39m_mode\n\u001b[0;32m--> 205\u001b[0m file \u001b[38;5;241m=\u001b[39m \u001b[38;5;28;43mself\u001b[39;49m\u001b[38;5;241;43m.\u001b[39;49m\u001b[43m_opener\u001b[49m\u001b[43m(\u001b[49m\u001b[38;5;241;43m*\u001b[39;49m\u001b[38;5;28;43mself\u001b[39;49m\u001b[38;5;241;43m.\u001b[39;49m\u001b[43m_args\u001b[49m\u001b[43m,\u001b[49m\u001b[43m \u001b[49m\u001b[38;5;241;43m*\u001b[39;49m\u001b[38;5;241;43m*\u001b[39;49m\u001b[43mkwargs\u001b[49m\u001b[43m)\u001b[49m\n\u001b[1;32m    206\u001b[0m \u001b[38;5;28;01mif\u001b[39;00m \u001b[38;5;28mself\u001b[39m\u001b[38;5;241m.\u001b[39m_mode \u001b[38;5;241m==\u001b[39m \u001b[38;5;124m\"\u001b[39m\u001b[38;5;124mw\u001b[39m\u001b[38;5;124m\"\u001b[39m:\n\u001b[1;32m    207\u001b[0m     \u001b[38;5;66;03m# ensure file doesn't get overridden when opened again\u001b[39;00m\n\u001b[1;32m    208\u001b[0m     \u001b[38;5;28mself\u001b[39m\u001b[38;5;241m.\u001b[39m_mode \u001b[38;5;241m=\u001b[39m \u001b[38;5;124m\"\u001b[39m\u001b[38;5;124ma\u001b[39m\u001b[38;5;124m\"\u001b[39m\n",
      "File \u001b[0;32m/srv/conda/envs/notebook/lib/python3.9/site-packages/rasterio/env.py:437\u001b[0m, in \u001b[0;36mensure_env_with_credentials.<locals>.wrapper\u001b[0;34m(*args, **kwds)\u001b[0m\n\u001b[1;32m    434\u001b[0m     session \u001b[38;5;241m=\u001b[39m DummySession()\n\u001b[1;32m    436\u001b[0m \u001b[38;5;28;01mwith\u001b[39;00m env_ctor(session\u001b[38;5;241m=\u001b[39msession):\n\u001b[0;32m--> 437\u001b[0m     \u001b[38;5;28;01mreturn\u001b[39;00m \u001b[43mf\u001b[49m\u001b[43m(\u001b[49m\u001b[38;5;241;43m*\u001b[39;49m\u001b[43margs\u001b[49m\u001b[43m,\u001b[49m\u001b[43m \u001b[49m\u001b[38;5;241;43m*\u001b[39;49m\u001b[38;5;241;43m*\u001b[39;49m\u001b[43mkwds\u001b[49m\u001b[43m)\u001b[49m\n",
      "File \u001b[0;32m/srv/conda/envs/notebook/lib/python3.9/site-packages/rasterio/__init__.py:220\u001b[0m, in \u001b[0;36mopen\u001b[0;34m(fp, mode, driver, width, height, count, crs, transform, dtype, nodata, sharing, **kwargs)\u001b[0m\n\u001b[1;32m    216\u001b[0m \u001b[38;5;66;03m# Create dataset instances and pass the given env, which will\u001b[39;00m\n\u001b[1;32m    217\u001b[0m \u001b[38;5;66;03m# be taken over by the dataset's context manager if it is not\u001b[39;00m\n\u001b[1;32m    218\u001b[0m \u001b[38;5;66;03m# None.\u001b[39;00m\n\u001b[1;32m    219\u001b[0m \u001b[38;5;28;01mif\u001b[39;00m mode \u001b[38;5;241m==\u001b[39m \u001b[38;5;124m'\u001b[39m\u001b[38;5;124mr\u001b[39m\u001b[38;5;124m'\u001b[39m:\n\u001b[0;32m--> 220\u001b[0m     s \u001b[38;5;241m=\u001b[39m \u001b[43mDatasetReader\u001b[49m\u001b[43m(\u001b[49m\u001b[43mpath\u001b[49m\u001b[43m,\u001b[49m\u001b[43m \u001b[49m\u001b[43mdriver\u001b[49m\u001b[38;5;241;43m=\u001b[39;49m\u001b[43mdriver\u001b[49m\u001b[43m,\u001b[49m\u001b[43m \u001b[49m\u001b[43msharing\u001b[49m\u001b[38;5;241;43m=\u001b[39;49m\u001b[43msharing\u001b[49m\u001b[43m,\u001b[49m\u001b[43m \u001b[49m\u001b[38;5;241;43m*\u001b[39;49m\u001b[38;5;241;43m*\u001b[39;49m\u001b[43mkwargs\u001b[49m\u001b[43m)\u001b[49m\n\u001b[1;32m    221\u001b[0m \u001b[38;5;28;01melif\u001b[39;00m mode \u001b[38;5;241m==\u001b[39m \u001b[38;5;124m\"\u001b[39m\u001b[38;5;124mr+\u001b[39m\u001b[38;5;124m\"\u001b[39m:\n\u001b[1;32m    222\u001b[0m     s \u001b[38;5;241m=\u001b[39m get_writer_for_path(path, driver\u001b[38;5;241m=\u001b[39mdriver)(\n\u001b[1;32m    223\u001b[0m         path, mode, driver\u001b[38;5;241m=\u001b[39mdriver, sharing\u001b[38;5;241m=\u001b[39msharing, \u001b[38;5;241m*\u001b[39m\u001b[38;5;241m*\u001b[39mkwargs\n\u001b[1;32m    224\u001b[0m     )\n",
      "File \u001b[0;32mrasterio/_base.pyx:263\u001b[0m, in \u001b[0;36mrasterio._base.DatasetBase.__init__\u001b[0;34m()\u001b[0m\n",
      "\u001b[0;31mRasterioIOError\u001b[0m: Fetching OAuth2 access code from auth code failed."
     ]
    }
   ],
   "source": [
    "for folder in image_list:\n",
    "    # print(f'Folder:{folder}')\n",
    "    for band in TGT_BANDS:\n",
    "        # print(f'band:{band}.tif')\n",
    "        \n",
    "        band_path = f'gs://{folder}/{band}.tif'\n",
    "        p = Path(folder)\n",
    "        image_name = f'{p.parts[-1]}{band}'\n",
    "        print(image_name)\n",
    "        print(band_path)\n",
    "        bbox, footprint = get_bbox_and_footprint(band_path,'auto',gcs)\n",
    "        # print (bbox)\n",
    "        # print(footprint)\n",
    "        # item = pystac.Item(id=image_name,\n",
    "        #          geometry=footprint,\n",
    "        #          bbox=bbox,\n",
    "        #          datetime=datetime.utcnow(),\n",
    "        #          properties={})"
   ]
  },
  {
   "cell_type": "code",
   "execution_count": 99,
   "id": "9e9ee19e-fc19-4dd3-9247-301daed6be4d",
   "metadata": {},
   "outputs": [
    {
     "name": "stdout",
     "output_type": "stream",
     "text": [
      "/home/jovyan/geoanalytics_user_shared_data/Tutorial_stac_test/2019S2A_MSIL2A_20190602T153911_R011_T18TYT_20201005T210750/B01.tif\n",
      "[761795.0, 5203955.0, 764415.0, 5206455.0]\n",
      "{'type': 'Polygon', 'coordinates': (((761795.0, 5203955.0), (761795.0, 5206455.0), (764415.0, 5206455.0), (764415.0, 5203955.0), (761795.0, 5203955.0)),)}\n"
     ]
    }
   ],
   "source": [
    "bbox, footprint = get_bbox_and_footprint('/home/jovyan/geoanalytics_user_shared_data/Tutorial_stac_test/2019S2A_MSIL2A_20190602T153911_R011_T18TYT_20201005T210750/B01.tif')\n",
    "print('/home/jovyan/geoanalytics_user_shared_data/Tutorial_stac_test/2019S2A_MSIL2A_20190602T153911_R011_T18TYT_20201005T210750/B01.tif')\n",
    "print(bbox)\n",
    "print(footprint)"
   ]
  },
  {
   "cell_type": "code",
   "execution_count": 54,
   "id": "5ffb635f-ebb0-4c80-96a7-7156aa83c1eb",
   "metadata": {},
   "outputs": [],
   "source": [
    "item = pystac.Item(id='local-image',\n",
    "                 geometry=footprint,\n",
    "                 bbox=bbox,\n",
    "                 datetime=datetime.utcnow(),\n",
    "                 properties={})"
   ]
  },
  {
   "cell_type": "code",
   "execution_count": 55,
   "id": "ac233be2-477e-4c04-a78f-6500d7677d86",
   "metadata": {},
   "outputs": [
    {
     "data": {
      "text/plain": [
       "True"
      ]
     },
     "execution_count": 55,
     "metadata": {},
     "output_type": "execute_result"
    }
   ],
   "source": [
    "item.get_parent() is None"
   ]
  },
  {
   "cell_type": "code",
   "execution_count": 56,
   "id": "6c7b15b8-3e8b-4637-88ca-fe8c71ccfb76",
   "metadata": {},
   "outputs": [],
   "source": [
    "catalog.add_item(item)"
   ]
  },
  {
   "cell_type": "code",
   "execution_count": 57,
   "id": "56ed13fd-3d70-45e5-8105-1feea48b128d",
   "metadata": {},
   "outputs": [
    {
     "data": {
      "text/plain": [
       "<Catalog id=S2-test-catalog>"
      ]
     },
     "execution_count": 57,
     "metadata": {},
     "output_type": "execute_result"
    }
   ],
   "source": [
    "item.get_parent()"
   ]
  },
  {
   "cell_type": "code",
   "execution_count": 58,
   "id": "17a8886d-d37c-47a3-97d6-15498fdee37d",
   "metadata": {},
   "outputs": [
    {
     "name": "stdout",
     "output_type": "stream",
     "text": [
      "* <Catalog id=S2-test-catalog>\n",
      "  * <Item id=local-image>\n"
     ]
    }
   ],
   "source": [
    "catalog.describe()"
   ]
  },
  {
   "cell_type": "code",
   "execution_count": 59,
   "id": "540827e4-59fd-4787-9f42-fee37e87ea75",
   "metadata": {},
   "outputs": [
    {
     "name": "stdout",
     "output_type": "stream",
     "text": [
      "An object that contains a link to data associated with an Item or Collection that\n",
      "    can be downloaded or streamed.\n",
      "\n",
      "    Args:\n",
      "        href : Link to the asset object. Relative and absolute links are both\n",
      "            allowed.\n",
      "        title : Optional displayed title for clients and users.\n",
      "        description : A description of the Asset providing additional details,\n",
      "            such as how it was processed or created. CommonMark 0.29 syntax MAY be used\n",
      "            for rich text representation.\n",
      "        media_type : Optional description of the media type. Registered Media Types\n",
      "            are preferred. See :class:`~pystac.MediaType` for common media types.\n",
      "        roles : Optional, Semantic roles (i.e. thumbnail, overview,\n",
      "            data, metadata) of the asset.\n",
      "        extra_fields : Optional, additional fields for this asset. This is used\n",
      "            by extensions as a way to serialize and deserialize properties on asset\n",
      "            object JSON.\n",
      "    \n"
     ]
    }
   ],
   "source": [
    "print(pystac.Asset.__doc__)"
   ]
  },
  {
   "cell_type": "code",
   "execution_count": 60,
   "id": "d20c57b5-4ec7-4504-8a9d-9bc4c426bce4",
   "metadata": {},
   "outputs": [],
   "source": [
    "item.add_asset(\n",
    "    key='image',\n",
    "    asset=pystac.Asset(\n",
    "        href='/home/jovyan/geoanalytics_user_shared_data/Tutorial_stac_test/2019S2A_MSIL2A_20190602T153911_R011_T18TYT_20201005T210750/B01.tif',\n",
    "        media_type=pystac.MediaType.COG\n",
    "    )\n",
    ")"
   ]
  },
  {
   "cell_type": "code",
   "execution_count": 61,
   "id": "e9d67016-8b75-4ae1-a891-f8808331979a",
   "metadata": {},
   "outputs": [
    {
     "name": "stdout",
     "output_type": "stream",
     "text": [
      "{\n",
      "    \"type\": \"Feature\",\n",
      "    \"stac_version\": \"1.0.0\",\n",
      "    \"id\": \"local-image\",\n",
      "    \"properties\": {\n",
      "        \"datetime\": \"2022-06-14T16:02:46.363977Z\"\n",
      "    },\n",
      "    \"geometry\": {\n",
      "        \"type\": \"Polygon\",\n",
      "        \"coordinates\": [\n",
      "            [\n",
      "                [\n",
      "                    761795.0,\n",
      "                    5203955.0\n",
      "                ],\n",
      "                [\n",
      "                    761795.0,\n",
      "                    5206455.0\n",
      "                ],\n",
      "                [\n",
      "                    764415.0,\n",
      "                    5206455.0\n",
      "                ],\n",
      "                [\n",
      "                    764415.0,\n",
      "                    5203955.0\n",
      "                ],\n",
      "                [\n",
      "                    761795.0,\n",
      "                    5203955.0\n",
      "                ]\n",
      "            ]\n",
      "        ]\n",
      "    },\n",
      "    \"links\": [\n",
      "        {\n",
      "            \"rel\": \"root\",\n",
      "            \"href\": null,\n",
      "            \"type\": \"application/json\"\n",
      "        },\n",
      "        {\n",
      "            \"rel\": \"parent\",\n",
      "            \"href\": null,\n",
      "            \"type\": \"application/json\"\n",
      "        }\n",
      "    ],\n",
      "    \"assets\": {\n",
      "        \"image\": {\n",
      "            \"href\": \"/home/jovyan/geoanalytics_user_shared_data/Tutorial_stac_test/2019S2A_MSIL2A_20190602T153911_R011_T18TYT_20201005T210750/B01.tif\",\n",
      "            \"type\": \"image/tiff; application=geotiff; profile=cloud-optimized\"\n",
      "        }\n",
      "    },\n",
      "    \"bbox\": [\n",
      "        761795.0,\n",
      "        5203955.0,\n",
      "        764415.0,\n",
      "        5206455.0\n",
      "    ],\n",
      "    \"stac_extensions\": []\n",
      "}\n"
     ]
    }
   ],
   "source": [
    "print(json.dumps(item.to_dict(), indent=4))"
   ]
  },
  {
   "cell_type": "code",
   "execution_count": 62,
   "id": "4b18d4c1-8992-4666-9e34-6b99a01ea629",
   "metadata": {},
   "outputs": [
    {
     "name": "stdout",
     "output_type": "stream",
     "text": [
      "True\n",
      "True\n"
     ]
    }
   ],
   "source": [
    "print(catalog.get_self_href() is None)\n",
    "print(item.get_self_href() is None)"
   ]
  },
  {
   "cell_type": "code",
   "execution_count": 74,
   "id": "a8b29f8c-20d7-4fb0-b2e8-eaf48de41df3",
   "metadata": {},
   "outputs": [
    {
     "ename": "NameError",
     "evalue": "name 'tmp_dir' is not defined",
     "output_type": "error",
     "traceback": [
      "\u001b[0;31m---------------------------------------------------------------------------\u001b[0m",
      "\u001b[0;31mNameError\u001b[0m                                 Traceback (most recent call last)",
      "Input \u001b[0;32mIn [74]\u001b[0m, in \u001b[0;36m<cell line: 1>\u001b[0;34m()\u001b[0m\n\u001b[0;32m----> 1\u001b[0m catalog\u001b[38;5;241m.\u001b[39mnormalize_hrefs(os\u001b[38;5;241m.\u001b[39mpath\u001b[38;5;241m.\u001b[39mjoin(\u001b[43mtmp_dir\u001b[49m\u001b[38;5;241m.\u001b[39mname, \u001b[38;5;124m'\u001b[39m\u001b[38;5;124mstac\u001b[39m\u001b[38;5;124m'\u001b[39m))\n",
      "\u001b[0;31mNameError\u001b[0m: name 'tmp_dir' is not defined"
     ]
    }
   ],
   "source": [
    "catalog.normalize_hrefs(os.path.join(, 'stac'))"
   ]
  },
  {
   "cell_type": "code",
   "execution_count": 72,
   "id": "025e1326-dbbc-440c-a79c-1b4643cff286",
   "metadata": {},
   "outputs": [],
   "source": [
    "# S2_bands = [Band.create(name='coastal', description='Coastal_aerosol: 400 - 450 nm - 60m', common_name='coastal'),\n",
    "#              Band.create(name='blue', description='Blue: 450 - 510 nm - 10m', common_name='blue'),\n",
    "#              Band.create(name='green', description='Green: 510 - 560 nm - 10m', common_name='green'),\n",
    "#              Band.create(name='red', description='Red: 580 - 665 nm - 10m', common_name='red'),\n",
    "#              Band.create(name='VNIR1', description='Red: 670 - 705 nm - 20m', common_name='VNIR1'),\n",
    "#              Band.create(name='VNIR2', description='Red Edge: 710 - 745 nm', common_name='VNIR2'),\n",
    "#              Band.create(name='NIR1', description='NIR1: 750 - 780 nm', common_name='NIR1'),\n",
    "#              Band.create(name='NIR2', description='NIR2: 780 - 842 nm', common_name='NIR2'),\n",
    "#              Band.create(name='nir08', description='nir08: 845 - 870 nm', common_name='NIR08'),\n",
    "#              Band.create(name='nir09', description='nir09: 850 - 1050 nm', common_name='NIR09')\n",
    "#              ]"
   ]
  },
  {
   "cell_type": "code",
   "execution_count": 73,
   "id": "1c860a22-cf42-4726-a8ca-5922180127dc",
   "metadata": {},
   "outputs": [
    {
     "ename": "AttributeError",
     "evalue": "'Item' object has no attribute 'ext'",
     "output_type": "error",
     "traceback": [
      "\u001b[0;31m---------------------------------------------------------------------------\u001b[0m",
      "\u001b[0;31mAttributeError\u001b[0m                            Traceback (most recent call last)",
      "Input \u001b[0;32mIn [73]\u001b[0m, in \u001b[0;36m<cell line: 7>\u001b[0;34m()\u001b[0m\n\u001b[1;32m      1\u001b[0m eo_item \u001b[38;5;241m=\u001b[39m pystac\u001b[38;5;241m.\u001b[39mItem(\u001b[38;5;28mid\u001b[39m\u001b[38;5;241m=\u001b[39m\u001b[38;5;124m'\u001b[39m\u001b[38;5;124mlocal-image-eo\u001b[39m\u001b[38;5;124m'\u001b[39m,\n\u001b[1;32m      2\u001b[0m                       geometry\u001b[38;5;241m=\u001b[39mfootprint,\n\u001b[1;32m      3\u001b[0m                       bbox\u001b[38;5;241m=\u001b[39mbbox,\n\u001b[1;32m      4\u001b[0m                       datetime\u001b[38;5;241m=\u001b[39mdatetime\u001b[38;5;241m.\u001b[39mutcnow(),\n\u001b[1;32m      5\u001b[0m                       properties\u001b[38;5;241m=\u001b[39m{})\n\u001b[0;32m----> 7\u001b[0m \u001b[43meo_item\u001b[49m\u001b[38;5;241;43m.\u001b[39;49m\u001b[43mext\u001b[49m\u001b[38;5;241m.\u001b[39menable(pystac\u001b[38;5;241m.\u001b[39mExtensions\u001b[38;5;241m.\u001b[39mEO)\n\u001b[1;32m      8\u001b[0m eo_item\u001b[38;5;241m.\u001b[39mext\u001b[38;5;241m.\u001b[39meo\u001b[38;5;241m.\u001b[39mapply(bands\u001b[38;5;241m=\u001b[39mwv3_bands)\n",
      "\u001b[0;31mAttributeError\u001b[0m: 'Item' object has no attribute 'ext'"
     ]
    }
   ],
   "source": [
    "# eo_item = pystac.Item(id='local-image-eo',\n",
    "#                       geometry=footprint,\n",
    "#                       bbox=bbox,\n",
    "#                       datetime=datetime.utcnow(),\n",
    "#                       properties={})\n",
    "\n",
    "# eo_item.ext.enable(pystac.Extensions.EO)\n",
    "# eo_item.ext.eo.apply(bands=wv3_bands)"
   ]
  },
  {
   "cell_type": "code",
   "execution_count": 55,
   "id": "0a2459da-aeb0-4ab3-bb0a-6c0b563f7ed3",
   "metadata": {},
   "outputs": [],
   "source": [
    "item.add_asset(\n",
    "    key='image',\n",
    "    asset=pystac.Asset(\n",
    "        href='/home/jovyan/geoanalytics_user_shared_data/Tutorial_stac_test/2019S2A_MSIL2A_20190602T153911_R011_T18TYT_20201005T210750/B01.tif',\n",
    "        media_type=pystac.MediaType.COG\n",
    "    )\n",
    ")"
   ]
  },
  {
   "cell_type": "code",
   "execution_count": 57,
   "id": "58550708-fdd0-4e54-8034-5414c8793228",
   "metadata": {
    "tags": []
   },
   "outputs": [
    {
     "name": "stdout",
     "output_type": "stream",
     "text": [
      "{\n",
      "    \"type\": \"Feature\",\n",
      "    \"stac_version\": \"1.0.0\",\n",
      "    \"id\": \"local-image\",\n",
      "    \"properties\": {\n",
      "        \"datetime\": \"2022-06-13T18:36:25.061204Z\"\n",
      "    },\n",
      "    \"geometry\": {\n",
      "        \"type\": \"Polygon\",\n",
      "        \"coordinates\": [\n",
      "            [\n",
      "                [\n",
      "                    761795.0,\n",
      "                    5203955.0\n",
      "                ],\n",
      "                [\n",
      "                    761795.0,\n",
      "                    5206455.0\n",
      "                ],\n",
      "                [\n",
      "                    764415.0,\n",
      "                    5206455.0\n",
      "                ],\n",
      "                [\n",
      "                    764415.0,\n",
      "                    5203955.0\n",
      "                ],\n",
      "                [\n",
      "                    761795.0,\n",
      "                    5203955.0\n",
      "                ]\n",
      "            ]\n",
      "        ]\n",
      "    },\n",
      "    \"links\": [\n",
      "        {\n",
      "            \"rel\": \"root\",\n",
      "            \"href\": null,\n",
      "            \"type\": \"application/json\"\n",
      "        },\n",
      "        {\n",
      "            \"rel\": \"parent\",\n",
      "            \"href\": null,\n",
      "            \"type\": \"application/json\"\n",
      "        }\n",
      "    ],\n",
      "    \"assets\": {\n",
      "        \"image\": {\n",
      "            \"href\": \"/home/jovyan/geoanalytics_user_shared_data/Tutorial_stac_test/2019S2A_MSIL2A_20190602T153911_R011_T18TYT_20201005T210750/B01.tif\",\n",
      "            \"type\": \"image/tiff; application=geotiff; profile=cloud-optimized\"\n",
      "        }\n",
      "    },\n",
      "    \"bbox\": [\n",
      "        761795.0,\n",
      "        5203955.0,\n",
      "        764415.0,\n",
      "        5206455.0\n",
      "    ],\n",
      "    \"stac_extensions\": []\n",
      "}\n"
     ]
    }
   ],
   "source": [
    "print(json.dumps(item.to_dict(), indent=4))"
   ]
  },
  {
   "cell_type": "code",
   "execution_count": 75,
   "id": "53a554f5-93b8-4825-a272-67961cb942e9",
   "metadata": {},
   "outputs": [],
   "source": [
    "catalog.normalize_hrefs(os.path.join('/home/jovyan/geoanalytics_user_shared_data/Tutorial_stac_test/', 'stac'))"
   ]
  },
  {
   "cell_type": "code",
   "execution_count": 76,
   "id": "450f6054-c01f-4cfb-99c4-cdd620255f24",
   "metadata": {},
   "outputs": [
    {
     "name": "stdout",
     "output_type": "stream",
     "text": [
      "/home/jovyan/geoanalytics_user_shared_data/Tutorial_stac_test/stac/catalog.json\n",
      "/home/jovyan/geoanalytics_user_shared_data/Tutorial_stac_test/stac/local-image/local-image.json\n"
     ]
    }
   ],
   "source": [
    "print(catalog.get_self_href())\n",
    "print(item.get_self_href())"
   ]
  },
  {
   "cell_type": "code",
   "execution_count": 77,
   "id": "fb9ca0bd-4160-4701-a374-69a4ee0fe345",
   "metadata": {},
   "outputs": [],
   "source": [
    "catalog.save(catalog_type=pystac.CatalogType.SELF_CONTAINED)"
   ]
  },
  {
   "cell_type": "code",
   "execution_count": null,
   "id": "d552852c-aa25-46e7-98c5-bc3ca911b4d9",
   "metadata": {
    "jupyter": {
     "source_hidden": true
    },
    "tags": []
   },
   "outputs": [],
   "source": [
    "##  The function create_STAC_Item() will create a PySTAC Item of a GeoTIFF with information provided as a json. \n",
    "# We must use PySTAC to create this STAC Item to be indexed to the STAC Server.STAC requires the projection of the bounding box and geometry to be in WGS84 (for example: EPSG:4326). \n",
    "# Since the original raster data is in EPSG:9001, the function first opens the file and reprojects the CRS to EPSG:4326, and passes the updated bounding box and geometry as features to the STAC Item.\n",
    "# The STAC Item Spec (https://github.com/radiantearth/stac-spec/blob/master/item-spec/item-spec.md) has details on the required and optional parameters to include for creating an Item.\n",
    "# The parameters to Instantiate the PySTAC Item will be:\n",
    "# ID: the Producer Granule ID from the metadata file.\n",
    "# Geometry: the geojson polygon feature with the updated CRS of the granule.\n",
    "# Bounding Box: the granules bounds with the updated CRS.\n",
    "# Datetime: the Acquisition Time (\"time_start\") from the metadata file.\n",
    "# Properties: Common metadata of the granule. (Other (non-boolean) attributes from the metadata file).\n",
    "# Extra Fields: Containing the band information from the Summary above.\n",
    "# Projection: The Coordinate Reference System of the data, using the Projection Extension.\n",
    "# Asset: The filepath/URL directing to the location of the data (very important!)\n",
    "\n",
    "def create_STAC_Item(tiff_path, metadata_json):\n",
    "    \n",
    "    with rasterio.open(tiff_path) as sample_cog:\n",
    "     #   left, bottom, right, top = sample_cog.bounds\n",
    "        bounds = sample_cog.bounds\n",
    "        src_crs = sample_cog.crs\n",
    "        dst_crs = 'EPSG:4326'  # EPSG identifier for WGS84 coordinate system used by the geojson format\n",
    "        left, bottom, right, top = rasterio.warp.transform_bounds(sample_cog.crs, dst_crs, *bounds)\n",
    "        bbox = [left, bottom, right, top]\n",
    "        \n",
    "        # Create geojson feature\n",
    "        geom = mapping(Polygon([\n",
    "          [left, bottom],\n",
    "           [left, top],\n",
    "           [right, top],\n",
    "           [right, bottom]\n",
    "        ]))\n",
    "        time_acquired = datetime.strptime(metadata_json['time_start'], '%Y-%m-%dT%H:%M:%S.%fZ')\n",
    "        \n",
    "        # Instantiate pystac item\n",
    "        item = pystac.Item(id=metadata_json[\"producer_granule_id\"][:-4],\n",
    "                           geometry=geom,\n",
    "                           bbox=bbox,\n",
    "                           datetime = time_acquired, \n",
    "                           properties={},\n",
    "                           extra_fields=summary)\n",
    "    \n",
    "        # Use Planet metadata.json to add some common metadata to the STAC item\n",
    "        cols = ['updated','dataset_id','data_center','title','coordinate_system','day_night_flag',\n",
    "        'original_format','granule_size','collection_concept_id']\n",
    "        for prop in cols:\n",
    "            item.properties[prop] = metadata_json[prop]\n",
    "            \n",
    "        item.properties['original_links'] = metadata_json['links'][0]\n",
    "    \n",
    "        # Enable item extensions\n",
    "        projection = ProjectionExtension.ext(item, add_if_missing=True)\n",
    "        projection.epsg = 'EPSG:9001'\n",
    "        \n",
    "        # Add the link to the asset (the path to the geotiff)\n",
    "        item.add_asset(key='analytic', asset=pystac.Asset(href=cog,\n",
    "                                                          title= \"13 Bands MODIS MCD12Q1 Raster\", # indicate it is a cloud optimized geotiff\n",
    "                                                          media_type=pystac.MediaType.COG,\n",
    "                                                          roles=([\"analytic\"]))) \n",
    "    \n",
    "     \n",
    "        # Tuple containing spatial and temporal extent information to use later in this tutorial\n",
    "        item_extent_info =  (bbox, geom, time_acquired)\n",
    "     \n",
    "    # Returns a list containing the PySTAC Item object and a tuple holding the bounding box, geojson polygon, and date the item was acquired\n",
    "    return item, (item_extent_info)\n",
    "\n",
    "## Next step is to call the function and create STAC Items for each granule in our folder. The for loops below iterate through each granule's metadata and geotiff and saves the STAC Item to a list."
   ]
  },
  {
   "cell_type": "code",
   "execution_count": null,
   "id": "6060e15a-0f31-4f14-9897-520054e59b47",
   "metadata": {},
   "outputs": [],
   "source": [
    "%%time\n",
    "stac_items_list = []\n",
    "yearslist = gcs.ls('granule-gcs-mtl01/modis/MCD12Q1/1_cog/2014')\n",
    "for year in yearslist:\n",
    "    print(year)\n",
    "    for date in gcs.ls(year):\n",
    "      #  print(date)\n",
    "        for file in gcs.ls(date):\n",
    "            if file.endswith(\".json\"):\n",
    "                cog = f'{file[:-5]}.tif'\n",
    "                sample_tif = 'local-mcd12q1.tif'\n",
    "                localjson = 'local-mcd12q1.json'\n",
    "                gcs.get(file,localjson)\n",
    "                gcs.get(cog,sample_tif)\n",
    "                metadata_json = pd.read_json(localjson, lines=True) # read data frame from json file\n",
    "                item, extent = create_STAC_Item(sample_tif, metadata_json.iloc[0])\n",
    "\n",
    "                stac_items_list.append((item, extent))"
   ]
  },
  {
   "cell_type": "code",
   "execution_count": 45,
   "id": "ed06a84c-7bfc-4e67-ae10-b91c96e50556",
   "metadata": {},
   "outputs": [],
   "source": [
    "cluster.shutdown()\n",
    "client.close()"
   ]
  }
 ],
 "metadata": {
  "kernelspec": {
   "display_name": "Python 3 (ipykernel)",
   "language": "python",
   "name": "python3"
  },
  "language_info": {
   "codemirror_mode": {
    "name": "ipython",
    "version": 3
   },
   "file_extension": ".py",
   "mimetype": "text/x-python",
   "name": "python",
   "nbconvert_exporter": "python",
   "pygments_lexer": "ipython3",
   "version": "3.9.12"
  }
 },
 "nbformat": 4,
 "nbformat_minor": 5
}
