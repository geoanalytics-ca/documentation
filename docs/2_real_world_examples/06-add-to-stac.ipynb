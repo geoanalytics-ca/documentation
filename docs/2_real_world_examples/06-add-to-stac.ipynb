{
 "cells": [
  {
   "cell_type": "markdown",
   "id": "40adff49-67e0-4831-9543-2dd50ae9ec88",
   "metadata": {},
   "source": [
    "# **Adding data to the Geoanalytics STAC server**"
   ]
  },
  {
   "cell_type": "code",
   "execution_count": 33,
   "id": "31b35e75-0d60-4e17-954e-936b4939f6e9",
   "metadata": {},
   "outputs": [
    {
     "name": "stdout",
     "output_type": "stream",
     "text": [
      "Requirement already satisfied: planetary_computer in /srv/conda/envs/notebook/lib/python3.9/site-packages (0.4.6)\n",
      "Requirement already satisfied: pydantic[dotenv]>=1.7.3 in /srv/conda/envs/notebook/lib/python3.9/site-packages (from planetary_computer) (1.9.0)\n",
      "Requirement already satisfied: pystac>=1.0.0 in /srv/conda/envs/notebook/lib/python3.9/site-packages (from planetary_computer) (1.2.0)\n",
      "Requirement already satisfied: pytz>=2020.5 in /srv/conda/envs/notebook/lib/python3.9/site-packages (from planetary_computer) (2022.1)\n",
      "Requirement already satisfied: click>=7.1 in /srv/conda/envs/notebook/lib/python3.9/site-packages (from planetary_computer) (8.1.2)\n",
      "Requirement already satisfied: pystac-client>=0.2.0 in /srv/conda/envs/notebook/lib/python3.9/site-packages (from planetary_computer) (0.3.2)\n",
      "Requirement already satisfied: requests>=2.25.1 in /srv/conda/envs/notebook/lib/python3.9/site-packages (from planetary_computer) (2.27.1)\n",
      "Requirement already satisfied: typing-extensions>=3.7.4.3 in /srv/conda/envs/notebook/lib/python3.9/site-packages (from pydantic[dotenv]>=1.7.3->planetary_computer) (4.1.1)\n",
      "Requirement already satisfied: python-dotenv>=0.10.4 in /srv/conda/envs/notebook/lib/python3.9/site-packages (from pydantic[dotenv]>=1.7.3->planetary_computer) (0.20.0)\n",
      "Requirement already satisfied: python-dateutil>=2.7.0 in /srv/conda/envs/notebook/lib/python3.9/site-packages (from pystac>=1.0.0->planetary_computer) (2.7.5)\n",
      "Requirement already satisfied: six>=1.5 in /srv/conda/envs/notebook/lib/python3.9/site-packages (from python-dateutil>=2.7.0->pystac>=1.0.0->planetary_computer) (1.16.0)\n",
      "Requirement already satisfied: certifi>=2017.4.17 in /srv/conda/envs/notebook/lib/python3.9/site-packages (from requests>=2.25.1->planetary_computer) (2021.10.8)\n",
      "Requirement already satisfied: idna<4,>=2.5 in /srv/conda/envs/notebook/lib/python3.9/site-packages (from requests>=2.25.1->planetary_computer) (3.3)\n",
      "Requirement already satisfied: urllib3<1.27,>=1.21.1 in /srv/conda/envs/notebook/lib/python3.9/site-packages (from requests>=2.25.1->planetary_computer) (1.26.9)\n",
      "Requirement already satisfied: charset-normalizer~=2.0.0 in /srv/conda/envs/notebook/lib/python3.9/site-packages (from requests>=2.25.1->planetary_computer) (2.0.12)\n",
      "Requirement already satisfied: boto3 in /srv/conda/envs/notebook/lib/python3.9/site-packages (1.21.21)\n",
      "Requirement already satisfied: jmespath<2.0.0,>=0.7.1 in /srv/conda/envs/notebook/lib/python3.9/site-packages (from boto3) (1.0.0)\n",
      "Requirement already satisfied: s3transfer<0.6.0,>=0.5.0 in /srv/conda/envs/notebook/lib/python3.9/site-packages (from boto3) (0.5.2)\n",
      "Requirement already satisfied: botocore<1.25.0,>=1.24.21 in /srv/conda/envs/notebook/lib/python3.9/site-packages (from boto3) (1.24.21)\n",
      "Requirement already satisfied: python-dateutil<3.0.0,>=2.1 in /srv/conda/envs/notebook/lib/python3.9/site-packages (from botocore<1.25.0,>=1.24.21->boto3) (2.7.5)\n",
      "Requirement already satisfied: urllib3<1.27,>=1.25.4 in /srv/conda/envs/notebook/lib/python3.9/site-packages (from botocore<1.25.0,>=1.24.21->boto3) (1.26.9)\n",
      "Requirement already satisfied: six>=1.5 in /srv/conda/envs/notebook/lib/python3.9/site-packages (from python-dateutil<3.0.0,>=2.1->botocore<1.25.0,>=1.24.21->boto3) (1.16.0)\n",
      "Requirement already satisfied: rasterio in /srv/conda/envs/notebook/lib/python3.9/site-packages (1.2.10)\n",
      "Requirement already satisfied: affine in /srv/conda/envs/notebook/lib/python3.9/site-packages (from rasterio) (2.3.1)\n",
      "Requirement already satisfied: click>=4.0 in /srv/conda/envs/notebook/lib/python3.9/site-packages (from rasterio) (8.1.2)\n",
      "Requirement already satisfied: attrs in /srv/conda/envs/notebook/lib/python3.9/site-packages (from rasterio) (21.4.0)\n",
      "Requirement already satisfied: snuggs>=1.4.1 in /srv/conda/envs/notebook/lib/python3.9/site-packages (from rasterio) (1.4.7)\n",
      "Requirement already satisfied: click-plugins in /srv/conda/envs/notebook/lib/python3.9/site-packages (from rasterio) (1.1.1)\n",
      "Requirement already satisfied: certifi in /srv/conda/envs/notebook/lib/python3.9/site-packages (from rasterio) (2021.10.8)\n",
      "Requirement already satisfied: numpy in /srv/conda/envs/notebook/lib/python3.9/site-packages (from rasterio) (1.22.3)\n",
      "Requirement already satisfied: setuptools in /srv/conda/envs/notebook/lib/python3.9/site-packages (from rasterio) (60.10.0)\n",
      "Requirement already satisfied: cligj>=0.5 in /srv/conda/envs/notebook/lib/python3.9/site-packages (from rasterio) (0.7.2)\n",
      "Requirement already satisfied: pyparsing>=2.1.6 in /srv/conda/envs/notebook/lib/python3.9/site-packages (from snuggs>=1.4.1->rasterio) (3.0.8)\n",
      "Requirement already satisfied: shapely in /srv/conda/envs/notebook/lib/python3.9/site-packages (1.8.0)\n"
     ]
    }
   ],
   "source": [
    "# We will be using Sentinel-2 L2A imagery from Microsoft Planetary Computer's STAC server:\n",
    "!pip install planetary_computer\n",
    "!pip install boto3\n",
    "!pip install rasterio\n",
    "!pip install shapely"
   ]
  },
  {
   "cell_type": "code",
   "execution_count": 69,
   "id": "db688730-0e85-45c7-918b-50576d73f9b0",
   "metadata": {},
   "outputs": [],
   "source": [
    "import io\n",
    "import os\n",
    "import sys\n",
    "import time\n",
    "import boto3\n",
    "import shapely\n",
    "import getpass\n",
    "import requests\n",
    "import datetime\n",
    "import json\n",
    "import glob\n",
    "import dask\n",
    "import rasterio\n",
    "import gcsfs\n",
    "import pystac\n",
    "import stackstac\n",
    "import planetary_computer\n",
    "\n",
    "import pandas as pd\n",
    "import numpy as np\n",
    "import xarray as xr\n",
    "import geopandas as gpd\n",
    "import rioxarray as rxr\n",
    "import matplotlib.pyplot as plt \n",
    "\n",
    "from rasterio.warp import calculate_default_transform\n",
    "from dask.distributed import performance_report\n",
    "from shapely.geometry import Polygon, mapping, shape\n",
    "from shapely.ops import unary_union\n",
    "from datetime import datetime\n",
    "from itertools import islice\n",
    "from pystac.extensions.projection import ProjectionExtension\n",
    "from pystac.extensions.eo import Band\n",
    "from pystac_client import Client\n",
    "from dask_gateway import Gateway\n",
    "from IPython.display import clear_output\n",
    "from shapely import wkt\n",
    "from dateutil.parser import parse as dateparse\n",
    "from urllib.request import urlopen, Request, build_opener, HTTPCookieProcessor\n",
    "from rio_cogeo.cogeo import cog_translate\n",
    "from rio_cogeo.profiles import cog_profiles\n",
    "from IPython.display import clear_output"
   ]
  },
  {
   "cell_type": "code",
   "execution_count": 3,
   "id": "5767c564-ab08-4356-b599-892be9833b3e",
   "metadata": {},
   "outputs": [],
   "source": [
    "gateway = Gateway()\n",
    "\n",
    "# Cluster configuration \n",
    "options = gateway.cluster_options()\n",
    "options.image = 'pangeo/pangeo-notebook:2022.04.15' ## need to update this to be automated"
   ]
  },
  {
   "cell_type": "code",
   "execution_count": 62,
   "id": "a5bbe9dd-c215-4a67-85bc-e8a7d4223b4d",
   "metadata": {
    "tags": []
   },
   "outputs": [
    {
     "data": {
      "application/vnd.jupyter.widget-view+json": {
       "model_id": "372f8c1d704b47a88e24164cade46cff",
       "version_major": 2,
       "version_minor": 0
      },
      "text/plain": [
       "VBox(children=(HTML(value='<h2>GatewayCluster</h2>'), HBox(children=(HTML(value='\\n<div>\\n<style scoped>\\n    …"
      ]
     },
     "metadata": {},
     "output_type": "display_data"
    }
   ],
   "source": [
    "cluster = gateway.new_cluster(options)\n",
    "cluster"
   ]
  },
  {
   "cell_type": "code",
   "execution_count": 63,
   "id": "15f3e3fd-426a-4be4-a664-111f250732a7",
   "metadata": {},
   "outputs": [],
   "source": [
    "# Scale the cluster\n",
    "workers = 15\n",
    "cluster.scale(workers) "
   ]
  },
  {
   "cell_type": "code",
   "execution_count": 64,
   "id": "9fb9f58d-0a68-40f7-a29c-2a53a20e0c98",
   "metadata": {
    "tags": []
   },
   "outputs": [],
   "source": [
    "# Assign client to this cluster so Dask knows to use it for computations\n",
    "client = cluster.get_client() "
   ]
  },
  {
   "cell_type": "code",
   "execution_count": 65,
   "id": "f5b3bc00-b1ed-4367-b06a-4a5d25be79a2",
   "metadata": {},
   "outputs": [
    {
     "data": {
      "application/vnd.jupyter.widget-view+json": {
       "model_id": "372f8c1d704b47a88e24164cade46cff",
       "version_major": 2,
       "version_minor": 0
      },
      "text/plain": [
       "VBox(children=(HTML(value='<h2>GatewayCluster</h2>'), HBox(children=(HTML(value='\\n<div>\\n<style scoped>\\n    …"
      ]
     },
     "metadata": {},
     "output_type": "display_data"
    }
   ],
   "source": [
    "client.wait_for_workers(workers-1)\n",
    "cluster"
   ]
  },
  {
   "cell_type": "code",
   "execution_count": 66,
   "id": "4b59b13f-5aff-4c6e-a729-ab2de58cb047",
   "metadata": {},
   "outputs": [
    {
     "data": {
      "text/plain": [
       "[ClusterReport<name=pangeo.20d77a6820ba4961ac7895f35ce76549, status=RUNNING>]"
      ]
     },
     "execution_count": 66,
     "metadata": {},
     "output_type": "execute_result"
    }
   ],
   "source": [
    "gateway.list_clusters()"
   ]
  },
  {
   "cell_type": "markdown",
   "id": "b0615fc5-ebe8-4543-a02d-79836563dd7d",
   "metadata": {},
   "source": [
    "## 1. Query the Sentinel 2 Data from PlanetaryComputer"
   ]
  },
  {
   "cell_type": "code",
   "execution_count": 9,
   "id": "8276219d-af49-4944-844b-f331a5480285",
   "metadata": {},
   "outputs": [],
   "source": [
    "# Create a polygon for defining our Area of Interest (AOI) in this case we are using a rough outline of Quebec City,Quebec created using: https://www.keene.edu/campus/maps/tool/\n",
    "polygon ={\n",
    "  \"coordinates\": [\n",
    "    [\n",
    "      [\n",
    "        -71.5577316,\n",
    "        46.9574391\n",
    "      ],\n",
    "      [\n",
    "        -71.5588903,\n",
    "        46.9381912\n",
    "      ],\n",
    "      [\n",
    "        -71.5264034,\n",
    "        46.9373414\n",
    "      ],\n",
    "      [\n",
    "        -71.5258884,\n",
    "        46.9588158\n",
    "      ],\n",
    "      [\n",
    "        -71.5577316,\n",
    "        46.9574391\n",
    "      ]\n",
    "    ]\n",
    "  ],\n",
    "  \"type\": \"Polygon\"\n",
    "}"
   ]
  },
  {
   "cell_type": "code",
   "execution_count": 10,
   "id": "eeaadddb-680a-47f7-8e4c-cf9d4c24ac14",
   "metadata": {},
   "outputs": [
    {
     "data": {
      "text/html": [
       "<div>\n",
       "<style scoped>\n",
       "    .dataframe tbody tr th:only-of-type {\n",
       "        vertical-align: middle;\n",
       "    }\n",
       "\n",
       "    .dataframe tbody tr th {\n",
       "        vertical-align: top;\n",
       "    }\n",
       "\n",
       "    .dataframe thead th {\n",
       "        text-align: right;\n",
       "    }\n",
       "</style>\n",
       "<table border=\"1\" class=\"dataframe\">\n",
       "  <thead>\n",
       "    <tr style=\"text-align: right;\">\n",
       "      <th></th>\n",
       "      <th>geometry</th>\n",
       "    </tr>\n",
       "  </thead>\n",
       "  <tbody>\n",
       "    <tr>\n",
       "      <th>0</th>\n",
       "      <td>POLYGON ((-71.55773 46.95744, -71.55889 46.938...</td>\n",
       "    </tr>\n",
       "  </tbody>\n",
       "</table>\n",
       "</div>"
      ],
      "text/plain": [
       "                                            geometry\n",
       "0  POLYGON ((-71.55773 46.95744, -71.55889 46.938..."
      ]
     },
     "execution_count": 10,
     "metadata": {},
     "output_type": "execute_result"
    }
   ],
   "source": [
    "lon_list = []\n",
    "lat_list = []\n",
    "\n",
    "for lon,lat in polygon['coordinates'][0]:\n",
    "    lon_list.append(lon)\n",
    "    lat_list.append(lat)\n",
    "polygon_geom = Polygon(zip(lon_list, lat_list))\n",
    "crs = 'EPSG:4326'\n",
    "polygon = gpd.GeoDataFrame(index=[0], crs=crs, geometry=[polygon_geom])\n",
    "polygon"
   ]
  },
  {
   "cell_type": "code",
   "execution_count": 11,
   "id": "70e07c3a-09d8-46e3-b2de-8099b15bff74",
   "metadata": {},
   "outputs": [
    {
     "data": {
      "image/svg+xml": [
       "<svg xmlns=\"http://www.w3.org/2000/svg\" xmlns:xlink=\"http://www.w3.org/1999/xlink\" width=\"100.0\" height=\"100.0\" viewBox=\"-71.560210376 46.936021324 0.035642052000000035 0.024114552000000344\" preserveAspectRatio=\"xMinYMin meet\"><g transform=\"matrix(1,0,0,-1,0,93.8961572)\"><path fill-rule=\"evenodd\" fill=\"#66cc99\" stroke=\"#555555\" stroke-width=\"0.0007128410400000007\" opacity=\"0.6\" d=\"M -71.5588903,46.9373414 L -71.5258884,46.9373414 L -71.5258884,46.9588158 L -71.5588903,46.9588158 L -71.5588903,46.9373414 z\" /></g></svg>"
      ],
      "text/plain": [
       "<shapely.geometry.polygon.Polygon at 0x7fa4fbd57b20>"
      ]
     },
     "execution_count": 11,
     "metadata": {},
     "output_type": "execute_result"
    }
   ],
   "source": [
    "FOOTPRINT = polygon.to_crs('epsg:4326').geometry[0].envelope\n",
    "FOOTPRINT"
   ]
  },
  {
   "cell_type": "code",
   "execution_count": 12,
   "id": "8fcf6e68-68db-4ea4-b983-680c941857d2",
   "metadata": {},
   "outputs": [
    {
     "data": {
      "text/plain": [
       "(-71.5588903, 46.9373414, -71.5258884, 46.9588158)"
      ]
     },
     "execution_count": 12,
     "metadata": {},
     "output_type": "execute_result"
    }
   ],
   "source": [
    "FOOTPRINT.bounds"
   ]
  },
  {
   "cell_type": "code",
   "execution_count": 14,
   "id": "5037fd12-2604-42b3-a448-d9e681f3d528",
   "metadata": {},
   "outputs": [],
   "source": [
    "def register_gcsfs_client(username:str):\n",
    "    # set up the gcsfs system with credentials\n",
    "    print('registering gcsfs')\n",
    "    tok = os.path.join(os.environ['HOME'], f'geoanalytics_{username}', 'geo.json') # Change this to your own cred file\n",
    "    tok_dict = json.load(open(tok)) # cloudpickle will just send the path to tok, which the processing nodes can't see. Send json instead\n",
    "    gcs = gcsfs.GCSFileSystem(token=tok_dict, access='read_write')\n",
    "    return gcs"
   ]
  },
  {
   "cell_type": "code",
   "execution_count": 45,
   "id": "76e07f0f-0cd5-40c9-9e13-67451e2b86d7",
   "metadata": {},
   "outputs": [
    {
     "name": "stdin",
     "output_type": "stream",
     "text": [
      "Username:  mkavlin\n"
     ]
    },
    {
     "name": "stdout",
     "output_type": "stream",
     "text": [
      "registering gcsfs\n"
     ]
    }
   ],
   "source": [
    "username = input('Username: ')\n",
    "gcs = register_gcsfs_client(username=username)"
   ]
  },
  {
   "cell_type": "code",
   "execution_count": 16,
   "id": "d0c42840-a65f-4f6e-af1a-274247218199",
   "metadata": {},
   "outputs": [],
   "source": [
    "# Function to write from the dask cluster to the remote bucket\n",
    "@dask.delayed\n",
    "def write_ras(gcs, epsg, ras, b, pth):\n",
    "    import rioxarray\n",
    "    try:\n",
    "        ds = xr.Dataset()\n",
    "        ras = ras.rio.write_crs(epsg)\n",
    "        ras.rio.to_raster('ras.tif')\n",
    "        # Turn the raster into a COG\n",
    "        dst_profile = cog_profiles.get(\"deflate\")\n",
    "        cog_translate(\n",
    "            'ras.tif',\n",
    "            'ras_cog.tif',\n",
    "            dst_profile,\n",
    "            in_memory=True,\n",
    "            quiet=False,\n",
    "        )\n",
    "        # Use GCSFS Client to put COG into remote bucket\n",
    "        gcs.put('ras_cog.tif', pth)\n",
    "        # Clean up rasters on Dask Worker\n",
    "        os.remove('ras.tif')\n",
    "        os.remove('ras_cog.tif')\n",
    "        return 'success'\n",
    "    except Exception as e:\n",
    "        # Return error and associated band\n",
    "        return f'{b}: {e}'"
   ]
  },
  {
   "cell_type": "code",
   "execution_count": 17,
   "id": "b5ae52fc-848b-4ebd-869b-d1b6dd19ce35",
   "metadata": {},
   "outputs": [
    {
     "data": {
      "text/plain": [
       "<Client id=microsoft-pc>"
      ]
     },
     "execution_count": 17,
     "metadata": {},
     "output_type": "execute_result"
    }
   ],
   "source": [
    "# Set up Stac Client\n",
    "api = Client.open('https://planetarycomputer.microsoft.com/api/stac/v1')\n",
    "api"
   ]
  },
  {
   "cell_type": "code",
   "execution_count": 18,
   "id": "14963226-326b-4d0c-85e8-3987ea85a9a9",
   "metadata": {},
   "outputs": [],
   "source": [
    "save_path = \"gs://geoanalytics-user-shared-data/PHAC9442/example_data_stac_adding/\"\n",
    "local_path = f'/home/jovyan/geoanalytics_user_shared_data/PHAC9442/example_data_stac_added/'\n",
    "Type = \"COG\"\n",
    "epsg = 32618"
   ]
  },
  {
   "cell_type": "code",
   "execution_count": 30,
   "id": "22bb813f-3341-46ef-b16e-15681b72681e",
   "metadata": {},
   "outputs": [],
   "source": [
    "# CONFIG \n",
    "# -------------\n",
    "BASE_PTH = 'gs://geoanalytics-user-shared-data'\n",
    "OUTPUT_DIR = 'Tutorial_stac_test'\n",
    "TGT_BANDS =  ['B01', 'B02', 'B03', 'B04', 'B05', 'B06', 'B07', 'B08', 'B09', 'B11', 'B12', 'B8A']\n",
    "YEARS = ['2019','2020']\n",
    "BEGIN_MONTH = '06'\n",
    "END_MONTH = '09'\n",
    "MAX_CLOUD = 100\n",
    "READ_IN_CHUNK = 4096\n",
    "RESOLUTION = 10\n",
    "TEMPORAL_CHUNK = {'time': -1, 'band': 1, 'x': 128, 'y': 128}\n",
    "SYNCHRONOUS = True # Write bands out one at a time - use if resources can't handle all bands at once for AOI\n",
    "# -------------"
   ]
  },
  {
   "cell_type": "code",
   "execution_count": 32,
   "id": "82b651c0-bdbd-46e0-b8f6-623e10745fdc",
   "metadata": {
    "collapsed": true,
    "jupyter": {
     "outputs_hidden": true
    },
    "tags": []
   },
   "outputs": [
    {
     "name": "stdout",
     "output_type": "stream",
     "text": [
      "['success', 'success', 'success', 'success', 'success', 'success', 'success', 'success', 'success', 'success', 'success', 'success', 'success', 'success', 'success', 'success', 'success', 'success', 'success', 'success', 'success', 'success', 'success', 'success', 'success', 'success', 'success', 'success', 'success', 'success', 'success', 'success', 'success', 'success', 'success', 'success', 'success', 'success', 'success', 'success', 'success', 'success', 'success', 'success', 'success', 'success', 'success', 'success', 'success', 'success', 'success', 'success', 'success', 'success', 'success', 'success', 'success', 'success', 'success', 'success', 'success', 'success', 'success', 'success', 'success', 'success', 'success', 'success', 'success', 'success', 'success', 'success', 'success', 'success', 'success', 'success', 'success', 'success', 'success', 'success', 'success', 'success', 'success', 'success', 'success', 'success', 'success', 'success', 'success', 'success', 'success', 'success', 'success', 'success', 'success', 'success', 'success', 'success', 'success', 'success', 'success', 'success', 'success', 'success', 'success', 'success', 'success', 'success', 'success', 'success', 'success', 'success', 'success', 'success', 'success', 'success', 'success', 'success', 'success', 'success', 'success', 'success', 'success', 'success', 'success', 'success', 'success', 'success', 'success', 'success', 'success', 'success', 'success', 'success', 'success', 'success', 'success', 'success', 'success', 'success', 'success', 'success', 'success', 'success', 'success', 'success', 'success', 'success', 'success', 'success', 'success', 'success', 'success', 'success', 'success', 'success', 'success', 'success', 'success', 'success', 'success', 'success', 'success', 'success', 'success', 'success', 'success', 'success', 'success', 'success', 'success', 'success', 'success', 'success', 'success', 'success', 'success', 'success', 'success', 'success', 'success', 'success', 'success', 'success', 'success', 'success', 'success', 'success', 'success', 'success', 'success', 'success', 'success', 'success', 'success', 'success', 'success', 'success', 'success', 'success', 'success', 'success', 'success', 'success', 'success', 'success', 'success', 'success', 'success', 'success', 'success', 'success', 'success', 'success', 'success', 'success', 'success', 'success', 'success', 'success', 'success', 'success', 'success', 'success', 'success', 'success', 'success', 'success', 'success', 'success', 'success', 'success', 'success', 'success', 'success', 'success', 'success', 'success', 'success', 'success', 'success', 'success', 'success', 'success', 'success', 'success', 'success', 'success', 'success', 'success', 'success', 'success', 'success', 'success', 'success', 'success', 'success', 'success', 'success', 'success', 'success', 'success', 'success', 'success', 'success', 'success', 'success', 'success', 'success', 'success', 'success', 'success', 'success', 'success', 'success', 'success', 'success', 'success', 'success', 'success', 'success', 'success', 'success', 'success', 'success', 'success', 'success', 'success', 'success', 'success', 'success', 'success', 'success', 'success', 'success', 'success', 'success', 'success', 'success', 'success', 'success', 'success', 'success', 'success', 'success', 'success', 'success', 'success', 'success', 'success', 'success', 'success', 'success', 'success', 'success', 'success', 'success', 'success', 'success', 'success', 'success', 'success', 'success', 'success', 'success', 'success', 'success', 'success', 'success', 'success', 'success', 'success', 'success', 'success', 'success', 'success', 'success', 'success', 'success', 'success', 'success', 'success', 'success', 'success', 'success', 'success', 'success', 'success', 'success', 'success', 'success', 'success', 'success', 'success', 'success', 'success', 'success', 'success', 'success', 'success', 'success', 'success', 'success', 'success', 'success', 'success', 'success', 'success', 'success', 'success', 'success', 'success', 'success', 'success', 'success', 'success', 'success', 'success', 'success', 'success', 'success', 'success', 'success', 'success', 'success', 'success', 'success', 'success', 'success', 'success', 'success', 'success', 'success', 'success', 'success', 'success', 'success', 'success', 'success', 'success', 'success', 'success', 'success', 'success', 'success', 'success', 'success', 'success', 'success', 'success', 'success', 'success', 'success', 'success', 'success', 'success', 'success', 'success', 'success', 'success', 'success', 'success', 'success', 'success', 'success', 'success', 'success', 'success', 'success', 'success', 'success', 'success', 'success', 'success', 'success', 'success', 'success', 'success', 'success', 'success', 'success', 'success', 'success', 'success', 'success', 'success', 'success', 'success', 'success', 'success', 'success', 'success', 'success', 'success', 'success', 'success', 'success', 'success', 'success', 'success', 'success', 'success', 'success', 'success', 'success', 'success', 'success', 'success', 'success', 'success', 'success', 'success', 'success', 'success', 'success', 'success', 'success', 'success', 'success', 'success', 'success', 'success', 'success', 'success', 'success', 'success', 'success', 'success', 'success', 'success', 'success', 'success', 'success', 'success', 'success', 'success', 'success', 'success', 'success', 'success', 'success', 'success', 'success', 'success', 'success', 'success', 'success', 'success', 'success', 'success', 'success', 'success', 'success', 'success', 'success', 'success', 'success', 'success', 'success', 'success', 'success', 'success', 'success', 'success', 'success', 'success', 'success', 'success', 'success', 'success', 'success', 'success', 'success', 'success', 'success', 'success', 'success', 'success', 'success', 'success', 'success', 'success', 'success', 'success', 'success', 'success', 'success', 'success', 'success', 'success', 'success', 'success', 'success', 'success', 'success', 'success', 'success', 'success', 'success', 'success', 'success', 'success', 'success', 'success', 'success', 'success', 'success', 'success', 'success', 'success', 'success', 'success', 'success', 'success', 'success', 'success', 'success', 'success', 'success', 'success', 'success', 'success', 'success', 'success', 'success', 'success', 'success', 'success', 'success', 'success', 'success', 'success', 'success', 'success', 'success', 'success', 'success', 'success', 'success', 'success', 'success', 'success', 'success', 'success', 'success', 'success', 'success', 'success', 'success', 'success', 'success', 'success', 'success', 'success', 'success', 'success', 'success', 'success', 'success', 'success', 'success', 'success', 'success', 'success', 'success', 'success', 'success', 'success', 'success', 'success', 'success', 'success', 'success', 'success', 'success', 'success', 'success', 'success', 'success', 'success', 'success', 'success', 'success', 'success', 'success', 'success', 'success', 'success', 'success', 'success', 'success', 'success', 'success', 'success', 'success', 'success', 'success', 'success', 'success', 'success', 'success', 'success', 'success', 'success', 'success', 'success', 'success', 'success', 'success', 'success', 'success', 'success', 'success', 'success', 'success', 'success', 'success', 'success', 'success', 'success', 'success', 'success', 'success', 'success', 'success', 'success', 'success', 'success', 'success', 'success', 'success', 'success', 'success', 'success', 'success', 'success', 'success', 'success', 'success', 'success', 'success', 'success', 'success', 'success', 'success', 'success', 'success', 'success', 'success', 'success', 'success', 'success', 'success', 'success', 'success', 'success', 'success', 'success', 'success', 'success', 'success', 'success', 'success', 'success', 'success', 'success', 'success', 'success', 'success', 'success', 'success', 'success', 'success', 'success', 'success', 'success', 'success', 'success', 'success', 'success', 'success', 'success', 'success', 'success', 'success', 'success', 'success', 'success', 'success', 'success', 'success', 'success', 'success', 'success', 'success', 'success', 'success', 'success', 'success', 'success', 'success', 'success', 'success', 'success', 'success', 'success', 'success', 'success', 'success', 'success', 'success', 'success', 'success', 'success', 'success', 'success', 'success', 'success', 'success', 'success', 'success', 'success', 'success', 'success', 'success', 'success', 'success', 'success', 'success', 'success', 'success', 'success', 'success', 'success', 'success', 'success', 'success', 'success', 'success', 'success', 'success', 'success', 'success', 'success', 'success', 'success', 'success', 'success', 'success', 'success', 'success', 'success', 'success', 'success', 'success', 'success', 'success', 'success', 'success', 'success', 'success', 'success', 'success', 'success', 'success', 'success', 'success', 'success', 'success', 'success', 'success', 'success', 'success', 'success', 'success', 'success', 'success', 'success', 'success', 'success', 'success', 'success', 'success', 'success', 'success', 'success', 'success', 'success', 'success', 'success', 'success', 'success', 'success', 'success', 'success', 'success', 'success', 'success', 'success', 'success', 'success', 'success', 'success', 'success', 'success', 'success', 'success', 'success', 'success', 'success', 'success', 'success', 'success', 'success', 'success', 'success', 'success', 'success', 'success', 'success', 'success', 'success', 'success', 'success', 'success', 'success', 'success', 'success', 'success', 'success', 'success', 'success', 'success', 'success', 'success', 'success', 'success', 'success', 'success', 'success', 'success', 'success', 'success', 'success', 'success', 'success', 'success', 'success', 'success', 'success', 'success', 'success', 'success', 'success', 'success', 'success', 'success', 'success', 'success', 'success', 'success', 'success', 'success', 'success', 'success', 'success', 'success', 'success', 'success', 'success', 'success', 'success', 'success', 'success', 'success', 'success', 'success', 'success', 'success', 'success', 'success', 'success', 'success', 'success', 'success', 'success', 'success', 'success', 'success', 'success', 'success', 'success', 'success', 'success', 'success', 'success', 'success', 'success', 'success', 'success', 'success', 'success', 'success', 'success', 'success', 'success', 'success', 'success', 'success', 'success', 'success', 'success', 'success', 'success', 'success', 'success', 'success', 'success', 'success', 'success', 'success', 'success', 'success', 'success', 'success', 'success', 'success', 'success', 'success', 'success', 'success', 'success', 'success', 'success', 'success', 'success', 'success', 'success', 'success', 'success', 'success', 'success', 'success', 'success', 'success', 'success', 'success', 'success', 'success', 'success', 'success', 'success', 'success', 'success', 'success', 'success', 'success', 'success', 'success', 'success', 'success', 'success', 'success', 'success', 'success', 'success', 'success', 'success', 'success', 'success', 'success', 'success', 'success', 'success', 'success', 'success', 'success', 'success', 'success', 'success', 'success', 'success', 'success', 'success', 'success', 'success', 'success', 'success', 'success', 'success', 'success', 'success', 'success', 'success', 'success', 'success', 'success', 'success', 'success', 'success', 'success', 'success', 'success', 'success', 'success', 'success', 'success', 'success', 'success', 'success', 'success', 'success', 'success', 'success', 'success', 'success', 'success', 'success', 'success', 'success', 'success', 'success', 'success', 'success', 'success', 'success', 'success', 'success', 'success', 'success', 'success', 'success', 'success', 'success', 'success', 'success', 'success', 'success', 'success', 'success', 'success', 'success', 'success', 'success', 'success', 'success', 'success', 'success', 'success', 'success', 'success', 'success', 'success', 'success', 'success', 'success', 'success', 'success', 'success', 'success', 'success', 'success', 'success', 'success', 'success', 'success', 'success', 'success', 'success', 'success', 'success', 'success', 'success', 'success', 'success', 'success', 'success', 'success', 'success', 'success', 'success', 'success', 'success', 'success', 'success', 'success', 'success', 'success', 'success', 'success', 'success', 'success', 'success', 'success', 'success', 'success', 'success', 'success', 'success', 'success', 'success', 'success', 'success', 'success', 'success', 'success', 'success', 'success', 'success', 'success', 'success', 'success', 'success', 'success', 'success', 'success', 'success', 'success', 'success', 'success', 'success', 'success', 'success', 'success', 'success', 'success', 'success', 'success', 'success', 'success', 'success', 'success', 'success', 'success', 'success', 'success', 'success', 'success', 'success', 'success', 'success', 'success', 'success', 'success', 'success', 'success', 'success', 'success', 'success', 'success', 'success', 'success', 'success', 'success', 'success', 'success', 'success', 'success', 'success', 'success', 'success', 'success', 'success', 'success', 'success', 'success', 'success', 'success', 'success', 'success', 'success', 'success', 'success', 'success', 'success', 'success', 'success', 'success', 'success', 'success', 'success', 'success', 'success', 'success', 'success', 'success', 'success', 'success', 'success', 'success', 'success', 'success', 'success', 'success', 'success', 'success', 'success', 'success', 'success', 'success', 'success', 'success', 'success', 'success', 'success', 'success', 'success', 'success', 'success', 'success', 'success', 'success', 'success', 'success', 'success', 'success', 'success', 'success', 'success', 'success', 'success', 'success', 'success', 'success', 'success', 'success', 'success', 'success', 'success', 'success', 'success', 'success', 'success', 'success', 'success', 'success', 'success', 'success', 'success', 'success', 'success', 'success', 'success', 'success', 'success', 'success', 'success', 'success', 'success', 'success', 'success', 'success', 'success', 'success', 'success', 'success', 'success', 'success', 'success', 'success', 'success', 'success', 'success', 'success', 'success', 'success', 'success', 'success', 'success', 'success', 'success', 'success', 'success', 'success', 'success', 'success', 'success', 'success', 'success', 'success', 'success', 'success', 'success', 'success', 'success', 'success', 'success', 'success', 'success', 'success', 'success', 'success', 'success', 'success', 'success', 'success', 'success', 'success', 'success', 'success', 'success', 'success', 'success', 'success', 'success', 'success', 'success', 'success', 'success', 'success', 'success', 'success', 'success', 'success', 'success', 'success', 'success', 'success', 'success', 'success', 'success', 'success', 'success', 'success', 'success', 'success', 'success', 'success', 'success', 'success', 'success', 'success', 'success', 'success', 'success', 'success', 'success', 'success', 'success', 'success', 'success', 'success', 'success', 'success', 'success', 'success', 'success', 'success', 'success', 'success', 'success', 'success', 'success', 'success', 'success', 'success', 'success', 'success', 'success', 'success', 'success', 'success', 'success', 'success', 'success', 'success', 'success', 'success', 'success', 'success', 'success', 'success', 'success', 'success', 'success', 'success', 'success', 'success', 'success', 'success', 'success', 'success', 'success', 'success', 'success', 'success', 'success', 'success', 'success', 'success', 'success', 'success', 'success', 'success', 'success', 'success', 'success', 'success', 'success', 'success', 'success', 'success', 'success', 'success', 'success', 'success', 'success', 'success', 'success', 'success', 'success', 'success', 'success', 'success', 'success', 'success', 'success', 'success', 'success', 'success', 'success', 'success', 'success', 'success', 'success', 'success', 'success', 'success', 'success', 'success', 'success', 'success', 'success', 'success', 'success', 'success', 'success', 'success', 'success', 'success', 'success', 'success', 'success', 'success', 'success', 'success', 'success', 'success', 'success', 'success', 'success', 'success', 'success', 'success', 'success', 'success', 'success', 'success', 'success', 'success', 'success', 'success', 'success', 'success', 'success', 'success', 'success', 'success', 'success', 'success', 'success', 'success', 'success', 'success', 'success', 'success', 'success', 'success', 'success', 'success', 'success', 'success', 'success', 'success', 'success', 'success', 'success', 'success', 'success', 'success', 'success', 'success', 'success', 'success', 'success', 'success', 'success', 'success', 'success', 'success', 'success', 'success', 'success', 'success', 'success', 'success', 'success', 'success', 'success', 'success', 'success', 'success', 'success', 'success', 'success', 'success', 'success', 'success', 'success', 'success', 'success', 'success', 'success', 'success', 'success', 'success', 'success', 'success', 'success', 'success', 'success', 'success', 'success', 'success', 'success', 'success', 'success', 'success', 'success', 'success', 'success', 'success', 'success', 'success', 'success', 'success', 'success', 'success', 'success', 'success', 'success', 'success', 'success', 'success', 'success', 'success', 'success', 'success', 'success', 'success', 'success', 'success', 'success', 'success', 'success', 'success', 'success', 'success', 'success', 'success', 'success', 'success', 'success', 'success', 'success', 'success', 'success', 'success', 'success', 'success', 'success', 'success', 'success', 'success', 'success', 'success', 'success', 'success', 'success', 'success', 'success', 'success', 'success', 'success', 'success', 'success', 'success', 'success', 'success', 'success', 'success', 'success', 'success', 'success', 'success', 'success', 'success', 'success', 'success', 'success', 'success', 'success', 'success', 'success', 'success', 'success', 'success', 'success', 'success', 'success', 'success', 'success', 'success', 'success', 'success', 'success', 'success', 'success', 'success', 'success', 'success', 'success', 'success', 'success', 'success', 'success', 'success', 'success', 'success', 'success', 'success', 'success', 'success', 'success', 'success', 'success', 'success', 'success', 'success', 'success', 'success', 'success', 'success', 'success', 'success', 'success', 'success', 'success', 'success', 'success', 'success', 'success', 'success', 'success', 'success', 'success', 'success', 'success', 'success', 'success', 'success', 'success', 'success', 'success', 'success', 'success', 'success', 'success', 'success', 'success', 'success', 'success', 'success', 'success', 'success', 'success', 'success', 'success', 'success', 'success', 'success', 'success', 'success', 'success', 'success', 'success', 'success', 'success', 'success', 'success', 'success', 'success', 'success', 'success', 'success', 'success', 'success', 'success', 'success', 'success', 'success', 'success', 'success', 'success', 'success', 'success', 'success', 'success', 'success', 'success', 'success', 'success', 'success', 'success', 'success', 'success', 'success', 'success', 'success', 'success', 'success', 'success', 'success', 'success', 'success', 'success', 'success', 'success', 'success', 'success', 'success', 'success', 'success', 'success', 'success', 'success', 'success', 'success', 'success', 'success', 'success', 'success', 'success', 'success', 'success', 'success', 'success', 'success', 'success', 'success', 'success', 'success', 'success', 'success', 'success', 'success', 'success', 'success', 'success', 'success', 'success', 'success', 'success', 'success', 'success', 'success', 'success', 'success', 'success', 'success', 'success', 'success', 'success', 'success', 'success', 'success', 'success', 'success', 'success', 'success', 'success', 'success', 'success', 'success', 'success', 'success', 'success', 'success', 'success', 'success', 'success', 'success', 'success', 'success', 'success', 'success', 'success', 'success', 'success', 'success', 'success', 'success', 'success', 'success', 'success', 'success', 'success', 'success', 'success', 'success', 'success', 'success', 'success', 'success', 'success', 'success', 'success', 'success', 'success', 'success', 'success', 'success', 'success', 'success', 'success', 'success', 'success', 'success', 'success', 'success', 'success', 'success', 'success', 'success', 'success', 'success', 'success', 'success', 'success', 'success', 'success', 'success', 'success', 'success', 'success', 'success', 'success', 'success', 'success', 'success', 'success', 'success', 'success', 'success', 'success', 'success', 'success', 'success', 'success', 'success', 'success', 'success', 'success', 'success', 'success', 'success', 'success', 'success', 'success', 'success', 'success', 'success', 'success', 'success', 'success', 'success', 'success', 'success', 'success', 'success', 'success', 'success', 'success', 'success', 'success', 'success', 'success', 'success', 'success', 'success', 'success', 'success', 'success', 'success', 'success', 'success', 'success', 'success', 'success', 'success', 'success', 'success', 'success', 'success', 'success', 'success', 'success', 'success', 'success', 'success', 'success', 'success', 'success', 'success', 'success', 'success', 'success', 'success', 'success', 'success', 'success', 'success', 'success', 'success', 'success', 'success', 'success', 'success', 'success', 'success', 'success', 'success', 'success', 'success', 'success', 'success', 'success', 'success', 'success', 'success', 'success', 'success', 'success', 'success', 'success', 'success', 'success', 'success', 'success', 'success', 'success', 'success', 'success', 'success', 'success', 'success', 'success', 'success', 'success', 'success', 'success', 'success', 'success', 'success', 'success', 'success', 'success', 'success', 'success', 'success', 'success', 'success', 'success', 'success', 'success', 'success', 'success', 'success', 'success', 'success', 'success', 'success', 'success', 'success', 'success', 'success', 'success', 'success', 'success', 'success', 'success', 'success', 'success', 'success', 'success', 'success', 'success', 'success', 'success', 'success', 'success', 'success', 'success', 'success', 'success', 'success', 'success', 'success', 'success', 'success', 'success', 'success', 'success', 'success', 'success', 'success', 'success', 'success', 'success', 'success', 'success', 'success', 'success', 'success', 'success', 'success', 'success', 'success', 'success', 'success', 'success', 'success', 'success', 'success', 'success', 'success', 'success', 'success', 'success', 'success', 'success', 'success', 'success', 'success', 'success', 'success', 'success', 'success', 'success', 'success', 'success', 'success', 'success', 'success', 'success', 'success', 'success', 'success', 'success', 'success', 'success', 'success', 'success', 'success', 'success', 'success', 'success', 'success', 'success', 'success', 'success', 'success', 'success', 'success', 'success', 'success', 'success', 'success', 'success', 'success', 'success', 'success', 'success', 'success', 'success', 'success', 'success', 'success', 'success', 'success', 'success', 'success', 'success', 'success', 'success', 'success', 'success', 'success', 'success', 'success', 'success', 'success', 'success', 'success', 'success', 'success', 'success', 'success', 'success', 'success', 'success', 'success', 'success', 'success', 'success', 'success', 'success', 'success', 'success', 'success', 'success', 'success', 'success', 'success', 'success', 'success', 'success', 'success', 'success', 'success', 'success', 'success', 'success', 'success', 'success', 'success', 'success', 'success', 'success', 'success', 'success', 'success', 'success', 'success', 'success', 'success', 'success', 'success', 'success', 'success', 'success', 'success', 'success', 'success', 'success', 'success', 'success', 'success', 'success', 'success', 'success', 'success', 'success', 'success', 'success', 'success', 'success', 'success', 'success', 'success', 'success', 'success', 'success', 'success', 'success', 'success', 'success', 'success', 'success', 'success', 'success', 'success', 'success', 'success', 'success', 'success', 'success', 'success', 'success', 'success', 'success', 'success', 'success', 'success', 'success', 'success', 'success', 'success', 'success', 'success', 'success', 'success', 'success', 'success', 'success', 'success', 'success', 'success', 'success', 'success', 'success', 'success', 'success', 'success', 'success', 'success', 'success', 'success', 'success', 'success', 'success', 'success', 'success', 'success', 'success', 'success', 'success', 'success', 'success', 'success', 'success', 'success', 'success', 'success', 'success', 'success', 'success', 'success', 'success', 'success', 'success', 'success', 'success', 'success', 'success', 'success', 'success', 'success', 'success', 'success', 'success', 'success', 'success', 'success', 'success', 'success', 'success', 'success', 'success', 'success', 'success', 'success', 'success', 'success', 'success', 'success', 'success', 'success', 'success', 'success', 'success', 'success', 'success', 'success', 'success', 'success', 'success', 'success', 'success', 'success', 'success', 'success', 'success', 'success', 'success', 'success', 'success', 'success', 'success', 'success', 'success', 'success', 'success', 'success', 'success', 'success', 'success', 'success', 'success', 'success', 'success', 'success', 'success', 'success', 'success', 'success', 'success', 'success', 'success', 'success', 'success', 'success', 'success', 'success', 'success', 'success', 'success', 'success', 'success', 'success', 'success', 'success', 'success', 'success', 'success', 'success', 'success', 'success', 'success', 'success', 'success', 'success', 'success', 'success', 'success', 'success', 'success', 'success', 'success', 'success', 'success', 'success', 'success', 'success', 'success', 'success', 'success', 'success', 'success', 'success', 'success', 'success', 'success', 'success', 'success', 'success', 'success', 'success', 'success', 'success', 'success', 'success', 'success', 'success', 'success', 'success', 'success', 'success', 'success', 'success', 'success', 'success', 'success', 'success', 'success', 'success', 'success', 'success', 'success', 'success', 'success', 'success', 'success', 'success', 'success', 'success', 'success', 'success', 'success', 'success', 'success', 'success', 'success', 'success', 'success', 'success', 'success', 'success', 'success', 'success', 'success', 'success', 'success', 'success', 'success', 'success', 'success', 'success', 'success', 'success', 'success', 'success', 'success', 'success', 'success', 'success', 'success', 'success', 'success', 'success', 'success', 'success', 'success', 'success', 'success', 'success', 'success', 'success', 'success', 'success', 'success', 'success', 'success', 'success', 'success', 'success', 'success', 'success', 'success', 'success', 'success', 'success', 'success', 'success', 'success', 'success', 'success', 'success', 'success', 'success', 'success', 'success', 'success', 'success', 'success', 'success', 'success', 'success', 'success', 'success', 'success', 'success', 'success', 'success', 'success', 'success', 'success', 'success', 'success', 'success', 'success', 'success', 'success', 'success', 'success', 'success', 'success', 'success', 'success', 'success', 'success', 'success', 'success', 'success', 'success', 'success', 'success', 'success', 'success', 'success', 'success', 'success', 'success', 'success', 'success', 'success', 'success', 'success', 'success', 'success', 'success', 'success', 'success', 'success', 'success', 'success', 'success', 'success', 'success', 'success', 'success', 'success', 'success', 'success', 'success', 'success', 'success', 'success', 'success', 'success', 'success', 'success', 'success', 'success', 'success', 'success', 'success', 'success', 'success', 'success', 'success', 'success', 'success', 'success', 'success', 'success', 'success', 'success', 'success', 'success', 'success', 'success', 'success', 'success', 'success', 'success', 'success', 'success', 'success', 'success', 'success', 'success', 'success', 'success', 'success', 'success', 'success', 'success', 'success', 'success', 'success', 'success', 'success', 'success', 'success', 'success', 'success', 'success', 'success', 'success', 'success', 'success', 'success', 'success', 'success', 'success', 'success', 'success', 'success', 'success', 'success', 'success', 'success', 'success', 'success', 'success', 'success', 'success', 'success', 'success', 'success', 'success', 'success', 'success', 'success', 'success', 'success', 'success', 'success', 'success', 'success', 'success', 'success', 'success', 'success', 'success', 'success', 'success', 'success', 'success', 'success', 'success', 'success', 'success', 'success', 'success', 'success', 'success', 'success', 'success', 'success', 'success', 'success', 'success', 'success', 'success', 'success', 'success', 'success', 'success', 'success', 'success', 'success', 'success', 'success', 'success', 'success', 'success', 'success', 'success', 'success', 'success', 'success', 'success', 'success', 'success', 'success', 'success', 'success', 'success', 'success', 'success', 'success', 'success', 'success', 'success', 'success', 'success', 'success', 'success', 'success', 'success', 'success', 'success', 'success', 'success', 'success', 'success', 'success', 'success', 'success', 'success', 'success', 'success', 'success', 'success', 'success', 'success', 'success', 'success', 'success', 'success', 'success', 'success', 'success', 'success', 'success', 'success', 'success', 'success', 'success', 'success', 'success', 'success', 'success', 'success', 'success', 'success', 'success', 'success', 'success', 'success', 'success', 'success', 'success', 'success', 'success', 'success', 'success', 'success', 'success', 'success', 'success', 'success', 'success', 'success', 'success', 'success', 'success', 'success', 'success', 'success', 'success', 'success', 'success', 'success', 'success', 'success', 'success', 'success', 'success', 'success', 'success', 'success', 'success', 'success', 'success', 'success', 'success', 'success', 'success', 'success', 'success', 'success', 'success', 'success', 'success', 'success', 'success', 'success', 'success', 'success', 'success', 'success', 'success', 'success', 'success', 'success', 'success', 'success', 'success', 'success', 'success', 'success', 'success', 'success', 'success', 'success', 'success', 'success', 'success', 'success', 'success', 'success', 'success', 'success', 'success', 'success', 'success', 'success', 'success', 'success', 'success', 'success', 'success', 'success', 'success', 'success', 'success', 'success', 'success', 'success', 'success', 'success', 'success', 'success', 'success', 'success', 'success', 'success', 'success', 'success', 'success', 'success', 'success', 'success', 'success', 'success', 'success', 'success', 'success', 'success', 'success', 'success', 'success', 'success', 'success', 'success', 'success', 'success', 'success', 'success', 'success', 'success', 'success', 'success', 'success', 'success', 'success', 'success', 'success', 'success', 'success', 'success', 'success', 'success', 'success', 'success', 'success', 'success', 'success', 'success', 'success', 'success', 'success', 'success', 'success', 'success', 'success', 'success', 'success', 'success', 'success', 'success', 'success', 'success', 'success', 'success', 'success', 'success', 'success', 'success', 'success', 'success', 'success', 'success', 'success', 'success', 'success', 'success', 'success', 'success', 'success', 'success', 'success', 'success', 'success', 'success', 'success', 'success', 'success', 'success', 'success', 'success', 'success', 'success', 'success', 'success', 'success', 'success', 'success', 'success', 'success', 'success', 'success', 'success', 'success', 'success', 'success', 'success', 'success', 'success', 'success', 'success', 'success', 'success', 'success', 'success', 'success', 'success', 'success', 'success', 'success', 'success', 'success', 'success', 'success', 'success', 'success', 'success', 'success', 'success', 'success', 'success', 'success', 'success', 'success', 'success', 'success', 'success', 'success', 'success', 'success', 'success', 'success', 'success', 'success', 'success', 'success', 'success', 'success', 'success', 'success', 'success', 'success', 'success', 'success', 'success', 'success', 'success', 'success', 'success', 'success', 'success', 'success', 'success', 'success', 'success', 'success', 'success', 'success', 'success', 'success', 'success', 'success', 'success', 'success', 'success', 'success', 'success', 'success', 'success', 'success', 'success', 'success', 'success', 'success', 'success', 'success', 'success', 'success', 'success', 'success', 'success', 'success', 'success', 'success', 'success', 'success', 'success', 'success', 'success', 'success', 'success', 'success', 'success', 'success', 'success', 'success', 'success', 'success', 'success', 'success', 'success', 'success', 'success', 'success', 'success', 'success', 'success', 'success', 'success', 'success', 'success', 'success', 'success', 'success', 'success', 'success', 'success', 'success', 'success', 'success', 'success', 'success', 'success', 'success', 'success', 'success', 'success', 'success', 'success', 'success', 'success', 'success', 'success', 'success', 'success', 'success', 'success', 'success', 'success', 'success', 'success', 'success', 'success', 'success', 'success', 'success', 'success', 'success', 'success', 'success', 'success', 'success', 'success', 'success', 'success', 'success', 'success', 'success', 'success', 'success', 'success', 'success', 'success', 'success', 'success', 'success', 'success', 'success', 'success', 'success', 'success', 'success', 'success', 'success', 'success', 'success', 'success', 'success', 'success', 'success', 'success', 'success', 'success', 'success', 'success', 'success', 'success', 'success', 'success', 'success', 'success', 'success', 'success', 'success', 'success', 'success', 'success', 'success', 'success', 'success', 'success', 'success', 'success', 'success', 'success', 'success', 'success', 'success', 'success', 'success', 'success', 'success', 'success', 'success', 'success', 'success', 'success', 'success', 'success', 'success', 'success', 'success', 'success', 'success', 'success', 'success', 'success', 'success', 'success', 'success', 'success', 'success', 'success', 'success', 'success', 'success', 'success', 'success', 'success', 'success', 'success', 'success', 'success', 'success', 'success', 'success', 'success', 'success', 'success', 'success', 'success', 'success', 'success', 'success', 'success', 'success', 'success', 'success', 'success', 'success', 'success', 'success', 'success', 'success', 'success', 'success', 'success', 'success', 'success', 'success', 'success', 'success', 'success', 'success', 'success', 'success', 'success', 'success', 'success', 'success', 'success', 'success', 'success', 'success', 'success', 'success', 'success', 'success', 'success', 'success', 'success']\n"
     ]
    }
   ],
   "source": [
    "# Download the data\n",
    "item_dict = []\n",
    "raster_list = []\n",
    "for year in YEARS:\n",
    "    OUT_PTH = f'{BASE_PTH}/{OUTPUT_DIR}/{year}'\n",
    "    date_range = f'{year}-{BEGIN_MONTH}-01/{year}-{END_MONTH}-30'\n",
    "    \n",
    "    # Query the Planetary Computer STAC server with pystac_client\n",
    "    print(f'[Querying] {year}')\n",
    "    items = api.search(\n",
    "        collections = ['sentinel-2-l2a'],\n",
    "        intersects = FOOTPRINT,\n",
    "        query={\"eo:cloud_cover\": {\"lt\": MAX_CLOUD}}, #\"s2:mgrs_tile\":{\"eq\":'10UFA'}},\n",
    "        datetime = date_range,\n",
    "    ).get_all_items()\n",
    "    \n",
    "    \n",
    "    print(f'\\tFound {len(items)} items')\n",
    "    # planetarycomputer requires signed URLs to access Asset HREFs. \n",
    "    print('\\t[Signing data links]')\n",
    "    signed_items = [planetary_computer.sign(item).to_dict() for item in items]\n",
    "    item_dict+=signed_items\n",
    "        # Iterate over bands and build composite DAG\n",
    "    for band in TGT_BANDS:\n",
    "        #clear_output(wait=True) # clear Jupyter Cell output\n",
    "        print(f'[Processing {band}]')\n",
    "        \n",
    "    # print(signed_items)\n",
    "\n",
    "    # Convert STAC query into a xarray.DataArray\n",
    "    # with stackstac\n",
    "        print('\\t[Converting STAC query to DataArray]')\n",
    "        data = (\n",
    "            stackstac.stack(\n",
    "                item_dict,\n",
    "                assets=[band], \n",
    "                chunksize=READ_IN_CHUNK, # Set chunksize\n",
    "                resolution=RESOLUTION, # Set all bands res to this\n",
    "                bounds_latlon=FOOTPRINT.bounds, # clip to AOI bounds\n",
    "                epsg = 32618\n",
    "            ).where(lambda x: x > 0, other=np.nan).assign_coords( # Convert nodata zero to np.nan\n",
    "                #band=lambda x: x.common_name.rename(\"band\"),  # use common names\n",
    "                time=lambda x: x.time.dt.round(\n",
    "                    \"D\"\n",
    "                ))  \n",
    "        )\n",
    "        \n",
    "        # for image in data: \n",
    "        #     image_name = image.coords['id'].values\n",
    "        #     print(f'Saving {image_name} to {OUT_PTH}')\n",
    "        #     #print(image_name)\n",
    "        #     final_Spath = f'{save_path}{image_name}'\n",
    "        #     raster_list.append(write_ras(gcs, epsg, image, band, f'{OUT_PTH}{image_name}/{band}.tif'))\n",
    "            \n",
    "clear_output(wait=True)\n",
    "# # raster_list.visualize()\n",
    "with performance_report('dask_report.html'):\n",
    "    print(dask.compute(raster_list)[0])        \n",
    "# dask.compute(raster_list)\n",
    "data"
   ]
  },
  {
   "cell_type": "code",
   "execution_count": 35,
   "id": "f4582230-1a70-4c51-8abb-4b53b9553cf9",
   "metadata": {},
   "outputs": [
    {
     "name": "stdout",
     "output_type": "stream",
     "text": [
      "A PySTAC Catalog represents a STAC catalog in memory.\n",
      "\n",
      "    A Catalog is a :class:`~pystac.STACObject` that may contain children,\n",
      "    which are instances of :class:`~pystac.Catalog` or :class:`~pystac.Collection`,\n",
      "    as well as :class:`~pystac.Item` s.\n",
      "\n",
      "    Args:\n",
      "        id : Identifier for the catalog. Must be unique within the STAC.\n",
      "        description : Detailed multi-line description to fully explain the catalog.\n",
      "            `CommonMark 0.28 syntax <https://commonmark.org/>`_ MAY be used for rich\n",
      "            text representation.\n",
      "        title : Optional short descriptive one-line title for the catalog.\n",
      "        stac_extensions : Optional list of extensions the Catalog implements.\n",
      "        href : Optional HREF for this catalog, which be set as the\n",
      "            catalog's self link's HREF.\n",
      "        catalog_type : Optional catalog type for this catalog. Must\n",
      "            be one of the values in :class`~pystac.CatalogType`.\n",
      "\n",
      "    Attributes:\n",
      "        id : Identifier for the catalog.\n",
      "        description : Detailed multi-line description to fully explain the catalog.\n",
      "        title : Optional short descriptive one-line title for the catalog.\n",
      "        stac_extensions : Optional list of extensions the Catalog\n",
      "            implements.\n",
      "        extra_fields : Extra fields that are part of the top-level JSON\n",
      "            properties of the Catalog.\n",
      "        links : A list of :class:`~pystac.Link` objects representing\n",
      "            all links associated with this Catalog.\n",
      "        catalog_type : The catalog type. Defaults to ABSOLUTE_PUBLISHED\n",
      "    \n"
     ]
    }
   ],
   "source": [
    "print(pystac.Catalog.__doc__)"
   ]
  },
  {
   "cell_type": "code",
   "execution_count": 36,
   "id": "21153b5d-ca25-4a32-857e-675ef99288b9",
   "metadata": {},
   "outputs": [],
   "source": [
    "catalog = pystac.Catalog(id='S2-test-catalog', description='Tutorial catalog of Sentinel 2 imagery around Quebec City')"
   ]
  },
  {
   "cell_type": "code",
   "execution_count": 38,
   "id": "d5d72f82-efc9-47ef-a2fa-4707bf053357",
   "metadata": {},
   "outputs": [
    {
     "name": "stdout",
     "output_type": "stream",
     "text": [
      "[]\n",
      "[]\n"
     ]
    }
   ],
   "source": [
    "print(list(catalog.get_children()))\n",
    "print(list(catalog.get_items()))"
   ]
  },
  {
   "cell_type": "code",
   "execution_count": 40,
   "id": "87a8c1f8-296f-4c7d-8a36-32e6271b50c6",
   "metadata": {},
   "outputs": [
    {
     "name": "stdout",
     "output_type": "stream",
     "text": [
      "An Item is the core granular entity in a STAC, containing the core metadata\n",
      "    that enables any client to search or crawl online catalogs of spatial 'assets' -\n",
      "    satellite imagery, derived data, DEM's, etc.\n",
      "\n",
      "    Args:\n",
      "        id : Provider identifier. Must be unique within the STAC.\n",
      "        geometry : Defines the full footprint of the asset represented by this\n",
      "            item, formatted according to\n",
      "            `RFC 7946, section 3.1 (GeoJSON) <https://tools.ietf.org/html/rfc7946>`_.\n",
      "        bbox :  Bounding Box of the asset represented by this item\n",
      "            using either 2D or 3D geometries. The length of the array must be 2*n\n",
      "            where n is the number of dimensions. Could also be None in the case of a\n",
      "            null geometry.\n",
      "        datetime : Datetime associated with this item. If None,\n",
      "            a start_datetime and end_datetime must be supplied in the properties.\n",
      "        properties : A dictionary of additional metadata for the item.\n",
      "        stac_extensions : Optional list of extensions the Item implements.\n",
      "        href : Optional HREF for this item, which be set as the item's\n",
      "            self link's HREF.\n",
      "        collection : The Collection or Collection ID that this item\n",
      "            belongs to.\n",
      "        extra_fields : Extra fields that are part of the top-level JSON\n",
      "            properties of the Item.\n",
      "\n",
      "    Attributes:\n",
      "        id : Provider identifier. Unique within the STAC.\n",
      "        geometry : Defines the full footprint of the asset represented by this\n",
      "            item, formatted according to\n",
      "            `RFC 7946, section 3.1 (GeoJSON) <https://tools.ietf.org/html/rfc7946>`_.\n",
      "        bbox :  Bounding Box of the asset represented by this item\n",
      "            using either 2D or 3D geometries. The length of the array is 2*n where n\n",
      "            is the number of dimensions. Could also be None in the case of a null\n",
      "            geometry.\n",
      "        datetime : Datetime associated with this item. If None,\n",
      "            the start_datetime and end_datetime in the common_metadata\n",
      "            will supply the datetime range of the Item.\n",
      "        properties : A dictionary of additional metadata for the item.\n",
      "        stac_extensions : Optional list of extensions the Item\n",
      "            implements.\n",
      "        collection : Collection that this item is a part of.\n",
      "        links : A list of :class:`~pystac.Link` objects representing\n",
      "            all links associated with this STACObject.\n",
      "        assets : Dictionary of asset objects that can be downloaded,\n",
      "            each with a unique key.\n",
      "        collection_id : The Collection ID that this item belongs to, if\n",
      "            any.\n",
      "        extra_fields : Extra fields that are part of the top-level JSON\n",
      "            properties of the Item.\n",
      "    \n"
     ]
    }
   ],
   "source": [
    "print(pystac.Item.__doc__)"
   ]
  },
  {
   "cell_type": "code",
   "execution_count": 41,
   "id": "bcb028e7-4089-4f0d-96e3-a88bedb91109",
   "metadata": {},
   "outputs": [],
   "source": [
    "import rasterio\n",
    "from shapely.geometry import Polygon, mapping\n",
    "\n",
    "def get_bbox_and_footprint(raster_uri):\n",
    "    with rasterio.open(raster_uri) as ds:\n",
    "        bounds = ds.bounds\n",
    "        bbox = [bounds.left, bounds.bottom, bounds.right, bounds.top]\n",
    "        footprint = Polygon([\n",
    "            [bounds.left, bounds.bottom],\n",
    "            [bounds.left, bounds.top],\n",
    "            [bounds.right, bounds.top],\n",
    "            [bounds.right, bounds.bottom]\n",
    "        ])\n",
    "\n",
    "        return (bbox, mapping(footprint))"
   ]
  },
  {
   "cell_type": "code",
   "execution_count": 47,
   "id": "9e9ee19e-fc19-4dd3-9247-301daed6be4d",
   "metadata": {},
   "outputs": [
    {
     "name": "stdout",
     "output_type": "stream",
     "text": [
      "[761795.0, 5203955.0, 764415.0, 5206455.0]\n",
      "{'type': 'Polygon', 'coordinates': (((761795.0, 5203955.0), (761795.0, 5206455.0), (764415.0, 5206455.0), (764415.0, 5203955.0), (761795.0, 5203955.0)),)}\n"
     ]
    }
   ],
   "source": [
    "bbox, footprint = get_bbox_and_footprint('/home/jovyan/geoanalytics_user_shared_data/Tutorial_stac_test/2019S2A_MSIL2A_20190602T153911_R011_T18TYT_20201005T210750/B01.tif')\n",
    "print(bbox)\n",
    "print(footprint)"
   ]
  },
  {
   "cell_type": "code",
   "execution_count": 48,
   "id": "5ffb635f-ebb0-4c80-96a7-7156aa83c1eb",
   "metadata": {},
   "outputs": [],
   "source": [
    "item = pystac.Item(id='local-image',\n",
    "                 geometry=footprint,\n",
    "                 bbox=bbox,\n",
    "                 datetime=datetime.utcnow(),\n",
    "                 properties={})"
   ]
  },
  {
   "cell_type": "code",
   "execution_count": 49,
   "id": "ac233be2-477e-4c04-a78f-6500d7677d86",
   "metadata": {},
   "outputs": [
    {
     "data": {
      "text/plain": [
       "True"
      ]
     },
     "execution_count": 49,
     "metadata": {},
     "output_type": "execute_result"
    }
   ],
   "source": [
    "item.get_parent() is None"
   ]
  },
  {
   "cell_type": "code",
   "execution_count": 50,
   "id": "6c7b15b8-3e8b-4637-88ca-fe8c71ccfb76",
   "metadata": {},
   "outputs": [],
   "source": [
    "catalog.add_item(item)"
   ]
  },
  {
   "cell_type": "code",
   "execution_count": 51,
   "id": "56ed13fd-3d70-45e5-8105-1feea48b128d",
   "metadata": {},
   "outputs": [
    {
     "data": {
      "text/plain": [
       "<Catalog id=S2-test-catalog>"
      ]
     },
     "execution_count": 51,
     "metadata": {},
     "output_type": "execute_result"
    }
   ],
   "source": [
    "item.get_parent()"
   ]
  },
  {
   "cell_type": "code",
   "execution_count": 52,
   "id": "17a8886d-d37c-47a3-97d6-15498fdee37d",
   "metadata": {},
   "outputs": [
    {
     "name": "stdout",
     "output_type": "stream",
     "text": [
      "* <Catalog id=S2-test-catalog>\n",
      "  * <Item id=local-image>\n"
     ]
    }
   ],
   "source": [
    "catalog.describe()"
   ]
  },
  {
   "cell_type": "code",
   "execution_count": 54,
   "id": "540827e4-59fd-4787-9f42-fee37e87ea75",
   "metadata": {},
   "outputs": [
    {
     "name": "stdout",
     "output_type": "stream",
     "text": [
      "An object that contains a link to data associated with an Item or Collection that\n",
      "    can be downloaded or streamed.\n",
      "\n",
      "    Args:\n",
      "        href : Link to the asset object. Relative and absolute links are both\n",
      "            allowed.\n",
      "        title : Optional displayed title for clients and users.\n",
      "        description : A description of the Asset providing additional details,\n",
      "            such as how it was processed or created. CommonMark 0.29 syntax MAY be used\n",
      "            for rich text representation.\n",
      "        media_type : Optional description of the media type. Registered Media Types\n",
      "            are preferred. See :class:`~pystac.MediaType` for common media types.\n",
      "        roles : Optional, Semantic roles (i.e. thumbnail, overview,\n",
      "            data, metadata) of the asset.\n",
      "        extra_fields : Optional, additional fields for this asset. This is used\n",
      "            by extensions as a way to serialize and deserialize properties on asset\n",
      "            object JSON.\n",
      "    \n"
     ]
    }
   ],
   "source": [
    "print(pystac.Asset.__doc__)"
   ]
  },
  {
   "cell_type": "code",
   "execution_count": 72,
   "id": "025e1326-dbbc-440c-a79c-1b4643cff286",
   "metadata": {},
   "outputs": [],
   "source": [
    "S2_bands = [Band.create(name='coastal', description='Coastal_aerosol: 400 - 450 nm - 60m', common_name='coastal'),\n",
    "             Band.create(name='blue', description='Blue: 450 - 510 nm - 10m', common_name='blue'),\n",
    "             Band.create(name='green', description='Green: 510 - 560 nm - 10m', common_name='green'),\n",
    "             Band.create(name='red', description='Red: 580 - 665 nm - 10m', common_name='red'),\n",
    "             Band.create(name='VNIR1', description='Red: 670 - 705 nm - 20m', common_name='VNIR1'),\n",
    "             Band.create(name='VNIR2', description='Red Edge: 710 - 745 nm', common_name='VNIR2'),\n",
    "             Band.create(name='NIR1', description='NIR1: 750 - 780 nm', common_name='NIR1'),\n",
    "             Band.create(name='NIR2', description='NIR2: 780 - 842 nm', common_name='NIR2'),\n",
    "             Band.create(name='nir08', description='nir08: 845 - 870 nm', common_name='NIR08'),\n",
    "             Band.create(name='nir09', description='nir09: 850 - 1050 nm', common_name='NIR09')\n",
    "             ]"
   ]
  },
  {
   "cell_type": "code",
   "execution_count": 73,
   "id": "1c860a22-cf42-4726-a8ca-5922180127dc",
   "metadata": {},
   "outputs": [
    {
     "ename": "AttributeError",
     "evalue": "'Item' object has no attribute 'ext'",
     "output_type": "error",
     "traceback": [
      "\u001b[0;31m---------------------------------------------------------------------------\u001b[0m",
      "\u001b[0;31mAttributeError\u001b[0m                            Traceback (most recent call last)",
      "Input \u001b[0;32mIn [73]\u001b[0m, in \u001b[0;36m<cell line: 7>\u001b[0;34m()\u001b[0m\n\u001b[1;32m      1\u001b[0m eo_item \u001b[38;5;241m=\u001b[39m pystac\u001b[38;5;241m.\u001b[39mItem(\u001b[38;5;28mid\u001b[39m\u001b[38;5;241m=\u001b[39m\u001b[38;5;124m'\u001b[39m\u001b[38;5;124mlocal-image-eo\u001b[39m\u001b[38;5;124m'\u001b[39m,\n\u001b[1;32m      2\u001b[0m                       geometry\u001b[38;5;241m=\u001b[39mfootprint,\n\u001b[1;32m      3\u001b[0m                       bbox\u001b[38;5;241m=\u001b[39mbbox,\n\u001b[1;32m      4\u001b[0m                       datetime\u001b[38;5;241m=\u001b[39mdatetime\u001b[38;5;241m.\u001b[39mutcnow(),\n\u001b[1;32m      5\u001b[0m                       properties\u001b[38;5;241m=\u001b[39m{})\n\u001b[0;32m----> 7\u001b[0m \u001b[43meo_item\u001b[49m\u001b[38;5;241;43m.\u001b[39;49m\u001b[43mext\u001b[49m\u001b[38;5;241m.\u001b[39menable(pystac\u001b[38;5;241m.\u001b[39mExtensions\u001b[38;5;241m.\u001b[39mEO)\n\u001b[1;32m      8\u001b[0m eo_item\u001b[38;5;241m.\u001b[39mext\u001b[38;5;241m.\u001b[39meo\u001b[38;5;241m.\u001b[39mapply(bands\u001b[38;5;241m=\u001b[39mwv3_bands)\n",
      "\u001b[0;31mAttributeError\u001b[0m: 'Item' object has no attribute 'ext'"
     ]
    }
   ],
   "source": [
    "eo_item = pystac.Item(id='local-image-eo',\n",
    "                      geometry=footprint,\n",
    "                      bbox=bbox,\n",
    "                      datetime=datetime.utcnow(),\n",
    "                      properties={})\n",
    "\n",
    "eo_item.ext.enable(pystac.Extensions.EO)\n",
    "eo_item.ext.eo.apply(bands=wv3_bands)"
   ]
  },
  {
   "cell_type": "code",
   "execution_count": 55,
   "id": "0a2459da-aeb0-4ab3-bb0a-6c0b563f7ed3",
   "metadata": {},
   "outputs": [],
   "source": [
    "item.add_asset(\n",
    "    key='image',\n",
    "    asset=pystac.Asset(\n",
    "        href='/home/jovyan/geoanalytics_user_shared_data/Tutorial_stac_test/2019S2A_MSIL2A_20190602T153911_R011_T18TYT_20201005T210750/B01.tif',\n",
    "        media_type=pystac.MediaType.COG\n",
    "    )\n",
    ")"
   ]
  },
  {
   "cell_type": "code",
   "execution_count": 57,
   "id": "58550708-fdd0-4e54-8034-5414c8793228",
   "metadata": {
    "tags": []
   },
   "outputs": [
    {
     "name": "stdout",
     "output_type": "stream",
     "text": [
      "{\n",
      "    \"type\": \"Feature\",\n",
      "    \"stac_version\": \"1.0.0\",\n",
      "    \"id\": \"local-image\",\n",
      "    \"properties\": {\n",
      "        \"datetime\": \"2022-06-13T18:36:25.061204Z\"\n",
      "    },\n",
      "    \"geometry\": {\n",
      "        \"type\": \"Polygon\",\n",
      "        \"coordinates\": [\n",
      "            [\n",
      "                [\n",
      "                    761795.0,\n",
      "                    5203955.0\n",
      "                ],\n",
      "                [\n",
      "                    761795.0,\n",
      "                    5206455.0\n",
      "                ],\n",
      "                [\n",
      "                    764415.0,\n",
      "                    5206455.0\n",
      "                ],\n",
      "                [\n",
      "                    764415.0,\n",
      "                    5203955.0\n",
      "                ],\n",
      "                [\n",
      "                    761795.0,\n",
      "                    5203955.0\n",
      "                ]\n",
      "            ]\n",
      "        ]\n",
      "    },\n",
      "    \"links\": [\n",
      "        {\n",
      "            \"rel\": \"root\",\n",
      "            \"href\": null,\n",
      "            \"type\": \"application/json\"\n",
      "        },\n",
      "        {\n",
      "            \"rel\": \"parent\",\n",
      "            \"href\": null,\n",
      "            \"type\": \"application/json\"\n",
      "        }\n",
      "    ],\n",
      "    \"assets\": {\n",
      "        \"image\": {\n",
      "            \"href\": \"/home/jovyan/geoanalytics_user_shared_data/Tutorial_stac_test/2019S2A_MSIL2A_20190602T153911_R011_T18TYT_20201005T210750/B01.tif\",\n",
      "            \"type\": \"image/tiff; application=geotiff; profile=cloud-optimized\"\n",
      "        }\n",
      "    },\n",
      "    \"bbox\": [\n",
      "        761795.0,\n",
      "        5203955.0,\n",
      "        764415.0,\n",
      "        5206455.0\n",
      "    ],\n",
      "    \"stac_extensions\": []\n",
      "}\n"
     ]
    }
   ],
   "source": [
    "print(json.dumps(item.to_dict(), indent=4))"
   ]
  },
  {
   "cell_type": "code",
   "execution_count": 59,
   "id": "53a554f5-93b8-4825-a272-67961cb942e9",
   "metadata": {},
   "outputs": [],
   "source": [
    "catalog.normalize_hrefs(os.path.join('/home/jovyan/geoanalytics_user_shared_data/Tutorial_stac_test/', 'stac'))"
   ]
  },
  {
   "cell_type": "code",
   "execution_count": 60,
   "id": "450f6054-c01f-4cfb-99c4-cdd620255f24",
   "metadata": {},
   "outputs": [
    {
     "name": "stdout",
     "output_type": "stream",
     "text": [
      "/home/jovyan/geoanalytics_user_shared_data/Tutorial_stac_test/stac/catalog.json\n",
      "/home/jovyan/geoanalytics_user_shared_data/Tutorial_stac_test/stac/local-image/local-image.json\n"
     ]
    },
    {
     "name": "stderr",
     "output_type": "stream",
     "text": [
      "2022-06-13 20:06:33,659 - distributed.client - ERROR - Failed to reconnect to scheduler after 30.00 seconds, closing client\n",
      "Exception in callback None()\n",
      "handle: <Handle cancelled>\n",
      "Traceback (most recent call last):\n",
      "  File \"/srv/conda/envs/notebook/lib/python3.9/site-packages/tornado/iostream.py\", line 1391, in _do_ssl_handshake\n",
      "    self.socket.do_handshake()\n",
      "  File \"/srv/conda/envs/notebook/lib/python3.9/ssl.py\", line 1309, in do_handshake\n",
      "    self._sslobj.do_handshake()\n",
      "ssl.SSLCertVerificationError: [SSL: CERTIFICATE_VERIFY_FAILED] certificate verify failed: self signed certificate (_ssl.c:1129)\n",
      "\n",
      "During handling of the above exception, another exception occurred:\n",
      "\n",
      "Traceback (most recent call last):\n",
      "  File \"/srv/conda/envs/notebook/lib/python3.9/asyncio/events.py\", line 80, in _run\n",
      "    self._context.run(self._callback, *self._args)\n",
      "  File \"/srv/conda/envs/notebook/lib/python3.9/site-packages/tornado/platform/asyncio.py\", line 189, in _handle_events\n",
      "    handler_func(fileobj, events)\n",
      "  File \"/srv/conda/envs/notebook/lib/python3.9/site-packages/tornado/iostream.py\", line 696, in _handle_events\n",
      "    self._handle_read()\n",
      "  File \"/srv/conda/envs/notebook/lib/python3.9/site-packages/tornado/iostream.py\", line 1478, in _handle_read\n",
      "    self._do_ssl_handshake()\n",
      "  File \"/srv/conda/envs/notebook/lib/python3.9/site-packages/tornado/iostream.py\", line 1409, in _do_ssl_handshake\n",
      "    return self.close(exc_info=err)\n",
      "  File \"/srv/conda/envs/notebook/lib/python3.9/site-packages/tornado/iostream.py\", line 611, in close\n",
      "    self._signal_closed()\n",
      "  File \"/srv/conda/envs/notebook/lib/python3.9/site-packages/tornado/iostream.py\", line 641, in _signal_closed\n",
      "    self._ssl_connect_future.exception()\n",
      "asyncio.exceptions.CancelledError\n"
     ]
    }
   ],
   "source": [
    "print(catalog.get_self_href())\n",
    "print(item.get_self_href())"
   ]
  },
  {
   "cell_type": "code",
   "execution_count": null,
   "id": "fb9ca0bd-4160-4701-a374-69a4ee0fe345",
   "metadata": {},
   "outputs": [],
   "source": []
  },
  {
   "cell_type": "code",
   "execution_count": null,
   "id": "d552852c-aa25-46e7-98c5-bc3ca911b4d9",
   "metadata": {},
   "outputs": [],
   "source": [
    "##  The function create_STAC_Item() will create a PySTAC Item of a GeoTIFF with information provided as a json. \n",
    "# We must use PySTAC to create this STAC Item to be indexed to the STAC Server.STAC requires the projection of the bounding box and geometry to be in WGS84 (for example: EPSG:4326). \n",
    "# Since the original raster data is in EPSG:9001, the function first opens the file and reprojects the CRS to EPSG:4326, and passes the updated bounding box and geometry as features to the STAC Item.\n",
    "# The STAC Item Spec (https://github.com/radiantearth/stac-spec/blob/master/item-spec/item-spec.md) has details on the required and optional parameters to include for creating an Item.\n",
    "# The parameters to Instantiate the PySTAC Item will be:\n",
    "# ID: the Producer Granule ID from the metadata file.\n",
    "# Geometry: the geojson polygon feature with the updated CRS of the granule.\n",
    "# Bounding Box: the granules bounds with the updated CRS.\n",
    "# Datetime: the Acquisition Time (\"time_start\") from the metadata file.\n",
    "# Properties: Common metadata of the granule. (Other (non-boolean) attributes from the metadata file).\n",
    "# Extra Fields: Containing the band information from the Summary above.\n",
    "# Projection: The Coordinate Reference System of the data, using the Projection Extension.\n",
    "# Asset: The filepath/URL directing to the location of the data (very important!)\n",
    "\n",
    "def create_STAC_Item(tiff_path, metadata_json):\n",
    "    \n",
    "    with rasterio.open(tiff_path) as sample_cog:\n",
    "     #   left, bottom, right, top = sample_cog.bounds\n",
    "        bounds = sample_cog.bounds\n",
    "        src_crs = sample_cog.crs\n",
    "        dst_crs = 'EPSG:4326'  # EPSG identifier for WGS84 coordinate system used by the geojson format\n",
    "        left, bottom, right, top = rasterio.warp.transform_bounds(sample_cog.crs, dst_crs, *bounds)\n",
    "        bbox = [left, bottom, right, top]\n",
    "        \n",
    "        # Create geojson feature\n",
    "        geom = mapping(Polygon([\n",
    "          [left, bottom],\n",
    "           [left, top],\n",
    "           [right, top],\n",
    "           [right, bottom]\n",
    "        ]))\n",
    "        time_acquired = datetime.strptime(metadata_json['time_start'], '%Y-%m-%dT%H:%M:%S.%fZ')\n",
    "        \n",
    "        # Instantiate pystac item\n",
    "        item = pystac.Item(id=metadata_json[\"producer_granule_id\"][:-4],\n",
    "                           geometry=geom,\n",
    "                           bbox=bbox,\n",
    "                           datetime = time_acquired, \n",
    "                           properties={},\n",
    "                           extra_fields=summary)\n",
    "    \n",
    "        # Use Planet metadata.json to add some common metadata to the STAC item\n",
    "        cols = ['updated','dataset_id','data_center','title','coordinate_system','day_night_flag',\n",
    "        'original_format','granule_size','collection_concept_id']\n",
    "        for prop in cols:\n",
    "            item.properties[prop] = metadata_json[prop]\n",
    "            \n",
    "        item.properties['original_links'] = metadata_json['links'][0]\n",
    "    \n",
    "        # Enable item extensions\n",
    "        projection = ProjectionExtension.ext(item, add_if_missing=True)\n",
    "        projection.epsg = 'EPSG:9001'\n",
    "        \n",
    "        # Add the link to the asset (the path to the geotiff)\n",
    "        item.add_asset(key='analytic', asset=pystac.Asset(href=cog,\n",
    "                                                          title= \"13 Bands MODIS MCD12Q1 Raster\", # indicate it is a cloud optimized geotiff\n",
    "                                                          media_type=pystac.MediaType.COG,\n",
    "                                                          roles=([\"analytic\"]))) \n",
    "    \n",
    "     \n",
    "        # Tuple containing spatial and temporal extent information to use later in this tutorial\n",
    "        item_extent_info =  (bbox, geom, time_acquired)\n",
    "     \n",
    "    # Returns a list containing the PySTAC Item object and a tuple holding the bounding box, geojson polygon, and date the item was acquired\n",
    "    return item, (item_extent_info)\n",
    "\n",
    "## Next step is to call the function and create STAC Items for each granule in our folder. The for loops below iterate through each granule's metadata and geotiff and saves the STAC Item to a list."
   ]
  },
  {
   "cell_type": "code",
   "execution_count": null,
   "id": "6060e15a-0f31-4f14-9897-520054e59b47",
   "metadata": {},
   "outputs": [],
   "source": [
    "%%time\n",
    "stac_items_list = []\n",
    "yearslist = gcs.ls('granule-gcs-mtl01/modis/MCD12Q1/1_cog/2014')\n",
    "for year in yearslist:\n",
    "    print(year)\n",
    "    for date in gcs.ls(year):\n",
    "      #  print(date)\n",
    "        for file in gcs.ls(date):\n",
    "            if file.endswith(\".json\"):\n",
    "                cog = f'{file[:-5]}.tif'\n",
    "                sample_tif = 'local-mcd12q1.tif'\n",
    "                localjson = 'local-mcd12q1.json'\n",
    "                gcs.get(file,localjson)\n",
    "                gcs.get(cog,sample_tif)\n",
    "                metadata_json = pd.read_json(localjson, lines=True) # read data frame from json file\n",
    "                item, extent = create_STAC_Item(sample_tif, metadata_json.iloc[0])\n",
    "\n",
    "                stac_items_list.append((item, extent))"
   ]
  },
  {
   "cell_type": "code",
   "execution_count": 120,
   "id": "ed06a84c-7bfc-4e67-ae10-b91c96e50556",
   "metadata": {},
   "outputs": [],
   "source": [
    "cluster.shutdown()\n",
    "client.close()"
   ]
  }
 ],
 "metadata": {
  "kernelspec": {
   "display_name": "Python 3 (ipykernel)",
   "language": "python",
   "name": "python3"
  },
  "language_info": {
   "codemirror_mode": {
    "name": "ipython",
    "version": 3
   },
   "file_extension": ".py",
   "mimetype": "text/x-python",
   "name": "python",
   "nbconvert_exporter": "python",
   "pygments_lexer": "ipython3",
   "version": "3.9.12"
  }
 },
 "nbformat": 4,
 "nbformat_minor": 5
}
