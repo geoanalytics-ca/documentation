{
 "cells": [
  {
   "cell_type": "markdown",
   "id": "40adff49-67e0-4831-9543-2dd50ae9ec88",
   "metadata": {},
   "source": [
    "# **Adding data to the Geoanalytics STAC server**"
   ]
  },
  {
   "cell_type": "code",
   "execution_count": 1,
   "id": "31b35e75-0d60-4e17-954e-936b4939f6e9",
   "metadata": {
    "collapsed": true,
    "jupyter": {
     "outputs_hidden": true
    },
    "tags": []
   },
   "outputs": [
    {
     "name": "stdout",
     "output_type": "stream",
     "text": [
      "Collecting planetary_computer\n",
      "  Downloading planetary_computer-0.4.6-py3-none-any.whl (14 kB)\n",
      "Requirement already satisfied: requests>=2.25.1 in /srv/conda/envs/notebook/lib/python3.9/site-packages (from planetary_computer) (2.27.1)\n",
      "Requirement already satisfied: pystac>=1.0.0 in /srv/conda/envs/notebook/lib/python3.9/site-packages (from planetary_computer) (1.2.0)\n",
      "Requirement already satisfied: click>=7.1 in /srv/conda/envs/notebook/lib/python3.9/site-packages (from planetary_computer) (8.1.2)\n",
      "Requirement already satisfied: pytz>=2020.5 in /srv/conda/envs/notebook/lib/python3.9/site-packages (from planetary_computer) (2022.1)\n",
      "Requirement already satisfied: pystac-client>=0.2.0 in /srv/conda/envs/notebook/lib/python3.9/site-packages (from planetary_computer) (0.3.2)\n",
      "Requirement already satisfied: pydantic[dotenv]>=1.7.3 in /srv/conda/envs/notebook/lib/python3.9/site-packages (from planetary_computer) (1.9.0)\n",
      "Requirement already satisfied: typing-extensions>=3.7.4.3 in /srv/conda/envs/notebook/lib/python3.9/site-packages (from pydantic[dotenv]>=1.7.3->planetary_computer) (4.1.1)\n",
      "Collecting python-dotenv>=0.10.4\n",
      "  Downloading python_dotenv-0.20.0-py3-none-any.whl (17 kB)\n",
      "Requirement already satisfied: python-dateutil>=2.7.0 in /srv/conda/envs/notebook/lib/python3.9/site-packages (from pystac>=1.0.0->planetary_computer) (2.7.5)\n",
      "Requirement already satisfied: six>=1.5 in /srv/conda/envs/notebook/lib/python3.9/site-packages (from python-dateutil>=2.7.0->pystac>=1.0.0->planetary_computer) (1.16.0)\n",
      "Requirement already satisfied: idna<4,>=2.5 in /srv/conda/envs/notebook/lib/python3.9/site-packages (from requests>=2.25.1->planetary_computer) (3.3)\n",
      "Requirement already satisfied: urllib3<1.27,>=1.21.1 in /srv/conda/envs/notebook/lib/python3.9/site-packages (from requests>=2.25.1->planetary_computer) (1.26.9)\n",
      "Requirement already satisfied: charset-normalizer~=2.0.0 in /srv/conda/envs/notebook/lib/python3.9/site-packages (from requests>=2.25.1->planetary_computer) (2.0.12)\n",
      "Requirement already satisfied: certifi>=2017.4.17 in /srv/conda/envs/notebook/lib/python3.9/site-packages (from requests>=2.25.1->planetary_computer) (2021.10.8)\n",
      "Installing collected packages: python-dotenv, planetary-computer\n",
      "Successfully installed planetary-computer-0.4.6 python-dotenv-0.20.0\n",
      "Requirement already satisfied: boto3 in /srv/conda/envs/notebook/lib/python3.9/site-packages (1.21.21)\n",
      "Requirement already satisfied: jmespath<2.0.0,>=0.7.1 in /srv/conda/envs/notebook/lib/python3.9/site-packages (from boto3) (1.0.0)\n",
      "Requirement already satisfied: s3transfer<0.6.0,>=0.5.0 in /srv/conda/envs/notebook/lib/python3.9/site-packages (from boto3) (0.5.2)\n",
      "Requirement already satisfied: botocore<1.25.0,>=1.24.21 in /srv/conda/envs/notebook/lib/python3.9/site-packages (from boto3) (1.24.21)\n",
      "Requirement already satisfied: urllib3<1.27,>=1.25.4 in /srv/conda/envs/notebook/lib/python3.9/site-packages (from botocore<1.25.0,>=1.24.21->boto3) (1.26.9)\n",
      "Requirement already satisfied: python-dateutil<3.0.0,>=2.1 in /srv/conda/envs/notebook/lib/python3.9/site-packages (from botocore<1.25.0,>=1.24.21->boto3) (2.7.5)\n",
      "Requirement already satisfied: six>=1.5 in /srv/conda/envs/notebook/lib/python3.9/site-packages (from python-dateutil<3.0.0,>=2.1->botocore<1.25.0,>=1.24.21->boto3) (1.16.0)\n",
      "Requirement already satisfied: rasterio in /srv/conda/envs/notebook/lib/python3.9/site-packages (1.2.10)\n",
      "Requirement already satisfied: snuggs>=1.4.1 in /srv/conda/envs/notebook/lib/python3.9/site-packages (from rasterio) (1.4.7)\n",
      "Requirement already satisfied: numpy in /srv/conda/envs/notebook/lib/python3.9/site-packages (from rasterio) (1.22.3)\n",
      "Requirement already satisfied: click-plugins in /srv/conda/envs/notebook/lib/python3.9/site-packages (from rasterio) (1.1.1)\n",
      "Requirement already satisfied: click>=4.0 in /srv/conda/envs/notebook/lib/python3.9/site-packages (from rasterio) (8.1.2)\n",
      "Requirement already satisfied: attrs in /srv/conda/envs/notebook/lib/python3.9/site-packages (from rasterio) (21.4.0)\n",
      "Requirement already satisfied: affine in /srv/conda/envs/notebook/lib/python3.9/site-packages (from rasterio) (2.3.1)\n",
      "Requirement already satisfied: certifi in /srv/conda/envs/notebook/lib/python3.9/site-packages (from rasterio) (2021.10.8)\n",
      "Requirement already satisfied: cligj>=0.5 in /srv/conda/envs/notebook/lib/python3.9/site-packages (from rasterio) (0.7.2)\n",
      "Requirement already satisfied: setuptools in /srv/conda/envs/notebook/lib/python3.9/site-packages (from rasterio) (60.10.0)\n",
      "Requirement already satisfied: pyparsing>=2.1.6 in /srv/conda/envs/notebook/lib/python3.9/site-packages (from snuggs>=1.4.1->rasterio) (3.0.8)\n",
      "Requirement already satisfied: shapely in /srv/conda/envs/notebook/lib/python3.9/site-packages (1.8.0)\n",
      "Collecting geojson\n",
      "  Downloading geojson-2.5.0-py2.py3-none-any.whl (14 kB)\n",
      "Installing collected packages: geojson\n",
      "Successfully installed geojson-2.5.0\n"
     ]
    }
   ],
   "source": [
    "# We will be using Sentinel-2 L2A imagery from Microsoft Planetary Computer's STAC server:\n",
    "!pip install planetary_computer\n",
    "!pip install boto3\n",
    "!pip install rasterio\n",
    "!pip install shapely\n",
    "!pip install geojson"
   ]
  },
  {
   "cell_type": "code",
   "execution_count": 2,
   "id": "db688730-0e85-45c7-918b-50576d73f9b0",
   "metadata": {},
   "outputs": [
    {
     "name": "stderr",
     "output_type": "stream",
     "text": [
      "/srv/conda/envs/notebook/lib/python3.9/site-packages/dask_gateway/client.py:21: FutureWarning: format_bytes is deprecated and will be removed in a future release. Please use dask.utils.format_bytes instead.\n",
      "  from distributed.utils import LoopRunner, format_bytes\n"
     ]
    }
   ],
   "source": [
    "import io\n",
    "import os\n",
    "import sys\n",
    "import time\n",
    "import boto3\n",
    "import shapely\n",
    "import pickle\n",
    "import getpass\n",
    "import requests\n",
    "import datetime\n",
    "import json\n",
    "import geojson\n",
    "import glob\n",
    "import dask\n",
    "import rasterio\n",
    "import gcsfs\n",
    "import pystac\n",
    "import stackstac\n",
    "import planetary_computer\n",
    "\n",
    "import pandas as pd\n",
    "import numpy as np\n",
    "import xarray as xr\n",
    "import geopandas as gpd\n",
    "import rioxarray as rxr\n",
    "import matplotlib.pyplot as plt \n",
    "\n",
    "from json import JSONEncoder\n",
    "from rasterio.warp import calculate_default_transform\n",
    "from pathlib import Path\n",
    "from dask.distributed import performance_report\n",
    "from shapely.geometry import Polygon, mapping, shape\n",
    "from shapely.ops import unary_union\n",
    "from datetime import datetime\n",
    "from itertools import islice\n",
    "from pystac.extensions.projection import ProjectionExtension\n",
    "from pystac.extensions.eo import Band\n",
    "from pystac_client import Client\n",
    "from dask_gateway import Gateway\n",
    "from IPython.display import clear_output\n",
    "from shapely import wkt\n",
    "from shapely.geometry import box\n",
    "from dateutil.parser import parse as dateparse\n",
    "from urllib.request import urlopen, Request, build_opener, HTTPCookieProcessor\n",
    "from rio_cogeo.cogeo import cog_translate\n",
    "from rio_cogeo.profiles import cog_profiles\n",
    "from IPython.display import clear_output\n",
    "from typing import Any, Dict, List, Optional, cast"
   ]
  },
  {
   "cell_type": "code",
   "execution_count": 39,
   "id": "5767c564-ab08-4356-b599-892be9833b3e",
   "metadata": {},
   "outputs": [],
   "source": [
    "gateway = Gateway()\n",
    "\n",
    "# Cluster configuration \n",
    "options = gateway.cluster_options()\n",
    "options.image = 'pangeo/pangeo-notebook:2022.04.15' "
   ]
  },
  {
   "cell_type": "code",
   "execution_count": 156,
   "id": "a5bbe9dd-c215-4a67-85bc-e8a7d4223b4d",
   "metadata": {
    "tags": []
   },
   "outputs": [
    {
     "data": {
      "application/vnd.jupyter.widget-view+json": {
       "model_id": "f24cca5cea2143388d765f02452f023c",
       "version_major": 2,
       "version_minor": 0
      },
      "text/plain": [
       "VBox(children=(HTML(value='<h2>GatewayCluster</h2>'), HBox(children=(HTML(value='\\n<div>\\n<style scoped>\\n    …"
      ]
     },
     "metadata": {},
     "output_type": "display_data"
    }
   ],
   "source": [
    "cluster = gateway.new_cluster(options)\n",
    "cluster"
   ]
  },
  {
   "cell_type": "code",
   "execution_count": 157,
   "id": "15f3e3fd-426a-4be4-a664-111f250732a7",
   "metadata": {},
   "outputs": [],
   "source": [
    "# Scale the cluster\n",
    "workers = 10\n",
    "cluster.scale(workers) "
   ]
  },
  {
   "cell_type": "code",
   "execution_count": 158,
   "id": "9fb9f58d-0a68-40f7-a29c-2a53a20e0c98",
   "metadata": {
    "tags": []
   },
   "outputs": [],
   "source": [
    "# Assign client to this cluster so Dask knows to use it for computations\n",
    "client = cluster.get_client() "
   ]
  },
  {
   "cell_type": "code",
   "execution_count": 159,
   "id": "f5b3bc00-b1ed-4367-b06a-4a5d25be79a2",
   "metadata": {},
   "outputs": [
    {
     "data": {
      "application/vnd.jupyter.widget-view+json": {
       "model_id": "f24cca5cea2143388d765f02452f023c",
       "version_major": 2,
       "version_minor": 0
      },
      "text/plain": [
       "VBox(children=(HTML(value='<h2>GatewayCluster</h2>'), HBox(children=(HTML(value='\\n<div>\\n<style scoped>\\n    …"
      ]
     },
     "metadata": {},
     "output_type": "display_data"
    }
   ],
   "source": [
    "client.wait_for_workers(workers-1)\n",
    "cluster"
   ]
  },
  {
   "cell_type": "code",
   "execution_count": 153,
   "id": "32b17028-535e-4551-9d3c-d8e189def5e6",
   "metadata": {},
   "outputs": [
    {
     "data": {
      "text/html": [
       "<div>\n",
       "    <div style=\"width: 24px; height: 24px; background-color: #e1e1e1; border: 3px solid #9D9D9D; border-radius: 5px; position: absolute;\"> </div>\n",
       "    <div style=\"margin-left: 48px;\">\n",
       "        <h3 style=\"margin-bottom: 0px;\">Client</h3>\n",
       "        <p style=\"color: #9D9D9D; margin-bottom: 0px;\">Client-567242ba-f3fa-11ec-83a9-6ee5907f95e4</p>\n",
       "        <table style=\"width: 100%; text-align: left;\">\n",
       "\n",
       "        <tr>\n",
       "        \n",
       "            <td style=\"text-align: left;\"><strong>Connection method:</strong> Cluster object</td>\n",
       "            <td style=\"text-align: left;\"><strong>Cluster type:</strong> dask_gateway.GatewayCluster</td>\n",
       "        \n",
       "        </tr>\n",
       "\n",
       "        \n",
       "            <tr>\n",
       "                <td style=\"text-align: left;\">\n",
       "                    <strong>Dashboard: </strong> <a href=\"http://traefik-dask-gateway.geoanalytics.ca/services/dask-gateway/clusters/pangeo.d04033c287a04d9aa17050964cde3e66/status\" target=\"_blank\">http://traefik-dask-gateway.geoanalytics.ca/services/dask-gateway/clusters/pangeo.d04033c287a04d9aa17050964cde3e66/status</a>\n",
       "                </td>\n",
       "                <td style=\"text-align: left;\"></td>\n",
       "            </tr>\n",
       "        \n",
       "\n",
       "        </table>\n",
       "\n",
       "        \n",
       "            <details>\n",
       "            <summary style=\"margin-bottom: 20px;\"><h3 style=\"display: inline;\">Cluster Info</h3></summary>\n",
       "            <div style='background-color: #f2f2f2; display: inline-block; padding: 10px; border: 1px solid #999999;'>\n",
       "  <h3>GatewayCluster</h3>\n",
       "  <ul>\n",
       "    <li><b>Name: </b>pangeo.d04033c287a04d9aa17050964cde3e66\n",
       "    <li><b>Dashboard: </b><a href='http://traefik-dask-gateway.geoanalytics.ca/services/dask-gateway/clusters/pangeo.d04033c287a04d9aa17050964cde3e66/status' target='_blank'>http://traefik-dask-gateway.geoanalytics.ca/services/dask-gateway/clusters/pangeo.d04033c287a04d9aa17050964cde3e66/status</a>\n",
       "  </ul>\n",
       "</div>\n",
       "\n",
       "            </details>\n",
       "        \n",
       "\n",
       "    </div>\n",
       "</div>"
      ],
      "text/plain": [
       "<Client: 'tls://10.54.206.3:8786' processes=0 threads=0, memory=0 B>"
      ]
     },
     "execution_count": 153,
     "metadata": {},
     "output_type": "execute_result"
    }
   ],
   "source": [
    "# client.restart()"
   ]
  },
  {
   "cell_type": "code",
   "execution_count": 160,
   "id": "4b59b13f-5aff-4c6e-a729-ab2de58cb047",
   "metadata": {},
   "outputs": [
    {
     "data": {
      "text/plain": [
       "[ClusterReport<name=pangeo.a253833fe1bf450f9d609a7d3230ce25, status=RUNNING>]"
      ]
     },
     "execution_count": 160,
     "metadata": {},
     "output_type": "execute_result"
    }
   ],
   "source": [
    "gateway.list_clusters()"
   ]
  },
  {
   "cell_type": "markdown",
   "id": "93921047-c07f-4f90-b143-3e96e4526790",
   "metadata": {},
   "source": [
    "#### Remember to register for the gcsfs client, in order to access the Google Cloud Storage Buckets"
   ]
  },
  {
   "cell_type": "code",
   "execution_count": 161,
   "id": "45c82c6e-70c0-4b7f-99df-71f11044321a",
   "metadata": {},
   "outputs": [],
   "source": [
    "def register_gcsfs_client(username:str):\n",
    "    # set up the gcsfs system with credentials\n",
    "    print('registering gcsfs')\n",
    "    tok = os.path.join(os.environ['HOME'], f'geoanalytics_{username}', 'geo.json') # Change this to your own cred file\n",
    "    tok_dict = json.load(open(tok))\n",
    "    gcs = gcsfs.GCSFileSystem(token=tok_dict, access='read_write')\n",
    "    return gcs"
   ]
  },
  {
   "cell_type": "code",
   "execution_count": 162,
   "id": "46f268fd-2a79-4e3d-9ba6-6df0466e6e3a",
   "metadata": {},
   "outputs": [
    {
     "name": "stdin",
     "output_type": "stream",
     "text": [
      "Username: mkavlin\n"
     ]
    },
    {
     "name": "stdout",
     "output_type": "stream",
     "text": [
      "registering gcsfs\n"
     ]
    }
   ],
   "source": [
    "username = input('Username:')\n",
    "gcs = register_gcsfs_client(username=username)"
   ]
  },
  {
   "cell_type": "code",
   "execution_count": 163,
   "id": "21c91090-74a2-45ec-a897-d3f69b127b13",
   "metadata": {},
   "outputs": [
    {
     "data": {
      "text/plain": [
       "<Client id=microsoft-pc>"
      ]
     },
     "execution_count": 163,
     "metadata": {},
     "output_type": "execute_result"
    }
   ],
   "source": [
    "# Set up Stac Client\n",
    "api = Client.open('https://planetarycomputer.microsoft.com/api/stac/v1')\n",
    "api"
   ]
  },
  {
   "cell_type": "markdown",
   "id": "b0615fc5-ebe8-4543-a02d-79836563dd7d",
   "metadata": {},
   "source": [
    "## 1. Query the Sentinel 2 Data from PlanetaryComputer\n",
    "\n",
    "In this section we will query Planetary Computer's STAC API as we have done in the past. However, we will add the additional step of downloading this data into our GeoAnalytics Google Cloud Storage bucket. This will enable us to host the data on our own STAC server. Making it easy for us to query and use."
   ]
  },
  {
   "cell_type": "code",
   "execution_count": 164,
   "id": "8276219d-af49-4944-844b-f331a5480285",
   "metadata": {},
   "outputs": [],
   "source": [
    "# Create a polygon for defining our Area of Interest (AOI) in this case we are using a rough outline of Quebec City,Quebec created using: https://www.keene.edu/campus/maps/tool/\n",
    "polygon ={\n",
    "  \"coordinates\": [\n",
    "    [\n",
    "      [\n",
    "        -71.2405872,\n",
    "        46.9847611\n",
    "      ],\n",
    "      [\n",
    "        -71.2623882,\n",
    "        46.9326235\n",
    "      ],\n",
    "      [\n",
    "        -71.1655712,\n",
    "        46.9171482\n",
    "      ],\n",
    "      [\n",
    "        -71.145916,\n",
    "        46.9711751\n",
    "      ],\n",
    "      [\n",
    "        -71.2405872,\n",
    "        46.9847611\n",
    "      ]\n",
    "    ]\n",
    "  ],\n",
    "  \"type\": \"Polygon\"\n",
    "}"
   ]
  },
  {
   "cell_type": "code",
   "execution_count": 165,
   "id": "eeaadddb-680a-47f7-8e4c-cf9d4c24ac14",
   "metadata": {},
   "outputs": [
    {
     "data": {
      "text/html": [
       "<div>\n",
       "<style scoped>\n",
       "    .dataframe tbody tr th:only-of-type {\n",
       "        vertical-align: middle;\n",
       "    }\n",
       "\n",
       "    .dataframe tbody tr th {\n",
       "        vertical-align: top;\n",
       "    }\n",
       "\n",
       "    .dataframe thead th {\n",
       "        text-align: right;\n",
       "    }\n",
       "</style>\n",
       "<table border=\"1\" class=\"dataframe\">\n",
       "  <thead>\n",
       "    <tr style=\"text-align: right;\">\n",
       "      <th></th>\n",
       "      <th>geometry</th>\n",
       "    </tr>\n",
       "  </thead>\n",
       "  <tbody>\n",
       "    <tr>\n",
       "      <th>0</th>\n",
       "      <td>POLYGON ((-71.24059 46.98476, -71.26239 46.932...</td>\n",
       "    </tr>\n",
       "  </tbody>\n",
       "</table>\n",
       "</div>"
      ],
      "text/plain": [
       "                                            geometry\n",
       "0  POLYGON ((-71.24059 46.98476, -71.26239 46.932..."
      ]
     },
     "execution_count": 165,
     "metadata": {},
     "output_type": "execute_result"
    }
   ],
   "source": [
    "lon_list = []\n",
    "lat_list = []\n",
    "\n",
    "for lon,lat in polygon['coordinates'][0]:\n",
    "    lon_list.append(lon)\n",
    "    lat_list.append(lat)\n",
    "polygon_geom = Polygon(zip(lon_list, lat_list))\n",
    "crs = 'EPSG:4326'\n",
    "polygon = gpd.GeoDataFrame(index=[0], crs=crs, geometry=[polygon_geom])\n",
    "polygon"
   ]
  },
  {
   "cell_type": "code",
   "execution_count": 166,
   "id": "70e07c3a-09d8-46e3-b2de-8099b15bff74",
   "metadata": {},
   "outputs": [
    {
     "data": {
      "image/svg+xml": [
       "<svg xmlns=\"http://www.w3.org/2000/svg\" xmlns:xlink=\"http://www.w3.org/1999/xlink\" width=\"100.0\" height=\"100.0\" viewBox=\"-71.267047088 46.912489312 0.12578997599999298 0.07693067600000347\" preserveAspectRatio=\"xMinYMin meet\"><g transform=\"matrix(1,0,0,-1,0,93.9019093)\"><path fill-rule=\"evenodd\" fill=\"#66cc99\" stroke=\"#555555\" stroke-width=\"0.0025157995199998596\" opacity=\"0.6\" d=\"M -71.2623882,46.9171482 L -71.145916,46.9171482 L -71.145916,46.9847611 L -71.2623882,46.9847611 L -71.2623882,46.9171482 z\" /></g></svg>"
      ],
      "text/plain": [
       "<shapely.geometry.polygon.Polygon at 0x7f72cd70ad30>"
      ]
     },
     "execution_count": 166,
     "metadata": {},
     "output_type": "execute_result"
    }
   ],
   "source": [
    "FOOTPRINT = polygon.to_crs('epsg:4326').geometry[0].envelope\n",
    "FOOTPRINT"
   ]
  },
  {
   "cell_type": "code",
   "execution_count": 167,
   "id": "8fcf6e68-68db-4ea4-b983-680c941857d2",
   "metadata": {},
   "outputs": [
    {
     "name": "stdout",
     "output_type": "stream",
     "text": [
      "(-71.2623882, 46.9171482, -71.145916, 46.9847611)\n"
     ]
    }
   ],
   "source": [
    "bounds = FOOTPRINT.bounds\n",
    "print(bounds)"
   ]
  },
  {
   "cell_type": "markdown",
   "id": "c2259b38-4173-402d-96bd-d7e30b50a486",
   "metadata": {},
   "source": [
    "## 2. Write functions to download the data, and create the STAC items\n",
    "\n",
    "In the next section we will create a couple functions that will help us streamline our workflow."
   ]
  },
  {
   "cell_type": "markdown",
   "id": "4044861e-5c92-4e39-815c-8f1dedf37932",
   "metadata": {},
   "source": [
    "If you wish to learn more about STAC Items follow this link to the STAC Item specification: https://github.com/radiantearth/stac-spec/tree/master/item-spec"
   ]
  },
  {
   "cell_type": "code",
   "execution_count": 168,
   "id": "ba6c2bd5-f3a9-4e1c-8709-d9ade7f3ba86",
   "metadata": {},
   "outputs": [],
   "source": [
    "# CONFIG \n",
    "# -------------\n",
    "epsg = 32619\n",
    "OUTPUT_DIR = 'stac_test'\n",
    "BASE_PTH = 'gs://geoanalytics-user-shared-data'\n",
    "YEARS = ['2019', '2020']\n",
    "BEGIN_MONTH = '06'\n",
    "END_MONTH = '09'\n",
    "MAX_CLOUD = 5\n",
    "config = {\n",
    "'TGT_BANDS' :  ['B01', 'B02', 'B03', 'B04', 'B05', 'B06', 'B07', 'B08', 'B09', 'B11', 'B12', 'B8A'],\n",
    "'READ_IN_CHUNK' : 4096,\n",
    "'RESOLUTION' : 10,\n",
    "'TEMPORAL_CHUNK' : {'time': -1, 'band': 1, 'x': 128, 'y': 128},\n",
    "'SYNCHRONOUS' : True # Write bands out one at a time - use if resources can't handle all bands at once for AOI\n",
    "}\n",
    "# -------------"
   ]
  },
  {
   "cell_type": "markdown",
   "id": "b01422bd-7d2d-4b86-a9d1-a5b2edb6c088",
   "metadata": {},
   "source": [
    "The **write_ras** function will take an XArray.DataArray, convert it into a Cloud Optimized GeoTIFF (COG) and save it to a path of our choice."
   ]
  },
  {
   "cell_type": "code",
   "execution_count": 182,
   "id": "d0c42840-a65f-4f6e-af1a-274247218199",
   "metadata": {},
   "outputs": [],
   "source": [
    "# Function to write from the dask cluster to the remote bucket\n",
    "def write_ras(gcs, epsg, ras, b, pth):\n",
    "    import rioxarray\n",
    "    try:\n",
    "        # ds = xr.Dataset()\n",
    "        ras.rio.write_crs(epsg, inplace=True)\n",
    "        ras.rio.to_raster('ras.tif')\n",
    "        # Turn the raster into a COG\n",
    "        dst_profile = cog_profiles.get(\"deflate\")\n",
    "        cog_translate(\n",
    "            'ras.tif',\n",
    "            'ras_cog.tif',\n",
    "            dst_profile,\n",
    "            in_memory=True,\n",
    "            quiet=False,\n",
    "            )\n",
    "        # Use GCSFS Client to put COG into remote bucket\n",
    "        gcs.put('ras_cog.tif', pth)\n",
    "        # Clean up rasters on Dask Worker\n",
    "        os.remove('ras.tif')\n",
    "        os.remove('ras_cog.tif')\n",
    "        return 'success'\n",
    "    except Exception as e:\n",
    "        # Return error and associated band\n",
    "        return f'{b}: {e}'"
   ]
  },
  {
   "cell_type": "markdown",
   "id": "c185c750-8c5f-414d-86cf-cdd6cd055e21",
   "metadata": {},
   "source": [
    "The **create_stac_item** creates a STACitem, compiles the image's metadata, downloads the image using the **write_ras** function, and links the downloaded image to the STACitem. **create_stac_item** is a *dask.delayed* function which means it will not be computed by the dask clusters until *dask.compute()* is called on the funtion."
   ]
  },
  {
   "cell_type": "code",
   "execution_count": 361,
   "id": "ccb2a4d8-f1e6-423c-aadb-2738372d8865",
   "metadata": {},
   "outputs": [],
   "source": [
    "@dask.delayed\n",
    "def create_stac_item(stac_item, image_name, out_path, data, time_acquired, config):\n",
    "    print('\\t[Converting STAC query to DataArray]')\n",
    "    bbox = data.coords['proj:bbox'].values\n",
    "    cog = f'{OUT_PTH}/{image_name}.tif'\n",
    "    geom = FOOTPRINT\n",
    "\n",
    "    # Instantiate pystac item\n",
    "    new_stac_item = pystac.Item(id=image_name,\n",
    "                                href=f'https://stac.geoanalytics.ca/collections/Sentinel2_TEST/items/{image_name}',\n",
    "                               geometry=mapping(geom),\n",
    "                               bbox=FOOTPRINT.bounds,\n",
    "                               datetime=time_acquired, \n",
    "                               properties={})\n",
    "    \n",
    "    # Extract metadata\n",
    "    for key, value in stac_item['properties'].items():\n",
    "        if key == 'time':\n",
    "            new_stac_item.properties[key] = time_acquired\n",
    "\n",
    "        elif key == 'id':\n",
    "            new_stac_item.properties[key] = value\n",
    "        else:\n",
    "            new_stac_item.properties[key] = value\n",
    "            \n",
    "    new_stac_item.properties['original_links'] = stac_item['links']\n",
    "\n",
    "    # Enable item extensions\n",
    "    projection = ProjectionExtension.ext(new_stac_item, add_if_missing=True)\n",
    "    projection.epsg = 32619\n",
    "    \n",
    "\n",
    "    \n",
    "    # Add the link to the asset (the path to the geotiff)\n",
    "    new_stac_item.add_asset(key='analytic', asset=pystac.Asset(href=cog,\n",
    "                                                      title= \"Cloud-optimized S2 L2 Image\",\n",
    "                                                      media_type=pystac.MediaType.COG,\n",
    "                                                      roles=([\"analytic\"])))\n",
    "    \n",
    "    # return new_stac_item\n",
    "    new_stac_item.validate()\n",
    "    \n",
    "    item_extent_info = (bbox, geom, time_acquired)\n",
    "\n",
    "    raster = write_ras(gcs, epsg, data[0], image_name, f'{out_path}/{image_name}.tif')\n",
    "    clear_output(wait=True)\n",
    "    return (new_stac_item, raster, item_extent_info)"
   ]
  },
  {
   "cell_type": "markdown",
   "id": "695650e7-a080-47be-ba40-940c2a987276",
   "metadata": {},
   "source": [
    "The following loop queries the Planetary Computer STAC API, creates an XArray.DataArray for each image, and calls *dask.compute()* on a list of *dask.delayed* outputs created by the **create_stac_item** to create our outputs."
   ]
  },
  {
   "cell_type": "code",
   "execution_count": null,
   "id": "9c84fd68-cec6-4748-8559-74e2b60cab81",
   "metadata": {
    "tags": []
   },
   "outputs": [],
   "source": [
    "delayed_stac_items = []\n",
    "for year in YEARS:\n",
    "    OUT_PTH = f'{BASE_PTH}/{OUTPUT_DIR}/{year}'\n",
    "    date_range = f'{year}-{BEGIN_MONTH}-01/{year}-{END_MONTH}-30'\n",
    "    \n",
    "    # Query the Planetary Computer STAC server with pystac_client\n",
    "    print(f'[Querying] {year}')\n",
    "    stac_items = api.search(\n",
    "            collections = ['sentinel-2-l2a'],\n",
    "            intersects = FOOTPRINT,\n",
    "            query={\"eo:cloud_cover\": {\"lt\": MAX_CLOUD}},\n",
    "            datetime = date_range,\n",
    "        ).get_all_items()\n",
    "    print(f'\\tFound {len(items)} items')\n",
    "    \n",
    "    \n",
    "    # PlanetaryComputer requires signed URLs to access Asset HREFs. \n",
    "    print('\\t[Signing data links]')\n",
    "    \n",
    "    # Iterate over bands and build composite DAG\n",
    "    print(f'Creating STACitems')\n",
    "    for stac_item in stac_items:\n",
    "        item = planetary_computer.sign(stac_item)\n",
    "        stac_item = stac_item.to_dict()\n",
    "        time_acquired = datetime.strptime(stac_item['properties']['datetime'],'%Y-%m-%dT%H:%M:%S.%fZ')#stac_item.to_dict()['properties']['datetime'] #datetime.strptime(item['properties']['datetime'],'%Y-%m-%dT%H:%M:%S.%fZ')\n",
    "        print(time_acquired)\n",
    "        # print(item)\n",
    "        \n",
    "        image_name = stac_item['id']\n",
    "        data = (\n",
    "            stackstac.stack(\n",
    "                item,\n",
    "                assets=config['TGT_BANDS'], \n",
    "                chunksize=config['READ_IN_CHUNK'], # Set chunksize\n",
    "                resolution=config['RESOLUTION'], # Set all bands res\n",
    "                bounds_latlon=FOOTPRINT.bounds # clip to AOI bounds\n",
    "            ).where(lambda x: x > 0, other=np.nan)#.assign_coords(time=lambda x: x.time.dt.round(\"D\"))  \n",
    "        )\n",
    "        \n",
    "        delayed_stac_items.append(create_stac_item(stac_item, image_name, OUT_PTH, data, time_acquired, config))\n",
    "\n",
    "with performance_report('dask_report.html'):\n",
    "    comp_stac_items = dask.compute(delayed_stac_items)[0]"
   ]
  },
  {
   "cell_type": "code",
   "execution_count": 363,
   "id": "a35e9854-82f8-4d10-b897-305b668456a1",
   "metadata": {
    "tags": []
   },
   "outputs": [
    {
     "name": "stdout",
     "output_type": "stream",
     "text": [
      "[<Item id=S2A_MSIL2A_20190930T154041_R011_T19TCN_20201004T184543>]\n",
      "[(array({300000.0, 5300040.0, 5190240.0, 409800.0}, dtype=object), <shapely.geometry.polygon.Polygon object at 0x7f72c580c5e0>, datetime.datetime(2019, 9, 30, 15, 40, 41, 24000))]\n"
     ]
    }
   ],
   "source": [
    "local_stac_items = []\n",
    "local_item_extents = []\n",
    "for stac_item, raster, item_extent_info in comp_stac_items:\n",
    "    local_stac_items.append(stac_item)\n",
    "    local_item_extents.append(item_extent_info)\n",
    "\n",
    "print(local_stac_items)\n",
    "print(local_item_extents)"
   ]
  },
  {
   "cell_type": "markdown",
   "id": "a56ecd07-1112-4dae-a77c-76a11bbb72ea",
   "metadata": {},
   "source": [
    "The following cell creates a couple functions that will help us visualize the footprint of our items. In this case all our items have the same footprint because we cut the images to a specific geometry in the download step. However, if you did not do that or if you were working in a larger area, these functions would help you visualize the area each image covers."
   ]
  },
  {
   "cell_type": "code",
   "execution_count": 365,
   "id": "f1167851-64f7-4600-bc48-17602c714f8a",
   "metadata": {},
   "outputs": [],
   "source": [
    "def create_full_extent(stac_item_list):\n",
    "    polygons = []\n",
    "    temporal_list = []\n",
    "    \n",
    "    for index, (bounds, geometry, temporal) in enumerate(stac_item_list):\n",
    "        polygons.append(shape(geometry))\n",
    "        temporal_list.append(temporal)\n",
    "        \n",
    "    # Get the spatial extent\n",
    "    spatial_extent = get_spatial_extent(polygons)\n",
    "    \n",
    "    # Get temporal extent\n",
    "    temporal_extent = get_temporal_extent(min(temporal_list), max(temporal_list))\n",
    "    collection_extent = pystac.Extent(spatial=spatial_extent, temporal=temporal_extent)\n",
    "    \n",
    "    return collection_extent\n",
    "\n",
    "\n",
    "def get_spatial_extent(polygons):\n",
    "    # Plot of polygons overlay\n",
    "    plt.figure(figsize=(14, 8))\n",
    "    for polygon in polygons:\n",
    "        x, y = shape(polygon).exterior.xy\n",
    "        plt.plot(x , y)\n",
    "\n",
    "    # Returns a union of the two geojson polygons for each item\n",
    "    unioned_geometry = unary_union(polygons)\n",
    "\n",
    "    # Plot the unified polygon\n",
    "    x, y = shape(unioned_geometry).exterior.xy\n",
    "    plt.figure(figsize=(14,8))\n",
    "    plt.fill(x, y, alpha=0.5, facecolor='none', edgecolor='purple', linewidth=7)\n",
    "    plt.show()\n",
    "    \n",
    "    # Set the bbox to be the bounds of the unified polygon and return the spatial extent of the collection\n",
    "    return pystac.SpatialExtent(bboxes=[unioned_geometry.bounds])\n",
    "\n",
    "\n",
    "def get_temporal_extent(startime, endtime):\n",
    "    time_interval = [startime, endtime]\n",
    "    temporal_extent = pystac.TemporalExtent(intervals=[time_interval])\n",
    "    return temporal_extent"
   ]
  },
  {
   "cell_type": "code",
   "execution_count": 366,
   "id": "4cd2beab-cac2-4f8d-973f-a2cf2a485066",
   "metadata": {},
   "outputs": [
    {
     "data": {
      "image/png": "[encoded data removed]",
      "text/plain": [
       "<Figure size 1008x576 with 1 Axes>"
      ]
     },
     "metadata": {
      "needs_background": "light"
     },
     "output_type": "display_data"
    },
    {
     "data": {
      "image/png": "[encoded data removed]",
      "text/plain": [
       "<Figure size 1008x576 with 1 Axes>"
      ]
     },
     "metadata": {
      "needs_background": "light"
     },
     "output_type": "display_data"
    }
   ],
   "source": [
    "extent = create_full_extent(local_item_extents)"
   ]
  },
  {
   "cell_type": "markdown",
   "id": "38b6c360-14b4-4e08-bde9-718d6f548753",
   "metadata": {},
   "source": [
    "## 3. Create a STAC Collection to which append our STAC items \n",
    "\n",
    "Once we have our individual STAC items, we require somewhere to append them. To create a STAC collection we'll use the following parameters:\n",
    "\n",
    "- ID: What we wish to call our collection.\n",
    "- Title: Collection's title.\n",
    "- Description: Details regarding the items within the collection.\n",
    "- Extent: The spatial and temporal extent that we obtained from the create_full_extent function.\n",
    "- Keywords: List of keywords describing the collection.\n",
    "- Licence: Collection's license(s). (Set proprietary as the default)\n",
    "\n",
    "If you wish to read up on STAC Collections follow this link: https://github.com/radiantearth/stac-spec/blob/master/collection-spec/collection-spec.md\n"
   ]
  },
  {
   "cell_type": "code",
   "execution_count": 367,
   "id": "7b2930b7-929e-48ea-b786-22ff818f1ca0",
   "metadata": {},
   "outputs": [],
   "source": [
    "collection = pystac.Collection(id='Sentinel2_TEST',\n",
    "                               href='https://stac.geoanalytics.ca/collections',\n",
    "                               title='Sentinel 2: Level 2a Test for Quebec City over the years of 2019 and 2020',\n",
    "                               description=\"Sentinel 2: Level 2a imagery covering Quebec City for the years of 2019 and 2020. Provides imagery of 10, 20, and 60m resolution (band dependent).\",\n",
    "                               extent=extent,\n",
    "                               keywords=['sentinel2', 'msi','esa'],\n",
    "                               license='proprietary',)"
   ]
  },
  {
   "cell_type": "code",
   "execution_count": null,
   "id": "438b1350-bddd-4e99-9ae2-5ec2f49b9e6a",
   "metadata": {
    "tags": []
   },
   "outputs": [],
   "source": [
    "collection.describe()\n",
    "collection.validate()"
   ]
  },
  {
   "cell_type": "code",
   "execution_count": null,
   "id": "e5616edc-b695-4cde-9d23-243b258aaa7e",
   "metadata": {},
   "outputs": [],
   "source": [
    "collection.to_dict()"
   ]
  },
  {
   "cell_type": "markdown",
   "id": "e6026efd-89bc-438d-bcde-7ce9f79ff57f",
   "metadata": {},
   "source": [
    "Now that we have the Collection, we need to add the STAC items to the collection. "
   ]
  },
  {
   "cell_type": "code",
   "execution_count": null,
   "id": "835c2493-11d0-41c3-a0ec-d8aa45dbed7f",
   "metadata": {
    "tags": []
   },
   "outputs": [],
   "source": [
    "for index, item in enumerate(local_stac_items):\n",
    "    print(index)\n",
    "    collection.add_item(item)"
   ]
  },
  {
   "cell_type": "code",
   "execution_count": null,
   "id": "75775197-6313-4f18-885d-80f87fb1770a",
   "metadata": {
    "tags": []
   },
   "outputs": [],
   "source": [
    "collection.describe()\n",
    "collection.validate()"
   ]
  },
  {
   "cell_type": "markdown",
   "id": "9b6b2bf5-de8d-4f55-9ed5-143816208f21",
   "metadata": {},
   "source": [
    "## 4. Add our completed collection to the GeoAnalytics STAC Server\n",
    "\n",
    "To add our collection to the GeoAnalytics STAC server all we'll need is our GeoAnalytics Authorization Token, the collection URL for GeoAnalytics, and our local collection.\n",
    "\n",
    "- First upload the structure of the Collection itself. \n",
    "- Second upload the individual STAC Item to the collection in GeoAnalytics."
   ]
  },
  {
   "cell_type": "code",
   "execution_count": null,
   "id": "1d017c5e-825c-4f75-99f2-aaeab754f64b",
   "metadata": {
    "tags": []
   },
   "outputs": [],
   "source": [
    "# Add Items and Collection to STAC Server\n",
    "\n",
    "auth_token = input(\"Please copy and paste your API Access Token here: \").strip()"
   ]
  },
  {
   "cell_type": "markdown",
   "id": "66246703-cdaf-4da1-8b7e-42eae0c5f2ef",
   "metadata": {},
   "source": [
    "To add to the STAC server we use requests.post(), and to make updates to existing items we use requests.put(). Let's finish up by adding our STAC collection and STAC items to the Server!"
   ]
  },
  {
   "cell_type": "code",
   "execution_count": 377,
   "id": "ea7522db-9315-427a-9931-c07ad5258dc8",
   "metadata": {},
   "outputs": [],
   "source": [
    "headers={'cookie': auth_token}\n",
    "data = json.dumps(collection.to_dict())\n",
    "r = requests.post('https://stac.geoanalytics.ca/collections', data=data, headers=headers)"
   ]
  },
  {
   "cell_type": "code",
   "execution_count": null,
   "id": "74c83a8e-ea0d-4d28-b40c-f7c287b2ec7a",
   "metadata": {},
   "outputs": [],
   "source": [
    "print(r)"
   ]
  },
  {
   "cell_type": "code",
   "execution_count": null,
   "id": "24b05cad-fb4b-4e40-82a4-b52c8a400c22",
   "metadata": {
    "tags": []
   },
   "outputs": [],
   "source": [
    "%%time\n",
    "headers={'cookie': auth_token}\n",
    "for index, stac_item in enumerate(local_stac_items):\n",
    "    print(stac_item)\n",
    "    data2 = json.dumps(stac_item.to_dict())\n",
    "    r = requests.post('https://stac.geoanalytics.ca/collections/Sentinel2_TEST/items', data=data2, headers=headers)\n",
    "    print(r)"
   ]
  },
  {
   "cell_type": "markdown",
   "id": "c51a0614-dcb2-45a0-9a2b-9af7433b21cf",
   "metadata": {},
   "source": [
    "##### Now you know how to find data in a free STAC API, download it, and add it to your own STAC API for internal use. \n",
    "\n",
    "##### Don't forget to shutdown your clusters and close your client!"
   ]
  },
  {
   "cell_type": "code",
   "execution_count": 380,
   "id": "ed06a84c-7bfc-4e67-ae10-b91c96e50556",
   "metadata": {},
   "outputs": [],
   "source": [
    "cluster.shutdown()\n",
    "client.close()"
   ]
  }
 ],
 "metadata": {
  "kernelspec": {
   "display_name": "Python 3 (ipykernel)",
   "language": "python",
   "name": "python3"
  },
  "language_info": {
   "codemirror_mode": {
    "name": "ipython",
    "version": 3
   },
   "file_extension": ".py",
   "mimetype": "text/x-python",
   "name": "python",
   "nbconvert_exporter": "python",
   "pygments_lexer": "ipython3",
   "version": "3.9.12"
  }
 },
 "nbformat": 4,
 "nbformat_minor": 5
}
