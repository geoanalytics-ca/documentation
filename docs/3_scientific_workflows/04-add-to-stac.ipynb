{
 "cells": [
  {
   "cell_type": "markdown",
   "id": "40adff49-67e0-4831-9543-2dd50ae9ec88",
   "metadata": {},
   "source": [
    "# **Adding data to the Geoanalytics STAC server**\n",
    "\n",
    "In this workflow we will leverage our knowledge on querying STAC servers and adding data to a STAC server. This workflow will find Sentinel-2 data from Planetary Computer, download it and access it's Metadata so as to allow us to add said data to our GeoAnalytics STAC server. These are the steps we will follow:\n",
    "1. Write functions to query the STAC server, download the data, and create the STAC items\n",
    "2. Apply our functions\n",
    "3. Create a STAC Collection to which append our STAC items \n",
    "4. Add our completed collection to the GeoAnalytics STAC Server"
   ]
  },
  {
   "cell_type": "code",
   "execution_count": null,
   "id": "31b35e75-0d60-4e17-954e-936b4939f6e9",
   "metadata": {
    "tags": []
   },
   "outputs": [],
   "source": [
    "# We will use Sentinel-2 data from Microsoft Planetary Computer's STAC server:\n",
    "!pip install planetary_computer"
   ]
  },
  {
   "cell_type": "code",
   "execution_count": 37,
   "id": "db688730-0e85-45c7-918b-50576d73f9b0",
   "metadata": {},
   "outputs": [],
   "source": [
    "import os\n",
    "import json\n",
    "import dask\n",
    "import gcsfs\n",
    "import pystac\n",
    "import requests\n",
    "import datetime\n",
    "import stackstac\n",
    "import rioxarray\n",
    "import planetary_computer\n",
    "\n",
    "import numpy as np\n",
    "import geopandas as gpd\n",
    "import matplotlib.pyplot as plt\n",
    "\n",
    "from dask_gateway import Gateway\n",
    "from pystac_client import Client\n",
    "from shapely.ops import unary_union\n",
    "from IPython.display import clear_output\n",
    "from dask.distributed import performance_report\n",
    "from shapely.geometry import Polygon, mapping, shape\n",
    "from pystac.extensions.projection import ProjectionExtension"
   ]
  },
  {
   "cell_type": "code",
   "execution_count": 39,
   "id": "5767c564-ab08-4356-b599-892be9833b3e",
   "metadata": {},
   "outputs": [],
   "source": [
    "gateway = Gateway()\n",
    "\n",
    "# Cluster configuration\n",
    "options = gateway.cluster_options()\n",
    "options.image = 'pangeo/pangeo-notebook:2022.04.15'"
   ]
  },
  {
   "cell_type": "code",
   "execution_count": null,
   "id": "a5bbe9dd-c215-4a67-85bc-e8a7d4223b4d",
   "metadata": {
    "tags": []
   },
   "outputs": [],
   "source": [
    "cluster = gateway.new_cluster(options)\n",
    "cluster"
   ]
  },
  {
   "cell_type": "code",
   "execution_count": 157,
   "id": "15f3e3fd-426a-4be4-a664-111f250732a7",
   "metadata": {},
   "outputs": [],
   "source": [
    "# Scale the cluster\n",
    "workers = 10\n",
    "cluster.scale(workers)"
   ]
  },
  {
   "cell_type": "code",
   "execution_count": 158,
   "id": "9fb9f58d-0a68-40f7-a29c-2a53a20e0c98",
   "metadata": {
    "tags": []
   },
   "outputs": [],
   "source": [
    "# Assign client to this cluster so Dask knows to use it for computations\n",
    "client = cluster.get_client()"
   ]
  },
  {
   "cell_type": "code",
   "execution_count": null,
   "id": "f5b3bc00-b1ed-4367-b06a-4a5d25be79a2",
   "metadata": {},
   "outputs": [],
   "source": [
    "client.wait_for_workers(workers-1)\n",
    "cluster"
   ]
  },
  {
   "cell_type": "code",
   "execution_count": null,
   "id": "4b59b13f-5aff-4c6e-a729-ab2de58cb047",
   "metadata": {},
   "outputs": [],
   "source": [
    "gateway.list_clusters()"
   ]
  },
  {
   "cell_type": "markdown",
   "id": "93921047-c07f-4f90-b143-3e96e4526790",
   "metadata": {},
   "source": [
    "Remember to register for the gcsfs client, in order to access the Google Cloud Storage Buckets"
   ]
  },
  {
   "cell_type": "code",
   "execution_count": 1,
   "id": "45c82c6e-70c0-4b7f-99df-71f11044321a",
   "metadata": {},
   "outputs": [],
   "source": [
    "def register_gcsfs_client(username: str):\n",
    "    # set up the gcsfs system with credentials\n",
    "    print('registering gcsfs')\n",
    "    tok = os.path.join(os.environ['HOME'], f'geoanalytics_{username}',\n",
    "                       'geo.json')  # Change this to your own cred file\n",
    "    tok_dict = json.load(open(tok))\n",
    "    gcs = gcsfs.GCSFileSystem(token=tok_dict, access='read_write')\n",
    "    return gcs"
   ]
  },
  {
   "cell_type": "code",
   "execution_count": null,
   "id": "46f268fd-2a79-4e3d-9ba6-6df0466e6e3a",
   "metadata": {},
   "outputs": [],
   "source": [
    "username = input('Username:')\n",
    "gcs = register_gcsfs_client(username=username)"
   ]
  },
  {
   "cell_type": "code",
   "execution_count": null,
   "id": "21c91090-74a2-45ec-a897-d3f69b127b13",
   "metadata": {},
   "outputs": [],
   "source": [
    "# Set up Stac Client\n",
    "api = Client.open('https://planetarycomputer.microsoft.com/api/stac/v1')\n",
    "api"
   ]
  },
  {
   "cell_type": "code",
   "execution_count": 46,
   "id": "8276219d-af49-4944-844b-f331a5480285",
   "metadata": {},
   "outputs": [],
   "source": [
    "# Create a polygon for defining our Area of Interest (AOI).\n",
    "# In this case we created a polygon near Quebec City,Quebec using:\n",
    "# https://www.keene.edu/campus/maps/tool/\n",
    "polygon = {\n",
    "  \"coordinates\": [\n",
    "    [\n",
    "      [\n",
    "        -71.2405872,\n",
    "        46.9847611\n",
    "      ],\n",
    "      [\n",
    "        -71.2623882,\n",
    "        46.9326235\n",
    "      ],\n",
    "      [\n",
    "        -71.1655712,\n",
    "        46.9171482\n",
    "      ],\n",
    "      [\n",
    "        -71.145916,\n",
    "        46.9711751\n",
    "      ],\n",
    "      [\n",
    "        -71.2405872,\n",
    "        46.9847611\n",
    "      ]\n",
    "    ]\n",
    "  ],\n",
    "  \"type\": \"Polygon\"\n",
    "}"
   ]
  },
  {
   "cell_type": "code",
   "execution_count": null,
   "id": "eeaadddb-680a-47f7-8e4c-cf9d4c24ac14",
   "metadata": {},
   "outputs": [],
   "source": [
    "lon_list = []\n",
    "lat_list = []\n",
    "\n",
    "for lon, lat in polygon['coordinates'][0]:\n",
    "    lon_list.append(lon)\n",
    "    lat_list.append(lat)\n",
    "polygon_geom = Polygon(zip(lon_list, lat_list))\n",
    "crs = 'EPSG:4326'\n",
    "polygon = gpd.GeoDataFrame(index=[0], crs=crs, geometry=[polygon_geom])\n",
    "polygon"
   ]
  },
  {
   "cell_type": "code",
   "execution_count": null,
   "id": "70e07c3a-09d8-46e3-b2de-8099b15bff74",
   "metadata": {},
   "outputs": [],
   "source": [
    "FOOTPRINT = polygon.to_crs('epsg:4326').geometry[0].envelope\n",
    "FOOTPRINT"
   ]
  },
  {
   "cell_type": "code",
   "execution_count": null,
   "id": "8fcf6e68-68db-4ea4-b983-680c941857d2",
   "metadata": {},
   "outputs": [],
   "source": [
    "bounds = FOOTPRINT.bounds\n",
    "print(bounds)"
   ]
  },
  {
   "cell_type": "markdown",
   "id": "c2259b38-4173-402d-96bd-d7e30b50a486",
   "metadata": {},
   "source": [
    "## 1. Write functions to query the STAC server, download the data, and create the STAC items\n",
    "\n",
    "In the next section we will create a couple functions that will help us streamline our workflow."
   ]
  },
  {
   "cell_type": "markdown",
   "id": "4044861e-5c92-4e39-815c-8f1dedf37932",
   "metadata": {},
   "source": [
    "If you wish to learn more about STAC Items follow this link to the STAC Item specification: https://github.com/radiantearth/stac-spec/tree/master/item-spec"
   ]
  },
  {
   "cell_type": "code",
   "execution_count": 50,
   "id": "ba6c2bd5-f3a9-4e1c-8709-d9ade7f3ba86",
   "metadata": {},
   "outputs": [],
   "source": [
    "# CONFIG\n",
    "# -------------\n",
    "epsg = 32619\n",
    "OUTPUT_DIR = 'stac_test'\n",
    "BASE_PTH = 'gs://geoanalytics-user-shared-data'\n",
    "YEARS = ['2019', '2020']\n",
    "BEGIN_MONTH = '06'\n",
    "END_MONTH = '09'\n",
    "MAX_CLOUD = 5\n",
    "config = {\n",
    "    'TGT_BANDS':  ['B01', 'B02', 'B03', 'B04', 'B05', 'B06', 'B07', 'B08', 'B09', 'B11', 'B12', 'B8A'],\n",
    "    'READ_IN_CHUNK': 4096,\n",
    "    'RESOLUTION': 10,\n",
    "    'TEMPORAL_CHUNK': {'time': -1, 'band': 1, 'x': 128, 'y': 128},\n",
    "    # Write bands out one at a time:\n",
    "    'SYNCHRONOUS': True\n",
    "    }\n",
    "# -------------"
   ]
  },
  {
   "cell_type": "markdown",
   "id": "b01422bd-7d2d-4b86-a9d1-a5b2edb6c088",
   "metadata": {},
   "source": [
    "The **write_ras** function will take an XArray.DataArray, convert it into a Cloud Optimized GeoTIFF (COG) and save it to a path of our choice."
   ]
  },
  {
   "cell_type": "code",
   "execution_count": 51,
   "id": "d0c42840-a65f-4f6e-af1a-274247218199",
   "metadata": {},
   "outputs": [],
   "source": [
    "# Function to write from the dask cluster to the remote bucket\n",
    "def write_ras(gcs, epsg, ras, b, pth):\n",
    "    try:\n",
    "        ras.rio.write_crs(epsg, inplace=True)\n",
    "        ras.rio.to_raster('ras.tif')\n",
    "        # Use GCSFS Client to put COG into remote bucket\n",
    "        gcs.put('ras.tif', pth)\n",
    "        # Clean up rasters on Dask Worker\n",
    "        os.remove('ras.tif')\n",
    "        return 'success'\n",
    "    except Exception as e:\n",
    "        # Return error and associated band\n",
    "        return f'{b}: {e}'"
   ]
  },
  {
   "cell_type": "markdown",
   "id": "c185c750-8c5f-414d-86cf-cdd6cd055e21",
   "metadata": {},
   "source": [
    "The **create_stac_item** creates a STACitem, compiles the image's metadata, downloads the image using the **write_ras** function, and links the downloaded image to the STACitem. **create_stac_item** is a *dask.delayed* function which means it will not be computed by the dask clusters until *dask.compute()* is called on the funtion."
   ]
  },
  {
   "cell_type": "code",
   "execution_count": 52,
   "id": "ccb2a4d8-f1e6-423c-aadb-2738372d8865",
   "metadata": {},
   "outputs": [],
   "source": [
    "@dask.delayed\n",
    "def create_stac_item(stac_item, image_name, out_path, data, time_acquired, config):\n",
    "    print('\\t[Converting STAC query to DataArray]')\n",
    "    bbox = data.coords['proj:bbox'].values\n",
    "    cog = f'{OUT_PTH}/{image_name}.tif'\n",
    "    geom = FOOTPRINT\n",
    "\n",
    "    # Instantiate pystac item\n",
    "    new_stac_item = pystac.Item(id=image_name,\n",
    "                                href=f'https://stac.geoanalytics.ca/collections/Sentinel2_TEST/items/{image_name}',\n",
    "                               geometry=mapping(geom),\n",
    "                               bbox=FOOTPRINT.bounds,\n",
    "                               datetime=time_acquired,\n",
    "                               properties={})\n",
    "\n",
    "        # Extract metadata\n",
    "    new_stac_item.properties = stac_item.properties.copy()\n",
    "    new_stac_item.properties['time'] = time_acquired\n",
    "    new_stac_item.properties['original_links'] = stac_item['links']\n",
    "\n",
    "    # Enable item extensions\n",
    "    projection = ProjectionExtension.ext(new_stac_item, add_if_missing=True)\n",
    "    projection.epsg = 32619\n",
    "\n",
    "    # Add the link to the asset (the path to the geotiff)\n",
    "    new_stac_item.add_asset(key='analytic', asset=pystac.Asset(href=cog,\n",
    "                                                      title= \"Cloud-optimized S2 L2 Image\",\n",
    "                                                      media_type=pystac.MediaType.COG,\n",
    "                                                      roles=([\"analytic\"])))\n",
    "    # return new_stac_item\n",
    "    new_stac_item.validate()\n",
    "\n",
    "    item_extent_info = (bbox, geom, time_acquired)\n",
    "\n",
    "    raster = write_ras(gcs, epsg, data[0], image_name, f'{out_path}/{image_name}.tif')\n",
    "    clear_output(wait=True)\n",
    "    return (new_stac_item, raster, item_extent_info)"
   ]
  },
  {
   "cell_type": "markdown",
   "id": "1eb08da4-908a-4043-9b0d-bca7ad4200b5",
   "metadata": {},
   "source": [
    "## 2. Apply our functions\n",
    "\n",
    "The following loop queries the Planetary Computer STAC API, creates an XArray.DataArray for each image, and calls *dask.compute()* on a list of *dask.delayed* outputs created by the **create_stac_item** to create our outputs. **This will enable us to add our data to the GeoAnalytics STAC server making it readily available for us to query and use**."
   ]
  },
  {
   "cell_type": "markdown",
   "id": "695650e7-a080-47be-ba40-940c2a987276",
   "metadata": {},
   "source": [
    "The following loop queries the Planetary Computer STAC API, creates an XArray.DataArray for each image, and calls *dask.compute()* on a list of *dask.delayed* outputs created by the **create_stac_item** to create our outputs."
   ]
  },
  {
   "cell_type": "code",
   "execution_count": null,
   "id": "9c84fd68-cec6-4748-8559-74e2b60cab81",
   "metadata": {
    "tags": []
   },
   "outputs": [],
   "source": [
    "delayed_stac_items = []\n",
    "for year in YEARS:\n",
    "    OUT_PTH = f'{BASE_PTH}/{OUTPUT_DIR}/{year}'\n",
    "    date_range = f'{year}-{BEGIN_MONTH}-01/{year}-{END_MONTH}-30'\n",
    "    \n",
    "    # Query the Planetary Computer STAC server with pystac_client\n",
    "    print(f'[Querying] {year}')\n",
    "    stac_items = api.search(\n",
    "            collections = ['sentinel-2-l2a'],\n",
    "            intersects = FOOTPRINT,\n",
    "            query={\"eo:cloud_cover\": {\"lt\": MAX_CLOUD}},\n",
    "            datetime = date_range,\n",
    "        ).get_all_items()\n",
    "    print(f'\\tFound {len(stac_items)} items')\n",
    "    \n",
    "    \n",
    "    # PlanetaryComputer requires signed URLs to access Asset HREFs. \n",
    "    print('\\t[Signing data links]')\n",
    "    \n",
    "    # Iterate over images and run the create_stac_item function on them. \n",
    "    print(f'Creating STACitems')\n",
    "    for stac_item in stac_items:\n",
    "        item = planetary_computer.sign(stac_item)\n",
    "        stac_item = stac_item.to_dict()\n",
    "        time_acquired = datetime.strptime(stac_item['properties']['datetime'],'%Y-%m-%dT%H:%M:%S.%fZ')\n",
    "        print(time_acquired)\n",
    "        \n",
    "        image_name = stac_item['id']\n",
    "        data = (\n",
    "            stackstac.stack(\n",
    "                item,\n",
    "                assets=config['TGT_BANDS'], \n",
    "                chunksize=config['READ_IN_CHUNK'], # Set chunksize\n",
    "                resolution=config['RESOLUTION'], # Set all bands res\n",
    "                bounds_latlon=FOOTPRINT.bounds # clip to AOI bounds\n",
    "            ).where(lambda x: x > 0, other=np.nan)\n",
    "        )\n",
    "        \n",
    "        delayed_stac_items.append(create_stac_item(stac_item, image_name, OUT_PTH, data, time_acquired, config))\n",
    "\n",
    "with performance_report('dask_report.html'):\n",
    "    comp_stac_items = dask.compute(delayed_stac_items)[0]"
   ]
  },
  {
   "cell_type": "code",
   "execution_count": null,
   "id": "a35e9854-82f8-4d10-b897-305b668456a1",
   "metadata": {
    "tags": []
   },
   "outputs": [],
   "source": [
    "local_stac_items = []\n",
    "local_item_extents = []\n",
    "for stac_item, raster, item_extent_info in comp_stac_items:\n",
    "    local_stac_items.append(stac_item)\n",
    "    local_item_extents.append(item_extent_info)\n",
    "\n",
    "print(local_stac_items)\n",
    "print(local_item_extents)"
   ]
  },
  {
   "cell_type": "markdown",
   "id": "a56ecd07-1112-4dae-a77c-76a11bbb72ea",
   "metadata": {},
   "source": [
    "The following cell creates a couple functions that will help us visualize the footprint of our items. In this case all our items have the same footprint because we cut the images to a specific geometry in the download step. However, if you did not do that or if you were working in a larger area, these functions would help you visualize the area each image covers."
   ]
  },
  {
   "cell_type": "code",
   "execution_count": 56,
   "id": "f1167851-64f7-4600-bc48-17602c714f8a",
   "metadata": {},
   "outputs": [],
   "source": [
    "def create_full_extent(stac_item_list):\n",
    "    polygons = []\n",
    "    temporal_list = []\n",
    "    \n",
    "    for index, (bounds, geometry, temporal) in enumerate(stac_item_list):\n",
    "        polygons.append(shape(geometry))\n",
    "        temporal_list.append(temporal)\n",
    "        \n",
    "    # Get the spatial extent\n",
    "    spatial_extent = get_spatial_extent(polygons)\n",
    "    \n",
    "    # Get temporal extent\n",
    "    temporal_extent = get_temporal_extent(min(temporal_list), max(temporal_list))\n",
    "    collection_extent = pystac.Extent(spatial=spatial_extent, temporal=temporal_extent)\n",
    "    \n",
    "    return collection_extent\n",
    "\n",
    "\n",
    "def get_spatial_extent(polygons):\n",
    "    # Plot of polygons overlay\n",
    "    plt.figure(figsize=(14, 8))\n",
    "    for polygon in polygons:\n",
    "        x, y = shape(polygon).exterior.xy\n",
    "        plt.plot(x , y)\n",
    "\n",
    "    # Returns a union of the two geojson polygons for each item\n",
    "    unioned_geometry = unary_union(polygons)\n",
    "\n",
    "    # Plot the unified polygon\n",
    "    x, y = shape(unioned_geometry).exterior.xy\n",
    "    plt.figure(figsize=(14,8))\n",
    "    plt.fill(x, y, alpha=0.5, facecolor='none', edgecolor='purple', linewidth=7)\n",
    "    plt.show()\n",
    "    \n",
    "    # Set the bbox to be the bounds of the unified polygon and return the spatial extent of the collection\n",
    "    return pystac.SpatialExtent(bboxes=[unioned_geometry.bounds])\n",
    "\n",
    "\n",
    "def get_temporal_extent(startime, endtime):\n",
    "    time_interval = [startime, endtime]\n",
    "    temporal_extent = pystac.TemporalExtent(intervals=[time_interval])\n",
    "    return temporal_extent"
   ]
  },
  {
   "cell_type": "code",
   "execution_count": 57,
   "id": "4cd2beab-cac2-4f8d-973f-a2cf2a485066",
   "metadata": {},
   "outputs": [
    {
     "data": {
      "image/png": "[encoded data removed]",
      "text/plain": [
       "<Figure size 1008x576 with 1 Axes>"
      ]
     },
     "metadata": {
      "needs_background": "light"
     },
     "output_type": "display_data"
    },
    {
     "data": {
      "image/png": "[encoded data removed]",
      "text/plain": [
       "<Figure size 1008x576 with 1 Axes>"
      ]
     },
     "metadata": {
      "needs_background": "light"
     },
     "output_type": "display_data"
    }
   ],
   "source": [
    "extent = create_full_extent(local_item_extents)"
   ]
  },
  {
   "cell_type": "markdown",
   "id": "38b6c360-14b4-4e08-bde9-718d6f548753",
   "metadata": {},
   "source": [
    "## 3. Create a STAC Collection to which append our STAC items \n",
    "\n",
    "Once we have our individual STAC items, we require somewhere to append them. To create a STAC collection we'll use the following parameters:\n",
    "\n",
    "- ID: What we wish to call our collection.\n",
    "- Title: Collection's title.\n",
    "- Description: Details regarding the items within the collection.\n",
    "- Extent: The spatial and temporal extent that we obtained from the create_full_extent function.\n",
    "- Keywords: List of keywords describing the collection.\n",
    "- Licence: Collection's license(s). (Set proprietary as the default)\n",
    "\n",
    "If you wish to read up on STAC Collections follow this link: https://github.com/radiantearth/stac-spec/blob/master/collection-spec/collection-spec.md\n"
   ]
  },
  {
   "cell_type": "code",
   "execution_count": 58,
   "id": "7b2930b7-929e-48ea-b786-22ff818f1ca0",
   "metadata": {},
   "outputs": [],
   "source": [
    "collection = pystac.Collection(id='Sentinel2_TEST_MK',\n",
    "                               href='https://stac.geoanalytics.ca/collections',\n",
    "                               title='Sentinel 2: Level 2a Test for Quebec City over the years of 2019 and 2020',\n",
    "                               description=\"Sentinel 2: Level 2a imagery covering Quebec City for the years of 2019 and 2020. Provides imagery of 10, 20, and 60m resolution (band dependent).\",\n",
    "                               extent=extent,\n",
    "                               keywords=['sentinel2', 'msi','esa'],\n",
    "                               license='proprietary',)"
   ]
  },
  {
   "cell_type": "code",
   "execution_count": null,
   "id": "438b1350-bddd-4e99-9ae2-5ec2f49b9e6a",
   "metadata": {
    "tags": []
   },
   "outputs": [],
   "source": [
    "collection.describe()\n",
    "collection.validate()"
   ]
  },
  {
   "cell_type": "code",
   "execution_count": null,
   "id": "e5616edc-b695-4cde-9d23-243b258aaa7e",
   "metadata": {
    "tags": []
   },
   "outputs": [],
   "source": [
    "collection.to_dict()"
   ]
  },
  {
   "cell_type": "markdown",
   "id": "e6026efd-89bc-438d-bcde-7ce9f79ff57f",
   "metadata": {},
   "source": [
    "Now that we have the Collection, we need to add the STAC items to the collection. "
   ]
  },
  {
   "cell_type": "code",
   "execution_count": null,
   "id": "835c2493-11d0-41c3-a0ec-d8aa45dbed7f",
   "metadata": {
    "tags": []
   },
   "outputs": [],
   "source": [
    "for index, item in enumerate(local_stac_items):\n",
    "    print(index)\n",
    "    collection.add_item(item)"
   ]
  },
  {
   "cell_type": "code",
   "execution_count": null,
   "id": "75775197-6313-4f18-885d-80f87fb1770a",
   "metadata": {
    "tags": []
   },
   "outputs": [],
   "source": [
    "collection.describe()\n",
    "collection.validate()"
   ]
  },
  {
   "cell_type": "markdown",
   "id": "9b6b2bf5-de8d-4f55-9ed5-143816208f21",
   "metadata": {},
   "source": [
    "## 4. Add our completed collection to the GeoAnalytics STAC Server\n",
    "\n",
    "To add our collection to the GeoAnalytics STAC server all we'll need is our GeoAnalytics Authorization Token, the collection URL for GeoAnalytics, and our local collection.\n",
    "\n",
    "- First upload the structure of the Collection itself. \n",
    "- Second upload the individual STAC Item to the collection in GeoAnalytics."
   ]
  },
  {
   "cell_type": "code",
   "execution_count": null,
   "id": "1d017c5e-825c-4f75-99f2-aaeab754f64b",
   "metadata": {
    "tags": []
   },
   "outputs": [],
   "source": [
    "# Add Items and Collection to STAC Server\n",
    "\n",
    "auth_token = input(\"Please copy and paste your API Access Token here: \").strip()"
   ]
  },
  {
   "cell_type": "markdown",
   "id": "66246703-cdaf-4da1-8b7e-42eae0c5f2ef",
   "metadata": {},
   "source": [
    "To add to the STAC server we use requests.post(), and to make updates to existing items we use requests.put(). Let's finish up by adding our STAC collection and STAC items to the Server!"
   ]
  },
  {
   "cell_type": "code",
   "execution_count": 84,
   "id": "ea7522db-9315-427a-9931-c07ad5258dc8",
   "metadata": {},
   "outputs": [],
   "source": [
    "headers={'cookie': auth_token}\n",
    "data = json.dumps(collection.to_dict())\n",
    "r = requests.post('https://stac.geoanalytics.ca/collections/Sentinel2_TEST/', data=data, headers=headers)"
   ]
  },
  {
   "cell_type": "code",
   "execution_count": null,
   "id": "74c83a8e-ea0d-4d28-b40c-f7c287b2ec7a",
   "metadata": {},
   "outputs": [],
   "source": [
    "print(r)"
   ]
  },
  {
   "cell_type": "code",
   "execution_count": null,
   "id": "24b05cad-fb4b-4e40-82a4-b52c8a400c22",
   "metadata": {
    "tags": []
   },
   "outputs": [],
   "source": [
    "%%time\n",
    "headers={'cookie': auth_token}\n",
    "for index, stac_item in enumerate(local_stac_items):\n",
    "    print(stac_item)\n",
    "    data2 = json.dumps(stac_item.to_dict())\n",
    "    r = requests.post('https://stac.geoanalytics.ca/collections/Sentinel2_TEST/items', data=data2, headers=headers)\n",
    "    print(r)"
   ]
  },
  {
   "cell_type": "markdown",
   "id": "c51a0614-dcb2-45a0-9a2b-9af7433b21cf",
   "metadata": {},
   "source": [
    "Now you know how to find data in a free STAC API, download it, and add it to your own STAC API for internal use. \n",
    "Don't forget to shutdown your clusters and close your client!"
   ]
  },
  {
   "cell_type": "code",
   "execution_count": 380,
   "id": "ed06a84c-7bfc-4e67-ae10-b91c96e50556",
   "metadata": {},
   "outputs": [],
   "source": [
    "cluster.shutdown()\n",
    "client.close()"
   ]
  }
 ],
 "metadata": {
  "kernelspec": {
   "display_name": "Python 3 (ipykernel)",
   "language": "python",
   "name": "python3"
  },
  "language_info": {
   "codemirror_mode": {
    "name": "ipython",
    "version": 3
   },
   "file_extension": ".py",
   "mimetype": "text/x-python",
   "name": "python",
   "nbconvert_exporter": "python",
   "pygments_lexer": "ipython3",
   "version": "3.9.12"
  }
 },
 "nbformat": 4,
 "nbformat_minor": 5
}
