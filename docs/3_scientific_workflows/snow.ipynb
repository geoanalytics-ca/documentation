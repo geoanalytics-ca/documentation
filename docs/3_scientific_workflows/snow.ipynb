{
 "cells": [
  {
   "cell_type": "markdown",
   "id": "da0f0a8e-08f5-4152-b166-7130c10c96a8",
   "metadata": {},
   "source": [
    "## Create Custom Container From Dockerfile\n",
    "\n",
    "Create a dockerfile which implements the environment for the Workflow to run in.   \n",
    "Once built, push to the GEOAnalytics Container Registry to be used in the Workflow."
   ]
  },
  {
   "cell_type": "code",
   "execution_count": null,
   "id": "d7bacc60-dc4b-4915-b081-2abda35ae68f",
   "metadata": {},
   "outputs": [],
   "source": [
    "! pip install --user docker"
   ]
  },
  {
   "cell_type": "code",
   "execution_count": 1,
   "id": "3e4aca27-c15b-42ef-9877-d126f1a3248e",
   "metadata": {
    "execution": {
     "iopub.execute_input": "2023-08-21T19:48:45.001085Z",
     "iopub.status.busy": "2023-08-21T19:48:45.000888Z",
     "iopub.status.idle": "2023-08-21T19:48:45.068130Z",
     "shell.execute_reply": "2023-08-21T19:48:45.067499Z",
     "shell.execute_reply.started": "2023-08-21T19:48:45.001065Z"
    }
   },
   "outputs": [],
   "source": [
    "import os\n",
    "import io\n",
    "import getpass\n",
    "import docker"
   ]
  },
  {
   "cell_type": "code",
   "execution_count": 2,
   "id": "037b267b-0641-44b5-ad32-44f6aedb7bc0",
   "metadata": {
    "execution": {
     "iopub.execute_input": "2023-08-21T19:48:45.741070Z",
     "iopub.status.busy": "2023-08-21T19:48:45.740367Z",
     "iopub.status.idle": "2023-08-21T19:48:45.761693Z",
     "shell.execute_reply": "2023-08-21T19:48:45.761102Z",
     "shell.execute_reply.started": "2023-08-21T19:48:45.741037Z"
    },
    "tags": []
   },
   "outputs": [
    {
     "data": {
      "text/plain": [
       "<docker.client.DockerClient at 0x7f2f01eb6560>"
      ]
     },
     "execution_count": 2,
     "metadata": {},
     "output_type": "execute_result"
    }
   ],
   "source": [
    "# DinD (Docker in Docker sidecar is accessible over localhost\n",
    "docker_client = docker.from_env()\n",
    "docker_client"
   ]
  },
  {
   "cell_type": "code",
   "execution_count": 3,
   "id": "69b2c92b-4e7a-45e8-875d-c3aa9b85f2d9",
   "metadata": {
    "execution": {
     "iopub.execute_input": "2023-08-21T19:48:46.519044Z",
     "iopub.status.busy": "2023-08-21T19:48:46.518379Z",
     "iopub.status.idle": "2023-08-21T19:48:46.523002Z",
     "shell.execute_reply": "2023-08-21T19:48:46.522268Z",
     "shell.execute_reply.started": "2023-08-21T19:48:46.519010Z"
    },
    "tags": []
   },
   "outputs": [],
   "source": [
    "dockerfile = \"\"\"\n",
    "FROM python:3.11-slim\n",
    "RUN apt update --no-install-recommends \\\n",
    "    >>/dev/null\n",
    "    \n",
    "RUN pip install \\\n",
    "        pandas \\\n",
    "        geopandas \\\n",
    "        pystac_client \\\n",
    "        planetary-computer \\\n",
    "        azure-storage-blob\n",
    "\"\"\"\n",
    "# with open('/tmp/dockerfile', 'w') as f:\n",
    "#     f.write(dockerfile)\n",
    "dockerfile_file = io.BytesIO(dockerfile.encode())"
   ]
  },
  {
   "cell_type": "code",
   "execution_count": 4,
   "id": "e39c221d-7f59-4e0e-b1d8-df4dbe963ce5",
   "metadata": {
    "execution": {
     "iopub.execute_input": "2023-08-21T19:48:48.395203Z",
     "iopub.status.busy": "2023-08-21T19:48:48.394570Z",
     "iopub.status.idle": "2023-08-21T19:48:48.398478Z",
     "shell.execute_reply": "2023-08-21T19:48:48.397808Z",
     "shell.execute_reply.started": "2023-08-21T19:48:48.395168Z"
    }
   },
   "outputs": [],
   "source": [
    "dockerfile_file.name = 'dockerfile'"
   ]
  },
  {
   "cell_type": "code",
   "execution_count": 5,
   "id": "79e16fa5-0b65-47f6-811b-16b746b670d6",
   "metadata": {
    "execution": {
     "iopub.execute_input": "2023-08-21T19:48:49.176054Z",
     "iopub.status.busy": "2023-08-21T19:48:49.175324Z",
     "iopub.status.idle": "2023-08-21T19:48:49.179314Z",
     "shell.execute_reply": "2023-08-21T19:48:49.178627Z",
     "shell.execute_reply.started": "2023-08-21T19:48:49.176021Z"
    },
    "tags": []
   },
   "outputs": [],
   "source": [
    "registry_url = 'registry.eo4ph.geoanalytics.ca/tutorial'"
   ]
  },
  {
   "cell_type": "code",
   "execution_count": 6,
   "id": "03cd99d4-7c35-433a-a59b-ada182a252f6",
   "metadata": {
    "execution": {
     "iopub.execute_input": "2023-08-21T19:48:49.764183Z",
     "iopub.status.busy": "2023-08-21T19:48:49.763438Z",
     "iopub.status.idle": "2023-08-21T19:49:19.245870Z",
     "shell.execute_reply": "2023-08-21T19:49:19.245262Z",
     "shell.execute_reply.started": "2023-08-21T19:48:49.764150Z"
    }
   },
   "outputs": [
    {
     "data": {
      "text/plain": [
       "(<Image: 'registry.eo4ph.geoanalytics.ca/tutorial/snow-cover:0.1.0'>,\n",
       " <itertools._tee at 0x7f2f001e6ac0>)"
      ]
     },
     "execution_count": 6,
     "metadata": {},
     "output_type": "execute_result"
    }
   ],
   "source": [
    "docker_client.images.build(fileobj=dockerfile_file, tag=f'{registry_url}/snow-cover:0.1.0')"
   ]
  },
  {
   "cell_type": "code",
   "execution_count": 12,
   "id": "bb0b434c-249a-47e4-97ce-4a0f8ccf9ca4",
   "metadata": {
    "execution": {
     "iopub.execute_input": "2023-08-21T19:12:24.872353Z",
     "iopub.status.busy": "2023-08-21T19:12:24.871635Z",
     "iopub.status.idle": "2023-08-21T19:12:24.930853Z",
     "shell.execute_reply": "2023-08-21T19:12:24.930205Z",
     "shell.execute_reply.started": "2023-08-21T19:12:24.872326Z"
    },
    "tags": []
   },
   "outputs": [],
   "source": [
    "with open('/tmp/dockerfile', 'rb') as d:\n",
    "    docker_client.images.build(fileobj=d, tag=f'{registry_url}/snow-cover:0.1.0')"
   ]
  },
  {
   "cell_type": "code",
   "execution_count": null,
   "id": "14c964f0-6332-49c1-a784-adacad7b253c",
   "metadata": {
    "tags": []
   },
   "outputs": [],
   "source": [
    "docker_client.login(\n",
    "    username=os.getenv('JUPYTERHUB_USER'),\n",
    "    password=getpass.getpass(),\n",
    "    registry=registry_url\n",
    ")"
   ]
  },
  {
   "cell_type": "code",
   "execution_count": null,
   "id": "badd3f06-deb4-4bfe-be08-7a3ad4668ac6",
   "metadata": {
    "scrolled": true,
    "tags": []
   },
   "outputs": [],
   "source": [
    "docker_client.images.push(f'{registry_url}/snow-cover:0.1.0')"
   ]
  },
  {
   "cell_type": "markdown",
   "id": "065cba02-d01f-44d2-89ee-1141d2266883",
   "metadata": {},
   "source": [
    "## Workflow Setup"
   ]
  },
  {
   "cell_type": "code",
   "execution_count": 31,
   "id": "98084b3f-7e41-49d3-bab5-eb0546069e70",
   "metadata": {
    "execution": {
     "iopub.execute_input": "2023-08-21T20:54:55.363052Z",
     "iopub.status.busy": "2023-08-21T20:54:55.362155Z",
     "iopub.status.idle": "2023-08-21T20:54:55.367602Z",
     "shell.execute_reply": "2023-08-21T20:54:55.366793Z",
     "shell.execute_reply.started": "2023-08-21T20:54:55.363015Z"
    },
    "tags": []
   },
   "outputs": [],
   "source": [
    "# Import the required libraries\n",
    "import os\n",
    "\n",
    "os.environ['USE_PYGEOS'] = '0'\n",
    "import geopandas as gpd\n",
    "\n",
    "from typing import List, Dict, Tuple, Any\n",
    "\n",
    "from shapely.geometry import Polygon, MultiPolygon\n",
    "\n",
    "from hera.shared import global_config\n",
    "from hera.workflows import Artifact, Container, Steps, Workflow, Task, script, DAG, Resources, Parameter\n",
    "from hera.workflows.models import ValueFrom"
   ]
  },
  {
   "cell_type": "code",
   "execution_count": 32,
   "id": "22333b10-b27f-4525-b6f1-12473f263d88",
   "metadata": {
    "execution": {
     "iopub.execute_input": "2023-08-21T20:54:55.879087Z",
     "iopub.status.busy": "2023-08-21T20:54:55.878189Z",
     "iopub.status.idle": "2023-08-21T20:54:55.883212Z",
     "shell.execute_reply": "2023-08-21T20:54:55.881794Z",
     "shell.execute_reply.started": "2023-08-21T20:54:55.879052Z"
    },
    "tags": []
   },
   "outputs": [],
   "source": [
    "global_config.api_version = \"argoproj.io/v1\"\n",
    "global_config.host = os.getenv(\"WORKFLOW_HOST\")"
   ]
  },
  {
   "cell_type": "code",
   "execution_count": 68,
   "id": "6872336d-d20f-495c-b297-511928a9ee2d",
   "metadata": {
    "execution": {
     "iopub.execute_input": "2023-08-21T21:59:17.106849Z",
     "iopub.status.busy": "2023-08-21T21:59:17.106225Z",
     "iopub.status.idle": "2023-08-21T21:59:17.113539Z",
     "shell.execute_reply": "2023-08-21T21:59:17.112859Z",
     "shell.execute_reply.started": "2023-08-21T21:59:17.106818Z"
    }
   },
   "outputs": [],
   "source": [
    "@script(\n",
    "    image='registry.eo4ph.geoanalytics.ca/tutorial/snow-cover:0.1.0',\n",
    "    outputs=Artifact(name='geojson_out', path='/tmp/aoi.geojson')\n",
    ")\n",
    "def generate_polygon_artifact(\n",
    "        url: str,\n",
    "        target_province: str\n",
    "    ):\n",
    "    import io\n",
    "    import os\n",
    "    import sys\n",
    "    import json\n",
    "    import requests\n",
    "    import zipfile\n",
    "\n",
    "    import geopandas as gpd\n",
    "    \n",
    "    from glob import glob\n",
    "    from shapely.geometry import Polygon, MultiPolygon\n",
    "\n",
    "    os.makedirs('/tmp/canvec')\n",
    "    \n",
    "    res = requests.get(url)\n",
    "    with zipfile.ZipFile(io.BytesIO(res.content), 'r') as zf:\n",
    "        zf.extractall(path='/tmp/canvec')\n",
    "\n",
    "    shp_file = glob('/tmp/canvec/**/*geo_pol*_2.shp')[0]\n",
    "    gdf = gpd.read_file(shp_file)\n",
    "\n",
    "    # Pull out Adminitrative Boundaries\n",
    "    tgt_col = 'juri_en'\n",
    "    bc_all = gdf[gdf[tgt_col] == target_province]\n",
    "    mp = MultiPolygon([poly for poly in bc_all.geometry.values.tolist() if isinstance(poly, Polygon)])\n",
    "    bc = gpd.GeoDataFrame(data={'geom': [mp]})\n",
    "    bc = bc.set_geometry('geom')\n",
    "    bc.to_file('/tmp/aoi.geojson', driver='GeoJSON')\n",
    "    # json.dump(bc.geometry.values[0].wkt, sys.stdout)\n",
    "    "
   ]
  },
  {
   "cell_type": "code",
   "execution_count": 69,
   "id": "1b1b8174-f55a-4096-992d-672fe53e55a9",
   "metadata": {
    "execution": {
     "iopub.execute_input": "2023-08-21T21:59:17.552503Z",
     "iopub.status.busy": "2023-08-21T21:59:17.551733Z",
     "iopub.status.idle": "2023-08-21T21:59:17.559034Z",
     "shell.execute_reply": "2023-08-21T21:59:17.558367Z",
     "shell.execute_reply.started": "2023-08-21T21:59:17.552470Z"
    },
    "tags": []
   },
   "outputs": [],
   "source": [
    "@script(\n",
    "    image='registry.eo4ph.geoanalytics.ca/tutorial/snow-cover:0.1.0'\n",
    ")\n",
    "def fan_out_temporal_range(\n",
    "        catalog_url: str,\n",
    "        collection: str,\n",
    "        assets: List[str],\n",
    "        start_year: int, \n",
    "        end_year: int, \n",
    "        start_month: int, \n",
    "        end_month: int,\n",
    "        # geom: Polygon | MultiPolygon\n",
    "    ):\n",
    "    import json\n",
    "    import sys\n",
    "    from datetime import datetime\n",
    "    \n",
    "    if start_year < 2000:\n",
    "        raise ValueError(f'MODIS collection starts at 02/24/2000: Error {start_year}')\n",
    "    if end_year > int(datetime.now().strftime('%Y')):\n",
    "        raise ValueError(f'Cannot query future: Error {end_year}')\n",
    "    if start_month < 1 or end_month > 12:\n",
    "        raise ValueError(f'Month range is from 1 to 12, inclusive: Error: {start_month}')\n",
    "    years = [year for year in range(start_year, end_year, 1)]\n",
    "    months = [month for month in range(start_month, end_month, 1)]\n",
    "    temporal_range = []\n",
    "    for year in years:\n",
    "        for month in months:\n",
    "            if month < 10:\n",
    "                month = f'0{month}'\n",
    "\n",
    "            payload = {\n",
    "                'catalog_url': catalog_url,\n",
    "                'collection': collection,\n",
    "                'assets': assets,\n",
    "                'year': year,\n",
    "                'month': month,\n",
    "                # 'geom': geom\n",
    "            }\n",
    "            temporal_range.append(payload)\n",
    "    json.dump(temporal_range, sys.stdout)"
   ]
  },
  {
   "cell_type": "code",
   "execution_count": 86,
   "id": "5ad0a54e-1535-4e20-a074-6ab073a5928c",
   "metadata": {
    "execution": {
     "iopub.execute_input": "2023-08-21T22:08:07.773712Z",
     "iopub.status.busy": "2023-08-21T22:08:07.773080Z",
     "iopub.status.idle": "2023-08-21T22:08:07.778288Z",
     "shell.execute_reply": "2023-08-21T22:08:07.777598Z",
     "shell.execute_reply.started": "2023-08-21T22:08:07.773678Z"
    },
    "tags": []
   },
   "outputs": [],
   "source": [
    "@script(\n",
    "    image='registry.eo4ph.geoanalytics.ca/tutorial/snow-cover:0.1.0',\n",
    "    inputs=Artifact(name='geojson_in', path='/tmp/aoi.geojson')\n",
    "    # outputs=Artifact(name='processed-tile', path='/tmp/processed-month.tif')\n",
    ")\n",
    "def process_month(payload: Dict[str, Any]):\n",
    "    from pathlib import Path\n",
    "    import geopandas as gpd\n",
    "    \n",
    "    # from pystac_client import Client\n",
    "\n",
    "    # api = Client(catalog_url)\n",
    "    # query = api.search(\n",
    "        \n",
    "    # )\n",
    "\n",
    "    gdf = gpd.read_file('/tmp/aoi.geojson')\n",
    "    payload.update({\n",
    "        'geom': gdf.geometry.values[0]\n",
    "    })\n",
    "    print(f'Payload: {payload}')\n",
    "    "
   ]
  },
  {
   "cell_type": "code",
   "execution_count": 87,
   "id": "9678ba29-4adb-4664-b419-884e69af12a7",
   "metadata": {
    "execution": {
     "iopub.execute_input": "2023-08-21T22:08:07.948890Z",
     "iopub.status.busy": "2023-08-21T22:08:07.948248Z",
     "iopub.status.idle": "2023-08-21T22:08:07.953119Z",
     "shell.execute_reply": "2023-08-21T22:08:07.952395Z",
     "shell.execute_reply.started": "2023-08-21T22:08:07.948852Z"
    }
   },
   "outputs": [],
   "source": [
    "@script(\n",
    "    image='registry.eo4ph.geoanalytics.ca/tutorial/snow-cover:0.1.0',\n",
    "    inputs=Artifact(name='processed-aoi', path='/tmp/processed-aoi.tif')\n",
    ")\n",
    "def write_raster_to_cloud_storage():\n",
    "    pass"
   ]
  },
  {
   "cell_type": "code",
   "execution_count": 88,
   "id": "726b3c1a-eef5-467c-ad2d-70a7aa9d8a92",
   "metadata": {
    "execution": {
     "iopub.execute_input": "2023-08-21T22:08:08.038859Z",
     "iopub.status.busy": "2023-08-21T22:08:08.038297Z",
     "iopub.status.idle": "2023-08-21T22:08:08.041945Z",
     "shell.execute_reply": "2023-08-21T22:08:08.041348Z",
     "shell.execute_reply.started": "2023-08-21T22:08:08.038830Z"
    }
   },
   "outputs": [],
   "source": [
    "canada_boundaries = 'https://ftp.maps.canada.ca/pub/nrcan_rncan/vector/canvec/shp/Admin/canvec_15M_CA_Admin_shp.zip'\n",
    "catalog_url = \"https://planetarycomputer.microsoft.com/api/stac/v1\""
   ]
  },
  {
   "cell_type": "code",
   "execution_count": 89,
   "id": "e7942689-18dc-4351-bc39-1c950c1aafea",
   "metadata": {
    "execution": {
     "iopub.execute_input": "2023-08-21T22:08:08.563891Z",
     "iopub.status.busy": "2023-08-21T22:08:08.563590Z",
     "iopub.status.idle": "2023-08-21T22:08:08.572284Z",
     "shell.execute_reply": "2023-08-21T22:08:08.571661Z",
     "shell.execute_reply.started": "2023-08-21T22:08:08.563867Z"
    },
    "tags": []
   },
   "outputs": [],
   "source": [
    "# Workflow \n",
    "with Workflow(\n",
    "    name=\"british-columbia-monthly-snow-average\",\n",
    "    namespace=os.getenv(\"WORKFLOW_NS\"),\n",
    "    entrypoint=\"snowflow\",\n",
    "    parallelism=100,\n",
    ")as wf1:    \n",
    "    with DAG(name='snowflow'):\n",
    "        a = generate_polygon_artifact(\n",
    "                arguments={\n",
    "                    'url': canada_boundaries,\n",
    "                    'target_province': 'British Columbia'\n",
    "                }\n",
    "        )\n",
    "        b = fan_out_temporal_range(\n",
    "                arguments={\n",
    "                    'catalog_url': catalog_url,\n",
    "                    'collection': 'modis-10A1-061',\n",
    "                    'assets': ['NDSI'],                               \n",
    "                    'start_year': 2015, \n",
    "                    'end_year': 2020,\n",
    "                    'start_month': 4,\n",
    "                    'end_month': 7,\n",
    "                }\n",
    "            )\n",
    "        c = process_month(\n",
    "            name='process-month',\n",
    "            arguments=a.get_artifact('geojson_out').as_name('geojson_in'),\n",
    "            with_param=b.result\n",
    "        )\n",
    "        \n",
    "        [a, b] >> c"
   ]
  },
  {
   "cell_type": "code",
   "execution_count": 90,
   "id": "aeee2669-5ef0-4213-9da9-ffc9331f723b",
   "metadata": {
    "execution": {
     "iopub.execute_input": "2023-08-21T22:08:09.124678Z",
     "iopub.status.busy": "2023-08-21T22:08:09.123770Z",
     "iopub.status.idle": "2023-08-21T22:08:09.201145Z",
     "shell.execute_reply": "2023-08-21T22:08:09.200500Z",
     "shell.execute_reply.started": "2023-08-21T22:08:09.124638Z"
    },
    "tags": []
   },
   "outputs": [
    {
     "data": {
      "text/plain": [
       "Workflow(api_version=None, kind=None, metadata=ObjectMeta(annotations=None, cluster_name=None, creation_timestamp=Time(__root__=datetime.datetime(2023, 8, 21, 22, 8, 9, tzinfo=datetime.timezone.utc)), deletion_grace_period_seconds=None, deletion_timestamp=None, finalizers=None, generate_name=None, generation=1, labels={'workflows.argoproj.io/creator': 'system-serviceaccount-pipeline-pipeline-argo-workflows-server'}, managed_fields=[ManagedFieldsEntry(api_version='argoproj.io/v1alpha1', fields_type='FieldsV1', fields_v1=FieldsV1(), manager='argo', operation='Update', subresource=None, time=Time(__root__=datetime.datetime(2023, 8, 21, 22, 8, 9, tzinfo=datetime.timezone.utc)))], name='british-columbia-monthly-snow-average', namespace='pipeline', owner_references=None, resource_version='284882310', self_link=None, uid='6c9934a4-b80c-425c-b99c-24b87918fc11'), spec=WorkflowSpec(active_deadline_seconds=None, affinity=None, archive_logs=None, arguments=Arguments(artifacts=None, parameters=None), artifact_gc=None, artifact_repository_ref=None, automount_service_account_token=None, dns_config=None, dns_policy=None, entrypoint='snowflow', executor=None, hooks=None, host_aliases=None, host_network=None, image_pull_secrets=None, metrics=None, node_selector=None, on_exit=None, parallelism=100, pod_disruption_budget=None, pod_gc=None, pod_metadata=None, pod_priority=None, pod_priority_class_name=None, pod_spec_patch=None, priority=None, retry_strategy=None, scheduler_name=None, security_context=None, service_account_name=None, shutdown=None, suspend=None, synchronization=None, template_defaults=None, templates=[Template(active_deadline_seconds=None, affinity=None, archive_location=None, automount_service_account_token=None, container=None, container_set=None, daemon=None, dag=DAGTemplate(fail_fast=None, target=None, tasks=[DAGTask(arguments=Arguments(artifacts=None, parameters=[Parameter(default=None, description=None, enum=None, global_name=None, name='url', value='https://ftp.maps.canada.ca/pub/nrcan_rncan/vector/canvec/shp/Admin/canvec_15M_CA_Admin_shp.zip', value_from=None), Parameter(default=None, description=None, enum=None, global_name=None, name='target_province', value='British Columbia', value_from=None)]), continue_on=None, dependencies=None, depends=None, hooks=None, inline=None, name='generate-polygon-artifact', on_exit=None, template='generate-polygon-artifact', template_ref=None, when=None, with_items=None, with_param=None, with_sequence=None), DAGTask(arguments=Arguments(artifacts=None, parameters=[Parameter(default=None, description=None, enum=None, global_name=None, name='catalog_url', value='https://planetarycomputer.microsoft.com/api/stac/v1', value_from=None), Parameter(default=None, description=None, enum=None, global_name=None, name='collection', value='modis-10A1-061', value_from=None), Parameter(default=None, description=None, enum=None, global_name=None, name='assets', value='[\"NDSI\"]', value_from=None), Parameter(default=None, description=None, enum=None, global_name=None, name='start_year', value='2015', value_from=None), Parameter(default=None, description=None, enum=None, global_name=None, name='end_year', value='2020', value_from=None), Parameter(default=None, description=None, enum=None, global_name=None, name='start_month', value='4', value_from=None), Parameter(default=None, description=None, enum=None, global_name=None, name='end_month', value='7', value_from=None)]), continue_on=None, dependencies=None, depends=None, hooks=None, inline=None, name='fan-out-temporal-range', on_exit=None, template='fan-out-temporal-range', template_ref=None, when=None, with_items=None, with_param=None, with_sequence=None), DAGTask(arguments=Arguments(artifacts=[Artifact(archive=None, archive_logs=None, artifact_gc=None, artifactory=None, azure=None, deleted=None, from_='{{tasks.generate-polygon-artifact.outputs.artifacts.geojson_out}}', from_expression=None, gcs=None, git=None, global_name=None, hdfs=None, http=None, mode=None, name='geojson_in', optional=None, oss=None, path='/tmp/aoi.geojson', raw=None, recurse_mode=None, s3=None, sub_path=None)], parameters=[Parameter(default=None, description=None, enum=None, global_name=None, name='payload', value='{{item}}', value_from=None)]), continue_on=None, dependencies=None, depends='generate-polygon-artifact && fan-out-temporal-range', hooks=None, inline=None, name='process-month', on_exit=None, template='process-month', template_ref=None, when=None, with_items=None, with_param='{{tasks.fan-out-temporal-range.outputs.result}}', with_sequence=None)]), data=None, executor=None, fail_fast=None, host_aliases=None, http=None, init_containers=None, inputs=Inputs(artifacts=None, parameters=None), memoize=None, metadata=Metadata(annotations=None, labels=None), metrics=None, name='snowflow', node_selector=None, outputs=Outputs(artifacts=None, exit_code=None, parameters=None, result=None), parallelism=None, plugin=None, pod_spec_patch=None, priority=None, priority_class_name=None, resource=None, retry_strategy=None, scheduler_name=None, script=None, security_context=None, service_account_name=None, sidecars=None, steps=None, suspend=None, synchronization=None, timeout=None, tolerations=None, volumes=None), Template(active_deadline_seconds=None, affinity=None, archive_location=None, automount_service_account_token=None, container=None, container_set=None, daemon=None, dag=None, data=None, executor=None, fail_fast=None, host_aliases=None, http=None, init_containers=None, inputs=Inputs(artifacts=None, parameters=[Parameter(default=None, description=None, enum=None, global_name=None, name='url', value=None, value_from=None), Parameter(default=None, description=None, enum=None, global_name=None, name='target_province', value=None, value_from=None)]), memoize=None, metadata=Metadata(annotations=None, labels=None), metrics=None, name='generate-polygon-artifact', node_selector=None, outputs=Outputs(artifacts=[Artifact(archive=None, archive_logs=None, artifact_gc=None, artifactory=None, azure=None, deleted=None, from_=None, from_expression=None, gcs=None, git=None, global_name=None, hdfs=None, http=None, mode=None, name='geojson_out', optional=None, oss=None, path='/tmp/aoi.geojson', raw=None, recurse_mode=None, s3=None, sub_path=None)], exit_code=None, parameters=None, result=None), parallelism=None, plugin=None, pod_spec_patch=None, priority=None, priority_class_name=None, resource=None, retry_strategy=None, scheduler_name=None, script=ScriptTemplate(args=None, command=['python'], env=None, env_from=None, image='registry.eo4ph.geoanalytics.ca/tutorial/snow-cover:0.1.0', image_pull_policy=None, lifecycle=None, liveness_probe=None, name='', ports=None, readiness_probe=None, resources=ResourceRequirements(limits=None, requests=None), security_context=None, source=\"import os\\nimport sys\\nsys.path.append(os.getcwd())\\nimport json\\ntry: target_province = json.loads(r'''{{inputs.parameters.target_province}}''')\\nexcept: target_province = r'''{{inputs.parameters.target_province}}'''\\ntry: url = json.loads(r'''{{inputs.parameters.url}}''')\\nexcept: url = r'''{{inputs.parameters.url}}'''\\n\\nimport io\\nimport os\\nimport sys\\nimport json\\nimport requests\\nimport zipfile\\nimport geopandas as gpd\\nfrom glob import glob\\nfrom shapely.geometry import Polygon, MultiPolygon\\nos.makedirs('/tmp/canvec')\\nres = requests.get(url)\\nwith zipfile.ZipFile(io.BytesIO(res.content), 'r') as zf:\\n    zf.extractall(path='/tmp/canvec')\\nshp_file = glob('/tmp/canvec/**/*geo_pol*_2.shp')[0]\\ngdf = gpd.read_file(shp_file)\\ntgt_col = 'juri_en'\\nbc_all = gdf[gdf[tgt_col] == target_province]\\nmp = MultiPolygon([poly for poly in bc_all.geometry.values.tolist() if isinstance(poly, Polygon)])\\nbc = gpd.GeoDataFrame(data={'geom': [mp]})\\nbc = bc.set_geometry('geom')\\nbc.to_file('/tmp/aoi.geojson', driver='GeoJSON')\", startup_probe=None, stdin=None, stdin_once=None, termination_message_path=None, termination_message_policy=None, tty=None, volume_devices=None, volume_mounts=None, working_dir=None), security_context=None, service_account_name=None, sidecars=None, steps=None, suspend=None, synchronization=None, timeout=None, tolerations=None, volumes=None), Template(active_deadline_seconds=None, affinity=None, archive_location=None, automount_service_account_token=None, container=None, container_set=None, daemon=None, dag=None, data=None, executor=None, fail_fast=None, host_aliases=None, http=None, init_containers=None, inputs=Inputs(artifacts=None, parameters=[Parameter(default=None, description=None, enum=None, global_name=None, name='catalog_url', value=None, value_from=None), Parameter(default=None, description=None, enum=None, global_name=None, name='collection', value=None, value_from=None), Parameter(default=None, description=None, enum=None, global_name=None, name='assets', value=None, value_from=None), Parameter(default=None, description=None, enum=None, global_name=None, name='start_year', value=None, value_from=None), Parameter(default=None, description=None, enum=None, global_name=None, name='end_year', value=None, value_from=None), Parameter(default=None, description=None, enum=None, global_name=None, name='start_month', value=None, value_from=None), Parameter(default=None, description=None, enum=None, global_name=None, name='end_month', value=None, value_from=None)]), memoize=None, metadata=Metadata(annotations=None, labels=None), metrics=None, name='fan-out-temporal-range', node_selector=None, outputs=Outputs(artifacts=None, exit_code=None, parameters=None, result=None), parallelism=None, plugin=None, pod_spec_patch=None, priority=None, priority_class_name=None, resource=None, retry_strategy=None, scheduler_name=None, script=ScriptTemplate(args=None, command=['python'], env=None, env_from=None, image='registry.eo4ph.geoanalytics.ca/tutorial/snow-cover:0.1.0', image_pull_policy=None, lifecycle=None, liveness_probe=None, name='', ports=None, readiness_probe=None, resources=ResourceRequirements(limits=None, requests=None), security_context=None, source=\"import os\\nimport sys\\nsys.path.append(os.getcwd())\\nimport json\\ntry: assets = json.loads(r'''{{inputs.parameters.assets}}''')\\nexcept: assets = r'''{{inputs.parameters.assets}}'''\\ntry: catalog_url = json.loads(r'''{{inputs.parameters.catalog_url}}''')\\nexcept: catalog_url = r'''{{inputs.parameters.catalog_url}}'''\\ntry: collection = json.loads(r'''{{inputs.parameters.collection}}''')\\nexcept: collection = r'''{{inputs.parameters.collection}}'''\\ntry: end_month = json.loads(r'''{{inputs.parameters.end_month}}''')\\nexcept: end_month = r'''{{inputs.parameters.end_month}}'''\\ntry: end_year = json.loads(r'''{{inputs.parameters.end_year}}''')\\nexcept: end_year = r'''{{inputs.parameters.end_year}}'''\\ntry: start_month = json.loads(r'''{{inputs.parameters.start_month}}''')\\nexcept: start_month = r'''{{inputs.parameters.start_month}}'''\\ntry: start_year = json.loads(r'''{{inputs.parameters.start_year}}''')\\nexcept: start_year = r'''{{inputs.parameters.start_year}}'''\\n\\nimport json\\nimport sys\\nfrom datetime import datetime\\nif start_year < 2000:\\n    raise ValueError(f'MODIS collection starts at 02/24/2000: Error {start_year}')\\nif end_year > int(datetime.now().strftime('%Y')):\\n    raise ValueError(f'Cannot query future: Error {end_year}')\\nif start_month < 1 or end_month > 12:\\n    raise ValueError(f'Month range is from 1 to 12, inclusive: Error: {start_month}')\\nyears = [year for year in range(start_year, end_year, 1)]\\nmonths = [month for month in range(start_month, end_month, 1)]\\ntemporal_range = []\\nfor year in years:\\n    for month in months:\\n        if month < 10:\\n            month = f'0{month}'\\n        payload = {'catalog_url': catalog_url, 'collection': collection, 'assets': assets, 'year': year, 'month': month}\\n        temporal_range.append(payload)\\njson.dump(temporal_range, sys.stdout)\", startup_probe=None, stdin=None, stdin_once=None, termination_message_path=None, termination_message_policy=None, tty=None, volume_devices=None, volume_mounts=None, working_dir=None), security_context=None, service_account_name=None, sidecars=None, steps=None, suspend=None, synchronization=None, timeout=None, tolerations=None, volumes=None), Template(active_deadline_seconds=None, affinity=None, archive_location=None, automount_service_account_token=None, container=None, container_set=None, daemon=None, dag=None, data=None, executor=None, fail_fast=None, host_aliases=None, http=None, init_containers=None, inputs=Inputs(artifacts=[Artifact(archive=None, archive_logs=None, artifact_gc=None, artifactory=None, azure=None, deleted=None, from_=None, from_expression=None, gcs=None, git=None, global_name=None, hdfs=None, http=None, mode=None, name='geojson_in', optional=None, oss=None, path='/tmp/aoi.geojson', raw=None, recurse_mode=None, s3=None, sub_path=None)], parameters=[Parameter(default=None, description=None, enum=None, global_name=None, name='payload', value=None, value_from=None)]), memoize=None, metadata=Metadata(annotations=None, labels=None), metrics=None, name='process-month', node_selector=None, outputs=Outputs(artifacts=None, exit_code=None, parameters=None, result=None), parallelism=None, plugin=None, pod_spec_patch=None, priority=None, priority_class_name=None, resource=None, retry_strategy=None, scheduler_name=None, script=ScriptTemplate(args=None, command=['python'], env=None, env_from=None, image='registry.eo4ph.geoanalytics.ca/tutorial/snow-cover:0.1.0', image_pull_policy=None, lifecycle=None, liveness_probe=None, name='', ports=None, readiness_probe=None, resources=ResourceRequirements(limits=None, requests=None), security_context=None, source=\"import os\\nimport sys\\nsys.path.append(os.getcwd())\\nimport json\\ntry: payload = json.loads(r'''{{inputs.parameters.payload}}''')\\nexcept: payload = r'''{{inputs.parameters.payload}}'''\\n\\nfrom pathlib import Path\\nimport geopandas as gpd\\ngdf = gpd.read_file('/tmp/aoi.geojson')\\npayload.update({'geom': gdf.geometry.values[0]})\\nprint(f'Payload: {payload}')\", startup_probe=None, stdin=None, stdin_once=None, termination_message_path=None, termination_message_policy=None, tty=None, volume_devices=None, volume_mounts=None, working_dir=None), security_context=None, service_account_name=None, sidecars=None, steps=None, suspend=None, synchronization=None, timeout=None, tolerations=None, volumes=None)], tolerations=None, ttl_strategy=None, volume_claim_gc=None, volume_claim_templates=None, volumes=None, workflow_metadata=None, workflow_template_ref=None), status=WorkflowStatus(artifact_gc_status=None, artifact_repository_ref=None, compressed_nodes=None, conditions=None, estimated_duration=None, finished_at=None, message=None, nodes=None, offload_node_status_version=None, outputs=None, persistent_volume_claims=None, phase=None, progress=None, resources_duration=None, started_at=None, stored_templates=None, stored_workflow_template_spec=None, synchronization=None))"
      ]
     },
     "execution_count": 90,
     "metadata": {},
     "output_type": "execute_result"
    }
   ],
   "source": [
    "wf1.create()"
   ]
  },
  {
   "cell_type": "code",
   "execution_count": null,
   "id": "3d375fdc-d2d1-484c-a13c-dd8f1920f135",
   "metadata": {},
   "outputs": [],
   "source": []
  },
  {
   "cell_type": "code",
   "execution_count": null,
   "id": "3f09cfd2-760f-4fd4-a291-5661f685e666",
   "metadata": {},
   "outputs": [],
   "source": []
  }
 ],
 "metadata": {
  "kernelspec": {
   "display_name": "Python 3 (ipykernel)",
   "language": "python",
   "name": "python3"
  },
  "language_info": {
   "codemirror_mode": {
    "name": "ipython",
    "version": 3
   },
   "file_extension": ".py",
   "mimetype": "text/x-python",
   "name": "python",
   "nbconvert_exporter": "python",
   "pygments_lexer": "ipython3",
   "version": "3.10.12"
  }
 },
 "nbformat": 4,
 "nbformat_minor": 5
}
