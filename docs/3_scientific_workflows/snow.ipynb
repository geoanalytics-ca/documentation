{
 "cells": [
  {
   "cell_type": "markdown",
   "id": "da0f0a8e-08f5-4152-b166-7130c10c96a8",
   "metadata": {},
   "source": [
    "## Create Custom Container From Dockerfile\n",
    "\n",
    "Create a dockerfile which implements the environment for the Workflow to run in.   \n",
    "Once built, push to the GEOAnalytics Container Registry to be used in the Workflow."
   ]
  },
  {
   "cell_type": "code",
   "execution_count": 34,
   "id": "d7bacc60-dc4b-4915-b081-2abda35ae68f",
   "metadata": {
    "collapsed": true,
    "execution": {
     "iopub.execute_input": "2023-08-22T17:46:51.549884Z",
     "iopub.status.busy": "2023-08-22T17:46:51.549214Z",
     "iopub.status.idle": "2023-08-22T17:46:56.478042Z",
     "shell.execute_reply": "2023-08-22T17:46:56.477056Z",
     "shell.execute_reply.started": "2023-08-22T17:46:51.549860Z"
    },
    "jupyter": {
     "outputs_hidden": true
    }
   },
   "outputs": [
    {
     "name": "stdout",
     "output_type": "stream",
     "text": [
      "Collecting docker\n",
      "  Obtaining dependency information for docker from https://files.pythonhosted.org/packages/db/be/3032490fa33b36ddc8c4b1da3252c6f974e7133f1a50de00c6b85cca203a/docker-6.1.3-py3-none-any.whl.metadata\n",
      "  Downloading docker-6.1.3-py3-none-any.whl.metadata (3.5 kB)\n",
      "Requirement already satisfied: packaging>=14.0 in /srv/conda/envs/notebook/lib/python3.10/site-packages (from docker) (23.1)\n",
      "Requirement already satisfied: requests>=2.26.0 in /srv/conda/envs/notebook/lib/python3.10/site-packages (from docker) (2.31.0)\n",
      "Requirement already satisfied: urllib3>=1.26.0 in /srv/conda/envs/notebook/lib/python3.10/site-packages (from docker) (1.26.15)\n",
      "Requirement already satisfied: websocket-client>=0.32.0 in /srv/conda/envs/notebook/lib/python3.10/site-packages (from docker) (1.6.1)\n",
      "Requirement already satisfied: charset-normalizer<4,>=2 in /srv/conda/envs/notebook/lib/python3.10/site-packages (from requests>=2.26.0->docker) (3.2.0)\n",
      "Requirement already satisfied: idna<4,>=2.5 in /srv/conda/envs/notebook/lib/python3.10/site-packages (from requests>=2.26.0->docker) (3.4)\n",
      "Requirement already satisfied: certifi>=2017.4.17 in /srv/conda/envs/notebook/lib/python3.10/site-packages (from requests>=2.26.0->docker) (2023.7.22)\n",
      "Downloading docker-6.1.3-py3-none-any.whl (148 kB)\n",
      "\u001b[2K   \u001b[90m━━━━━━━━━━━━━━━━━━━━━━━━━━━━━━━━━━━━━━━━\u001b[0m \u001b[32m148.1/148.1 kB\u001b[0m \u001b[31m8.8 MB/s\u001b[0m eta \u001b[36m0:00:00\u001b[0m\n",
      "\u001b[?25hInstalling collected packages: docker\n",
      "Successfully installed docker-6.1.3\n"
     ]
    }
   ],
   "source": [
    "! pip install --user docker"
   ]
  },
  {
   "cell_type": "code",
   "execution_count": 22,
   "id": "3e4aca27-c15b-42ef-9877-d126f1a3248e",
   "metadata": {
    "execution": {
     "iopub.execute_input": "2023-08-22T18:40:13.667843Z",
     "iopub.status.busy": "2023-08-22T18:40:13.667025Z",
     "iopub.status.idle": "2023-08-22T18:40:13.688334Z",
     "shell.execute_reply": "2023-08-22T18:40:13.687775Z",
     "shell.execute_reply.started": "2023-08-22T18:40:13.667818Z"
    }
   },
   "outputs": [],
   "source": [
    "import os\n",
    "import io\n",
    "import getpass\n",
    "import docker"
   ]
  },
  {
   "cell_type": "code",
   "execution_count": 23,
   "id": "037b267b-0641-44b5-ad32-44f6aedb7bc0",
   "metadata": {
    "execution": {
     "iopub.execute_input": "2023-08-22T18:40:14.394111Z",
     "iopub.status.busy": "2023-08-22T18:40:14.393598Z",
     "iopub.status.idle": "2023-08-22T18:40:14.405431Z",
     "shell.execute_reply": "2023-08-22T18:40:14.404877Z",
     "shell.execute_reply.started": "2023-08-22T18:40:14.394088Z"
    },
    "tags": []
   },
   "outputs": [
    {
     "data": {
      "text/plain": [
       "<docker.client.DockerClient at 0x7fe1f6ec1450>"
      ]
     },
     "execution_count": 23,
     "metadata": {},
     "output_type": "execute_result"
    }
   ],
   "source": [
    "# DinD (Docker in Docker sidecar is accessible over localhost\n",
    "docker_client = docker.from_env()\n",
    "docker_client"
   ]
  },
  {
   "cell_type": "code",
   "execution_count": 24,
   "id": "69b2c92b-4e7a-45e8-875d-c3aa9b85f2d9",
   "metadata": {
    "execution": {
     "iopub.execute_input": "2023-08-22T18:40:15.578711Z",
     "iopub.status.busy": "2023-08-22T18:40:15.578061Z",
     "iopub.status.idle": "2023-08-22T18:40:15.581838Z",
     "shell.execute_reply": "2023-08-22T18:40:15.581316Z",
     "shell.execute_reply.started": "2023-08-22T18:40:15.578686Z"
    },
    "tags": []
   },
   "outputs": [],
   "source": [
    "dockerfile = \"\"\"\n",
    "FROM python:3.11-slim\n",
    "RUN apt update --no-install-recommends \\\n",
    "    >>/dev/null\n",
    "    \n",
    "RUN pip install \\\n",
    "        pandas==2.0.3 \\\n",
    "        geopandas==0.13.2 \\\n",
    "        numpy==1.24.4 \\\n",
    "        pystac_client==0.7.2 \\\n",
    "        planetary-computer==1.0.0 \\\n",
    "        odc-stac==0.3.6 \\\n",
    "        azure-storage-blob==12.17.0 \\\n",
    "        xarray==2023.7.0 \\\n",
    "        rioxarray==0.15.0 \\\n",
    "        pyproj==3.6.0 \\\n",
    "        shapely==2.0.1\n",
    "\"\"\"\n",
    "dockerfile_file = io.BytesIO(dockerfile.encode())"
   ]
  },
  {
   "cell_type": "code",
   "execution_count": 25,
   "id": "e39c221d-7f59-4e0e-b1d8-df4dbe963ce5",
   "metadata": {
    "execution": {
     "iopub.execute_input": "2023-08-22T18:40:16.667876Z",
     "iopub.status.busy": "2023-08-22T18:40:16.667309Z",
     "iopub.status.idle": "2023-08-22T18:40:16.670718Z",
     "shell.execute_reply": "2023-08-22T18:40:16.670124Z",
     "shell.execute_reply.started": "2023-08-22T18:40:16.667851Z"
    }
   },
   "outputs": [],
   "source": [
    "dockerfile_file.name = 'dockerfile'"
   ]
  },
  {
   "cell_type": "code",
   "execution_count": 26,
   "id": "79e16fa5-0b65-47f6-811b-16b746b670d6",
   "metadata": {
    "execution": {
     "iopub.execute_input": "2023-08-22T18:40:23.322684Z",
     "iopub.status.busy": "2023-08-22T18:40:23.321928Z",
     "iopub.status.idle": "2023-08-22T18:40:23.325613Z",
     "shell.execute_reply": "2023-08-22T18:40:23.325014Z",
     "shell.execute_reply.started": "2023-08-22T18:40:23.322659Z"
    },
    "tags": []
   },
   "outputs": [],
   "source": [
    "registry_url = 'registry.eo4ph.geoanalytics.ca/tutorial'\n",
    "image_version_tag = '0.1.1'\n",
    "docker_image_tag = f'{registry_url}/snow-cover:{image_version_tag}'"
   ]
  },
  {
   "cell_type": "code",
   "execution_count": 27,
   "id": "03cd99d4-7c35-433a-a59b-ada182a252f6",
   "metadata": {
    "execution": {
     "iopub.execute_input": "2023-08-22T18:40:24.651409Z",
     "iopub.status.busy": "2023-08-22T18:40:24.650742Z",
     "iopub.status.idle": "2023-08-22T18:41:01.947729Z",
     "shell.execute_reply": "2023-08-22T18:41:01.947161Z",
     "shell.execute_reply.started": "2023-08-22T18:40:24.651385Z"
    }
   },
   "outputs": [
    {
     "data": {
      "text/plain": [
       "(<Image: 'registry.eo4ph.geoanalytics.ca/tutorial/snow-cover:0.1.1'>,\n",
       " <itertools._tee at 0x7fe2473de340>)"
      ]
     },
     "execution_count": 27,
     "metadata": {},
     "output_type": "execute_result"
    }
   ],
   "source": [
    "docker_client.images.build(fileobj=dockerfile_file, tag=docker_image_tag)"
   ]
  },
  {
   "cell_type": "code",
   "execution_count": null,
   "id": "14c964f0-6332-49c1-a784-adacad7b253c",
   "metadata": {
    "tags": []
   },
   "outputs": [],
   "source": [
    "docker_client.login(\n",
    "    username=os.getenv('JUPYTERHUB_USER'),\n",
    "    password=getpass.getpass(),\n",
    "    registry=registry_url\n",
    ")"
   ]
  },
  {
   "cell_type": "code",
   "execution_count": null,
   "id": "badd3f06-deb4-4bfe-be08-7a3ad4668ac6",
   "metadata": {
    "scrolled": true,
    "tags": []
   },
   "outputs": [],
   "source": [
    "docker_client.images.push(docker_image_tag)"
   ]
  },
  {
   "cell_type": "markdown",
   "id": "065cba02-d01f-44d2-89ee-1141d2266883",
   "metadata": {},
   "source": [
    "## Workflow Setup"
   ]
  },
  {
   "cell_type": "code",
   "execution_count": 39,
   "id": "98084b3f-7e41-49d3-bab5-eb0546069e70",
   "metadata": {
    "execution": {
     "iopub.execute_input": "2023-08-22T19:00:22.593871Z",
     "iopub.status.busy": "2023-08-22T19:00:22.593202Z",
     "iopub.status.idle": "2023-08-22T19:00:22.597477Z",
     "shell.execute_reply": "2023-08-22T19:00:22.596896Z",
     "shell.execute_reply.started": "2023-08-22T19:00:22.593846Z"
    },
    "tags": []
   },
   "outputs": [],
   "source": [
    "# Import the required libraries\n",
    "import os\n",
    "\n",
    "os.environ['USE_PYGEOS'] = '0'\n",
    "import geopandas as gpd\n",
    "\n",
    "from typing import List, Dict, Tuple, Any\n",
    "\n",
    "from shapely.geometry import Polygon, MultiPolygon\n",
    "\n",
    "from hera.shared import global_config\n",
    "from hera.workflows import Artifact, Container, Steps, Workflow, Task, script, DAG, Resources, Parameter\n",
    "from hera.workflows.models import ValueFrom"
   ]
  },
  {
   "cell_type": "code",
   "execution_count": 40,
   "id": "22333b10-b27f-4525-b6f1-12473f263d88",
   "metadata": {
    "execution": {
     "iopub.execute_input": "2023-08-22T19:00:22.939686Z",
     "iopub.status.busy": "2023-08-22T19:00:22.939422Z",
     "iopub.status.idle": "2023-08-22T19:00:22.943028Z",
     "shell.execute_reply": "2023-08-22T19:00:22.942439Z",
     "shell.execute_reply.started": "2023-08-22T19:00:22.939665Z"
    },
    "tags": []
   },
   "outputs": [],
   "source": [
    "global_config.api_version = \"argoproj.io/v1\"\n",
    "global_config.host = os.getenv(\"WORKFLOW_HOST\")"
   ]
  },
  {
   "cell_type": "code",
   "execution_count": 41,
   "id": "6872336d-d20f-495c-b297-511928a9ee2d",
   "metadata": {
    "execution": {
     "iopub.execute_input": "2023-08-22T19:00:23.463365Z",
     "iopub.status.busy": "2023-08-22T19:00:23.462694Z",
     "iopub.status.idle": "2023-08-22T19:00:23.469240Z",
     "shell.execute_reply": "2023-08-22T19:00:23.468632Z",
     "shell.execute_reply.started": "2023-08-22T19:00:23.463339Z"
    }
   },
   "outputs": [],
   "source": [
    "@script(\n",
    "    image=docker_image_tag,\n",
    "    outputs=Artifact(name='geojson_out', path='/tmp/aoi.geojson'),\n",
    "    resources=Resources(cpu_request='100m', memory_request='512Mi')\n",
    ")\n",
    "def generate_polygon_artifact(\n",
    "        url: str,\n",
    "        target_province: str\n",
    "    ):\n",
    "    import io\n",
    "    import os\n",
    "    import sys\n",
    "    import json\n",
    "    import requests\n",
    "    import zipfile\n",
    "\n",
    "    import geopandas as gpd\n",
    "    \n",
    "    from glob import glob\n",
    "    from shapely.geometry import Polygon, MultiPolygon\n",
    "\n",
    "    os.makedirs('/tmp/canvec')\n",
    "    \n",
    "    res = requests.get(url)\n",
    "    with zipfile.ZipFile(io.BytesIO(res.content), 'r') as zf:\n",
    "        zf.extractall(path='/tmp/canvec')\n",
    "\n",
    "    shp_file = glob('/tmp/canvec/**/*geo_pol*_2.shp')[0]\n",
    "    gdf = gpd.read_file(shp_file)\n",
    "\n",
    "    # Pull out Adminitrative Boundaries\n",
    "    tgt_col = 'juri_en'\n",
    "    bc_all = gdf[gdf[tgt_col] == target_province]\n",
    "    mp = MultiPolygon([poly for poly in bc_all.geometry.values.tolist() if isinstance(poly, Polygon)])\n",
    "    bc = gpd.GeoDataFrame(data={'geom': [mp]})\n",
    "    bc = bc.set_geometry('geom')\n",
    "    bc.to_file('/tmp/aoi.geojson', driver='GeoJSON')\n",
    "    # json.dump(bc.geometry.values[0].wkt, sys.stdout)\n",
    "    "
   ]
  },
  {
   "cell_type": "code",
   "execution_count": 42,
   "id": "1b1b8174-f55a-4096-992d-672fe53e55a9",
   "metadata": {
    "execution": {
     "iopub.execute_input": "2023-08-22T19:00:29.439771Z",
     "iopub.status.busy": "2023-08-22T19:00:29.439276Z",
     "iopub.status.idle": "2023-08-22T19:00:29.446125Z",
     "shell.execute_reply": "2023-08-22T19:00:29.445530Z",
     "shell.execute_reply.started": "2023-08-22T19:00:29.439748Z"
    },
    "tags": []
   },
   "outputs": [],
   "source": [
    "@script(\n",
    "    image=docker_image_tag,\n",
    "    resources=Resources(cpu_request='100m', memory_request='128Mi')\n",
    ")\n",
    "def fan_out_temporal_range(\n",
    "        catalog_url: str,\n",
    "        collection: str,\n",
    "        assets: List[str],\n",
    "        years: List[int],\n",
    "        months: List[int],\n",
    "        epsg: int,\n",
    "        resolution: int\n",
    "    ):\n",
    "    import json\n",
    "    import sys\n",
    "    from datetime import datetime\n",
    "\n",
    "    for year in years:\n",
    "        if year < 2000:\n",
    "            raise ValueError(f'MODIS collection starts at 02/24/2000: Error {start_year}')\n",
    "        elif year > int(datetime.now().strftime('%Y')):\n",
    "            raise ValueError(f'Cannot query future: Error {end_year}')\n",
    "        else:\n",
    "            pass\n",
    "\n",
    "    for month in months:\n",
    "        if month < 1 or month > 12:\n",
    "            raise ValueError(f'Month range is from 1 to 12, inclusive: Error: {start_month}')\n",
    "\n",
    "    temporal_range = []\n",
    "    for year in years:\n",
    "        for month in months:\n",
    "            if month < 10:\n",
    "                month = f'0{month}'\n",
    "\n",
    "            payload = {\n",
    "                'catalog_url': catalog_url,\n",
    "                'collection': collection,\n",
    "                'assets': assets,\n",
    "                'year': year,\n",
    "                'month': month,\n",
    "                'epsg': epsg,\n",
    "                'resolution': resolution\n",
    "            }\n",
    "            temporal_range.append(payload)\n",
    "    json.dump(temporal_range, sys.stdout)"
   ]
  },
  {
   "cell_type": "code",
   "execution_count": 43,
   "id": "5ad0a54e-1535-4e20-a074-6ab073a5928c",
   "metadata": {
    "execution": {
     "iopub.execute_input": "2023-08-22T19:00:34.694320Z",
     "iopub.status.busy": "2023-08-22T19:00:34.694058Z",
     "iopub.status.idle": "2023-08-22T19:00:34.702124Z",
     "shell.execute_reply": "2023-08-22T19:00:34.701431Z",
     "shell.execute_reply.started": "2023-08-22T19:00:34.694300Z"
    },
    "tags": []
   },
   "outputs": [],
   "source": [
    "@script(\n",
    "    image=docker_image_tag,\n",
    "    resources=Resources(cpu_request=2, memory_request=\"8Gi\"),\n",
    "    node_selector={'ga.nodepool': 'a8mv2'},\n",
    "    inputs=Artifact(name='geojson_in', path='/tmp/aoi.geojson'),\n",
    "    outputs=Artifact(name='processed-tile', path='/tmp/processed-month.tif')\n",
    ")\n",
    "def process_month(payload: Dict[str, Any]):\n",
    "    import xarray\n",
    "    import pyproj\n",
    "    import odc.stac\n",
    "    import rioxarray\n",
    "    import pystac_client\n",
    "    import planetary_computer\n",
    "    \n",
    "    import numpy as np\n",
    "    import geopandas as gpd\n",
    "    \n",
    "    from pathlib import Path\n",
    "    from shapely.ops import transform\n",
    "    \n",
    "    gdf = gpd.read_file('/tmp/aoi.geojson')\n",
    "    payload.update({\n",
    "        'geom': gdf.geometry.values[0]\n",
    "    })\n",
    "    \n",
    "    catalog = pystac_client.Client.open(\n",
    "        \"https://planetarycomputer.microsoft.com/api/stac/v1\",\n",
    "        modifier=planetary_computer.sign_inplace,\n",
    "    )\n",
    "\n",
    "    query_time_range = f\"{payload['year']}-{payload['month']}\"\n",
    "    query = catalog.search(\n",
    "        collections=payload['collection'],\n",
    "        intersects=payload['geom'].envelope,\n",
    "        datetime=query_time_range\n",
    "    )\n",
    "    \n",
    "    data = odc.stac.load(\n",
    "        query.items(),\n",
    "        crs=f\"EPSG:{payload['epsg']}\",\n",
    "        bbox=payload['geom'].bounds,\n",
    "        bands=payload['assets'],\n",
    "        resolution=int(payload['resolution']),\n",
    "    )\n",
    "    snow_data = data['NDSI_Snow_Cover']\n",
    "    snow_data = snow_data.where(data <= 100, other=np.nan)\n",
    "\n",
    "    snow_median_data = snow_data.median(\n",
    "                            dim='time',\n",
    "                            skipna=True,\n",
    "                            keep_attrs=True\n",
    "                        )\n",
    "    snow_median_data = snow_median_data.chunk('auto')\n",
    "    \n",
    "    wgs84_poly = payload['geom']\n",
    "    wgs84 = pyproj.CRS('EPSG:4326')\n",
    "    utm = pyproj.CRS(f\"EPSG:{payload['epsg']}\")\n",
    "    projection_op = pyproj.Transformer.from_crs(wgs84, utm, always_xy=True).transform\n",
    "    utm_poly = transform(projection_op, wgs84_poly)\n",
    "    \n",
    "    snow_median_data_clipped = snow_median_data.rio.clip(\n",
    "                                    utm_poly,\n",
    "                                    all_touched=True,\n",
    "                                    drop=True\n",
    "                                )\n",
    "    \n",
    "    snow_median_data_clipped.name = query_time_range\n",
    "    snow_median_data_clipped.attrs['long_name'] = query_time_range\n",
    "    snow_median_data_clipped.rio.to_raster('/tmp/processed-month.tif')\n",
    "    \n",
    "    \n",
    "\n",
    "    "
   ]
  },
  {
   "cell_type": "code",
   "execution_count": 44,
   "id": "9678ba29-4adb-4664-b419-884e69af12a7",
   "metadata": {
    "execution": {
     "iopub.execute_input": "2023-08-22T19:00:35.322460Z",
     "iopub.status.busy": "2023-08-22T19:00:35.321941Z",
     "iopub.status.idle": "2023-08-22T19:00:35.325965Z",
     "shell.execute_reply": "2023-08-22T19:00:35.325282Z",
     "shell.execute_reply.started": "2023-08-22T19:00:35.322432Z"
    }
   },
   "outputs": [],
   "source": [
    "@script(\n",
    "    image=docker_image_tag,\n",
    "    inputs=Artifact(name='processed-aoi', path='/tmp/processed-aoi.tif')\n",
    ")\n",
    "def write_raster_to_cloud_storage():\n",
    "    pass"
   ]
  },
  {
   "cell_type": "markdown",
   "id": "3ecb3c9d-07d3-4650-a98b-d9b4ace51c6f",
   "metadata": {
    "jp-MarkdownHeadingCollapsed": true
   },
   "source": [
    "### NDSI_Snow_Cover Value Map\n",
    "\n",
    "- 0–100: NDSI snow cover\n",
    "- 200: missing data\n",
    "- 201: no decision\n",
    "- 211: night\n",
    "- 237: inland water\n",
    "- 239: ocean\n",
    "- 250: cloud\n",
    "- 254: detector saturated\n",
    "- 255: fill"
   ]
  },
  {
   "cell_type": "markdown",
   "id": "7eb0ab1f-f316-45cd-8125-0d7288d5c3d7",
   "metadata": {},
   "source": [
    "## Main Workflow"
   ]
  },
  {
   "cell_type": "code",
   "execution_count": 45,
   "id": "726b3c1a-eef5-467c-ad2d-70a7aa9d8a92",
   "metadata": {
    "execution": {
     "iopub.execute_input": "2023-08-22T19:00:37.003156Z",
     "iopub.status.busy": "2023-08-22T19:00:37.002360Z",
     "iopub.status.idle": "2023-08-22T19:00:37.007093Z",
     "shell.execute_reply": "2023-08-22T19:00:37.006480Z",
     "shell.execute_reply.started": "2023-08-22T19:00:37.003127Z"
    }
   },
   "outputs": [],
   "source": [
    "# Workflow Configuration Section\n",
    "\n",
    "canada_boundaries_endpoint = 'https://ftp.maps.canada.ca/pub/nrcan_rncan/vector/canvec/shp/Admin/canvec_15M_CA_Admin_shp.zip'\n",
    "target_province = 'British Columbia'\n",
    "\n",
    "catalog_url = 'https://planetarycomputer.microsoft.com/api/stac/v1'\n",
    "collection = 'modis-10A1-061'\n",
    "assets = ['NDSI_Snow_Cover']\n",
    "years = [2018, 2019, 2020]\n",
    "months = [10, 11, 12, 1, 2, 3, 4]\n",
    "epsg = 3005\n",
    "resolution = 500"
   ]
  },
  {
   "cell_type": "code",
   "execution_count": 46,
   "id": "e7942689-18dc-4351-bc39-1c950c1aafea",
   "metadata": {
    "execution": {
     "iopub.execute_input": "2023-08-22T19:00:40.091490Z",
     "iopub.status.busy": "2023-08-22T19:00:40.090820Z",
     "iopub.status.idle": "2023-08-22T19:00:40.099301Z",
     "shell.execute_reply": "2023-08-22T19:00:40.098658Z",
     "shell.execute_reply.started": "2023-08-22T19:00:40.091467Z"
    },
    "tags": []
   },
   "outputs": [],
   "source": [
    "# Workflow \n",
    "with Workflow(\n",
    "    name=\"british-columbia-monthly-snow-average\",\n",
    "    namespace=os.getenv(\"WORKFLOW_NS\"),\n",
    "    entrypoint=\"snowflow\",\n",
    "    parallelism=100,\n",
    ")as wf1:    \n",
    "    with DAG(name='snowflow'):\n",
    "        a = generate_polygon_artifact(\n",
    "                arguments={\n",
    "                    'url': canada_boundaries_endpoint,\n",
    "                    'target_province': target_province\n",
    "                }\n",
    "        )\n",
    "        b = fan_out_temporal_range(\n",
    "                arguments={\n",
    "                    'catalog_url': catalog_url,\n",
    "                    'collection': collection,\n",
    "                    'assets': assets,                               \n",
    "                    'years': years,\n",
    "                    'months': months,\n",
    "                    'epsg': epsg,\n",
    "                    'resolution': resolution\n",
    "                }\n",
    "            )\n",
    "        c = process_month(\n",
    "            arguments=a.get_artifact('geojson_out').as_name('geojson_in'),\n",
    "            with_param=b.result\n",
    "        )\n",
    "        # d = write_raster_to_cloud_storage(\n",
    "        #     arguments=c.get_artifact('processed-tile').as_name('processed-aoi')\n",
    "        # )\n",
    "        \n",
    "        [a, b] >> c"
   ]
  },
  {
   "cell_type": "code",
   "execution_count": 47,
   "id": "aeee2669-5ef0-4213-9da9-ffc9331f723b",
   "metadata": {
    "execution": {
     "iopub.execute_input": "2023-08-22T19:00:42.037177Z",
     "iopub.status.busy": "2023-08-22T19:00:42.036477Z",
     "iopub.status.idle": "2023-08-22T19:00:42.108363Z",
     "shell.execute_reply": "2023-08-22T19:00:42.107748Z",
     "shell.execute_reply.started": "2023-08-22T19:00:42.037152Z"
    },
    "tags": []
   },
   "outputs": [
    {
     "data": {
      "text/plain": [
       "Workflow(api_version=None, kind=None, metadata=ObjectMeta(annotations=None, cluster_name=None, creation_timestamp=Time(__root__=datetime.datetime(2023, 8, 22, 19, 0, 42, tzinfo=datetime.timezone.utc)), deletion_grace_period_seconds=None, deletion_timestamp=None, finalizers=None, generate_name=None, generation=1, labels={'workflows.argoproj.io/creator': 'system-serviceaccount-pipeline-pipeline-argo-workflows-server'}, managed_fields=[ManagedFieldsEntry(api_version='argoproj.io/v1alpha1', fields_type='FieldsV1', fields_v1=FieldsV1(), manager='argo', operation='Update', subresource=None, time=Time(__root__=datetime.datetime(2023, 8, 22, 19, 0, 42, tzinfo=datetime.timezone.utc)))], name='british-columbia-monthly-snow-average', namespace='pipeline', owner_references=None, resource_version='285616914', self_link=None, uid='c8faf740-3646-4064-af61-c9dd915f84d6'), spec=WorkflowSpec(active_deadline_seconds=None, affinity=None, archive_logs=None, arguments=Arguments(artifacts=None, parameters=None), artifact_gc=None, artifact_repository_ref=None, automount_service_account_token=None, dns_config=None, dns_policy=None, entrypoint='snowflow', executor=None, hooks=None, host_aliases=None, host_network=None, image_pull_secrets=None, metrics=None, node_selector=None, on_exit=None, parallelism=100, pod_disruption_budget=None, pod_gc=None, pod_metadata=None, pod_priority=None, pod_priority_class_name=None, pod_spec_patch=None, priority=None, retry_strategy=None, scheduler_name=None, security_context=None, service_account_name=None, shutdown=None, suspend=None, synchronization=None, template_defaults=None, templates=[Template(active_deadline_seconds=None, affinity=None, archive_location=None, automount_service_account_token=None, container=None, container_set=None, daemon=None, dag=DAGTemplate(fail_fast=None, target=None, tasks=[DAGTask(arguments=Arguments(artifacts=None, parameters=[Parameter(default=None, description=None, enum=None, global_name=None, name='url', value='https://ftp.maps.canada.ca/pub/nrcan_rncan/vector/canvec/shp/Admin/canvec_15M_CA_Admin_shp.zip', value_from=None), Parameter(default=None, description=None, enum=None, global_name=None, name='target_province', value='British Columbia', value_from=None)]), continue_on=None, dependencies=None, depends=None, hooks=None, inline=None, name='generate-polygon-artifact', on_exit=None, template='generate-polygon-artifact', template_ref=None, when=None, with_items=None, with_param=None, with_sequence=None), DAGTask(arguments=Arguments(artifacts=None, parameters=[Parameter(default=None, description=None, enum=None, global_name=None, name='catalog_url', value='https://planetarycomputer.microsoft.com/api/stac/v1', value_from=None), Parameter(default=None, description=None, enum=None, global_name=None, name='collection', value='modis-10A1-061', value_from=None), Parameter(default=None, description=None, enum=None, global_name=None, name='assets', value='[\"NDSI_Snow_Cover\"]', value_from=None), Parameter(default=None, description=None, enum=None, global_name=None, name='years', value='[2018, 2019, 2020]', value_from=None), Parameter(default=None, description=None, enum=None, global_name=None, name='months', value='[10, 11, 12, 1, 2, 3, 4]', value_from=None), Parameter(default=None, description=None, enum=None, global_name=None, name='epsg', value='3005', value_from=None), Parameter(default=None, description=None, enum=None, global_name=None, name='resolution', value='500', value_from=None)]), continue_on=None, dependencies=None, depends=None, hooks=None, inline=None, name='fan-out-temporal-range', on_exit=None, template='fan-out-temporal-range', template_ref=None, when=None, with_items=None, with_param=None, with_sequence=None), DAGTask(arguments=Arguments(artifacts=[Artifact(archive=None, archive_logs=None, artifact_gc=None, artifactory=None, azure=None, deleted=None, from_='{{tasks.generate-polygon-artifact.outputs.artifacts.geojson_out}}', from_expression=None, gcs=None, git=None, global_name=None, hdfs=None, http=None, mode=None, name='geojson_in', optional=None, oss=None, path='/tmp/aoi.geojson', raw=None, recurse_mode=None, s3=None, sub_path=None)], parameters=[Parameter(default=None, description=None, enum=None, global_name=None, name='payload', value='{{item}}', value_from=None)]), continue_on=None, dependencies=None, depends='generate-polygon-artifact && fan-out-temporal-range', hooks=None, inline=None, name='process-month', on_exit=None, template='process-month', template_ref=None, when=None, with_items=None, with_param='{{tasks.fan-out-temporal-range.outputs.result}}', with_sequence=None)]), data=None, executor=None, fail_fast=None, host_aliases=None, http=None, init_containers=None, inputs=Inputs(artifacts=None, parameters=None), memoize=None, metadata=Metadata(annotations=None, labels=None), metrics=None, name='snowflow', node_selector=None, outputs=Outputs(artifacts=None, exit_code=None, parameters=None, result=None), parallelism=None, plugin=None, pod_spec_patch=None, priority=None, priority_class_name=None, resource=None, retry_strategy=None, scheduler_name=None, script=None, security_context=None, service_account_name=None, sidecars=None, steps=None, suspend=None, synchronization=None, timeout=None, tolerations=None, volumes=None), Template(active_deadline_seconds=None, affinity=None, archive_location=None, automount_service_account_token=None, container=None, container_set=None, daemon=None, dag=None, data=None, executor=None, fail_fast=None, host_aliases=None, http=None, init_containers=None, inputs=Inputs(artifacts=None, parameters=[Parameter(default=None, description=None, enum=None, global_name=None, name='url', value=None, value_from=None), Parameter(default=None, description=None, enum=None, global_name=None, name='target_province', value=None, value_from=None)]), memoize=None, metadata=Metadata(annotations=None, labels=None), metrics=None, name='generate-polygon-artifact', node_selector=None, outputs=Outputs(artifacts=[Artifact(archive=None, archive_logs=None, artifact_gc=None, artifactory=None, azure=None, deleted=None, from_=None, from_expression=None, gcs=None, git=None, global_name=None, hdfs=None, http=None, mode=None, name='geojson_out', optional=None, oss=None, path='/tmp/aoi.geojson', raw=None, recurse_mode=None, s3=None, sub_path=None)], exit_code=None, parameters=None, result=None), parallelism=None, plugin=None, pod_spec_patch=None, priority=None, priority_class_name=None, resource=None, retry_strategy=None, scheduler_name=None, script=ScriptTemplate(args=None, command=['python'], env=None, env_from=None, image='registry.eo4ph.geoanalytics.ca/tutorial/snow-cover:0.1.1', image_pull_policy=None, lifecycle=None, liveness_probe=None, name='', ports=None, readiness_probe=None, resources=ResourceRequirements(limits=None, requests={'cpu': Quantity(__root__='100m'), 'memory': Quantity(__root__='512Mi')}), security_context=None, source=\"import os\\nimport sys\\nsys.path.append(os.getcwd())\\nimport json\\ntry: target_province = json.loads(r'''{{inputs.parameters.target_province}}''')\\nexcept: target_province = r'''{{inputs.parameters.target_province}}'''\\ntry: url = json.loads(r'''{{inputs.parameters.url}}''')\\nexcept: url = r'''{{inputs.parameters.url}}'''\\n\\nimport io\\nimport os\\nimport sys\\nimport json\\nimport requests\\nimport zipfile\\nimport geopandas as gpd\\nfrom glob import glob\\nfrom shapely.geometry import Polygon, MultiPolygon\\nos.makedirs('/tmp/canvec')\\nres = requests.get(url)\\nwith zipfile.ZipFile(io.BytesIO(res.content), 'r') as zf:\\n    zf.extractall(path='/tmp/canvec')\\nshp_file = glob('/tmp/canvec/**/*geo_pol*_2.shp')[0]\\ngdf = gpd.read_file(shp_file)\\ntgt_col = 'juri_en'\\nbc_all = gdf[gdf[tgt_col] == target_province]\\nmp = MultiPolygon([poly for poly in bc_all.geometry.values.tolist() if isinstance(poly, Polygon)])\\nbc = gpd.GeoDataFrame(data={'geom': [mp]})\\nbc = bc.set_geometry('geom')\\nbc.to_file('/tmp/aoi.geojson', driver='GeoJSON')\", startup_probe=None, stdin=None, stdin_once=None, termination_message_path=None, termination_message_policy=None, tty=None, volume_devices=None, volume_mounts=None, working_dir=None), security_context=None, service_account_name=None, sidecars=None, steps=None, suspend=None, synchronization=None, timeout=None, tolerations=None, volumes=None), Template(active_deadline_seconds=None, affinity=None, archive_location=None, automount_service_account_token=None, container=None, container_set=None, daemon=None, dag=None, data=None, executor=None, fail_fast=None, host_aliases=None, http=None, init_containers=None, inputs=Inputs(artifacts=None, parameters=[Parameter(default=None, description=None, enum=None, global_name=None, name='catalog_url', value=None, value_from=None), Parameter(default=None, description=None, enum=None, global_name=None, name='collection', value=None, value_from=None), Parameter(default=None, description=None, enum=None, global_name=None, name='assets', value=None, value_from=None), Parameter(default=None, description=None, enum=None, global_name=None, name='years', value=None, value_from=None), Parameter(default=None, description=None, enum=None, global_name=None, name='months', value=None, value_from=None), Parameter(default=None, description=None, enum=None, global_name=None, name='epsg', value=None, value_from=None), Parameter(default=None, description=None, enum=None, global_name=None, name='resolution', value=None, value_from=None)]), memoize=None, metadata=Metadata(annotations=None, labels=None), metrics=None, name='fan-out-temporal-range', node_selector=None, outputs=Outputs(artifacts=None, exit_code=None, parameters=None, result=None), parallelism=None, plugin=None, pod_spec_patch=None, priority=None, priority_class_name=None, resource=None, retry_strategy=None, scheduler_name=None, script=ScriptTemplate(args=None, command=['python'], env=None, env_from=None, image='registry.eo4ph.geoanalytics.ca/tutorial/snow-cover:0.1.1', image_pull_policy=None, lifecycle=None, liveness_probe=None, name='', ports=None, readiness_probe=None, resources=ResourceRequirements(limits=None, requests={'cpu': Quantity(__root__='100m'), 'memory': Quantity(__root__='128Mi')}), security_context=None, source=\"import os\\nimport sys\\nsys.path.append(os.getcwd())\\nimport json\\ntry: assets = json.loads(r'''{{inputs.parameters.assets}}''')\\nexcept: assets = r'''{{inputs.parameters.assets}}'''\\ntry: catalog_url = json.loads(r'''{{inputs.parameters.catalog_url}}''')\\nexcept: catalog_url = r'''{{inputs.parameters.catalog_url}}'''\\ntry: collection = json.loads(r'''{{inputs.parameters.collection}}''')\\nexcept: collection = r'''{{inputs.parameters.collection}}'''\\ntry: epsg = json.loads(r'''{{inputs.parameters.epsg}}''')\\nexcept: epsg = r'''{{inputs.parameters.epsg}}'''\\ntry: months = json.loads(r'''{{inputs.parameters.months}}''')\\nexcept: months = r'''{{inputs.parameters.months}}'''\\ntry: resolution = json.loads(r'''{{inputs.parameters.resolution}}''')\\nexcept: resolution = r'''{{inputs.parameters.resolution}}'''\\ntry: years = json.loads(r'''{{inputs.parameters.years}}''')\\nexcept: years = r'''{{inputs.parameters.years}}'''\\n\\nimport json\\nimport sys\\nfrom datetime import datetime\\nfor year in years:\\n    if year < 2000:\\n        raise ValueError(f'MODIS collection starts at 02/24/2000: Error {start_year}')\\n    elif year > int(datetime.now().strftime('%Y')):\\n        raise ValueError(f'Cannot query future: Error {end_year}')\\n    else:\\n        pass\\nfor month in months:\\n    if month < 1 or month > 12:\\n        raise ValueError(f'Month range is from 1 to 12, inclusive: Error: {start_month}')\\ntemporal_range = []\\nfor year in years:\\n    for month in months:\\n        if month < 10:\\n            month = f'0{month}'\\n        payload = {'catalog_url': catalog_url, 'collection': collection, 'assets': assets, 'year': year, 'month': month, 'epsg': epsg, 'resolution': resolution}\\n        temporal_range.append(payload)\\njson.dump(temporal_range, sys.stdout)\", startup_probe=None, stdin=None, stdin_once=None, termination_message_path=None, termination_message_policy=None, tty=None, volume_devices=None, volume_mounts=None, working_dir=None), security_context=None, service_account_name=None, sidecars=None, steps=None, suspend=None, synchronization=None, timeout=None, tolerations=None, volumes=None), Template(active_deadline_seconds=None, affinity=None, archive_location=None, automount_service_account_token=None, container=None, container_set=None, daemon=None, dag=None, data=None, executor=None, fail_fast=None, host_aliases=None, http=None, init_containers=None, inputs=Inputs(artifacts=[Artifact(archive=None, archive_logs=None, artifact_gc=None, artifactory=None, azure=None, deleted=None, from_=None, from_expression=None, gcs=None, git=None, global_name=None, hdfs=None, http=None, mode=None, name='geojson_in', optional=None, oss=None, path='/tmp/aoi.geojson', raw=None, recurse_mode=None, s3=None, sub_path=None)], parameters=[Parameter(default=None, description=None, enum=None, global_name=None, name='payload', value=None, value_from=None)]), memoize=None, metadata=Metadata(annotations=None, labels=None), metrics=None, name='process-month', node_selector={'ga.nodepool': 'a8mv2'}, outputs=Outputs(artifacts=[Artifact(archive=None, archive_logs=None, artifact_gc=None, artifactory=None, azure=None, deleted=None, from_=None, from_expression=None, gcs=None, git=None, global_name=None, hdfs=None, http=None, mode=None, name='processed-tile', optional=None, oss=None, path='/tmp/processed-month.tif', raw=None, recurse_mode=None, s3=None, sub_path=None)], exit_code=None, parameters=None, result=None), parallelism=None, plugin=None, pod_spec_patch=None, priority=None, priority_class_name=None, resource=None, retry_strategy=None, scheduler_name=None, script=ScriptTemplate(args=None, command=['python'], env=None, env_from=None, image='registry.eo4ph.geoanalytics.ca/tutorial/snow-cover:0.1.1', image_pull_policy=None, lifecycle=None, liveness_probe=None, name='', ports=None, readiness_probe=None, resources=ResourceRequirements(limits=None, requests={'cpu': Quantity(__root__='2'), 'memory': Quantity(__root__='8Gi')}), security_context=None, source='import os\\nimport sys\\nsys.path.append(os.getcwd())\\nimport json\\ntry: payload = json.loads(r\\'\\'\\'{{inputs.parameters.payload}}\\'\\'\\')\\nexcept: payload = r\\'\\'\\'{{inputs.parameters.payload}}\\'\\'\\'\\n\\nimport xarray\\nimport pyproj\\nimport odc.stac\\nimport rioxarray\\nimport pystac_client\\nimport planetary_computer\\nimport numpy as np\\nimport geopandas as gpd\\nfrom pathlib import Path\\nfrom shapely.ops import transform\\ngdf = gpd.read_file(\\'/tmp/aoi.geojson\\')\\npayload.update({\\'geom\\': gdf.geometry.values[0]})\\ncatalog = pystac_client.Client.open(\\'https://planetarycomputer.microsoft.com/api/stac/v1\\', modifier=planetary_computer.sign_inplace)\\nquery_time_range = f\"{payload[\\'year\\']}-{payload[\\'month\\']}\"\\nquery = catalog.search(collections=payload[\\'collection\\'], intersects=payload[\\'geom\\'].envelope, datetime=query_time_range)\\ndata = odc.stac.load(query.items(), crs=f\"EPSG:{payload[\\'epsg\\']}\", bbox=payload[\\'geom\\'].bounds, bands=payload[\\'assets\\'], resolution=int(payload[\\'resolution\\']))\\nsnow_data = data[\\'NDSI_Snow_Cover\\']\\nsnow_data = snow_data.where(data <= 100, other=np.nan)\\nsnow_median_data = snow_data.median(dim=\\'time\\', skipna=True, keep_attrs=True)\\nsnow_median_data = snow_median_data.chunk(\\'auto\\')\\nwgs84_poly = payload[\\'geom\\']\\nwgs84 = pyproj.CRS(\\'EPSG:4326\\')\\nutm = pyproj.CRS(f\"EPSG:{payload[\\'epsg\\']}\")\\nprojection_op = pyproj.Transformer.from_crs(wgs84, utm, always_xy=True).transform\\nutm_poly = transform(projection_op, wgs84_poly)\\nsnow_median_data_clipped = snow_median_data.rio.clip(utm_poly, all_touched=True, drop=True)\\nsnow_median_data_clipped.name = query_time_range\\nsnow_median_data_clipped.attrs[\\'long_name\\'] = query_time_range\\nsnow_median_data_clipped.rio.to_raster(\\'/tmp/processed-month.tif\\')', startup_probe=None, stdin=None, stdin_once=None, termination_message_path=None, termination_message_policy=None, tty=None, volume_devices=None, volume_mounts=None, working_dir=None), security_context=None, service_account_name=None, sidecars=None, steps=None, suspend=None, synchronization=None, timeout=None, tolerations=None, volumes=None)], tolerations=None, ttl_strategy=None, volume_claim_gc=None, volume_claim_templates=None, volumes=None, workflow_metadata=None, workflow_template_ref=None), status=WorkflowStatus(artifact_gc_status=None, artifact_repository_ref=None, compressed_nodes=None, conditions=None, estimated_duration=None, finished_at=None, message=None, nodes=None, offload_node_status_version=None, outputs=None, persistent_volume_claims=None, phase=None, progress=None, resources_duration=None, started_at=None, stored_templates=None, stored_workflow_template_spec=None, synchronization=None))"
      ]
     },
     "execution_count": 47,
     "metadata": {},
     "output_type": "execute_result"
    }
   ],
   "source": [
    "wf1.create()"
   ]
  },
  {
   "cell_type": "code",
   "execution_count": null,
   "id": "3d375fdc-d2d1-484c-a13c-dd8f1920f135",
   "metadata": {},
   "outputs": [],
   "source": []
  },
  {
   "cell_type": "code",
   "execution_count": null,
   "id": "3f09cfd2-760f-4fd4-a291-5661f685e666",
   "metadata": {},
   "outputs": [],
   "source": []
  }
 ],
 "metadata": {
  "kernelspec": {
   "display_name": "Python 3 (ipykernel)",
   "language": "python",
   "name": "python3"
  },
  "language_info": {
   "codemirror_mode": {
    "name": "ipython",
    "version": 3
   },
   "file_extension": ".py",
   "mimetype": "text/x-python",
   "name": "python",
   "nbconvert_exporter": "python",
   "pygments_lexer": "ipython3",
   "version": "3.10.12"
  }
 },
 "nbformat": 4,
 "nbformat_minor": 5
}
