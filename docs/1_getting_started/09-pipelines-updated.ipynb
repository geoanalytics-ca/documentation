{
 "cells": [
  {
   "attachments": {},
   "cell_type": "markdown",
   "id": "9dd65bc4",
   "metadata": {},
   "source": [
    "# Pipelines\n",
    "\n",
    "The GeoAnalytics Canada Pipeline system helps with developing and building \n",
    "portable, scalable Earth Observation pre-processing pipelines and machine \n",
    "learning (ML) workflows based on Docker containers.\n",
    "The underlying system uses Argo Workflows and the Argo Project documentation\n",
    "can be useful in debugging/expanding the pipelines functionality. \n",
    "\n",
    "**The Pipelines platform consists of:**\n",
    "\n",
    "* A UI for managing and tracking pipelines and their execution.\n",
    "* An engine for scheduling a pipeline’s execution\n",
    "* An SDK for defining, building, and deploying pipelines in Python. \n",
    "* The SDK we use is the \n",
    "* [Hera python library](https://https://hera-workflows.readthedocs.io).\n",
    "\n",
    "A pipeline is a representation of a workflow containing the parameters required \n",
    "to run the workflow and the inputs and outputs of each component. \n",
    "Each pipeline component is a self-contained code block, packaged as a Docker image.\n",
    "\n",
    "A Workflow can also leverage GEOAnalytics Canada's Cloud Storage as an \n",
    "Artifact store to share artifacts between Tasks/Steps. \n"
   ]
  },
  {
   "cell_type": "code",
   "execution_count": 8,
   "id": "f9983489-bb07-4092-9651-f4cf7e70187b",
   "metadata": {
    "execution": {
     "iopub.execute_input": "2023-05-17T03:43:10.981219Z",
     "iopub.status.busy": "2023-05-17T03:43:10.980345Z",
     "iopub.status.idle": "2023-05-17T03:43:10.986337Z",
     "shell.execute_reply": "2023-05-17T03:43:10.985104Z",
     "shell.execute_reply.started": "2023-05-17T03:43:10.981173Z"
    },
    "tags": []
   },
   "outputs": [],
   "source": [
    "# Import the required libraries \n",
    "\n",
    "import os\n",
    "\n",
    "from hera.shared import global_config\n",
    "from hera.workflows import Container, Workflow, Steps"
   ]
  },
  {
   "attachments": {},
   "cell_type": "markdown",
   "id": "563f46a5",
   "metadata": {},
   "source": [
    "### Configuration\n",
    "\n",
    "Setting some global values within the notebook helps keep the workflow easier to\n",
    "update to different Container Registries, Containers, and Images. "
   ]
  },
  {
   "cell_type": "code",
   "execution_count": 9,
   "id": "cc78f93c-982b-402b-8625-5184e78e1b2f",
   "metadata": {
    "execution": {
     "iopub.execute_input": "2023-05-17T03:43:12.077308Z",
     "iopub.status.busy": "2023-05-17T03:43:12.076845Z",
     "iopub.status.idle": "2023-05-17T03:43:12.081501Z",
     "shell.execute_reply": "2023-05-17T03:43:12.080570Z",
     "shell.execute_reply.started": "2023-05-17T03:43:12.077270Z"
    },
    "tags": []
   },
   "outputs": [],
   "source": [
    "# CONFIG\n",
    "# -------------------------\n",
    "CR_URL=\"someregistry.domain.com\"\n",
    "IMG_LABEL=\"repository/imagename\"\n",
    "TAG_LABEL=\"0.1.0\"\n",
    "IMG_TAG=f\"{CR_URL}/{IMG_LABEL}:{TAG_LABEL}\"\n",
    "# -------------------------"
   ]
  },
  {
   "attachments": {},
   "cell_type": "markdown",
   "id": "3d0fa3d1",
   "metadata": {},
   "source": [
    "### Setting Up The Workflow\n",
    "\n",
    "The next Cell implements a template of how a single-step Workflow would be\n",
    "implemented. \n",
    "This Workflow is created with a single Container which is then executed \n",
    "during the Steps procedure within the Workflow. "
   ]
  },
  {
   "cell_type": "code",
   "execution_count": 10,
   "id": "d87b4699-54a5-4018-ad1e-e5d338c2da7d",
   "metadata": {
    "execution": {
     "iopub.execute_input": "2023-05-17T03:43:13.242977Z",
     "iopub.status.busy": "2023-05-17T03:43:13.242118Z",
     "iopub.status.idle": "2023-05-17T03:43:13.249358Z",
     "shell.execute_reply": "2023-05-17T03:43:13.248530Z",
     "shell.execute_reply.started": "2023-05-17T03:43:13.242943Z"
    },
    "tags": []
   },
   "outputs": [],
   "source": [
    "global_config.api_version = \"argoproj.io/v1\"\n",
    "global_config.host = os.getenv('PIPELINE_HOST')\n",
    "\n",
    "with Workflow(\n",
    "    name='nameofworkflow'.lower(),\n",
    "    namespace=os.getenv('PIPELINE_NS'),\n",
    "    entrypoint='name-of-entry-task-step',\n",
    "    parallelism=1, # Number of tasks to run in parallel\n",
    ") as w:\n",
    "    t = Container(\n",
    "    name='unique-container-name',\n",
    "    image=f'{IMG_TAG}',\n",
    "    command=[\"sh\", \"./entrypoint.sh\"], # \n",
    ")\n",
    "\n",
    "    with Steps(name=\"name-of-step-template\"):\n",
    "        t(name=\"name-of-task-step\")\n"
   ]
  },
  {
   "attachments": {},
   "cell_type": "markdown",
   "id": "7714253f",
   "metadata": {},
   "source": [
    "### Running a Workflow\n",
    "\n",
    "Here we set "
   ]
  },
  {
   "cell_type": "code",
   "execution_count": null,
   "id": "3a942222",
   "metadata": {},
   "outputs": [],
   "source": [
    "# CONFIG\n",
    "# -------------------------\n",
    "CR_URL=\"docker.io\"\n",
    "IMG_LABEL=\"docker/whalesay\"\n",
    "TAG_LABEL=\"latest\"\n",
    "IMG_TAG=f\"{CR_URL}/{IMG_LABEL}:{TAG_LABEL}\"\n",
    "# -------------------------\n",
    "\n",
    "global_config.api_version = \"argoproj.io/v1\"\n",
    "global_config.host = os.getenv('PIPELINE_HOST')\n",
    "\n",
    "with Workflow(\n",
    "    name='whales-can-talk'.lower(),\n",
    "    namespace=os.getenv('PIPELINE_NS'),\n",
    "    entrypoint='whalesay-docker',\n",
    "    parallelism=1, # Number of tasks to run in parallel\n",
    ") as w:\n",
    "    t = Container(\n",
    "    name='whalesay-docker',\n",
    "    image=IMG_TAG,\n",
    "    command=[\"cowsay\"],\n",
    "    args=['Hi!']\n",
    ")\n"
   ]
  },
  {
   "attachments": {},
   "cell_type": "markdown",
   "id": "97827a0a",
   "metadata": {},
   "source": [
    "#### Submitting A Workflow to Pipelines\n",
    "\n",
    "All that is left to do to submit your workflow, is to run the `.create()` \n",
    "method on the workflow object. \n",
    "This uses the GEOAnalytics Canada preconfigured backend settings to ensure \n",
    "your workflows are submitted with the correct permissions and security. "
   ]
  },
  {
   "cell_type": "code",
   "execution_count": null,
   "id": "d7d15704-ef6c-4c8d-914e-0abe3c2c0223",
   "metadata": {
    "execution": {
     "iopub.execute_input": "2023-05-17T03:43:15.304177Z",
     "iopub.status.busy": "2023-05-17T03:43:15.303534Z",
     "iopub.status.idle": "2023-05-17T03:43:15.344254Z",
     "shell.execute_reply": "2023-05-17T03:43:15.343509Z",
     "shell.execute_reply.started": "2023-05-17T03:43:15.304147Z"
    },
    "tags": []
   },
   "outputs": [],
   "source": [
    "w.create()"
   ]
  },
  {
   "attachments": {},
   "cell_type": "markdown",
   "id": "c2ebe937",
   "metadata": {},
   "source": [
    "#### Inspect Workflow\n",
    "\n",
    "You can inspect portions of your workflow by leveraging the \n",
    "`IPython.display.JSON` widget. \n",
    "Some parameters may be missing - there are some defaults that are \n",
    "intserted by the Workflow Controller that enable the workflow to execute\n",
    "in the GEOAnalytics Platform. "
   ]
  },
  {
   "cell_type": "code",
   "execution_count": null,
   "id": "4d009558-3074-40d3-b275-571a5204cd83",
   "metadata": {
    "execution": {
     "iopub.execute_input": "2023-05-17T03:43:45.258730Z",
     "iopub.status.busy": "2023-05-17T03:43:45.257953Z",
     "iopub.status.idle": "2023-05-17T03:43:45.264296Z",
     "shell.execute_reply": "2023-05-17T03:43:45.263587Z",
     "shell.execute_reply.started": "2023-05-17T03:43:45.258700Z"
    },
    "tags": []
   },
   "outputs": [],
   "source": [
    "from IPython.display import JSON\n",
    "JSON(w.to_dict())"
   ]
  },
  {
   "attachments": {},
   "cell_type": "markdown",
   "id": "154484ee",
   "metadata": {},
   "source": [
    "#### References\n",
    "\n",
    "- [Argo Workflows](https://argoproj.github.io/argo-workflows/) - The Pipelines underlying tool: Argo Workflows\n",
    "- [hera API Reference](https://hera-workflows.readthedocs.io/en/latest/api/shared/) - API documentation for `hera` library\n",
    "- [hera GitHub](https://github.com/argoproj-labs/hera) - Source code for `hera`"
   ]
  }
 ],
 "metadata": {
  "kernelspec": {
   "display_name": "Python 3 (ipykernel)",
   "language": "python",
   "name": "python3"
  },
  "language_info": {
   "codemirror_mode": {
    "name": "ipython",
    "version": 3
   },
   "file_extension": ".py",
   "mimetype": "text/x-python",
   "name": "python",
   "nbconvert_exporter": "python",
   "pygments_lexer": "ipython3",
   "version": "3.10.11"
  }
 },
 "nbformat": 4,
 "nbformat_minor": 5
}
