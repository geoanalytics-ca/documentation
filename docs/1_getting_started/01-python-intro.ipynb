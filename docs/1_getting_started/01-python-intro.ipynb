{
 "cells": [
  {
   "cell_type": "markdown",
   "id": "0da732aa",
   "metadata": {},
   "source": [
    "# **Introduction to Python**\n",
    "\n",
    "Welcome to this Introduction to Python tutorial where we will cover a review on Python basics, and an introduction to Pandas, Geopandas, and plotting with Matplotlib."
   ]
  },
  {
   "cell_type": "markdown",
   "id": "8064ef3c",
   "metadata": {},
   "source": [
    "## 1. Python Basics"
   ]
  },
  {
   "cell_type": "markdown",
   "id": "8e373bc0",
   "metadata": {},
   "source": [
    "*PEP 8 is a coding style guide for Python. Using PEP 8 can help standardize the way you write your code, making it easier to review. For more information on the PEP 8 coding style guide: https://www.python.org/dev/peps/pep-0008/*"
   ]
  },
  {
   "cell_type": "markdown",
   "id": "6fa92500",
   "metadata": {},
   "source": [
    "### 1.1 Data Types and Variables\n",
    "Every value (also known as an *object*) has a data type. There are many different data types in Python; three of the most common ones are: integers (**int**), float-point numbers (**float**), and strings (**str**). Variables are used to store these values. Let's create a variable called `phrase` and assign a string value to it. "
   ]
  },
  {
   "cell_type": "code",
   "execution_count": 2,
   "id": "270eb674",
   "metadata": {},
   "outputs": [],
   "source": [
    "phrase = \"Hello World\""
   ]
  },
  {
   "cell_type": "markdown",
   "id": "4ad502e1",
   "metadata": {},
   "source": [
    "Python's `print()` statement allows you view the contents of the variable."
   ]
  },
  {
   "cell_type": "code",
   "execution_count": 3,
   "id": "2493384d",
   "metadata": {},
   "outputs": [
    {
     "name": "stdout",
     "output_type": "stream",
     "text": [
      "Hello World\n"
     ]
    }
   ],
   "source": [
    "print(phrase)"
   ]
  },
  {
   "cell_type": "markdown",
   "id": "faafe3c7",
   "metadata": {},
   "source": [
    "Now let's create a new variable of the same data type and concatenate it to the end of the phrase."
   ]
  },
  {
   "cell_type": "code",
   "execution_count": 4,
   "id": "13e95693",
   "metadata": {},
   "outputs": [
    {
     "name": "stdout",
     "output_type": "stream",
     "text": [
      "Hello World!\n"
     ]
    }
   ],
   "source": [
    "exl = \"!\"\n",
    "print(phrase + exl)"
   ]
  },
  {
   "cell_type": "markdown",
   "id": "2b002b3c",
   "metadata": {},
   "source": [
    "This worked because both *variables* are assigned *objects* that are *strings* ('str'). To combine or perform other operations on variables with different data types we must cast them into the same data type."
   ]
  },
  {
   "cell_type": "code",
   "execution_count": 10,
   "id": "f18fb094",
   "metadata": {},
   "outputs": [
    {
     "name": "stdout",
     "output_type": "stream",
     "text": [
      "Hello World! 123\n"
     ]
    }
   ],
   "source": [
    "num = 123  # here we create a integer variable\n",
    "# We can convert the num into a string as to print it as a sentence!\n",
    "str_num = str(num)\n",
    "print(phrase + exl + ' ' + str_num)"
   ]
  },
  {
   "cell_type": "markdown",
   "id": "f5c570ac",
   "metadata": {},
   "source": [
    "To check an object's data type, you can use the Python builtin function `type()`. The `print(f'...{<input>}`) method is a convenient way of displaying messages and results in the same line."
   ]
  },
  {
   "cell_type": "code",
   "execution_count": 5,
   "id": "201dd272",
   "metadata": {},
   "outputs": [
    {
     "name": "stdout",
     "output_type": "stream",
     "text": [
      "True is of type: <class 'bool'>\n",
      "123 is of type: <class 'int'>\n",
      "1.23 is of type: <class 'float'>\n",
      "`word` is of type: <class 'str'>\n"
     ]
    }
   ],
   "source": [
    "print(f'True is of type: {type(True)}')\n",
    "print(f'123 is of type: {type(123)}')\n",
    "print(f'1.23 is of type: {type(1.23)}')\n",
    "print(f'`word` is of type: {type(\"word\")}')"
   ]
  },
  {
   "cell_type": "markdown",
   "id": "10897ac1",
   "metadata": {},
   "source": [
    "### 1.2 Collections (Lists, Tuples, and Dictionaries)\n",
    "**Pythonic Lists** store a series of mutable items in a particular order. You access items using an index, or within a loop. They help by keeping related data within the same structure so the same operations can be performed on many values at the same time.\n",
    "\n",
    "Here are a few ways to initialize lists in Python."
   ]
  },
  {
   "cell_type": "code",
   "execution_count": 18,
   "id": "37749771",
   "metadata": {},
   "outputs": [
    {
     "name": "stdout",
     "output_type": "stream",
     "text": [
      "[1.2, 1.24, 1.59, 5.43, 2.99]\n",
      "[1, 2, 3, 4, 5]\n",
      "Combined list [1.2, 1.24, 1.59, 5.43, 2.99, 1, 2, 3, 4, 5]\n",
      "Nested list [[1.2, 1.24, 1.59, 5.43, 2.99], [1, 2, 3, 4, 5]]\n"
     ]
    }
   ],
   "source": [
    "# Lists have items separated by commas. Square brackets frame the outside.\n",
    "list1 = [1.2, 1.24, 1.59, 5.43, 2.99]\n",
    "print(list1)\n",
    "# Python's list() function creates a list within the parameter values.\n",
    "list2 = list((1, 2, 3, 4, 5))\n",
    "print(list2)\n",
    "# You can also combine the lists, or create nested lists as such:\n",
    "combined = list1 + list2\n",
    "print(f'Combined list {combined}')\n",
    "nested = [list1, list2]\n",
    "print(f'Nested list {nested}')"
   ]
  },
  {
   "cell_type": "markdown",
   "id": "9fe91696",
   "metadata": {},
   "source": [
    "Items can be added and removed from a list. To add an item, the `.append(<item>)` function can be used to add the item to the end of an existing list, or `.insert(<index>, <item>)` can add the item at a specified index. *Remember, indexes in Python start at 0 not 1!*"
   ]
  },
  {
   "cell_type": "code",
   "execution_count": 15,
   "id": "7b99ea5b",
   "metadata": {},
   "outputs": [
    {
     "name": "stdout",
     "output_type": "stream",
     "text": [
      "['a', 'i', 'o']\n",
      "['a', 'i', 'o', 'u']\n",
      "['a', 'e', 'i', 'o', 'u']\n"
     ]
    }
   ],
   "source": [
    "vowels = ['a', 'i', 'o']\n",
    "print(vowels)\n",
    "# now let's add the vowel 'u' to the end of the list:\n",
    "vowels.append('u')\n",
    "print(vowels)\n",
    "# let's add in the vowel 'e' between 'a' (index 0) and 'i'\n",
    "vowels.insert(1, 'e')\n",
    "print(vowels)"
   ]
  },
  {
   "cell_type": "markdown",
   "id": "5a4149bc",
   "metadata": {},
   "source": [
    "To remove a specific item from the list, the `.remove(<item>)` function works well. If you want to remove the last item from a list `.pop()` does that! There is also a `del` keyword that deletes the item at the specified index, or even the entire list."
   ]
  },
  {
   "cell_type": "code",
   "execution_count": 17,
   "id": "37a11281",
   "metadata": {},
   "outputs": [
    {
     "name": "stdout",
     "output_type": "stream",
     "text": [
      "['pizza', 'pasta', 'burger', 'pie', 'waffles', 'cake']\n",
      "['pizza', 'pasta', 'burger', 'waffles', 'cake']\n",
      "['pizza', 'pasta', 'burger', 'waffles']\n",
      "['pizza', 'pasta', 'waffles']\n"
     ]
    }
   ],
   "source": [
    "menu = ['pizza', 'pasta', 'burger', 'pie', 'waffles', 'cake']\n",
    "print(menu)\n",
    "# Let's remove 'pie', 'cake', and 'burger' off the menu list\n",
    "menu.remove('pie')\n",
    "print(menu)\n",
    "\n",
    "menu.pop()  # removing the last item -> 'cake'\n",
    "print(menu)\n",
    "\n",
    "del menu[2]  # deleting item at index 2 -> 'burger'\n",
    "print(menu)"
   ]
  },
  {
   "cell_type": "markdown",
   "id": "8f3488fc",
   "metadata": {},
   "source": [
    "Values within a list can be changed like this:"
   ]
  },
  {
   "cell_type": "code",
   "execution_count": 9,
   "id": "f1a89b82",
   "metadata": {},
   "outputs": [
    {
     "name": "stdout",
     "output_type": "stream",
     "text": [
      "['pizza', 'ice cream', 'waffles']\n"
     ]
    }
   ],
   "source": [
    "menu[1] = 'ice cream'\n",
    "print(menu)"
   ]
  },
  {
   "cell_type": "markdown",
   "id": "c74e829d",
   "metadata": {},
   "source": [
    "Python contains many builtin functions such as `len(<list>)` which returns the length of a list, and `.sort()` which sorts a list."
   ]
  },
  {
   "cell_type": "code",
   "execution_count": 19,
   "id": "87c08875",
   "metadata": {},
   "outputs": [
    {
     "name": "stdout",
     "output_type": "stream",
     "text": [
      "[1.2, 2.3, 4.2, 4.5, 3.7]\n",
      "Sorted: [1.2, 2.3, 3.7, 4.2, 4.5]\n",
      "List length: 5\n"
     ]
    }
   ],
   "source": [
    "floats = [1.2, 2.3, 4.2, 4.5, 3.7]\n",
    "print(floats)\n",
    "floats.sort()  # sorts the values in place\n",
    "print(f'Sorted: {floats}')\n",
    "length_of_list = len(floats)  # length of the list\n",
    "print(f'List length: {length_of_list}')"
   ]
  },
  {
   "cell_type": "markdown",
   "id": "77ab27d9",
   "metadata": {},
   "source": [
    "Lists can be susbset. Let's subset the sorted float list to only show the last three items."
   ]
  },
  {
   "cell_type": "code",
   "execution_count": 11,
   "id": "c260d655",
   "metadata": {},
   "outputs": [
    {
     "data": {
      "text/plain": [
       "[3.7, 4.2, 4.5]"
      ]
     },
     "execution_count": 11,
     "metadata": {},
     "output_type": "execute_result"
    }
   ],
   "source": [
    "floats[2:]"
   ]
  },
  {
   "cell_type": "code",
   "execution_count": 20,
   "id": "7b829869",
   "metadata": {},
   "outputs": [
    {
     "data": {
      "text/plain": [
       "4.5"
      ]
     },
     "execution_count": 20,
     "metadata": {},
     "output_type": "execute_result"
    }
   ],
   "source": [
    "floats[-1]  # -1 represents the last item in the list"
   ]
  },
  {
   "cell_type": "markdown",
   "id": "5b258884",
   "metadata": {},
   "source": [
    "**Tuples** are similar to lists, but the items in a tuple cannot be changed. Tuples can be computationally faster than lists, so using tuples can optimize your code. Now let's try a series of operations on a tuple."
   ]
  },
  {
   "cell_type": "code",
   "execution_count": 13,
   "id": "1f6c32bb",
   "metadata": {},
   "outputs": [
    {
     "name": "stdout",
     "output_type": "stream",
     "text": [
      "(3, 4, 5, 6)\n",
      "(2, 4, 6, 8, 10)\n"
     ]
    }
   ],
   "source": [
    "# let's initialize a tuple first.\n",
    "tup = (1, 2, 3, 4, 5, 6, 7, 8, 9, 10)\n",
    "print(tup[2:6])  # you can slice a tuple in the same fashion as slicing a list\n",
    "\n",
    "# Sliding a tuple is similar to slicing, but with the addition of a step\n",
    "even = tup[1:10:2]  # start at index 1 and count every 2nd item till index 10\n",
    "print(even)"
   ]
  },
  {
   "cell_type": "markdown",
   "id": "3a945eec",
   "metadata": {},
   "source": [
    "Since tuples are immutable, to change a value you will need to convert the tuple to a list, make the change, and convert it back to a tuple."
   ]
  },
  {
   "cell_type": "code",
   "execution_count": 14,
   "id": "59bcfb12",
   "metadata": {},
   "outputs": [
    {
     "name": "stdout",
     "output_type": "stream",
     "text": [
      "Original tuple: ('London', 'Madrid', 'New York', 'Seoul', 'Paris', 'Mumbai')\n",
      "Changed list: ['London', 'Madrid', 'Vancouver', 'Seoul', 'Paris', 'Mumbai']\n",
      "Changed tuple: ('London', 'Madrid', 'Vancouver', 'Seoul', 'Paris', 'Mumbai')\n"
     ]
    }
   ],
   "source": [
    "places = ('London', 'Madrid', 'New York', 'Seoul', 'Paris', 'Mumbai')\n",
    "print(f'Original tuple: {places}')\n",
    "placesList = list(places)\n",
    "placesList[2] = 'Vancouver'\n",
    "print(f'Changed list: {placesList}')\n",
    "placesTuple = tuple(placesList)\n",
    "print(f'Changed tuple: {placesTuple}')"
   ]
  },
  {
   "cell_type": "markdown",
   "id": "3d3451e6",
   "metadata": {},
   "source": [
    "**Dictionaries** hold connections between a key and a value. Each item in a dictionary is a key-value pair, that allows for a concise storing method in Python. A dictionary can be initialized by curly brackets {}, or by calling the `dict()` method. "
   ]
  },
  {
   "cell_type": "code",
   "execution_count": 15,
   "id": "d8a49265",
   "metadata": {},
   "outputs": [
    {
     "name": "stdout",
     "output_type": "stream",
     "text": [
      "Dictionary: {'first_name': 'Jon', 'last_name': 'Kim', 'student_id': '0613', 'age': 17, 'avg_grade': 'B+'}\n",
      "Type: <class 'dict'>\n"
     ]
    }
   ],
   "source": [
    "# Let's create a dictionary for a student\n",
    "studentDict = {\n",
    "    # key : value\n",
    "    'first_name': 'Jon',\n",
    "    'last_name': 'Kim',\n",
    "    'student_id': '0613',\n",
    "    'age': 17,\n",
    "    'avg_grade': 'B+'\n",
    "}\n",
    "print(f'Dictionary: {studentDict}')\n",
    "print(f'Type: {type(studentDict)}')"
   ]
  },
  {
   "cell_type": "code",
   "execution_count": 16,
   "id": "f2d07a22",
   "metadata": {},
   "outputs": [
    {
     "data": {
      "text/plain": [
       "{'first_name': 'Jon',\n",
       " 'last_name': 'Kim',\n",
       " 'student_id': '0613',\n",
       " 'age': 17,\n",
       " 'avg_grade': 'A'}"
      ]
     },
     "execution_count": 16,
     "metadata": {},
     "output_type": "execute_result"
    }
   ],
   "source": [
    "# It is possible to change the value of a key.\n",
    "studentDict['avg_grade'] = 'A'\n",
    "studentDict"
   ]
  },
  {
   "cell_type": "markdown",
   "id": "30698338",
   "metadata": {},
   "source": [
    "To retrieve a key's value, the `.get(<key>)` method can be used.  `dict[<key>]` is another way to retrieve a key's value, but the `.get()` method is preferred because it doesn't produce an error if the value is non-existent."
   ]
  },
  {
   "cell_type": "code",
   "execution_count": 17,
   "id": "a2481f5c",
   "metadata": {},
   "outputs": [
    {
     "data": {
      "text/plain": [
       "'Jon'"
      ]
     },
     "execution_count": 17,
     "metadata": {},
     "output_type": "execute_result"
    }
   ],
   "source": [
    "studentDict.get('first_name')  # how to access values based on the key"
   ]
  },
  {
   "cell_type": "markdown",
   "id": "095bccba",
   "metadata": {},
   "source": [
    "### 1.3 Conditions and Loops\n",
    "Conditional tests use *if and else* statements to set assertions and checks to the code. \n",
    "Here are a few ways you can use a conditional test:"
   ]
  },
  {
   "cell_type": "code",
   "execution_count": 18,
   "id": "6cbc6038",
   "metadata": {},
   "outputs": [
    {
     "name": "stdout",
     "output_type": "stream",
     "text": [
      "False\n"
     ]
    }
   ],
   "source": [
    "x = 19\n",
    "if x > 20:\n",
    "    print(True)\n",
    "else:\n",
    "    print(False)"
   ]
  },
  {
   "cell_type": "code",
   "execution_count": 19,
   "id": "59722914",
   "metadata": {},
   "outputs": [
    {
     "name": "stdout",
     "output_type": "stream",
     "text": [
      "both are equal\n"
     ]
    }
   ],
   "source": [
    "val1 = 25.0\n",
    "val2 = 25.0\n",
    "\n",
    "if val1 < val2:\n",
    "    print('val2 is greater.')\n",
    "elif val1 == val2:\n",
    "    print('both are equal')\n",
    "else:  # val1 > val2\n",
    "    print('val1 is greater')"
   ]
  },
  {
   "cell_type": "code",
   "execution_count": 20,
   "id": "a9b9cb12",
   "metadata": {},
   "outputs": [
    {
     "name": "stdout",
     "output_type": "stream",
     "text": [
      "['apple', 'orange', 'mango', 'kiwi']\n"
     ]
    }
   ],
   "source": [
    "fruits = ['apple', 'orange', 'mango']\n",
    "if 'kiwi' not in fruits:\n",
    "    fruits.append('kiwi')\n",
    "print(fruits)"
   ]
  },
  {
   "cell_type": "markdown",
   "id": "50ca1b89",
   "metadata": {
    "tags": []
   },
   "source": [
    "Python has two types of loop conditions that allow you to iterate over items. \n",
    "\n",
    "**1. For Loop** - a good way to iterate over a list, tuple, dictionaries, or other sequences."
   ]
  },
  {
   "cell_type": "code",
   "execution_count": 21,
   "id": "bbf76ee0",
   "metadata": {},
   "outputs": [
    {
     "name": "stdout",
     "output_type": "stream",
     "text": [
      "Decimal: 1.2\n",
      "Decimal: 1.24\n",
      "Decimal: 1.59\n",
      "Decimal: 5.43\n",
      "Decimal: 2.99\n"
     ]
    }
   ],
   "source": [
    "# Let's create a list of floating point values and iteratively print the items.\n",
    "floats = [1.2, 1.24, 1.59, 5.43, 2.99]\n",
    "for i in floats:\n",
    "    print(f\"Decimal: {round(i, 2)}\")"
   ]
  },
  {
   "cell_type": "code",
   "execution_count": 21,
   "id": "82f4e3a0",
   "metadata": {},
   "outputs": [
    {
     "name": "stdout",
     "output_type": "stream",
     "text": [
      "8\n"
     ]
    }
   ],
   "source": [
    "# you can also iterate through the characters of a word\n",
    "word = \"Hi there\"\n",
    "counter = 0\n",
    "for char in word:\n",
    "    # counts every item in the phrase\n",
    "    counter = counter + 1\n",
    "\n",
    "# check if the counter value is equal to the output of the builtin len()\n",
    "if counter == len(word):\n",
    "    print(counter)\n",
    "else:\n",
    "    print(\"Uh oh, error with word length.\")"
   ]
  },
  {
   "cell_type": "markdown",
   "id": "8c8a1e46",
   "metadata": {},
   "source": [
    "An important feature in for-loops is the `range()` function which generates a sequence of values based on the given input."
   ]
  },
  {
   "cell_type": "code",
   "execution_count": 23,
   "id": "25df31ee",
   "metadata": {},
   "outputs": [
    {
     "name": "stdout",
     "output_type": "stream",
     "text": [
      "[0, 1, 2, 3]\n",
      "[0, 2, 4, 6, 8, 10, 12, 14, 16, 18]\n"
     ]
    }
   ],
   "source": [
    "list1 = []\n",
    "for i in range(4):\n",
    "    list1.append(i)\n",
    "print(list1)\n",
    "\n",
    "list2 = []\n",
    "for i in range(0, 20, 2):\n",
    "    list2.append(i)\n",
    "print(list2)"
   ]
  },
  {
   "cell_type": "markdown",
   "id": "f810685a",
   "metadata": {},
   "source": [
    "****List Comprehension**** is a neat way to define and create lists based on existing lists. It allows us to write loops like the ones above in one line!  "
   ]
  },
  {
   "cell_type": "code",
   "execution_count": 24,
   "id": "dfdfdf0f",
   "metadata": {},
   "outputs": [
    {
     "name": "stdout",
     "output_type": "stream",
     "text": [
      "[-10, -8, -6, -4, -2, 0, 2, 4, 6, 8]\n"
     ]
    }
   ],
   "source": [
    "list3 = [i for i in range(-10, 10, 2)]\n",
    "print(list3)"
   ]
  },
  {
   "cell_type": "markdown",
   "id": "3b38446b",
   "metadata": {},
   "source": [
    "**2. While Loop** - repeats a block of code as long as its condition is true."
   ]
  },
  {
   "cell_type": "code",
   "execution_count": 25,
   "id": "6f779e03",
   "metadata": {},
   "outputs": [
    {
     "name": "stdout",
     "output_type": "stream",
     "text": [
      "20\n"
     ]
    }
   ],
   "source": [
    "check = True\n",
    "count = 0\n",
    "while check:\n",
    "    count += 1\n",
    "    if count == 20:\n",
    "        check = False\n",
    "print(count)"
   ]
  },
  {
   "cell_type": "markdown",
   "id": "18b14331",
   "metadata": {},
   "source": [
    "Another way of stopping a while loop is to use the `break` keyword. The opposite is the `continue` keyword which returns to the top of the loop as soon as the continue is executed. These keywords can be used in **For** loops as well."
   ]
  },
  {
   "cell_type": "code",
   "execution_count": 26,
   "id": "f5b0f3f1",
   "metadata": {},
   "outputs": [
    {
     "name": "stdout",
     "output_type": "stream",
     "text": [
      "20\n"
     ]
    }
   ],
   "source": [
    "count = 0\n",
    "while True:\n",
    "    count += 1\n",
    "    if count == 20:\n",
    "        break\n",
    "print(count)"
   ]
  },
  {
   "cell_type": "markdown",
   "id": "f3f61083",
   "metadata": {},
   "source": [
    "Let's try an example with `continue`. Using the same student dictionary as before with a few more key-values added. Notice how the new 'grades' and 'courses' key have a list of values. We are going to find the student's best grade.\n",
    "\n",
    "Continue is useful in this example because if the key has more than 1 value, it doesn't bother looking at the rest of the code, and moves onto the next key-value pair. "
   ]
  },
  {
   "cell_type": "code",
   "execution_count": 27,
   "id": "ba601582",
   "metadata": {},
   "outputs": [
    {
     "name": "stdout",
     "output_type": "stream",
     "text": [
      "Jon's best grade is 98.0% in Math.\n"
     ]
    }
   ],
   "source": [
    "studentDict = {\n",
    "    # key : value\n",
    "    'first_name': 'Jon',\n",
    "    'last_name': 'Kim',\n",
    "    'grades': [98.0, 82.5, 89.7, 92.3],\n",
    "    'student_id': '0613',\n",
    "    'age': 17,\n",
    "    'courses': ['Math', 'Physics', 'Chemistry', 'English']\n",
    "}\n",
    "\n",
    "for key, value in studentDict.items():  # iterate over items in the dictionary\n",
    "    if not isinstance(value, list):\n",
    "        continue\n",
    "    if isinstance(value[0], float):\n",
    "        max_grade = max(value)\n",
    "        max_index = value.index(max_grade)\n",
    "        print(f\"{studentDict.get('first_name')}'s best grade is \\\n",
    "                {max_grade}% in{studentDict.get('courses')[max_index]}.\")"
   ]
  },
  {
   "cell_type": "markdown",
   "id": "06d2f058",
   "metadata": {},
   "source": [
    "### 1.4 Functions\n",
    "Python allows the user to create their own functions which perform operations and return an output. To define a function one can use **def** *function_name():*. It is important to remember that all statements must be indented within the function itself.\n",
    "\n",
    "Let’s create a function that converts temperature from Fahrenheit to Celsius."
   ]
  },
  {
   "cell_type": "code",
   "execution_count": 25,
   "id": "d4bad25f",
   "metadata": {},
   "outputs": [],
   "source": [
    "# defining a function\n",
    "def to_Celsius(temp):\n",
    "    celsius = (temp - 32) * 5 / 9\n",
    "    return celsius"
   ]
  },
  {
   "cell_type": "code",
   "execution_count": 22,
   "id": "e4c6cac3",
   "metadata": {},
   "outputs": [],
   "source": [
    "# the values in the fahrenheit list are the average temperature for each month.\n",
    "months = ['Jan', 'Feb', 'Mar', 'Apr', 'June', 'July',\n",
    "          'Aug', 'Sept', 'Oct', 'Nov', 'Dec']\n",
    "fahrenheits = [28.4, 32.0, 37.5, 50.2, 59.4,\n",
    "               68.1, 82.7, 96.4, 75.2, 49.3, 31.4]"
   ]
  },
  {
   "cell_type": "code",
   "execution_count": 26,
   "id": "66193170",
   "metadata": {},
   "outputs": [
    {
     "name": "stdout",
     "output_type": "stream",
     "text": [
      "Here are the temperatures in Celsuis:\n",
      "[-2.0, 0.0, 3.06, 10.11, 15.22, 20.06, 28.17, 35.78, 24.0, 9.61, -0.33]\n"
     ]
    }
   ],
   "source": [
    "celsius = []  # an empty list which will catch the celsius equivalents\n",
    "for temperature in fahrenheits:  # iterating over the list\n",
    "    # Here we call the to_Celsius function and store the result in new_temp\n",
    "    new_temp = to_Celsius(temperature)\n",
    "    new_temp_rounded = round(new_temp, 2)  # rounding to 2 decimal places\n",
    "    celsius.append(new_temp_rounded)  # adding the result to the celsius list\n",
    "\n",
    "print(\"Here are the temperatures in Celsuis:\")\n",
    "print(celsius)"
   ]
  },
  {
   "cell_type": "markdown",
   "id": "a8d89756",
   "metadata": {},
   "source": [
    "Python **Generator Functions** are a simple way of creating iterators, and an efficient approach when working with large data. A generator function returns an object which can be iterated over one value at a time\n",
    "\n",
    "A generator function contains:\n",
    "- one or more `yield` statements (similar to `return` statement, but it pauses the function instead of completely terminating it.)\n",
    "- Returns an iterator but doesn't start executing immediately at call.\n",
    "- 'StopIteration' occurs automatically when the function terminates on future calls.\n",
    "\n",
    "Generators are easy to implement, very efficient for memory, and great for representing infinite data streams.\n",
    "\n",
    "Here's a diagram depicting the difference between Normal Python functions, and Generator function. \n",
    "\n",
    "<img src=\"../images/getting_started_images/01_normal-vs-generator.png\">\n",
    "\n",
    "(Source: https://codeburst.io/understanding-generators-in-es6-javascript-with-examples-6728834016d5)\n",
    "\n",
    "Let's create a generator function to calculate the squares of numbers from a list, and iterate through the items by using `next()`."
   ]
  },
  {
   "cell_type": "code",
   "execution_count": 31,
   "id": "e38c413f",
   "metadata": {},
   "outputs": [],
   "source": [
    "num_list = [3, 4, 5, 6, 7, 8, 9, 10]\n",
    "\n",
    "\n",
    "def square(numbers):  # the generator function\n",
    "    for num in numbers:\n",
    "        yield num**2"
   ]
  },
  {
   "cell_type": "code",
   "execution_count": 32,
   "id": "88ae66cc",
   "metadata": {},
   "outputs": [
    {
     "data": {
      "text/plain": [
       "4"
      ]
     },
     "execution_count": 32,
     "metadata": {},
     "output_type": "execute_result"
    }
   ],
   "source": [
    "sq = square(num_list)  # calling the function\n",
    "next(sq)  # first iteration"
   ]
  },
  {
   "cell_type": "markdown",
   "id": "171477bc",
   "metadata": {},
   "source": [
    "Now lets run this code until the function terminates. However, if the function terminates automatically we will get a **StopIteration Traceback error**, which we’d like to avoid.\n",
    "\n",
    "Python's ***try/except*** keywords help handle errors. The `try` condition checks the block of code for errors and the `except` block handles errors.\n",
    "The While loop below is placed within a try block of code to test for errors. The `except` block at the end catches the  **StopIteration** error. \n"
   ]
  },
  {
   "cell_type": "code",
   "execution_count": 33,
   "id": "ced9abc0",
   "metadata": {},
   "outputs": [
    {
     "name": "stdout",
     "output_type": "stream",
     "text": [
      "9\n",
      "16\n",
      "25\n",
      "36\n",
      "49\n",
      "64\n",
      "81\n",
      "100\n",
      "StopIteration error handled successfully\n"
     ]
    }
   ],
   "source": [
    "try:\n",
    "    while sq:  # all the next iterations\n",
    "        print(next(sq))\n",
    "except StopIteration:\n",
    "    print(\"StopIteration error handled successfully\")"
   ]
  },
  {
   "cell_type": "markdown",
   "id": "1b82af0b",
   "metadata": {},
   "source": [
    "In theory, generator functions are smaller than normal functions. To verify this lets recreate the previous generator function as a regular function and compare their sizes using the `sys` module. "
   ]
  },
  {
   "cell_type": "code",
   "execution_count": 34,
   "id": "f76f3914",
   "metadata": {},
   "outputs": [],
   "source": [
    "def normal_square(numbers):  # the normal squared function\n",
    "    squared = []\n",
    "    for num in numbers:\n",
    "        squared.append(num**2)\n",
    "    return squared"
   ]
  },
  {
   "cell_type": "code",
   "execution_count": 35,
   "id": "143c2aed",
   "metadata": {},
   "outputs": [
    {
     "data": {
      "text/plain": [
       "[4, 9, 16, 25, 36, 49, 64, 81, 100]"
      ]
     },
     "execution_count": 35,
     "metadata": {},
     "output_type": "execute_result"
    }
   ],
   "source": [
    "normal_sq = normal_square(num_list)  # calling the function\n",
    "normal_sq"
   ]
  },
  {
   "cell_type": "code",
   "execution_count": 36,
   "id": "76bc69d6",
   "metadata": {},
   "outputs": [
    {
     "name": "stdout",
     "output_type": "stream",
     "text": [
      "The size of the normal function is: 184 bytes.\n",
      "The size of the generator function is: 112 bytes.\n"
     ]
    }
   ],
   "source": [
    "# size comparison normal function vs generator function\n",
    "import sys\n",
    "\n",
    "print(f\"The size of the normal function is: {sys.getsizeof(normal_sq)} bytes.\")\n",
    "print(f\"The size of the generator function is: {sys.getsizeof(sq)} bytes.\")"
   ]
  },
  {
   "cell_type": "markdown",
   "id": "db1ddc0b",
   "metadata": {},
   "source": [
    "### 1.5 Plotting data \n",
    "\n",
    "Visualizing the results of our code is an essential part of programming in Python. The library, **Matplotlib**, is a comprehensive tool for creating a variety of visualizations in Python.\n",
    "\n",
    "So far, we have worked natively with core Python tools. To use the plotting tools of matplotlib, we must first import its packages into our namespace."
   ]
  },
  {
   "cell_type": "code",
   "execution_count": 24,
   "id": "c70b430b",
   "metadata": {},
   "outputs": [],
   "source": [
    "import matplotlib.pyplot as plt  # the as plt nicknames the package plt."
   ]
  },
  {
   "cell_type": "markdown",
   "id": "e2d06e90",
   "metadata": {},
   "source": [
    "Now using the same data from previous sections (Celsius and the months lists), let's construct a line plot which shows the Change in Temperature over an entire year, in Celsius. "
   ]
  },
  {
   "cell_type": "code",
   "execution_count": 27,
   "id": "39d8e857",
   "metadata": {},
   "outputs": [
    {
     "data": {
      "image/png": "[encoded data removed]",
      "text/plain": [
       "<Figure size 432x288 with 1 Axes>"
      ]
     },
     "metadata": {
      "needs_background": "light"
     },
     "output_type": "display_data"
    }
   ],
   "source": [
    "# plotting\n",
    "plt.title(\"Annual Temperature Variation\")\n",
    "plt.xlabel(\"Months\")\n",
    "plt.ylabel(\"Temperature (°C)\")\n",
    "# Create a graph with months on the x-axis, and temperature on the y-axis.\n",
    "plt.plot(months, celsius, color=\"red\")\n",
    "plt.show()"
   ]
  },
  {
   "cell_type": "markdown",
   "id": "24c70239",
   "metadata": {},
   "source": [
    "### 1.6 NumPy Arrays\n",
    "\n",
    "The examples with python collections such as lists we've experimented with are very small. When we start increasing the size of lists, processing is much slower. The NumPy (Numerical Python) library is used to work with arrays much more efficiently, as it can process the arrays approximately 50 times faster than lists. This is because NumPy arrays are stored in one place in memory (unlike lists which are stored sparsely)."
   ]
  },
  {
   "cell_type": "code",
   "execution_count": 28,
   "id": "8c97f126",
   "metadata": {},
   "outputs": [],
   "source": [
    "# first let's import the package with the alias 'np'\n",
    "import numpy as np"
   ]
  },
  {
   "cell_type": "code",
   "execution_count": 29,
   "id": "9f74ca90",
   "metadata": {},
   "outputs": [
    {
     "name": "stdout",
     "output_type": "stream",
     "text": [
      "<class 'numpy.ndarray'>\n"
     ]
    },
    {
     "data": {
      "image/png": "[encoded data removed]",
      "text/plain": [
       "<Figure size 432x288 with 1 Axes>"
      ]
     },
     "metadata": {},
     "output_type": "display_data"
    }
   ],
   "source": [
    "# Let's create a numpy array of random int values, and plot them on a pie chart\n",
    "arr = np.array([35, 25, 25, 15])\n",
    "print(type(arr))\n",
    "plt.pie(arr, labels=arr)  # the labels are the same as the value\n",
    "plt.show()"
   ]
  },
  {
   "cell_type": "markdown",
   "id": "73def865",
   "metadata": {},
   "source": [
    "NumPy arrays can have nested lists which result in multi-dimensional arrays. Let's create a 3-dimensional array and plot it using matplotlib."
   ]
  },
  {
   "cell_type": "code",
   "execution_count": 30,
   "id": "7b709577",
   "metadata": {},
   "outputs": [],
   "source": [
    "# Create a 3x3 array of random integers in the interval [0, 10)\n",
    "rand_arr = np.array(np.random.randint(-5, 5, (50, 3)))\n",
    "\n",
    "# 3 arrays that are all 1D (each axis)\n",
    "x_axis = rand_arr[:, 0]  # col1\n",
    "y_axis = rand_arr[:, 1]  # col2\n",
    "z_axis = rand_arr[:, 2]  # col3"
   ]
  },
  {
   "cell_type": "code",
   "execution_count": 31,
   "id": "d52ef77d",
   "metadata": {},
   "outputs": [
    {
     "data": {
      "text/plain": [
       "array([[-3,  0,  3],\n",
       "       [ 4,  4,  0],\n",
       "       [ 3,  4, -1],\n",
       "       [ 3,  4, -2],\n",
       "       [ 3,  4,  3],\n",
       "       [-2,  1,  0]])"
      ]
     },
     "execution_count": 31,
     "metadata": {},
     "output_type": "execute_result"
    }
   ],
   "source": [
    "rand_arr[0:6]  # only printing the first 6"
   ]
  },
  {
   "cell_type": "code",
   "execution_count": 32,
   "id": "54feb1b1",
   "metadata": {},
   "outputs": [
    {
     "data": {
      "image/png": "[encoded data removed]",
      "text/plain": [
       "<Figure size 432x288 with 2 Axes>"
      ]
     },
     "metadata": {
      "needs_background": "light"
     },
     "output_type": "display_data"
    }
   ],
   "source": [
    "fig = plt.figure()\n",
    "ax = fig.add_subplot(111, projection='3d')\n",
    "# use the z axis for colormapping\n",
    "img = ax.scatter(x_axis, y_axis, z_axis, c=z_axis)\n",
    "cbar = plt.colorbar(img)\n",
    "plt.show()"
   ]
  },
  {
   "cell_type": "markdown",
   "id": "fe6890d2",
   "metadata": {},
   "source": [
    "### 1.7 Pandas Dataframes\n",
    "Most scientific computing is based on large-scale datasets, that cannot rely on lists and arrays that are unlabelled. \n",
    "\n",
    "Pandas is a Python library providing flexible, fast and labelled data structures in a tabular manner, allowing for multidimensionality. Pandas Series is a 1-Dimensional data structure, while Pandas Dataframes are 2-Dimensional, both built on the base of NumPy arrays.\n"
   ]
  },
  {
   "cell_type": "markdown",
   "id": "1c313fdd",
   "metadata": {},
   "source": [
    "First, let's create a DataFrame from a dictionary of lists, where all lists *must* be the same length. "
   ]
  },
  {
   "cell_type": "code",
   "execution_count": 44,
   "id": "cdc462ae",
   "metadata": {},
   "outputs": [
    {
     "data": {
      "text/html": [
       "<div>\n",
       "<style scoped>\n",
       "    .dataframe tbody tr th:only-of-type {\n",
       "        vertical-align: middle;\n",
       "    }\n",
       "\n",
       "    .dataframe tbody tr th {\n",
       "        vertical-align: top;\n",
       "    }\n",
       "\n",
       "    .dataframe thead th {\n",
       "        text-align: right;\n",
       "    }\n",
       "</style>\n",
       "<table border=\"1\" class=\"dataframe\">\n",
       "  <thead>\n",
       "    <tr style=\"text-align: right;\">\n",
       "      <th></th>\n",
       "      <th>Student_Name</th>\n",
       "      <th>Age</th>\n",
       "    </tr>\n",
       "  </thead>\n",
       "  <tbody>\n",
       "    <tr>\n",
       "      <th>0</th>\n",
       "      <td>Kim</td>\n",
       "      <td>17</td>\n",
       "    </tr>\n",
       "    <tr>\n",
       "      <th>1</th>\n",
       "      <td>Bellamy</td>\n",
       "      <td>20</td>\n",
       "    </tr>\n",
       "    <tr>\n",
       "      <th>2</th>\n",
       "      <td>Lydia</td>\n",
       "      <td>19</td>\n",
       "    </tr>\n",
       "    <tr>\n",
       "      <th>3</th>\n",
       "      <td>Inej</td>\n",
       "      <td>15</td>\n",
       "    </tr>\n",
       "    <tr>\n",
       "      <th>4</th>\n",
       "      <td>Klaus</td>\n",
       "      <td>19</td>\n",
       "    </tr>\n",
       "  </tbody>\n",
       "</table>\n",
       "</div>"
      ],
      "text/plain": [
       "  Student_Name  Age\n",
       "0          Kim   17\n",
       "1      Bellamy   20\n",
       "2        Lydia   19\n",
       "3         Inej   15\n",
       "4        Klaus   19"
      ]
     },
     "execution_count": 44,
     "metadata": {},
     "output_type": "execute_result"
    }
   ],
   "source": [
    "import pandas as pd\n",
    "\n",
    "dictionary = {'Student_Name': ['Kim', 'Bellamy', 'Lydia', 'Inej', 'Klaus'],\n",
    "              'Age': [17, 20, 19, 15, 19]}\n",
    "df = pd.DataFrame(dictionary)\n",
    "df"
   ]
  },
  {
   "cell_type": "markdown",
   "id": "bbbb908c",
   "metadata": {},
   "source": [
    "There are multiple operations you can perform on a dataframe, such as inserting a new column.\n",
    "Let's create a new column that defines each student's class ranking, and sort them according to that ranking."
   ]
  },
  {
   "cell_type": "code",
   "execution_count": 45,
   "id": "51076737",
   "metadata": {},
   "outputs": [
    {
     "data": {
      "text/html": [
       "<div>\n",
       "<style scoped>\n",
       "    .dataframe tbody tr th:only-of-type {\n",
       "        vertical-align: middle;\n",
       "    }\n",
       "\n",
       "    .dataframe tbody tr th {\n",
       "        vertical-align: top;\n",
       "    }\n",
       "\n",
       "    .dataframe thead th {\n",
       "        text-align: right;\n",
       "    }\n",
       "</style>\n",
       "<table border=\"1\" class=\"dataframe\">\n",
       "  <thead>\n",
       "    <tr style=\"text-align: right;\">\n",
       "      <th></th>\n",
       "      <th>Student_Name</th>\n",
       "      <th>Age</th>\n",
       "      <th>Class_Ranking</th>\n",
       "    </tr>\n",
       "  </thead>\n",
       "  <tbody>\n",
       "    <tr>\n",
       "      <th>0</th>\n",
       "      <td>Kim</td>\n",
       "      <td>17</td>\n",
       "      <td>1</td>\n",
       "    </tr>\n",
       "    <tr>\n",
       "      <th>1</th>\n",
       "      <td>Bellamy</td>\n",
       "      <td>20</td>\n",
       "      <td>4</td>\n",
       "    </tr>\n",
       "    <tr>\n",
       "      <th>2</th>\n",
       "      <td>Lydia</td>\n",
       "      <td>19</td>\n",
       "      <td>2</td>\n",
       "    </tr>\n",
       "    <tr>\n",
       "      <th>3</th>\n",
       "      <td>Inej</td>\n",
       "      <td>15</td>\n",
       "      <td>3</td>\n",
       "    </tr>\n",
       "    <tr>\n",
       "      <th>4</th>\n",
       "      <td>Klaus</td>\n",
       "      <td>19</td>\n",
       "      <td>5</td>\n",
       "    </tr>\n",
       "  </tbody>\n",
       "</table>\n",
       "</div>"
      ],
      "text/plain": [
       "  Student_Name  Age Class_Ranking\n",
       "0          Kim   17             1\n",
       "1      Bellamy   20             4\n",
       "2        Lydia   19             2\n",
       "3         Inej   15             3\n",
       "4        Klaus   19             5"
      ]
     },
     "execution_count": 45,
     "metadata": {},
     "output_type": "execute_result"
    }
   ],
   "source": [
    "# create a new list that will be changed to a column in the DF\n",
    "class_ranking = ['1', '4', '2', '3', '5']\n",
    "\n",
    "# then add a new column to the df and assign the values in the list\n",
    "df['Class_Ranking'] = class_ranking\n",
    "df"
   ]
  },
  {
   "cell_type": "code",
   "execution_count": 46,
   "id": "048f2f86",
   "metadata": {},
   "outputs": [
    {
     "data": {
      "text/html": [
       "<div>\n",
       "<style scoped>\n",
       "    .dataframe tbody tr th:only-of-type {\n",
       "        vertical-align: middle;\n",
       "    }\n",
       "\n",
       "    .dataframe tbody tr th {\n",
       "        vertical-align: top;\n",
       "    }\n",
       "\n",
       "    .dataframe thead th {\n",
       "        text-align: right;\n",
       "    }\n",
       "</style>\n",
       "<table border=\"1\" class=\"dataframe\">\n",
       "  <thead>\n",
       "    <tr style=\"text-align: right;\">\n",
       "      <th></th>\n",
       "      <th>Student_Name</th>\n",
       "      <th>Age</th>\n",
       "      <th>Class_Ranking</th>\n",
       "    </tr>\n",
       "  </thead>\n",
       "  <tbody>\n",
       "    <tr>\n",
       "      <th>0</th>\n",
       "      <td>Kim</td>\n",
       "      <td>17</td>\n",
       "      <td>1</td>\n",
       "    </tr>\n",
       "    <tr>\n",
       "      <th>2</th>\n",
       "      <td>Lydia</td>\n",
       "      <td>19</td>\n",
       "      <td>2</td>\n",
       "    </tr>\n",
       "    <tr>\n",
       "      <th>3</th>\n",
       "      <td>Inej</td>\n",
       "      <td>15</td>\n",
       "      <td>3</td>\n",
       "    </tr>\n",
       "    <tr>\n",
       "      <th>1</th>\n",
       "      <td>Bellamy</td>\n",
       "      <td>20</td>\n",
       "      <td>4</td>\n",
       "    </tr>\n",
       "    <tr>\n",
       "      <th>4</th>\n",
       "      <td>Klaus</td>\n",
       "      <td>19</td>\n",
       "      <td>5</td>\n",
       "    </tr>\n",
       "  </tbody>\n",
       "</table>\n",
       "</div>"
      ],
      "text/plain": [
       "  Student_Name  Age Class_Ranking\n",
       "0          Kim   17             1\n",
       "2        Lydia   19             2\n",
       "3         Inej   15             3\n",
       "1      Bellamy   20             4\n",
       "4        Klaus   19             5"
      ]
     },
     "execution_count": 46,
     "metadata": {},
     "output_type": "execute_result"
    }
   ],
   "source": [
    "df.sort_values(by=['Class_Ranking'])  # default sorting is ascending"
   ]
  },
  {
   "cell_type": "markdown",
   "id": "26d8aecb",
   "metadata": {},
   "source": [
    "Pandas Dataframes are primarily used to work with large, existing datasets. So, let's experiment with the dataset of all Earthquakes in Canada from 1985 to 2019, publicly available on the Government of Canada website. (https://open.canada.ca/data/en/dataset/4cedd37e-0023-41fe-8eff-bea45385e469)             \n",
    "This dataset contain 101,365 records and 9 attributes. \n",
    "\n",
    "To create a dataframe with this data, the pandas library offers an easy way using the  pandas function, `.read_csv(<filepath>)` to directly read in the url as a parameter and converts that data into a dataframe."
   ]
  },
  {
   "cell_type": "code",
   "execution_count": 47,
   "id": "b1a99396",
   "metadata": {
    "tags": []
   },
   "outputs": [
    {
     "data": {
      "text/html": [
       "<div>\n",
       "<style scoped>\n",
       "    .dataframe tbody tr th:only-of-type {\n",
       "        vertical-align: middle;\n",
       "    }\n",
       "\n",
       "    .dataframe tbody tr th {\n",
       "        vertical-align: top;\n",
       "    }\n",
       "\n",
       "    .dataframe thead th {\n",
       "        text-align: right;\n",
       "    }\n",
       "</style>\n",
       "<table border=\"1\" class=\"dataframe\">\n",
       "  <thead>\n",
       "    <tr style=\"text-align: right;\">\n",
       "      <th></th>\n",
       "      <th>date</th>\n",
       "      <th>latitude</th>\n",
       "      <th>longitude</th>\n",
       "      <th>depth</th>\n",
       "      <th>magnitude</th>\n",
       "      <th>magnitude type</th>\n",
       "      <th>place</th>\n",
       "      <th>Unnamed: 7</th>\n",
       "      <th>Unnamed: 8</th>\n",
       "    </tr>\n",
       "  </thead>\n",
       "  <tbody>\n",
       "    <tr>\n",
       "      <th>0</th>\n",
       "      <td>1985-01-01T11:01:00+0000</td>\n",
       "      <td>47.0000</td>\n",
       "      <td>-66.6000</td>\n",
       "      <td>5.00</td>\n",
       "      <td>1.9</td>\n",
       "      <td>MN</td>\n",
       "      <td>61 km E  from Plaster Rock</td>\n",
       "      <td>NB</td>\n",
       "      <td>NaN</td>\n",
       "    </tr>\n",
       "    <tr>\n",
       "      <th>1</th>\n",
       "      <td>1985-01-01T12:34:37+0000</td>\n",
       "      <td>78.8000</td>\n",
       "      <td>-102.3300</td>\n",
       "      <td>18.00</td>\n",
       "      <td>3.2</td>\n",
       "      <td>MN</td>\n",
       "      <td>26 km E  from Isachsen</td>\n",
       "      <td>NU</td>\n",
       "      <td>NaN</td>\n",
       "    </tr>\n",
       "    <tr>\n",
       "      <th>2</th>\n",
       "      <td>1985-01-02T00:13:06+0000</td>\n",
       "      <td>48.8800</td>\n",
       "      <td>-122.9940</td>\n",
       "      <td>22.50</td>\n",
       "      <td>1.2</td>\n",
       "      <td>ML</td>\n",
       "      <td>21 km SW from White Rock</td>\n",
       "      <td>BC</td>\n",
       "      <td>NaN</td>\n",
       "    </tr>\n",
       "    <tr>\n",
       "      <th>3</th>\n",
       "      <td>1985-01-02T00:56:59+0000</td>\n",
       "      <td>50.0220</td>\n",
       "      <td>-121.5540</td>\n",
       "      <td>18.00</td>\n",
       "      <td>1.0</td>\n",
       "      <td>ML</td>\n",
       "      <td>56 km W  from Merritt</td>\n",
       "      <td>BC</td>\n",
       "      <td>NaN</td>\n",
       "    </tr>\n",
       "    <tr>\n",
       "      <th>4</th>\n",
       "      <td>1985-01-02T05:03:03+0000</td>\n",
       "      <td>49.4590</td>\n",
       "      <td>-66.7520</td>\n",
       "      <td>18.00</td>\n",
       "      <td>1.8</td>\n",
       "      <td>MN</td>\n",
       "      <td>40 km N  from Cap-Chat</td>\n",
       "      <td>QC</td>\n",
       "      <td>NaN</td>\n",
       "    </tr>\n",
       "    <tr>\n",
       "      <th>...</th>\n",
       "      <td>...</td>\n",
       "      <td>...</td>\n",
       "      <td>...</td>\n",
       "      <td>...</td>\n",
       "      <td>...</td>\n",
       "      <td>...</td>\n",
       "      <td>...</td>\n",
       "      <td>...</td>\n",
       "      <td>...</td>\n",
       "    </tr>\n",
       "    <tr>\n",
       "      <th>101360</th>\n",
       "      <td>2019-12-31T18:37:24+0000</td>\n",
       "      <td>50.4878</td>\n",
       "      <td>-121.0354</td>\n",
       "      <td>14.00</td>\n",
       "      <td>1.8</td>\n",
       "      <td>ML</td>\n",
       "      <td>31 km SE of Ashcroft, BC</td>\n",
       "      <td>NaN</td>\n",
       "      <td>NaN</td>\n",
       "    </tr>\n",
       "    <tr>\n",
       "      <th>101361</th>\n",
       "      <td>2019-12-31T22:18:53+0000</td>\n",
       "      <td>48.2504</td>\n",
       "      <td>-78.4490</td>\n",
       "      <td>0.00</td>\n",
       "      <td>2.4</td>\n",
       "      <td>MN</td>\n",
       "      <td>Blast, Laronde Mine, QC</td>\n",
       "      <td>NaN</td>\n",
       "      <td>NaN</td>\n",
       "    </tr>\n",
       "    <tr>\n",
       "      <th>101362</th>\n",
       "      <td>2019-12-31T23:11:07+0000</td>\n",
       "      <td>50.5262</td>\n",
       "      <td>-121.0061</td>\n",
       "      <td>10.45</td>\n",
       "      <td>2.0</td>\n",
       "      <td>ML</td>\n",
       "      <td>29 km SE of Ashcroft, BC</td>\n",
       "      <td>NaN</td>\n",
       "      <td>NaN</td>\n",
       "    </tr>\n",
       "    <tr>\n",
       "      <th>101363</th>\n",
       "      <td>2019-12-31T23:53:23+0000</td>\n",
       "      <td>45.0834</td>\n",
       "      <td>-74.7183</td>\n",
       "      <td>18.00</td>\n",
       "      <td>1.9</td>\n",
       "      <td>MN</td>\n",
       "      <td>6 km N from Cornwall, ON</td>\n",
       "      <td>NaN</td>\n",
       "      <td>NaN</td>\n",
       "    </tr>\n",
       "    <tr>\n",
       "      <th>101364</th>\n",
       "      <td>2019-12-31T23:54:02+0000</td>\n",
       "      <td>47.4919</td>\n",
       "      <td>-70.4124</td>\n",
       "      <td>3.79</td>\n",
       "      <td>1.3</td>\n",
       "      <td>MN</td>\n",
       "      <td>CHARLEVOIX SEISMIC ZONE, QC.</td>\n",
       "      <td>NaN</td>\n",
       "      <td>NaN</td>\n",
       "    </tr>\n",
       "  </tbody>\n",
       "</table>\n",
       "<p>101365 rows × 9 columns</p>\n",
       "</div>"
      ],
      "text/plain": [
       "                            date  latitude  longitude  depth  magnitude  \\\n",
       "0       1985-01-01T11:01:00+0000   47.0000   -66.6000   5.00        1.9   \n",
       "1       1985-01-01T12:34:37+0000   78.8000  -102.3300  18.00        3.2   \n",
       "2       1985-01-02T00:13:06+0000   48.8800  -122.9940  22.50        1.2   \n",
       "3       1985-01-02T00:56:59+0000   50.0220  -121.5540  18.00        1.0   \n",
       "4       1985-01-02T05:03:03+0000   49.4590   -66.7520  18.00        1.8   \n",
       "...                          ...       ...        ...    ...        ...   \n",
       "101360  2019-12-31T18:37:24+0000   50.4878  -121.0354  14.00        1.8   \n",
       "101361  2019-12-31T22:18:53+0000   48.2504   -78.4490   0.00        2.4   \n",
       "101362  2019-12-31T23:11:07+0000   50.5262  -121.0061  10.45        2.0   \n",
       "101363  2019-12-31T23:53:23+0000   45.0834   -74.7183  18.00        1.9   \n",
       "101364  2019-12-31T23:54:02+0000   47.4919   -70.4124   3.79        1.3   \n",
       "\n",
       "       magnitude type                         place Unnamed: 7 Unnamed: 8  \n",
       "0                  MN    61 km E  from Plaster Rock         NB        NaN  \n",
       "1                  MN        26 km E  from Isachsen         NU        NaN  \n",
       "2                  ML      21 km SW from White Rock         BC        NaN  \n",
       "3                  ML         56 km W  from Merritt         BC        NaN  \n",
       "4                  MN        40 km N  from Cap-Chat         QC        NaN  \n",
       "...               ...                           ...        ...        ...  \n",
       "101360             ML      31 km SE of Ashcroft, BC        NaN        NaN  \n",
       "101361             MN       Blast, Laronde Mine, QC        NaN        NaN  \n",
       "101362             ML      29 km SE of Ashcroft, BC        NaN        NaN  \n",
       "101363             MN      6 km N from Cornwall, ON        NaN        NaN  \n",
       "101364             MN  CHARLEVOIX SEISMIC ZONE, QC.        NaN        NaN  \n",
       "\n",
       "[101365 rows x 9 columns]"
      ]
     },
     "execution_count": 47,
     "metadata": {},
     "output_type": "execute_result"
    }
   ],
   "source": [
    "url = 'https://ftp.maps.canada.ca/pub/nrcan_rncan/Earthquakes_Tremblement-de-terre/canadian-earthquakes_tremblements-de-terre-canadien/eqarchive-en.csv'\n",
    "earthquakes_df = pd.read_csv(url)\n",
    "earthquakes_df"
   ]
  },
  {
   "cell_type": "markdown",
   "id": "be2a8791",
   "metadata": {},
   "source": [
    "As you can see, the dataframe displays the data records in a tabular format (101,365 rows and 9 columns). Notice that some values are labelled as **NaN** (Not a Number), this means the value is undefined/unrepresentable.\n",
    "You can check whether a value is NaN by calling `.isna()` on the dataframe. If you want the total number of NaN values in each column, you call `.sum()` on the output of .isna()"
   ]
  },
  {
   "cell_type": "code",
   "execution_count": 48,
   "id": "02027d94",
   "metadata": {},
   "outputs": [
    {
     "data": {
      "text/plain": [
       "date                   0\n",
       "latitude               0\n",
       "longitude              0\n",
       "depth                  0\n",
       "magnitude              0\n",
       "magnitude type       121\n",
       "place                  0\n",
       "Unnamed: 7         18845\n",
       "Unnamed: 8        101076\n",
       "dtype: int64"
      ]
     },
     "execution_count": 48,
     "metadata": {},
     "output_type": "execute_result"
    }
   ],
   "source": [
    "earthquakes_df.isna().sum()"
   ]
  },
  {
   "cell_type": "markdown",
   "id": "df94622e",
   "metadata": {},
   "source": [
    "You can choose to input data in place of these NaN values, drop all the rows/columns with the NaNs, or simply ignore them. We will explore more of this dataset in the next section, Geopandas."
   ]
  },
  {
   "cell_type": "markdown",
   "id": "e16c06d7",
   "metadata": {},
   "source": [
    "## 2. Geopandas Basics\n",
    "\n",
    "Geopandas is a geographical wrapper around pandas, with abstracted focus on working with geospatial data (as its name suggests). Geopandas uses the *shapely* library to perform geometric operations and *matplotlib* for plotting maps.\n",
    "\n",
    "### 2.1 Creating a polygon in a GeoDataFrame\n",
    "Let's start by creating a geodataframe which will store the geometry of a polygon shape of the Location 'Canada'. "
   ]
  },
  {
   "cell_type": "code",
   "execution_count": 1,
   "id": "de63cae7",
   "metadata": {},
   "outputs": [
    {
     "data": {
      "text/html": [
       "<div>\n",
       "<style scoped>\n",
       "    .dataframe tbody tr th:only-of-type {\n",
       "        vertical-align: middle;\n",
       "    }\n",
       "\n",
       "    .dataframe tbody tr th {\n",
       "        vertical-align: top;\n",
       "    }\n",
       "\n",
       "    .dataframe thead th {\n",
       "        text-align: right;\n",
       "    }\n",
       "</style>\n",
       "<table border=\"1\" class=\"dataframe\">\n",
       "  <thead>\n",
       "    <tr style=\"text-align: right;\">\n",
       "      <th></th>\n",
       "      <th>location</th>\n",
       "      <th>geometry</th>\n",
       "    </tr>\n",
       "  </thead>\n",
       "  <tbody>\n",
       "    <tr>\n",
       "      <th>0</th>\n",
       "      <td>Canada</td>\n",
       "      <td>None</td>\n",
       "    </tr>\n",
       "  </tbody>\n",
       "</table>\n",
       "</div>"
      ],
      "text/plain": [
       "  location geometry\n",
       "0   Canada     None"
      ]
     },
     "execution_count": 1,
     "metadata": {},
     "output_type": "execute_result"
    }
   ],
   "source": [
    "import geopandas as gpd\n",
    "from shapely.geometry import Polygon\n",
    "\n",
    "geodf = gpd.GeoDataFrame({\"location\": \"Canada\", \"geometry\": None}, index=[0])\n",
    "geodf"
   ]
  },
  {
   "cell_type": "markdown",
   "id": "d36b6497",
   "metadata": {},
   "source": [
    "Now that we have created the geodataframe, we must add in the polygon shape to the Geometry column. Let's add all longitude and latitude as tuple pairs, which are the boundary coordinate encompassing Canada. For the sake of simplicity, only 14 coordinates points are used."
   ]
  },
  {
   "cell_type": "code",
   "execution_count": 2,
   "id": "66577ff3",
   "metadata": {},
   "outputs": [
    {
     "data": {
      "image/svg+xml": [
       "<svg xmlns=\"http://www.w3.org/2000/svg\" xmlns:xlink=\"http://www.w3.org/1999/xlink\" width=\"100.0\" height=\"100.0\" viewBox=\"-144.68716076 38.23780624 96.28933752 48.80883152000001\" preserveAspectRatio=\"xMinYMin meet\"><g transform=\"matrix(1,0,0,-1,0,125.28444400000001)\"><path fill-rule=\"evenodd\" fill=\"#66cc99\" stroke=\"#555555\" stroke-width=\"1.9257867504000001\" opacity=\"0.6\" d=\"M -141.120889,69.534518 L -141.120889,59.888937 L -126.273476,48.283193 L -95.338529,48.283193 L -83.968518,45.920587 L -83.176974,41.804078 L -67.904183,46.679594 L -65.859763,43.004647 L -51.964095,46.55886 L -60.282758,66.618122 L -77.493945,75.095633 L -57.78344,82.494824 L -78.891274,83.480366 L -128.830872,70.140364 L -141.120889,69.534518 z\" /></g></svg>"
      ],
      "text/plain": [
       "<shapely.geometry.polygon.Polygon at 0x7f9a7b7294f0>"
      ]
     },
     "execution_count": 2,
     "metadata": {},
     "output_type": "execute_result"
    }
   ],
   "source": [
    "# Each tuple: (Long, Lat)\n",
    "coordinates = [(-141.120889, 69.534518), (-141.120889, 59.888937),\n",
    "               (-126.273476, 48.283193), (-95.338529, 48.283193),\n",
    "               (-83.968518, 45.920587), (-83.176974, 41.804078),\n",
    "               (-67.904183, 46.679594), (-65.859763, 43.004647),\n",
    "               (-51.964095, 46.558860), (-60.282758, 66.618122),\n",
    "               (-77.493945, 75.095633), (-57.783440, 82.494824),\n",
    "               (-78.891274, 83.480366), (-128.830872, 70.140364)]\n",
    "\n",
    "# create the polygon shape from the tuple list using the shapely package\n",
    "poly = Polygon(coordinates)\n",
    "poly"
   ]
  },
  {
   "cell_type": "markdown",
   "id": "3de46b41",
   "metadata": {},
   "source": [
    "The output polygon looks a bit funky. Mainly because of the coordinate points chosen. Canada has a very irregular shape with many curvatures, 14 coordinate points cannot properly depict the shape of Canada. As an exercise, try and add more coordinates to get a more appropriate shape."
   ]
  },
  {
   "cell_type": "code",
   "execution_count": 51,
   "id": "34f58b38",
   "metadata": {},
   "outputs": [
    {
     "data": {
      "text/html": [
       "<div>\n",
       "<style scoped>\n",
       "    .dataframe tbody tr th:only-of-type {\n",
       "        vertical-align: middle;\n",
       "    }\n",
       "\n",
       "    .dataframe tbody tr th {\n",
       "        vertical-align: top;\n",
       "    }\n",
       "\n",
       "    .dataframe thead th {\n",
       "        text-align: right;\n",
       "    }\n",
       "</style>\n",
       "<table border=\"1\" class=\"dataframe\">\n",
       "  <thead>\n",
       "    <tr style=\"text-align: right;\">\n",
       "      <th></th>\n",
       "      <th>location</th>\n",
       "      <th>geometry</th>\n",
       "    </tr>\n",
       "  </thead>\n",
       "  <tbody>\n",
       "    <tr>\n",
       "      <th>0</th>\n",
       "      <td>Canada</td>\n",
       "      <td>POLYGON ((-141.12089 69.53452, -141.12089 59.8...</td>\n",
       "    </tr>\n",
       "  </tbody>\n",
       "</table>\n",
       "</div>"
      ],
      "text/plain": [
       "  location                                           geometry\n",
       "0   Canada  POLYGON ((-141.12089 69.53452, -141.12089 59.8..."
      ]
     },
     "execution_count": 51,
     "metadata": {},
     "output_type": "execute_result"
    }
   ],
   "source": [
    "geodf.loc[0, 'geometry'] = poly  # let's add this polygon to the geometry column, in the Canada row.\n",
    "geodf"
   ]
  },
  {
   "cell_type": "code",
   "execution_count": 52,
   "id": "18e7223b",
   "metadata": {},
   "outputs": [
    {
     "name": "stdout",
     "output_type": "stream",
     "text": [
      "None\n"
     ]
    }
   ],
   "source": [
    "print(geodf.crs)"
   ]
  },
  {
   "cell_type": "markdown",
   "id": "9c047692",
   "metadata": {},
   "source": [
    "We can see our geodataframe has not been assigned a Coordinate Reference System (CRS). This means our polygon exists in an arbitrary space. The CRS is important because it tells our Python program that the polygon is an area on the Earth. \n",
    "Let's assign our dataframe to EPSG:4326, which is the identifier for the World Geodetic System 1984 (WGS84), the standard CRS for Earth."
   ]
  },
  {
   "cell_type": "code",
   "execution_count": 53,
   "id": "655c0eb1",
   "metadata": {},
   "outputs": [
    {
     "data": {
      "text/plain": [
       "<Geographic 2D CRS: EPSG:4326>\n",
       "Name: WGS 84\n",
       "Axis Info [ellipsoidal]:\n",
       "- Lat[north]: Geodetic latitude (degree)\n",
       "- Lon[east]: Geodetic longitude (degree)\n",
       "Area of Use:\n",
       "- name: World.\n",
       "- bounds: (-180.0, -90.0, 180.0, 90.0)\n",
       "Datum: World Geodetic System 1984\n",
       "- Ellipsoid: WGS 84\n",
       "- Prime Meridian: Greenwich"
      ]
     },
     "execution_count": 53,
     "metadata": {},
     "output_type": "execute_result"
    }
   ],
   "source": [
    "geodf.crs = 4326\n",
    "geodf.crs"
   ]
  },
  {
   "cell_type": "markdown",
   "id": "7516db69",
   "metadata": {},
   "source": [
    "We can save this geodataframe as a shapefile, and now it can imported as a georeferenced polygon into other softwares like ArcGIS and QGIS."
   ]
  },
  {
   "cell_type": "code",
   "execution_count": 54,
   "id": "062e85c0",
   "metadata": {},
   "outputs": [],
   "source": [
    "geodf.to_file(\"data/canada.shp\")"
   ]
  },
  {
   "cell_type": "markdown",
   "id": "4385825a",
   "metadata": {},
   "source": [
    "### 2.2 Working with Pandas DataFrames\n",
    "\n",
    "For this section, we will be using the *earthquakes dataframe* from section 1.7. We want to plot the records as points on a map. \n",
    "The dataframe contains more than 100,000 records, but we only want to display the earthquakes that occurred in 2019. So let's minimize our working data."
   ]
  },
  {
   "cell_type": "code",
   "execution_count": 55,
   "id": "f32e77ef",
   "metadata": {},
   "outputs": [
    {
     "data": {
      "text/html": [
       "<div>\n",
       "<style scoped>\n",
       "    .dataframe tbody tr th:only-of-type {\n",
       "        vertical-align: middle;\n",
       "    }\n",
       "\n",
       "    .dataframe tbody tr th {\n",
       "        vertical-align: top;\n",
       "    }\n",
       "\n",
       "    .dataframe thead th {\n",
       "        text-align: right;\n",
       "    }\n",
       "</style>\n",
       "<table border=\"1\" class=\"dataframe\">\n",
       "  <thead>\n",
       "    <tr style=\"text-align: right;\">\n",
       "      <th></th>\n",
       "      <th>date</th>\n",
       "      <th>latitude</th>\n",
       "      <th>longitude</th>\n",
       "      <th>depth</th>\n",
       "      <th>magnitude</th>\n",
       "      <th>magnitude type</th>\n",
       "      <th>place</th>\n",
       "      <th>Unnamed: 7</th>\n",
       "      <th>Unnamed: 8</th>\n",
       "    </tr>\n",
       "  </thead>\n",
       "  <tbody>\n",
       "    <tr>\n",
       "      <th>0</th>\n",
       "      <td>1985-01-01T11:01:00+0000</td>\n",
       "      <td>47.0000</td>\n",
       "      <td>-66.6000</td>\n",
       "      <td>5.00</td>\n",
       "      <td>1.9</td>\n",
       "      <td>MN</td>\n",
       "      <td>61 km E  from Plaster Rock</td>\n",
       "      <td>NB</td>\n",
       "      <td>NaN</td>\n",
       "    </tr>\n",
       "    <tr>\n",
       "      <th>1</th>\n",
       "      <td>1985-01-01T12:34:37+0000</td>\n",
       "      <td>78.8000</td>\n",
       "      <td>-102.3300</td>\n",
       "      <td>18.00</td>\n",
       "      <td>3.2</td>\n",
       "      <td>MN</td>\n",
       "      <td>26 km E  from Isachsen</td>\n",
       "      <td>NU</td>\n",
       "      <td>NaN</td>\n",
       "    </tr>\n",
       "    <tr>\n",
       "      <th>2</th>\n",
       "      <td>1985-01-02T00:13:06+0000</td>\n",
       "      <td>48.8800</td>\n",
       "      <td>-122.9940</td>\n",
       "      <td>22.50</td>\n",
       "      <td>1.2</td>\n",
       "      <td>ML</td>\n",
       "      <td>21 km SW from White Rock</td>\n",
       "      <td>BC</td>\n",
       "      <td>NaN</td>\n",
       "    </tr>\n",
       "    <tr>\n",
       "      <th>3</th>\n",
       "      <td>1985-01-02T00:56:59+0000</td>\n",
       "      <td>50.0220</td>\n",
       "      <td>-121.5540</td>\n",
       "      <td>18.00</td>\n",
       "      <td>1.0</td>\n",
       "      <td>ML</td>\n",
       "      <td>56 km W  from Merritt</td>\n",
       "      <td>BC</td>\n",
       "      <td>NaN</td>\n",
       "    </tr>\n",
       "    <tr>\n",
       "      <th>4</th>\n",
       "      <td>1985-01-02T05:03:03+0000</td>\n",
       "      <td>49.4590</td>\n",
       "      <td>-66.7520</td>\n",
       "      <td>18.00</td>\n",
       "      <td>1.8</td>\n",
       "      <td>MN</td>\n",
       "      <td>40 km N  from Cap-Chat</td>\n",
       "      <td>QC</td>\n",
       "      <td>NaN</td>\n",
       "    </tr>\n",
       "    <tr>\n",
       "      <th>...</th>\n",
       "      <td>...</td>\n",
       "      <td>...</td>\n",
       "      <td>...</td>\n",
       "      <td>...</td>\n",
       "      <td>...</td>\n",
       "      <td>...</td>\n",
       "      <td>...</td>\n",
       "      <td>...</td>\n",
       "      <td>...</td>\n",
       "    </tr>\n",
       "    <tr>\n",
       "      <th>101360</th>\n",
       "      <td>2019-12-31T18:37:24+0000</td>\n",
       "      <td>50.4878</td>\n",
       "      <td>-121.0354</td>\n",
       "      <td>14.00</td>\n",
       "      <td>1.8</td>\n",
       "      <td>ML</td>\n",
       "      <td>31 km SE of Ashcroft, BC</td>\n",
       "      <td>NaN</td>\n",
       "      <td>NaN</td>\n",
       "    </tr>\n",
       "    <tr>\n",
       "      <th>101361</th>\n",
       "      <td>2019-12-31T22:18:53+0000</td>\n",
       "      <td>48.2504</td>\n",
       "      <td>-78.4490</td>\n",
       "      <td>0.00</td>\n",
       "      <td>2.4</td>\n",
       "      <td>MN</td>\n",
       "      <td>Blast, Laronde Mine, QC</td>\n",
       "      <td>NaN</td>\n",
       "      <td>NaN</td>\n",
       "    </tr>\n",
       "    <tr>\n",
       "      <th>101362</th>\n",
       "      <td>2019-12-31T23:11:07+0000</td>\n",
       "      <td>50.5262</td>\n",
       "      <td>-121.0061</td>\n",
       "      <td>10.45</td>\n",
       "      <td>2.0</td>\n",
       "      <td>ML</td>\n",
       "      <td>29 km SE of Ashcroft, BC</td>\n",
       "      <td>NaN</td>\n",
       "      <td>NaN</td>\n",
       "    </tr>\n",
       "    <tr>\n",
       "      <th>101363</th>\n",
       "      <td>2019-12-31T23:53:23+0000</td>\n",
       "      <td>45.0834</td>\n",
       "      <td>-74.7183</td>\n",
       "      <td>18.00</td>\n",
       "      <td>1.9</td>\n",
       "      <td>MN</td>\n",
       "      <td>6 km N from Cornwall, ON</td>\n",
       "      <td>NaN</td>\n",
       "      <td>NaN</td>\n",
       "    </tr>\n",
       "    <tr>\n",
       "      <th>101364</th>\n",
       "      <td>2019-12-31T23:54:02+0000</td>\n",
       "      <td>47.4919</td>\n",
       "      <td>-70.4124</td>\n",
       "      <td>3.79</td>\n",
       "      <td>1.3</td>\n",
       "      <td>MN</td>\n",
       "      <td>CHARLEVOIX SEISMIC ZONE, QC.</td>\n",
       "      <td>NaN</td>\n",
       "      <td>NaN</td>\n",
       "    </tr>\n",
       "  </tbody>\n",
       "</table>\n",
       "<p>101365 rows × 9 columns</p>\n",
       "</div>"
      ],
      "text/plain": [
       "                            date  latitude  longitude  depth  magnitude  \\\n",
       "0       1985-01-01T11:01:00+0000   47.0000   -66.6000   5.00        1.9   \n",
       "1       1985-01-01T12:34:37+0000   78.8000  -102.3300  18.00        3.2   \n",
       "2       1985-01-02T00:13:06+0000   48.8800  -122.9940  22.50        1.2   \n",
       "3       1985-01-02T00:56:59+0000   50.0220  -121.5540  18.00        1.0   \n",
       "4       1985-01-02T05:03:03+0000   49.4590   -66.7520  18.00        1.8   \n",
       "...                          ...       ...        ...    ...        ...   \n",
       "101360  2019-12-31T18:37:24+0000   50.4878  -121.0354  14.00        1.8   \n",
       "101361  2019-12-31T22:18:53+0000   48.2504   -78.4490   0.00        2.4   \n",
       "101362  2019-12-31T23:11:07+0000   50.5262  -121.0061  10.45        2.0   \n",
       "101363  2019-12-31T23:53:23+0000   45.0834   -74.7183  18.00        1.9   \n",
       "101364  2019-12-31T23:54:02+0000   47.4919   -70.4124   3.79        1.3   \n",
       "\n",
       "       magnitude type                         place Unnamed: 7 Unnamed: 8  \n",
       "0                  MN    61 km E  from Plaster Rock         NB        NaN  \n",
       "1                  MN        26 km E  from Isachsen         NU        NaN  \n",
       "2                  ML      21 km SW from White Rock         BC        NaN  \n",
       "3                  ML         56 km W  from Merritt         BC        NaN  \n",
       "4                  MN        40 km N  from Cap-Chat         QC        NaN  \n",
       "...               ...                           ...        ...        ...  \n",
       "101360             ML      31 km SE of Ashcroft, BC        NaN        NaN  \n",
       "101361             MN       Blast, Laronde Mine, QC        NaN        NaN  \n",
       "101362             ML      29 km SE of Ashcroft, BC        NaN        NaN  \n",
       "101363             MN      6 km N from Cornwall, ON        NaN        NaN  \n",
       "101364             MN  CHARLEVOIX SEISMIC ZONE, QC.        NaN        NaN  \n",
       "\n",
       "[101365 rows x 9 columns]"
      ]
     },
     "execution_count": 55,
     "metadata": {},
     "output_type": "execute_result"
    }
   ],
   "source": [
    "earthquakes_df"
   ]
  },
  {
   "cell_type": "markdown",
   "id": "b0f60747",
   "metadata": {},
   "source": [
    "First, we must extract the *year* from the entire date, which is of type 'object'. This can be done by converting the date to type 'datetime64 and then creating a new column with the `.dt.year` extracted."
   ]
  },
  {
   "cell_type": "code",
   "execution_count": 56,
   "id": "7f7c5145",
   "metadata": {
    "tags": []
   },
   "outputs": [],
   "source": [
    "earthquakes_df['date'] = pd.to_datetime(earthquakes_df['date'])\n",
    "earthquakes_df['year'] = earthquakes_df['date'].dt.year"
   ]
  },
  {
   "cell_type": "code",
   "execution_count": 57,
   "id": "ea0589f8",
   "metadata": {},
   "outputs": [
    {
     "data": {
      "text/plain": [
       "date              datetime64[ns, UTC]\n",
       "latitude                      float64\n",
       "longitude                     float64\n",
       "depth                         float64\n",
       "magnitude                     float64\n",
       "magnitude type                 object\n",
       "place                          object\n",
       "Unnamed: 7                     object\n",
       "Unnamed: 8                     object\n",
       "year                            int64\n",
       "dtype: object"
      ]
     },
     "execution_count": 57,
     "metadata": {},
     "output_type": "execute_result"
    }
   ],
   "source": [
    "earthquakes_df.dtypes"
   ]
  },
  {
   "cell_type": "markdown",
   "id": "8ada043a",
   "metadata": {},
   "source": [
    "Once the 'year' column has been created, we can create a variable that points to all the rows with the year equal to 2019."
   ]
  },
  {
   "cell_type": "code",
   "execution_count": 58,
   "id": "c34e9109",
   "metadata": {
    "tags": []
   },
   "outputs": [
    {
     "data": {
      "text/html": [
       "<div>\n",
       "<style scoped>\n",
       "    .dataframe tbody tr th:only-of-type {\n",
       "        vertical-align: middle;\n",
       "    }\n",
       "\n",
       "    .dataframe tbody tr th {\n",
       "        vertical-align: top;\n",
       "    }\n",
       "\n",
       "    .dataframe thead th {\n",
       "        text-align: right;\n",
       "    }\n",
       "</style>\n",
       "<table border=\"1\" class=\"dataframe\">\n",
       "  <thead>\n",
       "    <tr style=\"text-align: right;\">\n",
       "      <th></th>\n",
       "      <th>date</th>\n",
       "      <th>latitude</th>\n",
       "      <th>longitude</th>\n",
       "      <th>depth</th>\n",
       "      <th>magnitude</th>\n",
       "      <th>magnitude type</th>\n",
       "      <th>place</th>\n",
       "      <th>Unnamed: 7</th>\n",
       "      <th>Unnamed: 8</th>\n",
       "      <th>year</th>\n",
       "    </tr>\n",
       "  </thead>\n",
       "  <tbody>\n",
       "    <tr>\n",
       "      <th>96565</th>\n",
       "      <td>2019-01-01 13:02:19+00:00</td>\n",
       "      <td>49.1170</td>\n",
       "      <td>-91.7100</td>\n",
       "      <td>2.00</td>\n",
       "      <td>1.7</td>\n",
       "      <td>MN</td>\n",
       "      <td>41 N from Atikokan</td>\n",
       "      <td>NaN</td>\n",
       "      <td>NaN</td>\n",
       "      <td>2019</td>\n",
       "    </tr>\n",
       "    <tr>\n",
       "      <th>96566</th>\n",
       "      <td>2019-01-02 08:48:18+00:00</td>\n",
       "      <td>46.6880</td>\n",
       "      <td>-75.9980</td>\n",
       "      <td>18.00</td>\n",
       "      <td>1.7</td>\n",
       "      <td>MN</td>\n",
       "      <td>34 N from Maniwaki</td>\n",
       "      <td>NaN</td>\n",
       "      <td>NaN</td>\n",
       "      <td>2019</td>\n",
       "    </tr>\n",
       "    <tr>\n",
       "      <th>96567</th>\n",
       "      <td>2019-01-02 10:05:41+00:00</td>\n",
       "      <td>74.4260</td>\n",
       "      <td>-85.6000</td>\n",
       "      <td>18.00</td>\n",
       "      <td>2.1</td>\n",
       "      <td>MN</td>\n",
       "      <td>97 W from Dundas Harbour</td>\n",
       "      <td>NaN</td>\n",
       "      <td>NaN</td>\n",
       "      <td>2019</td>\n",
       "    </tr>\n",
       "    <tr>\n",
       "      <th>96568</th>\n",
       "      <td>2019-01-03 05:16:01+00:00</td>\n",
       "      <td>47.8250</td>\n",
       "      <td>-69.8020</td>\n",
       "      <td>22.50</td>\n",
       "      <td>1.1</td>\n",
       "      <td>MN</td>\n",
       "      <td>CHARLEVOIX SEISMIC ZONE</td>\n",
       "      <td>NaN</td>\n",
       "      <td>NaN</td>\n",
       "      <td>2019</td>\n",
       "    </tr>\n",
       "    <tr>\n",
       "      <th>96569</th>\n",
       "      <td>2019-01-03 05:36:01+00:00</td>\n",
       "      <td>52.9860</td>\n",
       "      <td>-132.6300</td>\n",
       "      <td>16.30</td>\n",
       "      <td>2.0</td>\n",
       "      <td>ML</td>\n",
       "      <td>61 WSW of Sandspit</td>\n",
       "      <td>NaN</td>\n",
       "      <td>NaN</td>\n",
       "      <td>2019</td>\n",
       "    </tr>\n",
       "    <tr>\n",
       "      <th>...</th>\n",
       "      <td>...</td>\n",
       "      <td>...</td>\n",
       "      <td>...</td>\n",
       "      <td>...</td>\n",
       "      <td>...</td>\n",
       "      <td>...</td>\n",
       "      <td>...</td>\n",
       "      <td>...</td>\n",
       "      <td>...</td>\n",
       "      <td>...</td>\n",
       "    </tr>\n",
       "    <tr>\n",
       "      <th>101360</th>\n",
       "      <td>2019-12-31 18:37:24+00:00</td>\n",
       "      <td>50.4878</td>\n",
       "      <td>-121.0354</td>\n",
       "      <td>14.00</td>\n",
       "      <td>1.8</td>\n",
       "      <td>ML</td>\n",
       "      <td>31 km SE of Ashcroft, BC</td>\n",
       "      <td>NaN</td>\n",
       "      <td>NaN</td>\n",
       "      <td>2019</td>\n",
       "    </tr>\n",
       "    <tr>\n",
       "      <th>101361</th>\n",
       "      <td>2019-12-31 22:18:53+00:00</td>\n",
       "      <td>48.2504</td>\n",
       "      <td>-78.4490</td>\n",
       "      <td>0.00</td>\n",
       "      <td>2.4</td>\n",
       "      <td>MN</td>\n",
       "      <td>Blast, Laronde Mine, QC</td>\n",
       "      <td>NaN</td>\n",
       "      <td>NaN</td>\n",
       "      <td>2019</td>\n",
       "    </tr>\n",
       "    <tr>\n",
       "      <th>101362</th>\n",
       "      <td>2019-12-31 23:11:07+00:00</td>\n",
       "      <td>50.5262</td>\n",
       "      <td>-121.0061</td>\n",
       "      <td>10.45</td>\n",
       "      <td>2.0</td>\n",
       "      <td>ML</td>\n",
       "      <td>29 km SE of Ashcroft, BC</td>\n",
       "      <td>NaN</td>\n",
       "      <td>NaN</td>\n",
       "      <td>2019</td>\n",
       "    </tr>\n",
       "    <tr>\n",
       "      <th>101363</th>\n",
       "      <td>2019-12-31 23:53:23+00:00</td>\n",
       "      <td>45.0834</td>\n",
       "      <td>-74.7183</td>\n",
       "      <td>18.00</td>\n",
       "      <td>1.9</td>\n",
       "      <td>MN</td>\n",
       "      <td>6 km N from Cornwall, ON</td>\n",
       "      <td>NaN</td>\n",
       "      <td>NaN</td>\n",
       "      <td>2019</td>\n",
       "    </tr>\n",
       "    <tr>\n",
       "      <th>101364</th>\n",
       "      <td>2019-12-31 23:54:02+00:00</td>\n",
       "      <td>47.4919</td>\n",
       "      <td>-70.4124</td>\n",
       "      <td>3.79</td>\n",
       "      <td>1.3</td>\n",
       "      <td>MN</td>\n",
       "      <td>CHARLEVOIX SEISMIC ZONE, QC.</td>\n",
       "      <td>NaN</td>\n",
       "      <td>NaN</td>\n",
       "      <td>2019</td>\n",
       "    </tr>\n",
       "  </tbody>\n",
       "</table>\n",
       "<p>4800 rows × 10 columns</p>\n",
       "</div>"
      ],
      "text/plain": [
       "                            date  latitude  longitude  depth  magnitude  \\\n",
       "96565  2019-01-01 13:02:19+00:00   49.1170   -91.7100   2.00        1.7   \n",
       "96566  2019-01-02 08:48:18+00:00   46.6880   -75.9980  18.00        1.7   \n",
       "96567  2019-01-02 10:05:41+00:00   74.4260   -85.6000  18.00        2.1   \n",
       "96568  2019-01-03 05:16:01+00:00   47.8250   -69.8020  22.50        1.1   \n",
       "96569  2019-01-03 05:36:01+00:00   52.9860  -132.6300  16.30        2.0   \n",
       "...                          ...       ...        ...    ...        ...   \n",
       "101360 2019-12-31 18:37:24+00:00   50.4878  -121.0354  14.00        1.8   \n",
       "101361 2019-12-31 22:18:53+00:00   48.2504   -78.4490   0.00        2.4   \n",
       "101362 2019-12-31 23:11:07+00:00   50.5262  -121.0061  10.45        2.0   \n",
       "101363 2019-12-31 23:53:23+00:00   45.0834   -74.7183  18.00        1.9   \n",
       "101364 2019-12-31 23:54:02+00:00   47.4919   -70.4124   3.79        1.3   \n",
       "\n",
       "       magnitude type                         place Unnamed: 7 Unnamed: 8  \\\n",
       "96565              MN            41 N from Atikokan        NaN        NaN   \n",
       "96566              MN            34 N from Maniwaki        NaN        NaN   \n",
       "96567              MN      97 W from Dundas Harbour        NaN        NaN   \n",
       "96568              MN       CHARLEVOIX SEISMIC ZONE        NaN        NaN   \n",
       "96569              ML            61 WSW of Sandspit        NaN        NaN   \n",
       "...               ...                           ...        ...        ...   \n",
       "101360             ML      31 km SE of Ashcroft, BC        NaN        NaN   \n",
       "101361             MN       Blast, Laronde Mine, QC        NaN        NaN   \n",
       "101362             ML      29 km SE of Ashcroft, BC        NaN        NaN   \n",
       "101363             MN      6 km N from Cornwall, ON        NaN        NaN   \n",
       "101364             MN  CHARLEVOIX SEISMIC ZONE, QC.        NaN        NaN   \n",
       "\n",
       "        year  \n",
       "96565   2019  \n",
       "96566   2019  \n",
       "96567   2019  \n",
       "96568   2019  \n",
       "96569   2019  \n",
       "...      ...  \n",
       "101360  2019  \n",
       "101361  2019  \n",
       "101362  2019  \n",
       "101363  2019  \n",
       "101364  2019  \n",
       "\n",
       "[4800 rows x 10 columns]"
      ]
     },
     "execution_count": 58,
     "metadata": {},
     "output_type": "execute_result"
    }
   ],
   "source": [
    "earthquake2019 = earthquakes_df.loc[earthquakes_df['year'] == 2019]\n",
    "earthquake2019"
   ]
  },
  {
   "cell_type": "markdown",
   "id": "18473f68",
   "metadata": {},
   "source": [
    "### 2.3 Plotting the Dataframe records and the polygon on a Basemap\n",
    "Now that we have the dataframe with only earthquakes in 2019, and the polygon depicting the Canadian boundary, we can plot them both onto a world Basemap. *Basemap* is a matplotlib extension for creating geographical visualizations. \n",
    "\n",
    "We will plot a Basemap with a Lambert conformal conic projection (LCC), focused on Canada. On top of this we will overlay the `canada.shp` which is read in using the basemap `.readshapefile(<shapefile>, <name>)` function, and the records from the earthquake2019 dataframe which will be displayed as scatter points."
   ]
  },
  {
   "cell_type": "markdown",
   "id": "d2d9c681",
   "metadata": {},
   "source": [
    "First, we must install the Basemap using the `conda install basemap`. To do this, you can type that command into the terminal window with the conda environment you want it installed to already activated, or run the line below.\n",
    "\n",
    "The exclamation mark in the beginning tells the notebook to execute the code as a terminal command, and the `-y` flag confirms the installation."
   ]
  },
  {
   "cell_type": "code",
   "execution_count": null,
   "id": "baf0f6ac",
   "metadata": {
    "tags": []
   },
   "outputs": [],
   "source": [
    "! conda install basemap -y"
   ]
  },
  {
   "cell_type": "code",
   "execution_count": 60,
   "id": "ef9148ae",
   "metadata": {
    "tags": []
   },
   "outputs": [
    {
     "data": {
      "image/png": "[encoded data removed]",
      "text/plain": [
       "<Figure size 432x288 with 1 Axes>"
      ]
     },
     "metadata": {},
     "output_type": "display_data"
    }
   ],
   "source": [
    "from mpl_toolkits.basemap import Basemap\n",
    "\n",
    "# formatting the basemap to focus on Canada\n",
    "canada = Basemap(projection='lcc', width=8E6, height=5E6, lat_0=65, lon_0=-100)\n",
    "# reading in and displaying the shapefile as a boundary line\n",
    "canada.readshapefile('data/canada', 'Canada', linewidth=3, color='blue')\n",
    "# plotting the records using the longitude and latitude points (as lists)\n",
    "canada.scatter(earthquake2019['longitude'].tolist(),\n",
    "               earthquake2019['latitude'].tolist(),\n",
    "               latlon=True, c='red',\n",
    "               alpha=0.3, zorder=10)\n",
    "\n",
    "# some formatting\n",
    "canada.drawcoastlines()  # the basemap land boundaries\n",
    "canada.fillcontinents(color='green', lake_color='skyblue')\n",
    "canada.drawmapboundary(fill_color='skyblue')  # oceans\n",
    "\n",
    "plt.title(\"All Earthquakes in Canada in 2019\")\n",
    "plt.show()"
   ]
  },
  {
   "cell_type": "markdown",
   "id": "55ac3575",
   "metadata": {},
   "source": [
    "We can see that the majority of earthquakes in 2019 took place along the Western coast of Canada, and in the St. Lawrence Valley. This makes sense because the Pacific coast is vulnerable to tectonic plate movements, and Southeastern Canada is a continental \"weak spot,\" prone to seismic activity."
   ]
  },
  {
   "cell_type": "markdown",
   "id": "47a5cb69",
   "metadata": {},
   "source": [
    "## 3. Additional Documentation\n",
    "\n",
    "**Python:**\n",
    "\n",
    "- Python Tutorials: https://docs.python.org/3/tutorial/\n",
    "- Generator functions: https://realpython.com/introduction-to-python-generators/\n",
    "- More on generators: https://wiki.python.org/moin/Generators\n",
    "- NumPy: https://numpy.org/devdocs/user/quickstart.html\n",
    "- Pandas: https://www.datacamp.com/community/tutorials/pandas-tutorial-dataframe-python\n",
    "\n",
    "**Geopandas**\n",
    "\n",
    "- Introduction to Geopandas: https://automating-gis-processes.github.io/CSC/notebooks/L2/geopandas-basics.html\n",
    "- Basemap: https://matplotlib.org/basemap/users/geography.html\n",
    "- Plotting with Geopandas https://towardsdatascience.com/plotting-maps-with-geopandas-428c97295a73"
   ]
  }
 ],
 "metadata": {
  "kernelspec": {
   "display_name": "Python 3 (ipykernel)",
   "language": "python",
   "name": "python3"
  },
  "language_info": {
   "codemirror_mode": {
    "name": "ipython",
    "version": 3
   },
   "file_extension": ".py",
   "mimetype": "text/x-python",
   "name": "python",
   "nbconvert_exporter": "python",
   "pygments_lexer": "ipython3",
   "version": "3.9.12"
  }
 },
 "nbformat": 4,
 "nbformat_minor": 5
}
