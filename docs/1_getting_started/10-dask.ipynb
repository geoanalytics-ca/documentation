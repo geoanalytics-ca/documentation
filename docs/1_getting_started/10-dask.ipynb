{
 "cells": [
  {
   "cell_type": "markdown",
   "id": "3a45b994-4a93-4a31-b649-0eabe08baf49",
   "metadata": {},
   "source": [
    "# **Dask**"
   ]
  },
  {
   "cell_type": "markdown",
   "id": "f6f88fe8-cf90-487e-9eb2-59ebe332e5db",
   "metadata": {},
   "source": [
    "**What is Dask?**\n",
    "Dask is a distributed system which can scale efficiently from a single computer to hundreds of servers. Dask uses regular Python code and Python APIS to scale the work for existing python structures (like NumPy arrays and Pandas dataframes) in parallel.\n",
    "\n",
    "**Why should we scale?**\n",
    "Computations are much faster when data can be held in local memory. Most computers do not have massive memory storages to store big data, those that do are extremely expensive. An easier and cost effective method is to use the pool of memory from a collections of systems to store large datasets.\n",
    "\n",
    "***Dask Gateway***\n",
    "The GeoAnalytics Canada Platform uses Dask Gateway to provide our users a secure multi-tenant server for managing Dask clusters. Our administrators manage the backend configuration of the clusters, so user's can connect to the Dask Gateway without hassle.\n",
    "\n",
    "Here's a diagram representing the Dask architecture, which consists of the Dask Clusters, a proxy for connecting the user's client with the scheduler, and the main Gateway for authentication and cluster management.\n",
    "\n",
    "<img src=\"../images/getting_started_images/02_dask-architecture.png\">"
   ]
  },
  {
   "cell_type": "markdown",
   "id": "0f6edd82-6cad-41b0-ac3a-026d113ae9a9",
   "metadata": {},
   "source": [
    "### 1.0 Connecting to Dask-Gateway\n",
    "\n",
    "To connect to the Dask Gateway server through Jupyterhub, a session must be activated by creating a Gateway client. \n",
    "\n",
    "The address and authentication method to use are already configured within this notebook environment, therefore, we can initialize the gateway object without any parameters. "
   ]
  },
  {
   "cell_type": "code",
   "execution_count": null,
   "id": "2263bcb2-8bf0-4b80-9135-5c45476b106d",
   "metadata": {},
   "outputs": [],
   "source": [
    "from dask_gateway import Gateway\n",
    "\n",
    "gateway = Gateway()\n",
    "gateway"
   ]
  },
  {
   "cell_type": "markdown",
   "id": "8f8ea21f-bf13-474c-8bd4-c8a7cc95ec78",
   "metadata": {},
   "source": [
    "If you want to connect to a Dask Gateway server outside of this environment, then the full address of the dask-gateway server and the authentication method to use must be provided. \n",
    "\n",
    "Such as this line of code:\n",
    "`gateway = Gateway(\"http://traefik-dask-gateway.geoanalytics.ca/services/dask-gateway/\", auth=\"jupyterhub\")`"
   ]
  },
  {
   "cell_type": "markdown",
   "id": "86662c3d-bb2d-4faa-a451-a88fc4da303f",
   "metadata": {},
   "source": [
    "### 2.0 Creating a new cluster\n",
    "`gateway.new_cluster()` will create a new cluster, but without any workers assigned."
   ]
  },
  {
   "cell_type": "code",
   "execution_count": null,
   "id": "40ba9b57-7662-4f25-bd10-842d5b1ad814",
   "metadata": {},
   "outputs": [],
   "source": [
    "cluster = gateway.new_cluster()\n",
    "cluster"
   ]
  },
  {
   "cell_type": "markdown",
   "id": "77a5a789-f9a4-442e-8a93-c411a1b685c2",
   "metadata": {},
   "source": [
    "**NOTE: The Dask extension on the left side bar provides a method to create a new cluster, do *not* create a cluster directly from this extension.**"
   ]
  },
  {
   "cell_type": "markdown",
   "id": "97443332-060f-4de5-a9d5-5b4a499cf3cb",
   "metadata": {},
   "source": [
    "### 3.0 Configuring a cluster\n",
    "The `gateway.clusters_options()` function shows the options for configuring the clusters. The options include the number of worker cores you can specify, the memory for the workers, and the Docker Image to use. \n",
    "\n",
    "For the Docker Image to work with Dask-Gateway, it must have a compatible version of Dask-Gateway installed (we recommend always using the same version as deployed on the dask-gateway-server). It's also recommended to use an *'init' process* in your images, becuase running without it may lead to odd worker behaviors. Any \"init\" process will work, but we do suggest  \"tini\". There are no other requirements for images, any image that meets the above should work fine. You may install any additional libraries or dependencies you require.\n",
    "\n",
    "If you wish to read up on \"init\" or \"tini\", here are some links:\n",
    "\n",
    "- **tini**: https://github.com/krallin/tini\n",
    "- **init**: ***INSERT A LINK HERE ***"
   ]
  },
  {
   "cell_type": "code",
   "execution_count": null,
   "id": "c62bcc54-d010-458a-ac5e-fd1e1714d189",
   "metadata": {},
   "outputs": [],
   "source": [
    "options = gateway.cluster_options()\n",
    "options"
   ]
  },
  {
   "cell_type": "code",
   "execution_count": null,
   "id": "a4435230-1f08-49b6-80e6-4a06daaa73f2",
   "metadata": {},
   "outputs": [],
   "source": [
    "cluster"
   ]
  },
  {
   "cell_type": "markdown",
   "id": "ffd1c25a-c964-4b07-b036-cd99226a1246",
   "metadata": {},
   "source": [
    "Let's assign the default options as the configuration for a new cluster. The default RAM is 10GB - \"worker cores = 1, worker memory = 7 GB, scheduler = Pangeo notebook\". **These worker resources cannot be adjusted.** GeoAnalytics' administrators have controlled the worker resources for optimal use. "
   ]
  },
  {
   "cell_type": "code",
   "execution_count": null,
   "id": "1a2c6c29-5bac-42b9-85ee-22a908a92bc4",
   "metadata": {},
   "outputs": [],
   "source": [
    "cluster2 = gateway.new_cluster(options)\n",
    "cluster2"
   ]
  },
  {
   "cell_type": "markdown",
   "id": "b626ef5a-64fe-4020-bbba-3d7feb80cca6",
   "metadata": {},
   "source": [
    "### 4.0 Scaling the Clusters\n",
    "\n",
    "*There are two types of ways to scale up a cluster:*\n",
    "\n",
    "**1. Manual Scale**\n",
    "\n",
    "The `.scale(N)` method can be used to scale the workers in a cluster by specifying the number of workers wanted in place of N.\n",
    "\n",
    "Here, we scale up to two workers, and you can see in the resulting Gateway cluster, the workers, cores, and memory have increased by two-times the default values since there are two workers available."
   ]
  },
  {
   "cell_type": "code",
   "execution_count": null,
   "id": "a3b9214b-5119-4c36-a3f8-5e3a63c0448f",
   "metadata": {},
   "outputs": [],
   "source": [
    "cluster.scale(2)\n",
    "cluster"
   ]
  },
  {
   "cell_type": "markdown",
   "id": "c1d404e7-88d5-46b4-a4b8-5407e7f8eae4",
   "metadata": {},
   "source": [
    "**2. Adaptive scaling**\n",
    "\n",
    "Another way to scale is by allowing the cluster to scale based on the load, adaptively. This reduces the amount of resources to only what is required. The `.adapt(minimum=<min number>, maximum=<max number>)` function takes in two parameters that sets the bounds for the minimum and maximum number of workers allowed."
   ]
  },
  {
   "cell_type": "code",
   "execution_count": null,
   "id": "0252cb78-4296-4586-b003-0516e612a064",
   "metadata": {},
   "outputs": [],
   "source": [
    "# Adaptively scale between 2 and 10 workers\n",
    "cluster.adapt(minimum=5, maximum=10)\n",
    "cluster"
   ]
  },
  {
   "cell_type": "markdown",
   "id": "6eb7e34d-383c-4b49-bf13-74187517b591",
   "metadata": {},
   "source": [
    "### 5.0 Connecting to the cluster\n",
    "\n",
    "To start working and putting the cluster to use, you will need to create a client specific to the cluster using the `.get_client()` method which will return a dask.distributed.Client object containing information about the cluster, and url to the dask dashboard and scheduler. "
   ]
  },
  {
   "cell_type": "code",
   "execution_count": null,
   "id": "63b3f4df-c951-4d3c-b004-d55ab6a2998d",
   "metadata": {},
   "outputs": [],
   "source": [
    "client = cluster.get_client()\n",
    "client"
   ]
  },
  {
   "cell_type": "markdown",
   "id": "34e19883-9b12-46f9-a6ee-38a265d71f65",
   "metadata": {},
   "source": [
    "By creating the new cluster now, the URL above will take you to the cluster's dashboard. However, it is possible to create a cluster outside the Jupyter environment. To get the URL of this cluster, note the name of the cluster which can be figured out by `print(cluster)` after setting cluster to `gateway.new_cluster(options)`. The name will be added to the URL, in this way: http://traefik-dask-gateway.geoanalytics.ca/services/dask-gateway/clusters/ {cluster_name}\n"
   ]
  },
  {
   "cell_type": "markdown",
   "id": "5652e146-44fa-473a-bd57-daf76f62cfa5",
   "metadata": {},
   "source": [
    "### 6.0 Shutting down the cluster\n",
    "After you are done your work with the clusters, shut the clusters down using the `.shutdown()` method which closes all dask workers, scheduler, and the connection to the Client. \n",
    "\n",
    "**Important Note: Remember to ALWAYS shut down the cluster before closing your Jupyter server and disconnecting from GEOAnalytics!**"
   ]
  },
  {
   "cell_type": "code",
   "execution_count": null,
   "id": "dc4bf59e-454c-4d1d-b194-22d59a0e7131",
   "metadata": {},
   "outputs": [],
   "source": [
    "cluster.shutdown()\n",
    "cluster2.shutdown()"
   ]
  },
  {
   "cell_type": "markdown",
   "id": "e425ef99-9972-45aa-a022-30ee1bb136a1",
   "metadata": {},
   "source": [
    "### 7.0 Additional Information\n",
    "\n",
    "The Dask dashboard offers multiple visualizations to diagnose the performance of the distributed computation. \n",
    "\n",
    "A brief overview of some of the Visualizations:\n",
    "\n",
    "- **Dask Task Stream:** activity of every core across a cluster over time.\n",
    "- **Dask Progress:** shows the progress of every separate task\n",
    "- **Dask Profile:** explains the profile of the code at a \"finer granularity.\"\n",
    "- **Dask System Plots:** gives information about the processes being run by the scheduler.\n",
    "- **Dask Graph:** shows active tasks as the nodes with edges between dependent tasks.\n",
    "- **Dask Workers:** gives all the information about the workers in the cluster.\n",
    "\n",
    "\n",
    "Here are a few sources if you would like explore Dask further:\n",
    "\n",
    "* *Dask Gateway : https://gateway.dask.org*\n",
    "* *Video walkthrough of Dask Dashboard: https://www.youtube.com/watch?v=N_GqzcuGLCY*"
   ]
  }
 ],
 "metadata": {
  "kernelspec": {
   "display_name": "Python 3 (ipykernel)",
   "language": "python",
   "name": "python3"
  },
  "language_info": {
   "codemirror_mode": {
    "name": "ipython",
    "version": 3
   },
   "file_extension": ".py",
   "mimetype": "text/x-python",
   "name": "python",
   "nbconvert_exporter": "python",
   "pygments_lexer": "ipython3",
   "version": "3.9.12"
  }
 },
 "nbformat": 4,
 "nbformat_minor": 5
}
