{
 "cells": [
  {
   "cell_type": "markdown",
   "id": "b5e3d08a-9f9c-4768-be24-7ed6e2e310a0",
   "metadata": {},
   "source": [
    "# Remote Connection via VSCode"
   ]
  },
  {
   "cell_type": "markdown",
   "id": "2d6883e4-24e5-4a3e-ae2d-e4c241e09302",
   "metadata": {},
   "source": [
    "Moving your algorithms (code) to execute close to the data you are processing (while minimizing data movement) is a key part of scalable data processing. To allow code and algorithms that are on your local computer to be executed on GeoAnalytics Canada, you can setup your locally installed Visual Studio Code (VSCode) to leverage SSH connections. This will enable you to execute on your GeoAnaltytics Canada Remote Desktop using an SSH tunnel thereby allowing you access to all of GeoAnalytics Canada’s processing infrastructure through a local IDE. This tutorial will go over how to use VSCode (open source) to connect to our Remote Desktops."
   ]
  },
  {
   "cell_type": "markdown",
   "id": "e352c10f-5147-47bc-8625-d651c455041e",
   "metadata": {},
   "source": [
    "Requirements:\n",
    "\n",
    "    - VSCode installed on your machine\n",
    "    - A Running Remote Desktop environment"
   ]
  },
  {
   "cell_type": "markdown",
   "id": "2a0a688c-1e4b-4be9-9c4e-697e176619f3",
   "metadata": {},
   "source": [
    "## VSCode \"Remote - SSH\" Extension"
   ]
  },
  {
   "cell_type": "markdown",
   "id": "85ae6e62-a2ac-423d-b41b-876e08f66eac",
   "metadata": {},
   "source": [
    "In your VSCode Editor, you will need to install the extention: https://marketplace.visualstudio.com/items?itemName=ms-vscode-remote.remote-ssh\n"
   ]
  },
  {
   "cell_type": "markdown",
   "id": "83a07153-8876-40e7-b685-1246f8d6bc14",
   "metadata": {},
   "source": [
    "Once installed, you will have a green icon in the bottom left of your Editor window: \n",
    "\n",
    "![Remote Connection Icon](https://microsoft.github.io/vscode-remote-release/images/remote-dev-status-bar.png)"
   ]
  },
  {
   "cell_type": "markdown",
   "id": "453270fb-5474-4dce-9761-12b6061038cd",
   "metadata": {},
   "source": [
    "## Configuring SSH Connection"
   ]
  },
  {
   "cell_type": "markdown",
   "id": "7a017934-5785-4f0a-8594-03e83ead90e8",
   "metadata": {},
   "source": [
    "After clicking the green icon, you will be presented with a list of remote connection options:\n",
    "    \n",
    "![Remote Connection SSH List](https://code.visualstudio.com/assets/blogs/2019/10/03/remote-extension-commands.png)"
   ]
  },
  {
   "cell_type": "markdown",
   "id": "304fedd9-eb14-4983-aa50-b762390861cf",
   "metadata": {},
   "source": [
    "From here we can connect directly to the Remote Desktop the same way you would connect passing in the destination via SSH terminal commands:\n",
    "    \n",
    "    - username@IPAddress\n",
    "\n",
    "Make sure you only enter \"username@IPAddress\" since it is already done through the same SSH protocol as the terminal. "
   ]
  },
  {
   "cell_type": "markdown",
   "id": "9390881b-8edc-419b-95f7-cfcdddf65f54",
   "metadata": {},
   "source": [
    "## Configure SSH Config File"
   ]
  },
  {
   "cell_type": "markdown",
   "id": "2ecb8648-e8af-4e00-b9a7-58d39c99e7b6",
   "metadata": {},
   "source": [
    "If you have not already, you can configure your SSH config file to automatically connect. The .ssh/config file would look something like the following: \n",
    "    \n",
    "<pre>\n",
    "Host geoanalytics-remote-desktop\n",
    "   HostName \"Your IP Address for the Remote Desktop\"\n",
    "   User \"username\"\n",
    "</pre>\n"
   ]
  },
  {
   "cell_type": "markdown",
   "id": "8e66c1ee-4acf-4df2-bf0c-4dcbe4fb0ae8",
   "metadata": {},
   "source": [
    "If you have SSH keys configured for your Remote Desktop session, you may want to point the configuration to the Identity File.\n",
    "Also, an SSH connection will need X11 Forwarding enabled to allow for a Remote Desktop client like X2Go. \n",
    "Your configuration file will look something like this:\n",
    "\n",
    "<pre>\n",
    "Host geoanalytics-remote-desktop\n",
    "   HostName \"Your IP Address for the Remote Desktop\"\n",
    "   User \"username\"\n",
    "   IdentityFile ~/.ssh/geoanalytics-remote-desktop\n",
    "   ForwardAgent yes\n",
    "   ForwardX11 yes\n",
    "   ForwardX11Trusted yes\n",
    "</pre>"
   ]
  },
  {
   "cell_type": "markdown",
   "id": "3a0c68e6-9a07-478f-94a4-acca2f7bbed4",
   "metadata": {},
   "source": [
    "If configured, then when you click \"Connect to Host...\", your target Host will be in the drop down list. "
   ]
  },
  {
   "cell_type": "markdown",
   "id": "8ae81591-0061-47aa-a1ff-221c1081ff03",
   "metadata": {},
   "source": [
    "When connected, you will be able to mount to a directory in your VSCode Explorer, run a terminal, and start developing remotely!"
   ]
  },
  {
   "cell_type": "code",
   "execution_count": null,
   "id": "699a6b66-75bd-4f76-adb1-7c82b3b199b9",
   "metadata": {},
   "outputs": [],
   "source": []
  }
 ],
 "metadata": {
  "kernelspec": {
   "display_name": "Python 3 (ipykernel)",
   "language": "python",
   "name": "python3"
  },
  "language_info": {
   "codemirror_mode": {
    "name": "ipython",
    "version": 3
   },
   "file_extension": ".py",
   "mimetype": "text/x-python",
   "name": "python",
   "nbconvert_exporter": "python",
   "pygments_lexer": "ipython3",
   "version": "3.9.12"
  }
 },
 "nbformat": 4,
 "nbformat_minor": 5
}
