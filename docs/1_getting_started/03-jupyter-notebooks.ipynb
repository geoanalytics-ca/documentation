{
 "cells": [
  {
   "cell_type": "markdown",
   "id": "13a8a741",
   "metadata": {},
   "source": [
    "# **Jupyter Notebooks**"
   ]
  },
  {
   "cell_type": "markdown",
   "id": "2b4e5c1b",
   "metadata": {},
   "source": [
    "## 1. Navigating through GeoAnalytics Canada JupyterHub\n",
    "\n",
    "JupyterHub provides support for many users in a notebook servers space. Users have access to computational environments without requiring any installations on their local computers, everything can be run in the cloud. Jupyter-lab allows for interactive, scalable data analysis and visualizations, where the code and narrative texts can be mixed in the notebook while being in the same location as the data.\n",
    "\n",
    "In order to provide scalable big data analytics, the system’s Jupyter-Lab environment is based on what is known as a **“Pangeo environment”**.  The core software packages that make up the Jupyter environment include:\n",
    "\n",
    "* Xarray – provides an N-Dimensional Array interface and toolset\n",
    "* Iris – provides methods for analysing and visualising meteorological and oceanographic datasets\n",
    "* Dask – provides flexible parallel computing for analytics\n",
    "* Zarr – the next generation, cloud-native file format for gridded datasets\n",
    "* Jupyter-Lab – provides the web application framework for interactive analytics\n",
    "\n",
    "Using these core packages, especially Xarray and Dask, scalable big data analytics can be executed on satellite EO data. Our JupyterLab is configured to allow direct access to scalable processing power and all EO and ground-truth datasets. \n"
   ]
  },
  {
   "cell_type": "markdown",
   "id": "1c3bfb49",
   "metadata": {},
   "source": [
    "To get started with your project, select the ***Jupyter*** tool from the main page on your GEOAnalytics Canada platform. This will lead you to your JupyterHub interface. \n",
    "\n",
    "<img src=\"../images/getting_started_images/02_launching-jupyterlab.gif\">\n",
    "\n",
    "**The main workspace consists of:**\n",
    "\n",
    "- the launcher tab at start-up where you can work with Jupyter notebooks, Jupyter consoles, terminal, and text or markdown files\n",
    "- the file browser containing the folders and files accessible for you.\n",
    "- the plus sign in the top left activates a new launcher tab.\n",
    "\n",
    "**The left sidebar contains:**\n",
    "\n",
    "- a file browser\n",
    "- the list of running kernels and terminals \n",
    "- the Dask dashboard (which will not be of use for us because it does not support Dask Gateway) \n",
    "- the command palette\n",
    "- the notebook cell tools inspector\n",
    "- the tabs list\n",
    "- the extension manager.\n",
    "\n",
    "<img src=\"../images/getting_started_images/02_jupyter-platform.png\">\n"
   ]
  },
  {
   "cell_type": "markdown",
   "id": "f9128845",
   "metadata": {},
   "source": [
    "### 1.1 Launching New Notebooks\n",
    "Within the Launcher tab, there are two environments to choose from. The *Python 3* environment and the *Python [conda env:notebook]* are both the same environments. These environments are created specifically for EO analysis, with essential packages already installed.\n",
    "\n",
    "Let's create a notebook with either the *conda notebook environment* and begin writing some code!\n",
    "\n",
    "<img src=\"../images/getting_started_images/02_launching-notebook.gif\">\n"
   ]
  },
  {
   "cell_type": "markdown",
   "id": "4e316df9",
   "metadata": {},
   "source": [
    "### 1.2 Launching Terminal\n",
    "To start a new terminal session, click the terminal in the Launcher tab. Terminal provides full support for all system shells on Mac, Linux, and Windows. Just like the shell on your local system, anything can be run with this server terminal.\n",
    "\n",
    "<img src=\"../images/getting_started_images/02_terminal.png\">\n",
    "\n",
    "Closing a running terminal will not shut down the terminal, rather it will continue running in the background. In the \"Running Terminals and Kernels\" tab, you can reopen a closed terminal, or completely shut the terminal down. \n",
    "\n",
    "\n",
    "<img src=\"../images/getting_started_images/02_exiting-terminal.gif\">"
   ]
  },
  {
   "cell_type": "markdown",
   "id": "f4bbb698",
   "metadata": {},
   "source": [
    "***NOTE: Sudo / Root access is not available from the Jupyterlab environment's terminal.***"
   ]
  },
  {
   "cell_type": "markdown",
   "id": "f2e4114f",
   "metadata": {},
   "source": [
    "## 2. Location of the GEOAnalytics folders\n",
    "\n",
    "As you can see in the file browser tab, there are 2 folders provided as default. There are two different type of folders available in the GEOAnalytics JupyterLab platform:\n",
    "\n",
    "- **Private Mounted Buckets**: Folders available only if you have GEOAnalytics Platform access. \n",
    "    - `geoanalytics_user_shared_data` - All platform EO data collections including raw datasets and pre-processed datasets. *All users can read and write to this location.*\n",
    "- **Personal Storage**\n",
    "    - `geoanalytics_<username>` - A user’s personal network file system where only the logged in user can *read or write* to their own personal storage directory.\n"
   ]
  },
  {
   "cell_type": "markdown",
   "id": "c0471cbe",
   "metadata": {},
   "source": [
    "## 3. How the Jupyter environment is set up"
   ]
  },
  {
   "cell_type": "markdown",
   "id": "0bedb9d6",
   "metadata": {},
   "source": [
    "### 3.1 Conda and Pip\n",
    "A conda environment is a directory containing the specific collection of conda packages installed. The primary anaconda environment set up in our JupyterLab is called the \"conda env:notebook\" with all the packages from the *environment.yml* file installed. \n",
    "\n",
    "Here are a few useful commands you can use in terminal to understand the anaconda environment better:\n",
    "\n",
    "- To check the current versions of packages/softwares: `<package/software name> --version`\n",
    "    - for example, `pip --version`\n",
    "- To find the information about the conda environment you are currently residing in: `conda info`\n",
    "- To list all the packages downloaded in the environment: `conda list`\n",
    "- To list modules installed with pip (very useful for debugging purposes): `pip freeze`\n",
    "- To find all the versions of a package available for download: `conda search <package name>`\n",
    "- To know all the conda commands available: `conda --help`"
   ]
  },
  {
   "cell_type": "markdown",
   "id": "302e4ad3",
   "metadata": {},
   "source": [
    "\n",
    "**Pip** is a Python tool for installing packages from PyPI (Python Package Index) as wheels or source distributions.\n",
    "\n",
    "**Conda** is a package and environment management system for installing and managing packages from the Anaconda system. While pip only installs *Python* packages, conda can install packages of any programming language. \n",
    "\n",
    "**Which one is better?**\n",
    "Both, pip and conda, are ideal at handling different things. Pip is better for installing python packages since pip obtains these packages faster, while it is adopted by conda much later. Conda is great at installing packages within a conda environment and managing dependencies, with the flexibility of working with other languages. \n",
    "\n",
    "**Can both package managers be used?**\n",
    "Fortunately, conda and pip can coexist. But there are a few guidelines to keep your working environment clean and to avoid conflicts:\n",
    "\n",
    "* Best approach is to install using pip only *after* all the other required packages have been satisfied by conda. \n",
    "* Use isolated conda environments, try not to work in the core root environment to avoid issues. Creating conda environments with only the packages you need makes it easy to maintain. \n",
    "* After installing pip packages in conda environment, conda is unaware of these changes. So, if you must install additional packages using conda, recreate the environment rather than installing in the same environment and creating conflicts. \n",
    "* Use text files when possible to store the packages you want installed with pip and conda, such as \"environment.yml.\" Installing packages listed in a file is much easier to install, keep track of everything installed, and share the environment package requirements with other users. "
   ]
  },
  {
   "cell_type": "markdown",
   "id": "653f7e2f",
   "metadata": {},
   "source": [
    "➔ Using the commands above or any other commands, list the packages downloaded within the jupyter environment and make your guesses on whether each package was installed using conda or pip!\n",
    "\n",
    "For further readings to understand pip and anaconda, here are a few helpful websites:\n",
    "\n",
    "- https://www.anaconda.com/blog/using-pip-in-a-conda-environment\n",
    "- https://www.anaconda.com/blog/understanding-conda-and-pip\n",
    "- https://jakevdp.github.io/blog/2016/08/25/conda-myths-and-misconceptions/"
   ]
  },
  {
   "cell_type": "markdown",
   "id": "2a5f9033",
   "metadata": {},
   "source": [
    "**Let's install some packages using pip and conda!**\n",
    "\n",
    "### 3.2 Installing using conda\n",
    "\n",
    "***Important Note:*** *Installing any packages in the Jupyter environment only remains for the current session. This means that once the Jupyter server is shutdown, you will not have the packages installed for your next session.*\n",
    "\n",
    "\n",
    "Now, if you remember from the Python Introduction Tutorial Notebook, we installed the Basemap extension of Matplotlib's Toolkit using **conda**. If you are still in the same session as when you installed this package, it should be installed in this environment. If you are unsure, run the cell below which install the basemap module if it does not already exist in the environment. "
   ]
  },
  {
   "cell_type": "code",
   "execution_count": 11,
   "id": "a50dc50e",
   "metadata": {},
   "outputs": [],
   "source": [
    "try:\n",
    "    from mpl_toolkits.basemap import Basemap\n",
    "except ImportError:\n",
    "    # Install Basemap \n",
    "    ! conda install basemap -y\n",
    "    from mpl_toolkits.basemap import Basemap"
   ]
  },
  {
   "cell_type": "markdown",
   "id": "9307b58f",
   "metadata": {},
   "source": [
    "Once the package has been installed, let's make sure it works perfectly by run the code block below which should produce a map of Canada."
   ]
  },
  {
   "cell_type": "code",
   "execution_count": 12,
   "id": "24424e04",
   "metadata": {},
   "outputs": [
    {
     "data": {
      "image/png": "[encoded data removed]",
      "text/plain": [
       "<Figure size 432x288 with 1 Axes>"
      ]
     },
     "metadata": {},
     "output_type": "display_data"
    }
   ],
   "source": [
    "import matplotlib.pyplot as plt\n",
    "\n",
    "# create Basemap instance for Lambert conformal conic projection of Canada\n",
    "canada = Basemap(projection='lcc',width=8E6, height=5E6, lat_0=65, lon_0=-100)\n",
    "\n",
    "canada.drawcoastlines() # the basemap land boundaries \n",
    "canada.fillcontinents(color='green',lake_color='skyblue') \n",
    "canada.drawmapboundary(fill_color='skyblue') # oceans\n",
    "plt.show()"
   ]
  },
  {
   "cell_type": "markdown",
   "id": "ad166a4d",
   "metadata": {},
   "source": [
    "### 3.3 Installing with Pip\n",
    "Now let's install a package using pip. When installing within a conda environment, pip should only be run with the flags `--upgrade-strategy only-if-needed` to control other packages can upgraded only if it is necessary. Let's install **seaborn** which is a python visualization library based on matplotlib.\n",
    "\n",
    "Similar to the approach above, run try and except block below to install the package."
   ]
  },
  {
   "cell_type": "code",
   "execution_count": null,
   "id": "deef1b82",
   "metadata": {
    "tags": []
   },
   "outputs": [],
   "source": [
    "try:\n",
    "    import seaborn as sns\n",
    "except ImportError:\n",
    "    # Install Seaborn \n",
    "    ! pip install  --upgrade-strategy only-if-needed seaborn\n",
    "    import seaborn as sns"
   ]
  },
  {
   "cell_type": "markdown",
   "id": "1c0837f7",
   "metadata": {},
   "source": [
    "Now, run the code block below to confirm the package is installed and works properly."
   ]
  },
  {
   "cell_type": "code",
   "execution_count": 13,
   "id": "3e78bbcf",
   "metadata": {},
   "outputs": [
    {
     "data": {
      "image/png": "[encoded data removed]",
      "text/plain": [
       "<Figure size 360x360 with 1 Axes>"
      ]
     },
     "metadata": {
      "needs_background": "light"
     },
     "output_type": "display_data"
    }
   ],
   "source": [
    "import numpy as np\n",
    "\n",
    "lst = np.random.randint(0, 30, 100)\n",
    "sns.displot(lst, kde=True, stat=\"density\", linewidth=0)\n",
    "plt.show()"
   ]
  },
  {
   "cell_type": "markdown",
   "id": "4cf04707",
   "metadata": {},
   "source": [
    "### 3.4 Installing packages from a text file\n",
    "The commands to install packages above only installed one package at a time. To use the same set of packages you require, listing them in a text file and simply installing all packages from the text file is an easy way to have a reproducible environment. \n",
    "\n",
    "Let's install a few helpful Geospatial packages that are not available in the environment yet. \n",
    "\n",
    "1. Create a text file called \"geospatial_packages.txt\" in the `/home/jovyan` directory (the root folder). \n",
    "2. Copy the three packages with the exact versions to be installed into this text file. \n",
    "    - `folium==0.12.0`\n",
    "    - `geopy==2.1.0`\n",
    "    - `lidar==0.6.1`\n",
    "3. Run the command in the cell below to install the packages within the text file using conda."
   ]
  },
  {
   "cell_type": "code",
   "execution_count": null,
   "id": "db86b774",
   "metadata": {
    "tags": []
   },
   "outputs": [],
   "source": [
    "! conda install -c conda-forge --file /home/jovyan/geospatial_packages.txt -y"
   ]
  },
  {
   "cell_type": "markdown",
   "id": "564b37b4",
   "metadata": {},
   "source": [
    "Now you should have these packages included in the notebook environment. Check by listing all the packages in the environment."
   ]
  },
  {
   "cell_type": "code",
   "execution_count": null,
   "id": "b78d3984",
   "metadata": {
    "tags": []
   },
   "outputs": [],
   "source": [
    "! conda list"
   ]
  },
  {
   "cell_type": "markdown",
   "id": "d9e9a429",
   "metadata": {},
   "source": [
    "## 4. Benefits and Caveats\n",
    "### Benefits:\n",
    "- Bring the analytics to the data rather than requiring the data to be duplicated or moved. Jupyter-Lab is a web application that allows live code, equations, visualizations and narrative text to be mixed in a notebook and executed on computational systems that are co-located with the data.\n",
    "- The Jupyer-Lab environment allows interactive data analytics to be executed without worrying about computational resources or installing software.\n",
    "- Dask gateway makes it easy to configure your clusters, removing the need to deal with backend administrations. \n",
    "\n",
    "\n",
    "\n",
    "### Caveats:\n",
    "- It is recommended to NOT install softwares or packages to your personal data storage system, the geoanalytics_{username} folder.\n",
    "- The JupyterLab extension for the Dask Dashboard is only available for Dask.distributed. The Dask Dashboard for Dask Gateway can only open in a different browser tab.\n",
    "- Installing new custom packages only last for the current session, so once the jupyter server is shutdown, none of the installed packages from last session will be available."
   ]
  }
 ],
 "metadata": {
  "kernelspec": {
   "display_name": "Python 3 (ipykernel)",
   "language": "python",
   "name": "python3"
  },
  "language_info": {
   "codemirror_mode": {
    "name": "ipython",
    "version": 3
   },
   "file_extension": ".py",
   "mimetype": "text/x-python",
   "name": "python",
   "nbconvert_exporter": "python",
   "pygments_lexer": "ipython3",
   "version": "3.9.13"
  }
 },
 "nbformat": 4,
 "nbformat_minor": 5
}
