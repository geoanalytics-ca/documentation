{
 "cells": [
  {
   "cell_type": "markdown",
   "id": "69540e70-9aec-4ec9-9411-a3596389c4f1",
   "metadata": {},
   "source": [
    "# Set Up SSH Keys to access Remote Desktop VM over SSH"
   ]
  },
  {
   "cell_type": "markdown",
   "id": "d6f0b261-162d-4499-8ff7-f61301074912",
   "metadata": {},
   "source": [
    "To connect to your GEOAnalytics Canada Remote Desktop over SSH, you will need to generate an SSH key pair on your local machine and upload the public key to your remote desktop.\n",
    "\n",
    "1. Open up a terminal or PowerShell\n",
    "2. run the command <pre>sshkey-gen -t rsa</pre>\n",
    "3. Then configure your key name saved under the \".ssh/\" directory\n",
    "4. Copy the contents of the .pub version\n",
    "5. Connect to the [Remote Desktop](https://docs.geoanalytics.ca/1_getting_started/05-desktop-vm.html)\n",
    "6. In a terminal on the remote desktop, run <pre>nano .ssh/authorized_keys</pre>\n",
    "7. Paste the .pub contents at the end of the opened file on a new line\n",
    "8. Save the file in place and exit"
   ]
  },
  {
   "cell_type": "markdown",
   "id": "a68eff1c-238c-463b-9137-edac34a05119",
   "metadata": {},
   "source": [
    "## References: \n",
    "    [1] - https://linuxhint.com/generate-ssh-key-ubuntu/\n",
    "    [2] - https://docs.microsoft.com/en-us/windows-server/administration/openssh/openssh_keymanagement"
   ]
  },
  {
   "cell_type": "code",
   "execution_count": null,
   "id": "e0866a9b-a9d5-4f3f-970d-b8c42200873c",
   "metadata": {},
   "outputs": [],
   "source": []
  }
 ],
 "metadata": {
  "kernelspec": {
   "display_name": "Python 3 (ipykernel)",
   "language": "python",
   "name": "python3"
  },
  "language_info": {
   "codemirror_mode": {
    "name": "ipython",
    "version": 3
   },
   "file_extension": ".py",
   "mimetype": "text/x-python",
   "name": "python",
   "nbconvert_exporter": "python",
   "pygments_lexer": "ipython3",
   "version": "3.9.12"
  }
 },
 "nbformat": 4,
 "nbformat_minor": 5
}
