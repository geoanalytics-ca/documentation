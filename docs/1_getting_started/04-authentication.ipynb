{
 "cells": [
  {
   "cell_type": "markdown",
   "id": "1def8e24",
   "metadata": {},
   "source": [
    "# **Authentication**"
   ]
  },
  {
   "cell_type": "markdown",
   "id": "d2c074f2",
   "metadata": {},
   "source": [
    "## 1. Levels of Authentication\n",
    "\n",
    "All software systems implemented in the GEOAnalytics Canada Platform require users to be authenticated before access is given. The GEOAnalytics platform uses LDAP (Lightweight Directory Access Protocol) to store user information and allow users to authenticate and log into the platform. Hatfield has also implemented a single sign-on (SSO) system based on the industry-standard OAuth 2 protocol, where you, the user, only needs to login to the platform once to gain access of all platform functions. Using this SSO system, an API token is given when you first login and is validated by platform services when accessed by you. \n",
    "\n",
    "\n",
    "All users need to login through the single-sign-on system with their **username** and **password** to access platform systems and data.\n",
    "<img src=\"../images/getting_started_images/03_login.png\">\n",
    "\n",
    "Once you have logged in, you will be led to the GEOAnalytics Platform's main dashboard.\n",
    "\n",
    "<img src=\"../images/getting_started_images/03_platform.png\">\n",
    "\n",
    "From the image above, take note of the **\"API Access Token\"** in the top right corner and the bottom of the dashboard. This API token is another authentication method to access parts of the GEOAnalytics API. The token is primarily used by pasting the token into certain scripts for access to the platform's tools."
   ]
  },
  {
   "cell_type": "markdown",
   "id": "e4036680",
   "metadata": {},
   "source": [
    "## 2. Systems Accessible with Username and Password\n",
    "With your user and password stored in the browser for the single sign-on system, you have access to most of the system, instantly. \n",
    "\n",
    "* **EO Browser** is a web portal with collections of Earth Observation data which can be usable for all GEOAnalytic users.\n",
    "* **Ground Truth** system implements powerful APIs that allow ground truth data to be integrated into other platform services, such as the EO data pre-processing and Jupyter-Lab analytic environments.\n",
    "* **JupyterLab** allows interactive data analytics to be executed without worrying about computational resources or installing software.\n",
    "* **Desktop App** is a personal Ubuntu Desktop environment available in a web browser.\n",
    "* **Kubeflow** is a platform for large scale batch processing and machine learning tasks.\n",
    "* **Gitlab** is your private Git repository for managing and controlling scripts, programs, and docker images of your GEOAnalytics projects. It contains a container registry for Docker images.\n",
    "* **FileBrowser** contains the catelogue of data on the platform, ready to use/download. \n",
    "\n",
    "However, *Kubeflow* and *Gitlab* require you to enter in your username and password for access. \n",
    "\n",
    "\n",
    "***For Example:*** to access Kubeflow through your JupyterLab environment, importing `GeoAnalyticsKubflowClient` and providing the username and password will give direct access. **(This library to access Kubeflow will soon be available!)**\n",
    "\n",
    "``` python\n",
    "from GEOAnalyticsKubeflowClient import GEOAnalyticsKubeflowClient\n",
    "provider = DexProvider(\"http://kubeflow.geoanalytics.ca\")\n",
    "kubeflow_client = GEOAnalyticsKubeflowClient(input(\"Username: \"), getpass.getpass(), provider)\n",
    "```"
   ]
  },
  {
   "cell_type": "markdown",
   "id": "07f92791",
   "metadata": {},
   "source": [
    "## 3. Systems Accessible with API Token\n"
   ]
  },
  {
   "cell_type": "markdown",
   "id": "f1b33b9f",
   "metadata": {},
   "source": [
    "The API Token grants access to GEOAnalytics API which cannot be accessed with just your username and password. \n",
    "\n",
    "An example of how to use this API token is down below. Here, Python sends a request to GEOAnalytics' STAC Server, using the API token to directly access the STAC Browser and output the Server's request header. "
   ]
  },
  {
   "cell_type": "code",
   "execution_count": 17,
   "id": "7345b354",
   "metadata": {},
   "outputs": [],
   "source": [
    "import requests\n",
    "import json\n",
    "import sys"
   ]
  },
  {
   "cell_type": "code",
   "execution_count": 18,
   "id": "4e4d6bc9",
   "metadata": {},
   "outputs": [
    {
     "name": "stdin",
     "output_type": "stream",
     "text": [
      "Please copy and paste your API Access Token here:  _oauth2_proxy=XSHZFUiRBtAXONtm2uRtACDb9PDn9X7gSfbBYMylcGIVFeZtRK5bBPGPZ_Y0lnCZJvCocEKpnKVAfiiOOrmcgxTqIJhYHlhJKPPCu_y4cnjU19n0vyER8nk5yS3oltVQPESDJ_YnKn_UUAMbUOybyr4WPA_ZxbyqmJoumlPqPtc4EO2psGHQ39VATySoZ81vrIRXYv9g9tFP4UTiXkUJUAYqvKEZr_Qyq-vMqm7FEgVjxyUDm5YYwP3bQAAUjx7KQlv7u30ky-KUWgDFOL62kMopuCfqrtLGMJvECWptqNlKhIuiTICTxjHNTDi5L3vrUJyMmsghRzPxtcyY9vjTWUF0vIPUhwnmJP5eK-VDSMURzaDDtOt6Xo2dMFZwWHbZsLINiIceBaUg6DM28ATsoyqa2xC3CxkCViPMIYBaB2BJ4nz_KrplSfbU9ju9z-M4MpmeE71NPEnFUOsW4pTen0EfW09hOjY13_rmOwjs6xQOKql4kzwcwX5PJ16_Xf-INaSHGJt8KoTZmAr00g3ekGrmpgn4maWquRI3ZEyZyuhorYC1QjROC0gJ7fWdkQXUiPnu_OoAxTQraEG7iG_Dtg8kmlHDpgx_tf4QtML6NPUTOJwcWxZXDJs6WAjs265ZtU0SRaAyFQxIyGaBm-HfLdMD3Qh_g2bT8qzT0lW599R7zlix2McsQajOHTNFI9dJCzlgL6TfL1Ix7H8yLx3GcokKjGuNpggS3cG89UTf6MA_cE8z-DY1GM3c5hwmvIU48tZnJjjipoFSv7x8yPADhC4-kABadfdU_Ms0y6J2NauFwxLodR7Mzt7qBeX3Oks5xQaOMMatWJZ9G3GPo7beMeozmbvQFhKIO-FUv_XpJRIVC9aHIlXQFe8A9aP_z3yPPQsRJ1b5x5As6RAMIs_x7nPCe6BQW4VO2ThaAZc5y9Q1a9j3OTBo3tqCegrblK0hIuZCL3Ev2Uvon-0lzVtJa72TxPfjfe6iSUNgS4R_Lfcqv_KEQbI0QnCMNy6scBpY4Nd6EUBwzOgJrD-jPLEmYbzunGhWqRq13oBvRJBqkQ-k-h-Q4IGtvIQf0tFc-V6T0VSKqe5BxKelg9NZG8-UUAvduWe1C8i0-bwkfA909SbQsdEDxMVhPSYBHGvuaXbstD_u5CSo-f8pHcpBIgCotSJwhBWS_gTP5jthxKbA4xxwelWSWVDlS9v6gPHTJPQdHy71yINi_pv9QU0jZflbNbfk1HkKw4huPGlj83uWcRJYRf4GpEwfQ364WzlOO4emRP3XDbjmBJgj8YlBlh64Pd__Sl4rLz2oOPmW1o1fdjg2sFMx9D1sqronX0dXUFKJHDPJpmrlNFPgWmE7IUrIUwTsMopqLqWk1wdrTu7-jajbKLsqCXJ71Xnqve1kfbSkxub1wAptGyysbDCHcikWTnHBhqd9LZ7AWne38MoUL-y1ZEZ4Eu7ZUQwqRtcbUjPHQ7mdSfOA_GxfSx4DaV69rZcT3csGbHKCByz82pq2dqAOX10sP9C7G093MupaWhfyRJVL_0J68VRGb8DKhSURI4BSxYOqUvlv3M_dFdTw7ngGK06BH-LEnf6Z6wAkyZpCbhl6uWthTl82bIg5p9mNJA3NTAungATvhCjyEhfkRvXHvYgDICcHhhUzFjVJM3YON604vRXhB0rbhWYRXAHgNy4x9syF0Cj2pO8Iaaq-NHhIDxNlqfz3uBxKwt0jvphpS5V3BLCN9s5V2s1f6qyyecTopUZkc2h8MT5Tu9siGfWUK3yiu6yLzUxjBdNaTjb85QeoA4sNxa6X_Ov2yVBU8srEx3hZ4tibuzMoIuttjTUNt5atBxXDdr8SuBet7HMJMs7maGEf2PBoSN0KCdvXl8Nv48pLFZENHIykSp5RfX1Jt1ul4W90Qu7MPi0ApXTOh_Mp7ss8QmJlH_T8aa81bF5vTL8WJfMVs8O0LEmCWFGA3LwBKNKByoUAEmgq3BOOWSZYV1nwD7kbVvK01mWKnpvkTr0UyOcBgD0Q9EkTw48rPIU75UpdeQ8KiOAwXX8LZZKtZJ9eF8A0W5Iz9nabvgcG9bvmUvI6kZk6wgZ8WZa0SrAMzN0Plb-d6UjHjbxSBogVUJs78RuI1QzgqLjkIttBS9SW7A0al8CokRdEhEX0eHvI9gHBdu7uMzeXP-J9-sPD_igrZ_acRwOPa0-Pus4DXy7oQn1XJRT3jZSbXp6k0wXTyda6ZsZMQPbRIfhN5oJUwKD2gwJJjd-_7V5h|1668528382|glM9leW8xd58E3tPjUZ4fDDaZMYA-VJri9at6VQ-PPw=\n"
     ]
    }
   ],
   "source": [
    "API_TOKEN = input(\"Please copy and paste your API Access Token here: \").strip()"
   ]
  },
  {
   "cell_type": "code",
   "execution_count": 19,
   "id": "3b0dfcc9",
   "metadata": {},
   "outputs": [],
   "source": [
    "STAC_BASE_URL = \"https://stac.eo4ph.geoanalytics.ca/browser\"  \n",
    "requests_headers = {'cookie': API_TOKEN}"
   ]
  },
  {
   "cell_type": "code",
   "execution_count": 15,
   "id": "443c6b70",
   "metadata": {},
   "outputs": [],
   "source": [
    "def test_STAC_server_request():\n",
    "    test_STAC_request = requests.get(\"https://stac.geoanalytics.ca\", headers=requests_headers)\n",
    "    try:\n",
    "        res = test_STAC_request.json()\n",
    "        return res\n",
    "    except ValueError as ex:\n",
    "        print(\"STAC server did not return json. This is likely an issue with your access token. Please re-run cells from beginning and re-enter your token.\")\n",
    "        API_TOKEN = None"
   ]
  },
  {
   "cell_type": "code",
   "execution_count": 16,
   "id": "b6bfade0",
   "metadata": {},
   "outputs": [
    {
     "name": "stdout",
     "output_type": "stream",
     "text": [
      "STAC server did not return json. This is likely an issue with your access token. Please re-run cells from beginning and re-enter your token.\n"
     ]
    }
   ],
   "source": [
    "test_STAC_server_request()"
   ]
  },
  {
   "cell_type": "markdown",
   "id": "adbb031f",
   "metadata": {},
   "source": [
    "If the above cell returns a dictionary with the STAC server's header requests, then congratulations! You are authenticated! Otherwise, make sure you are assigning the correct authentication token to the *API_TOKEN* variable. "
   ]
  },
  {
   "cell_type": "markdown",
   "id": "2a99a5c2",
   "metadata": {},
   "source": [
    "## 4. Logging in to the Docker Container Registry"
   ]
  },
  {
   "cell_type": "markdown",
   "id": "bc9a9439",
   "metadata": {},
   "source": [
    "Docker is an open platform tool designed for developing, deploying, and running applications using containers. Containers are used to combine the libraries, dependencies, and other parts of an application and deliver it as one package. Docker allows for efficient management of your infrastructure. GEOAnalytics Gitlab repositories each have a container registry associated with it.\n",
    "\n",
    "**Docker must be installed on your computer to access the container registry.**\n",
    "\n",
    "Visit https://docs.docker.com/ and install the application based on your Operating System. \n"
   ]
  },
  {
   "cell_type": "markdown",
   "id": "10e99c22",
   "metadata": {},
   "source": [
    "\n",
    "### 4.2 Default Login Method\n",
    "Currently, accessing your Docker registry is not possible through GEOAnalytics' Jupyter environment. To access and manage your docker images, login to the registry through your desktop's Command Prompt (Terminal) with the following steps:\n",
    "\n",
    "1. Type this command into terminal: `docker login registry.geoanalytics.ca`\n",
    "2. This will prompt you to enter your *Username*, followed by your *password*. (Password is not visible for security purposes)\n",
    "\n",
    "If you get a \"Success!\" message, then you have gained access!\n",
    "\n",
    "However, if you receive the error: \"Error response from daemon: Get https://registry.geoanalytics.ca/v2/: unauthorized: HTTP Basic: Access denied,\" then we have a few more steps to get you connected! \n",
    "\n",
    "<img src='../images/getting_started_images/03_docker-error.png' width=900>"
   ]
  },
  {
   "cell_type": "markdown",
   "id": "d4c722dc",
   "metadata": {},
   "source": [
    "### 4.3 Alternate Login Method\n",
    "Some accounts run into errors while attempting to connect to their docker registry, you have the same error as shown above, these are the steps to get access:\n",
    "\n",
    "**First we must create a personal access token (PAT) on gitlab. Navigate to https://git.geoanalytics.ca**\n",
    "\n",
    "1. Select \"Settings\" from the drop down menu in the top right corner.\n",
    "<img src='../images/getting_started_images/03_git-settings.gif'>\n",
    "\n",
    "2. In the left sidebar, click on \"Access Tokens\".\n",
    "<img src='../images/getting_started_images/03_git-access-tokens.gif'>\n",
    "\n",
    "3. Now, assign a **name** and an **expiry date** (can be set to any date in the future when you want the token to expire), and check on **\"api\"**.\n",
    " <img src='../images/getting_started_images/03_creating_token.gif'>\n",
    "\n",
    "4. Once created, this personal access token is **only available once, when it is created**. \n",
    "***NOTE: Store this PAT in a secure location because you will not be able to access the same code again!***\n",
    " <img src='../images/getting_started_images/03_copy_token.gif'>\n",
    "\n",
    "\n",
    "\n",
    "**Next, with this personal access token created, run the following command in terminal, inputting in your username and the PAT in place.**\n",
    "\n",
    "`docker login -u <username> -p <personal access token> registry.geoanalytics.ca`\n",
    "\n",
    "Now you should get a \"Login Succeeded\" message!\n"
   ]
  }
 ],
 "metadata": {
  "kernelspec": {
   "display_name": "Python 3 (ipykernel)",
   "language": "python",
   "name": "python3"
  },
  "language_info": {
   "codemirror_mode": {
    "name": "ipython",
    "version": 3
   },
   "file_extension": ".py",
   "mimetype": "text/x-python",
   "name": "python",
   "nbconvert_exporter": "python",
   "pygments_lexer": "ipython3",
   "version": "3.9.13"
  }
 },
 "nbformat": 4,
 "nbformat_minor": 5
}
