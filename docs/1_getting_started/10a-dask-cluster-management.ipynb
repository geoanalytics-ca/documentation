{
 "cells": [
  {
   "cell_type": "markdown",
   "id": "da37164d-a975-4f96-8dec-41e692dd4c27",
   "metadata": {},
   "source": [
    "# Dask Cluster Management"
   ]
  },
  {
   "cell_type": "markdown",
   "id": "16de2541-e1fb-4c33-8f27-64b31c429724",
   "metadata": {},
   "source": [
    "To effectively control your Dask Cluster without getting locked while your notebook is running, it is beneficial to run your Dask Cluster Management in a dedicated notebook. \n",
    "\n",
    "In a Dask Cluster Management notebook we can control the Cluster without having to worry about waiting for Cells to complete - we can scale up or down even during the execution of another notebook accessing the Dask Cluster. This can be useful if a particular Dask Cluster is being stressed and requires more Workers to process the tasks. \n",
    "\n",
    "Using the cluster name, prefixed by `daskhub.`, you can use the following code to connect to the running cluster in another notebook: \n",
    "\n",
    "```python\n",
    "from dask_gateway import Gateway\n",
    "\n",
    "gateway = Gateway()\n",
    "cluster = gateway.connect('daskhub.[...]')\n",
    "client = cluster.get_client()\n",
    "```"
   ]
  },
  {
   "cell_type": "markdown",
   "id": "87061d4b-4efc-489e-9055-a0f875647744",
   "metadata": {},
   "source": [
    "### Imports"
   ]
  },
  {
   "cell_type": "code",
   "execution_count": null,
   "id": "378e6d04-9e70-4687-b791-b1d8a17d9724",
   "metadata": {},
   "outputs": [],
   "source": [
    "from dask_gateway import Gateway\n",
    "from dask.distributed import Client"
   ]
  },
  {
   "cell_type": "markdown",
   "id": "843315b4-5b47-4ceb-ac58-b3d2e878329d",
   "metadata": {},
   "source": [
    "### Setup Gateway"
   ]
  },
  {
   "cell_type": "code",
   "execution_count": null,
   "id": "934dc05b-1f84-433d-9fae-728231b43a05",
   "metadata": {},
   "outputs": [],
   "source": [
    "gateway = Gateway()"
   ]
  },
  {
   "cell_type": "markdown",
   "id": "45f12acb-82b7-412e-9a7d-305c4c6acdde",
   "metadata": {},
   "source": [
    "### Configure Options\n",
    "\n",
    "Depending on the Worker resource limitations and what is made available to the User, you can request custom resource amounts for your Workers using the below approach. "
   ]
  },
  {
   "cell_type": "code",
   "execution_count": null,
   "id": "9777d18b-d548-4233-8bdf-3d3af2e3b86c",
   "metadata": {},
   "outputs": [],
   "source": [
    "options = gateway.cluster_options()\n",
    "options.worker_cores = 1\n",
    "options.worker_memory = 10"
   ]
  },
  {
   "cell_type": "markdown",
   "id": "cb14b4f1-dab0-46a6-8c85-078987ed9486",
   "metadata": {},
   "source": [
    "### Setup Computer Cluster"
   ]
  },
  {
   "cell_type": "code",
   "execution_count": null,
   "id": "8eeaadcc-dbbb-4ffb-b814-613e32905d98",
   "metadata": {},
   "outputs": [],
   "source": [
    "cluster = gateway.new_cluster(options)\n",
    "print(f'[CLUSTERNAME] : {cluster.name}')"
   ]
  },
  {
   "cell_type": "code",
   "execution_count": null,
   "id": "b2466f89-2628-4f03-aac0-189801f1b73c",
   "metadata": {},
   "outputs": [],
   "source": [
    "cluster"
   ]
  },
  {
   "cell_type": "markdown",
   "id": "6cbef811-5f1b-486b-bac0-e3adb2881e90",
   "metadata": {},
   "source": [
    "#### Scale Workers"
   ]
  },
  {
   "cell_type": "code",
   "execution_count": null,
   "id": "90b7b896-0f6d-4e0c-9121-ad7a6262feff",
   "metadata": {},
   "outputs": [],
   "source": [
    "cluster.scale(30)"
   ]
  },
  {
   "cell_type": "markdown",
   "id": "6660e38e-c954-4ee1-b232-1a9d5f68b2c3",
   "metadata": {},
   "source": [
    "### Get Client"
   ]
  },
  {
   "cell_type": "code",
   "execution_count": null,
   "id": "c5699769-038e-42b0-8240-df4099265454",
   "metadata": {},
   "outputs": [],
   "source": [
    "client = cluster.get_client()"
   ]
  },
  {
   "cell_type": "code",
   "execution_count": null,
   "id": "8bf7b985-f344-49bc-ab98-df766ff01520",
   "metadata": {},
   "outputs": [],
   "source": [
    "client.restart()"
   ]
  },
  {
   "cell_type": "markdown",
   "id": "632593ef-9534-441f-98ff-d39e017beb6d",
   "metadata": {},
   "source": [
    "### Shut Down Client and Cluster"
   ]
  },
  {
   "cell_type": "code",
   "execution_count": null,
   "id": "7a5f7337-2af8-4fe3-bfb7-0720981b58d7",
   "metadata": {},
   "outputs": [],
   "source": [
    "client.close()\n",
    "cluster.shutdown()"
   ]
  },
  {
   "cell_type": "code",
   "execution_count": null,
   "id": "cbc484c8-1bef-484b-9968-a10711fab6cf",
   "metadata": {},
   "outputs": [],
   "source": []
  }
 ],
 "metadata": {
  "kernelspec": {
   "display_name": "Python 3 (ipykernel)",
   "language": "python",
   "name": "python3"
  },
  "language_info": {
   "codemirror_mode": {
    "name": "ipython",
    "version": 3
   },
   "file_extension": ".py",
   "mimetype": "text/x-python",
   "name": "python",
   "nbconvert_exporter": "python",
   "pygments_lexer": "ipython3",
   "version": "3.9.13"
  }
 },
 "nbformat": 4,
 "nbformat_minor": 5
}
