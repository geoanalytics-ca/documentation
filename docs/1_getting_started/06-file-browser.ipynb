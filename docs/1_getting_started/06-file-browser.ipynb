{
 "cells": [
  {
   "cell_type": "markdown",
   "metadata": {},
   "source": [
    "# **File Browser**"
   ]
  },
  {
   "cell_type": "markdown",
   "metadata": {},
   "source": [
    "The File Browser enables browsing and downloading of all the data stored on the GEOAnalytics platform for use in external systems. It is a convenient function to explore the datasets available without starting up the JupyterLab or Remote Desktop environment.\n",
    "\n",
    
    "You can view and download data from all the Earth Observation data stores, shared data between users of the platform, and you own personal data. \n",
    "\n",
    "The following folders are available to you:\n",
    "\n",
    "- **Private Mounted Buckets**: Folders available only if you have GEOAnalytics Platform access. \n",
    "    - `geoanalytics_<username>_private` - A user’s personal network file system where only the logged in user can *read or write* to their own personal storage directory.\n",
    "- **Personal Storage**    \n",
    "    - `geoanalytics_user_shared_data` - All platform EO data collections including raw datasets and pre-processed datasets. *All users can read and write to this location.*\n"
   ]
  },
  {
   "cell_type": "markdown",
   "metadata": {},
   "source": [
    "You can access the File Browser directly from the GEOAnalytics main dashboard. No additional authentication is required to access the File Browser. **Note: It may take the File Browser 15 to 20 seconds to load.**\n",
    "\n",
    "There are three main features available in the File Browser.\n",
    "\n",
    "### 1. Browsing through the folders \n",
    "You can explore all the folders mentioned above, viewing their subfolders and files. There is variable loading time depending on which folder is being accessed.\n",
    "\n",
    "<img src='../images/getting_started_images/05_into-folders.gif'>\n",
    "\n",
    "### 2. Downloading files from the folders\n",
    "The files within all the folders can be downloaded to your local machine. \n",
    "\n",
    "<img src='../images/getting_started_images/05_file-browser-dl.gif'>\n",
    "\n",
    "\n",
    "### 3. Going back up the folders path\n",
    "To navigate backwards, out of the subfolders, the **\"GO UP\"** button exits out of the current directory. \n",
    "\n",
    "<img src='../images/getting_started_images/05_out-of-folders.gif'>\n"
   ]
  },
  {
   "cell_type": "code",
   "execution_count": null,
   "metadata": {},
   "outputs": [],
   "source": []
  }
 ],
 "metadata": {
  "kernelspec": {
   "display_name": "Python 3.10.6 64-bit",
   "language": "python",
   "name": "python3"
  },
  "language_info": {
   "codemirror_mode": {
    "name": "ipython",
    "version": 3
   },
   "file_extension": ".py",
   "mimetype": "text/x-python",
   "name": "python",
   "nbconvert_exporter": "python",
   "pygments_lexer": "ipython3",
   "version": "3.10.6"
  },
  "vscode": {
   "interpreter": {
    "hash": "aee8b7b246df8f9039afb4144a1f6fd8d2ca17a180786b69acc140d282b71a49"
   }
  }
 },
 "nbformat": 4,
 "nbformat_minor": 4
}
